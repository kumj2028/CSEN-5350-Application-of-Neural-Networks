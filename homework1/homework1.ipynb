{
 "cells": [
  {
   "attachments": {},
   "cell_type": "markdown",
   "metadata": {},
   "source": [
    "# Homework 1\n",
    "## Mengxiang Jiang"
   ]
  },
  {
   "attachments": {},
   "cell_type": "markdown",
   "metadata": {},
   "source": [
    "### Variables and Strings"
   ]
  },
  {
   "cell_type": "code",
   "execution_count": 1,
   "metadata": {},
   "outputs": [
    {
     "name": "stdout",
     "output_type": "stream",
     "text": [
      "hello World!\n"
     ]
    }
   ],
   "source": [
    "msg = list(\"Hello World!\")\n",
    "msg2 = msg\n",
    "msg2[0] = 'h'\n",
    "msg = ''.join(msg)\n",
    "print(msg)"
   ]
  },
  {
   "cell_type": "code",
   "execution_count": 2,
   "metadata": {},
   "outputs": [
    {
     "name": "stdout",
     "output_type": "stream",
     "text": [
      "buffalo buffalobuffalobuffalo\n"
     ]
    }
   ],
   "source": [
    "first_name = 'buffalo'\n",
    "last_name = first_name*3\n",
    "full_name = f\"{first_name} {last_name}\"\n",
    "print(full_name)"
   ]
  },
  {
   "attachments": {},
   "cell_type": "markdown",
   "metadata": {},
   "source": [
    "### Lists"
   ]
  },
  {
   "cell_type": "code",
   "execution_count": 3,
   "metadata": {},
   "outputs": [
    {
     "name": "stdout",
     "output_type": "stream",
     "text": [
      "trek\n"
     ]
    }
   ],
   "source": [
    "bike_list = ['trek', 'redline', 'giant']\n",
    "first_bike = bike_list[0]\n",
    "print(first_bike)"
   ]
  },
  {
   "cell_type": "code",
   "execution_count": 4,
   "metadata": {},
   "outputs": [
    {
     "name": "stdout",
     "output_type": "stream",
     "text": [
      "giant\n"
     ]
    }
   ],
   "source": [
    "last_bike = bike_list[-1]\n",
    "print(last_bike)"
   ]
  },
  {
   "cell_type": "code",
   "execution_count": 5,
   "metadata": {},
   "outputs": [
    {
     "name": "stdout",
     "output_type": "stream",
     "text": [
      "trek\n",
      "redline\n",
      "giant\n",
      "['trek', 'redline', 'giant', 'trek', 'redline', 'giant']\n"
     ]
    }
   ],
   "source": [
    "for i in range(len(bike_list)):\n",
    "    print(bike_list[i])\n",
    "    bike_list.append(bike_list[i])\n",
    "print(bike_list)"
   ]
  },
  {
   "cell_type": "code",
   "execution_count": 6,
   "metadata": {},
   "outputs": [
    {
     "name": "stdout",
     "output_type": "stream",
     "text": [
      "[1, 4, 9, 16, 25, 36, 49, 64, 81, 100]\n"
     ]
    }
   ],
   "source": [
    "squares = [x**2 for x in range(1, 11)]\n",
    "print(squares)"
   ]
  },
  {
   "cell_type": "code",
   "execution_count": 7,
   "metadata": {},
   "outputs": [
    {
     "name": "stdout",
     "output_type": "stream",
     "text": [
      "['sam', 'bob']\n"
     ]
    }
   ],
   "source": [
    "finishers = ['sam', 'bob', 'ada', 'bea']\n",
    "first_two = finishers[:2]\n",
    "print(first_two)"
   ]
  },
  {
   "cell_type": "code",
   "execution_count": 8,
   "metadata": {},
   "outputs": [
    {
     "name": "stdout",
     "output_type": "stream",
     "text": [
      "['foo', 'redline', 'giant', 'trek', 'redline', 'giant']\n",
      "['trek', 'redline', 'giant', 'trek', 'redline', 'giant']\n"
     ]
    }
   ],
   "source": [
    "copy_of_bike_list = bike_list[:]\n",
    "bike_list[0] = 'foo'\n",
    "print(bike_list)\n",
    "print(copy_of_bike_list)"
   ]
  },
  {
   "attachments": {},
   "cell_type": "markdown",
   "metadata": {},
   "source": [
    "### If statements"
   ]
  },
  {
   "cell_type": "code",
   "execution_count": 9,
   "metadata": {},
   "outputs": [
    {
     "name": "stdout",
     "output_type": "stream",
     "text": [
      "True\n",
      "False\n",
      "False\n",
      "True\n",
      "False\n",
      "True\n"
     ]
    }
   ],
   "source": [
    "x = 42\n",
    "print(x == 42)\n",
    "print(x != 42)\n",
    "print(x > 42)\n",
    "print(x >= 42)\n",
    "print(x < 42)\n",
    "print(x <= 42)"
   ]
  },
  {
   "cell_type": "code",
   "execution_count": 10,
   "metadata": {},
   "outputs": [
    {
     "name": "stdout",
     "output_type": "stream",
     "text": [
      "True\n",
      "True\n"
     ]
    }
   ],
   "source": [
    "print('trek' in bike_list)\n",
    "print('surly' not in bike_list)"
   ]
  },
  {
   "cell_type": "code",
   "execution_count": 11,
   "metadata": {},
   "outputs": [
    {
     "name": "stdout",
     "output_type": "stream",
     "text": [
      "True\n",
      "False\n"
     ]
    }
   ],
   "source": [
    "game_active = True\n",
    "print(game_active)\n",
    "can_edit = False\n",
    "print(can_edit)"
   ]
  },
  {
   "cell_type": "code",
   "execution_count": 12,
   "metadata": {},
   "outputs": [
    {
     "name": "stdout",
     "output_type": "stream",
     "text": [
      "You can vote!\n"
     ]
    }
   ],
   "source": [
    "age = 18\n",
    "if age >= 18:\n",
    "    print(\"You can vote!\")"
   ]
  },
  {
   "cell_type": "code",
   "execution_count": 13,
   "metadata": {},
   "outputs": [
    {
     "name": "stdout",
     "output_type": "stream",
     "text": [
      "15\n"
     ]
    }
   ],
   "source": [
    "if age < 4:\n",
    "    ticket_price = 0\n",
    "elif age < 18:\n",
    "    ticket_price = 10\n",
    "else:\n",
    "    ticket_price = 15\n",
    "print(ticket_price)"
   ]
  },
  {
   "attachments": {},
   "cell_type": "markdown",
   "metadata": {},
   "source": [
    "### Dictionaries"
   ]
  },
  {
   "cell_type": "code",
   "execution_count": 14,
   "metadata": {},
   "outputs": [
    {
     "name": "stdout",
     "output_type": "stream",
     "text": [
      "The alien's color is green\n"
     ]
    }
   ],
   "source": [
    "alien = {'color': 'green', 'points': 5}\n",
    "print(f\"The alien's color is {alien['color']}\")"
   ]
  },
  {
   "cell_type": "code",
   "execution_count": 15,
   "metadata": {},
   "outputs": [
    {
     "name": "stdout",
     "output_type": "stream",
     "text": [
      "The alien's x_position is 0\n"
     ]
    }
   ],
   "source": [
    "alien['x_position'] = 0\n",
    "print(f\"The alien's x_position is {alien['x_position']}\")"
   ]
  },
  {
   "cell_type": "code",
   "execution_count": 16,
   "metadata": {},
   "outputs": [
    {
     "name": "stdout",
     "output_type": "stream",
     "text": [
      "eric loves 17\n",
      "ever loves 4\n"
     ]
    }
   ],
   "source": [
    "fav_numbers = {'eric': 17, 'ever': 4}\n",
    "for name, number in fav_numbers.items():\n",
    "    print(f\"{name} loves {number}\")"
   ]
  },
  {
   "cell_type": "code",
   "execution_count": 17,
   "metadata": {},
   "outputs": [
    {
     "name": "stdout",
     "output_type": "stream",
     "text": [
      "eric loves a number\n",
      "ever loves a number\n"
     ]
    }
   ],
   "source": [
    "for name in fav_numbers.keys():\n",
    "    print(f\"{name} loves a number\")"
   ]
  },
  {
   "cell_type": "code",
   "execution_count": 18,
   "metadata": {},
   "outputs": [
    {
     "name": "stdout",
     "output_type": "stream",
     "text": [
      "17 is a favorite\n",
      "4 is a favorite\n"
     ]
    }
   ],
   "source": [
    "for number in fav_numbers.values():\n",
    "    print(f\"{number} is a favorite\")"
   ]
  },
  {
   "attachments": {},
   "cell_type": "markdown",
   "metadata": {},
   "source": [
    "### User input"
   ]
  },
  {
   "cell_type": "code",
   "execution_count": 19,
   "metadata": {},
   "outputs": [
    {
     "name": "stdout",
     "output_type": "stream",
     "text": [
      "Hello, mengxiang!\n"
     ]
    }
   ],
   "source": [
    "name = input(\"What's your name? \")\n",
    "print(f\"Hello, {name}!\")"
   ]
  },
  {
   "cell_type": "code",
   "execution_count": 20,
   "metadata": {},
   "outputs": [
    {
     "name": "stdout",
     "output_type": "stream",
     "text": [
      "-1\n",
      "2.718\n"
     ]
    }
   ],
   "source": [
    "age = input(\"How old are you? \")\n",
    "age = int(age)\n",
    "print(age)\n",
    "\n",
    "pi = input(\"What's the value of pi? \")\n",
    "pi = float(pi)\n",
    "print(pi)"
   ]
  },
  {
   "attachments": {},
   "cell_type": "markdown",
   "metadata": {},
   "source": [
    "### While loops"
   ]
  },
  {
   "cell_type": "code",
   "execution_count": 21,
   "metadata": {},
   "outputs": [
    {
     "name": "stdout",
     "output_type": "stream",
     "text": [
      "12\n",
      "-6\n",
      "3\n",
      "-2\n",
      "1\n",
      "-1\n"
     ]
    }
   ],
   "source": [
    "current_value = 12\n",
    "while abs(current_value) > 0:\n",
    "    print(current_value)\n",
    "    current_value //= -2"
   ]
  },
  {
   "cell_type": "code",
   "execution_count": 22,
   "metadata": {},
   "outputs": [
    {
     "name": "stdout",
     "output_type": "stream",
     "text": [
      "foo\n",
      "bar\n",
      "quit\n"
     ]
    }
   ],
   "source": [
    "msg = ''\n",
    "while msg != 'quit':\n",
    "    msg = input(\"What's your message? \")\n",
    "    print(msg)"
   ]
  },
  {
   "attachments": {},
   "cell_type": "markdown",
   "metadata": {},
   "source": [
    "### Functions"
   ]
  },
  {
   "cell_type": "code",
   "execution_count": 23,
   "metadata": {},
   "outputs": [
    {
     "name": "stdout",
     "output_type": "stream",
     "text": [
      "Hello!\n"
     ]
    }
   ],
   "source": [
    "def greet_user():\n",
    "    \"\"\"Display a simple greeting.\"\"\"\n",
    "    print(\"Hello!\")\n",
    "greet_user()"
   ]
  },
  {
   "cell_type": "code",
   "execution_count": 24,
   "metadata": {},
   "outputs": [
    {
     "name": "stdout",
     "output_type": "stream",
     "text": [
      "Hello, jesse!\n"
     ]
    }
   ],
   "source": [
    "def greet_user(username):\n",
    "    \"\"\"Display a personalized greeting.\"\"\"\n",
    "    print(f\"Hello, {username}!\")\n",
    "greet_user('jesse')"
   ]
  },
  {
   "cell_type": "code",
   "execution_count": 25,
   "metadata": {},
   "outputs": [
    {
     "name": "stdout",
     "output_type": "stream",
     "text": [
      "Have a bacon pizza!\n",
      "Have a pepperoni pizza!\n",
      "Have a pineapple pizza!\n"
     ]
    }
   ],
   "source": [
    "def make_pizza(topping='bacon'):\n",
    "    \"\"\"Make a single-topping pizza.\"\"\"\n",
    "    print(f\"Have a {topping} pizza!\")\n",
    "make_pizza()\n",
    "make_pizza('pepperoni')\n",
    "make_pizza(topping='pineapple')"
   ]
  },
  {
   "attachments": {},
   "cell_type": "markdown",
   "metadata": {},
   "source": [
    "### Object references are passed by value \n",
    "[source](https://robertheaton.com/2014/02/09/pythons-pass-by-object-reference-as-explained-by-philip-k-dick/)"
   ]
  },
  {
   "cell_type": "code",
   "execution_count": 26,
   "metadata": {},
   "outputs": [
    {
     "name": "stdout",
     "output_type": "stream",
     "text": [
      "[0]\n",
      "[0, 1]\n"
     ]
    }
   ],
   "source": [
    "def reassign(l):\n",
    "    l = [0, 1]\n",
    "\n",
    "def append(l):\n",
    "    l.append(1)\n",
    "\n",
    "l = [0]\n",
    "reassign(l)\n",
    "print(l)\n",
    "append(l)\n",
    "print(l)"
   ]
  },
  {
   "attachments": {},
   "cell_type": "markdown",
   "metadata": {},
   "source": [
    "### Classes"
   ]
  },
  {
   "cell_type": "code",
   "execution_count": 27,
   "metadata": {},
   "outputs": [
    {
     "name": "stdout",
     "output_type": "stream",
     "text": [
      "Cat is a great dog!\n",
      "Cat is sitting.\n"
     ]
    }
   ],
   "source": [
    "class Dog():\n",
    "    \"\"\"Represent a dog.\"\"\"\n",
    "    def __init__(self, name):\n",
    "        \"\"\"Initialize dog object.\"\"\"\n",
    "        self.name = name\n",
    "    def sit(self):\n",
    "        \"\"\"Simulate sitting.\"\"\"\n",
    "        print(f\"{self.name} is sitting.\")\n",
    "\n",
    "my_dog = Dog('Peso')\n",
    "my_dog.name = 'Cat'\n",
    "print(f\"{my_dog.name} is a great dog!\")\n",
    "my_dog.sit()"
   ]
  },
  {
   "cell_type": "code",
   "execution_count": 28,
   "metadata": {},
   "outputs": [
    {
     "name": "stdout",
     "output_type": "stream",
     "text": [
      "Willie is a search dog.\n",
      "Willie is sitting.\n",
      "Willie is searching.\n"
     ]
    }
   ],
   "source": [
    "class SARDog(Dog):\n",
    "    \"\"\"Represent a search dog.\"\"\"\n",
    "    # def __init__(self, name):\n",
    "    #     \"\"\"Initialize the sardog.\"\"\"\n",
    "    #     super().__init__(name)\n",
    "    def search(self):\n",
    "        \"\"\"Simulate searching.\"\"\"\n",
    "        print(f\"{self.name} is searching.\")\n",
    "\n",
    "my_dog = SARDog('Willie')\n",
    "print(f\"{my_dog.name} is a search dog.\")\n",
    "my_dog.sit()\n",
    "my_dog.search()"
   ]
  },
  {
   "attachments": {},
   "cell_type": "markdown",
   "metadata": {},
   "source": [
    "### Working with files"
   ]
  },
  {
   "cell_type": "code",
   "execution_count": 29,
   "metadata": {},
   "outputs": [
    {
     "name": "stdout",
     "output_type": "stream",
     "text": [
      "i'm the buddha yo\n"
     ]
    }
   ],
   "source": [
    "filename = 'siddhartha.txt'\n",
    "with open(filename) as file_object:\n",
    "    lines = file_object.readlines()\n",
    "\n",
    "for line in lines:\n",
    "    print(line)"
   ]
  },
  {
   "cell_type": "code",
   "execution_count": 30,
   "metadata": {},
   "outputs": [
    {
     "name": "stdout",
     "output_type": "stream",
     "text": [
      "I love programming.\n"
     ]
    }
   ],
   "source": [
    "filename = 'journal.txt'\n",
    "with open(filename, 'w') as file_object:\n",
    "    file_object.write(\"I love programming.\")\n",
    "\n",
    "with open(filename) as file_object:\n",
    "    print(file_object.read())"
   ]
  },
  {
   "cell_type": "code",
   "execution_count": 31,
   "metadata": {},
   "outputs": [
    {
     "name": "stdout",
     "output_type": "stream",
     "text": [
      "I love programming.\n",
      "I love making games.\n"
     ]
    }
   ],
   "source": [
    "with open(filename, 'a') as file_object:\n",
    "    file_object.write(\"\\nI love making games.\")\n",
    "\n",
    "with open(filename) as file_object:\n",
    "    print(file_object.read())"
   ]
  },
  {
   "attachments": {},
   "cell_type": "markdown",
   "metadata": {},
   "source": [
    "### Exceptions"
   ]
  },
  {
   "cell_type": "code",
   "execution_count": 32,
   "metadata": {},
   "outputs": [
    {
     "name": "stdout",
     "output_type": "stream",
     "text": [
      "a is not a number. Please try again.\n"
     ]
    }
   ],
   "source": [
    "prompt = \"How many tickets do you need? \"\n",
    "num_tickets = input(prompt)\n",
    "try:\n",
    "    num_tickets = int(num_tickets)\n",
    "except ValueError:\n",
    "    print(f\"{num_tickets} is not a number. Please try again.\")\n",
    "else:\n",
    "    print(\"Your tickets are printing.\")"
   ]
  },
  {
   "attachments": {},
   "cell_type": "markdown",
   "metadata": {},
   "source": [
    "## Lists\n",
    "### Defining a list"
   ]
  },
  {
   "cell_type": "code",
   "execution_count": 33,
   "metadata": {},
   "outputs": [
    {
     "name": "stdout",
     "output_type": "stream",
     "text": [
      "['val', 'bob', 'mia', 'ron', 'ned', 5]\n"
     ]
    }
   ],
   "source": [
    "users = ['val', 'bob', 'mia', 'ron', 'ned', 5]\n",
    "print(users)"
   ]
  },
  {
   "attachments": {},
   "cell_type": "markdown",
   "metadata": {},
   "source": [
    "### Accessing elements"
   ]
  },
  {
   "cell_type": "code",
   "execution_count": 34,
   "metadata": {},
   "outputs": [
    {
     "name": "stdout",
     "output_type": "stream",
     "text": [
      "val\n",
      "bob\n",
      "5\n"
     ]
    }
   ],
   "source": [
    "first_user = users[0]\n",
    "print(first_user)\n",
    "second_user = users[1]\n",
    "print(second_user)\n",
    "newest_user = users[-1]\n",
    "print(newest_user)"
   ]
  },
  {
   "attachments": {},
   "cell_type": "markdown",
   "metadata": {},
   "source": [
    "### Modifying individual items"
   ]
  },
  {
   "cell_type": "code",
   "execution_count": 35,
   "metadata": {},
   "outputs": [
    {
     "name": "stdout",
     "output_type": "stream",
     "text": [
      "['valerie', 'bob', 'mia', 'ron', 'ronald', 5]\n"
     ]
    }
   ],
   "source": [
    "users[0] = 'valerie'\n",
    "users[-2] = 'ronald'\n",
    "print(users)"
   ]
  },
  {
   "attachments": {},
   "cell_type": "markdown",
   "metadata": {},
   "source": [
    "### Adding elements"
   ]
  },
  {
   "cell_type": "code",
   "execution_count": 36,
   "metadata": {},
   "outputs": [
    {
     "name": "stdout",
     "output_type": "stream",
     "text": [
      "['valerie', 'bob', 'mia', 'ron', 'ronald', 5, 'amy']\n",
      "['val', 'bob', 'mia']\n",
      "['joe', 'val', 'bea', 'bob', 'mia', 'foo']\n"
     ]
    }
   ],
   "source": [
    "users.append('amy')\n",
    "print(users)\n",
    "\n",
    "users = []\n",
    "users.append('val')\n",
    "users.append('bob')\n",
    "users.append('mia')\n",
    "print(users)\n",
    "\n",
    "users.insert(0, 'joe')\n",
    "users.insert(-2, 'bea')\n",
    "users.insert(10, 'foo')\n",
    "print(users)"
   ]
  },
  {
   "attachments": {},
   "cell_type": "markdown",
   "metadata": {},
   "source": [
    "### Removing elements"
   ]
  },
  {
   "cell_type": "code",
   "execution_count": 37,
   "metadata": {},
   "outputs": [
    {
     "name": "stdout",
     "output_type": "stream",
     "text": [
      "['joe', 'val', 'bea', 'bob', 'mia']\n",
      "['val', 'bea', 'bob', 'mia', 'joe']\n"
     ]
    }
   ],
   "source": [
    "del users[-1]\n",
    "print(users)\n",
    "users.append('joe')\n",
    "users.remove('joe')\n",
    "print(users)"
   ]
  },
  {
   "attachments": {},
   "cell_type": "markdown",
   "metadata": {},
   "source": [
    "### Popping elements"
   ]
  },
  {
   "cell_type": "code",
   "execution_count": 38,
   "metadata": {},
   "outputs": [
    {
     "name": "stdout",
     "output_type": "stream",
     "text": [
      "joe\n",
      "['val', 'bea', 'bob', 'mia']\n"
     ]
    }
   ],
   "source": [
    "most_recent_user = users.pop()\n",
    "print(most_recent_user)\n",
    "print(users)"
   ]
  },
  {
   "cell_type": "code",
   "execution_count": 39,
   "metadata": {},
   "outputs": [
    {
     "name": "stdout",
     "output_type": "stream",
     "text": [
      "val\n",
      "['bea', 'bob', 'mia']\n"
     ]
    }
   ],
   "source": [
    "first_user = users.pop(0)\n",
    "print(first_user)\n",
    "print(users)"
   ]
  },
  {
   "attachments": {},
   "cell_type": "markdown",
   "metadata": {},
   "source": [
    "### List length"
   ]
  },
  {
   "cell_type": "code",
   "execution_count": 40,
   "metadata": {},
   "outputs": [
    {
     "name": "stdout",
     "output_type": "stream",
     "text": [
      "We have 3 users.\n"
     ]
    }
   ],
   "source": [
    "num_users = len(users)\n",
    "print(f\"We have {num_users} users.\")"
   ]
  },
  {
   "attachments": {},
   "cell_type": "markdown",
   "metadata": {},
   "source": [
    "### Sorting a list"
   ]
  },
  {
   "cell_type": "code",
   "execution_count": 41,
   "metadata": {},
   "outputs": [
    {
     "name": "stdout",
     "output_type": "stream",
     "text": [
      "['bob', 'mia', 'ned', 'ron', 'val']\n",
      "['val', 'ron', 'ned', 'mia', 'bob']\n"
     ]
    }
   ],
   "source": [
    "users = ['val', 'bob', 'mia', 'ron', 'ned']\n",
    "users.sort()\n",
    "print(users)\n",
    "users.sort(reverse=True)\n",
    "print(users)"
   ]
  },
  {
   "cell_type": "code",
   "execution_count": 42,
   "metadata": {},
   "outputs": [
    {
     "name": "stdout",
     "output_type": "stream",
     "text": [
      "['bob', 'mia', 'ned', 'ron', 'val']\n",
      "['val', 'bob', 'mia', 'ron', 'ned']\n",
      "['val', 'ron', 'ned', 'mia', 'bob']\n",
      "['val', 'bob', 'mia', 'ron', 'ned']\n"
     ]
    }
   ],
   "source": [
    "users = ['val', 'bob', 'mia', 'ron', 'ned']\n",
    "print(sorted(users))\n",
    "print(users)\n",
    "print(sorted(users, reverse=True))\n",
    "print(users)"
   ]
  },
  {
   "cell_type": "code",
   "execution_count": 43,
   "metadata": {},
   "outputs": [
    {
     "name": "stdout",
     "output_type": "stream",
     "text": [
      "['ned', 'ron', 'mia', 'bob', 'val']\n"
     ]
    }
   ],
   "source": [
    "users.reverse()\n",
    "print(users)"
   ]
  },
  {
   "attachments": {},
   "cell_type": "markdown",
   "metadata": {},
   "source": [
    "### Looping through a list"
   ]
  },
  {
   "cell_type": "code",
   "execution_count": 44,
   "metadata": {},
   "outputs": [
    {
     "name": "stdout",
     "output_type": "stream",
     "text": [
      "Welcome, ned!\n",
      "Welcome, mia!\n",
      "Welcome, val!\n",
      "['bob', 'val']\n"
     ]
    }
   ],
   "source": [
    "for user in users:\n",
    "    print(f\"Welcome, {user}!\")\n",
    "    users.pop(0)\n",
    "print(users)"
   ]
  },
  {
   "attachments": {},
   "cell_type": "markdown",
   "metadata": {},
   "source": [
    "### The range() function"
   ]
  },
  {
   "cell_type": "code",
   "execution_count": 45,
   "metadata": {},
   "outputs": [
    {
     "name": "stdout",
     "output_type": "stream",
     "text": [
      "0\n",
      "1\n",
      "2\n",
      "3\n",
      "4\n",
      "5\n",
      "6\n",
      "7\n",
      "8\n",
      "9\n",
      "range(0, 10)\n"
     ]
    }
   ],
   "source": [
    "for number in range(10):\n",
    "    print(number)\n",
    "print(range(10))"
   ]
  },
  {
   "cell_type": "code",
   "execution_count": 46,
   "metadata": {},
   "outputs": [
    {
     "name": "stdout",
     "output_type": "stream",
     "text": [
      "[0, 1, 2, 3, 4, 5, 6, 7, 8, 9]\n"
     ]
    }
   ],
   "source": [
    "numbers = list(range(10))\n",
    "print(numbers)"
   ]
  },
  {
   "attachments": {},
   "cell_type": "markdown",
   "metadata": {},
   "source": [
    "### Simple statistics"
   ]
  },
  {
   "cell_type": "code",
   "execution_count": 47,
   "metadata": {},
   "outputs": [
    {
     "name": "stdout",
     "output_type": "stream",
     "text": [
      "1\n",
      "99\n",
      "557\n"
     ]
    }
   ],
   "source": [
    "ages = [93, 99, 66, 17, 85, 1, 35, 82, 2, 77]\n",
    "youngest = min(ages)\n",
    "print(youngest)\n",
    "oldest = max(ages)\n",
    "print(oldest)\n",
    "total_years = sum(ages)\n",
    "print(total_years)"
   ]
  },
  {
   "attachments": {},
   "cell_type": "markdown",
   "metadata": {},
   "source": [
    "### Slicing a list"
   ]
  },
  {
   "cell_type": "code",
   "execution_count": 48,
   "metadata": {},
   "outputs": [
    {
     "name": "stdout",
     "output_type": "stream",
     "text": [
      "['kai', 'abe', 'ada']\n",
      "['abe', 'ada', 'gus']\n",
      "['ada', 'gus', 'zoe']\n"
     ]
    }
   ],
   "source": [
    "finishers = ['kai', 'abe', 'ada', 'gus', 'zoe']\n",
    "first_three = finishers[:3]\n",
    "print(first_three)\n",
    "middle_three = finishers[len(finishers)//2-1:len(finishers)//2+2]\n",
    "print(middle_three)\n",
    "last_three = finishers[-3:]\n",
    "print(last_three)"
   ]
  },
  {
   "cell_type": "code",
   "execution_count": null,
   "metadata": {},
   "outputs": [],
   "source": []
  }
 ],
 "metadata": {
  "kernelspec": {
   "display_name": "Python 3",
   "language": "python",
   "name": "python3"
  },
  "language_info": {
   "codemirror_mode": {
    "name": "ipython",
    "version": 3
   },
   "file_extension": ".py",
   "mimetype": "text/x-python",
   "name": "python",
   "nbconvert_exporter": "python",
   "pygments_lexer": "ipython3",
   "version": "3.11.0"
  },
  "orig_nbformat": 4,
  "vscode": {
   "interpreter": {
    "hash": "5238573367df39f7286bb46f9ff5f08f63a01a80960060ce41e3c79b190280fa"
   }
  }
 },
 "nbformat": 4,
 "nbformat_minor": 2
}
