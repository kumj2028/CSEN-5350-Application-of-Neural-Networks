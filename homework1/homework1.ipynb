{
 "cells": [
  {
   "attachments": {},
   "cell_type": "markdown",
   "metadata": {},
   "source": [
    "# Homework 1\n",
    "## Mengxiang Jiang\n",
    "\n",
    "The majority of the code here comes from the [Cheat Sheets](https://github.com/ehmatthes/pcc_2e/releases/download/v1.0.1/beginners_python_cheat_sheet_pcc_all.pdf) of the Python Crash Course, 2nd Edition by Eric Matthes. If the code comes from somewhere else it will have a source linked to the original. Some of the code has been modified from the original to show errors or to remove errors."
   ]
  },
  {
   "attachments": {},
   "cell_type": "markdown",
   "metadata": {},
   "source": [
    "### Variables and Strings"
   ]
  },
  {
   "cell_type": "code",
   "execution_count": 1,
   "metadata": {},
   "outputs": [
    {
     "name": "stdout",
     "output_type": "stream",
     "text": [
      "hello World!\n"
     ]
    }
   ],
   "source": [
    "msg = list(\"Hello World!\")\n",
    "msg2 = msg\n",
    "msg2[0] = 'h'\n",
    "msg = ''.join(msg)\n",
    "print(msg)"
   ]
  },
  {
   "cell_type": "code",
   "execution_count": 2,
   "metadata": {},
   "outputs": [
    {
     "name": "stdout",
     "output_type": "stream",
     "text": [
      "buffalo buffalobuffalobuffalo\n"
     ]
    }
   ],
   "source": [
    "first_name = 'buffalo'\n",
    "last_name = first_name*3\n",
    "full_name = f\"{first_name} {last_name}\"\n",
    "print(full_name)"
   ]
  },
  {
   "attachments": {},
   "cell_type": "markdown",
   "metadata": {},
   "source": [
    "### Lists"
   ]
  },
  {
   "cell_type": "code",
   "execution_count": 3,
   "metadata": {},
   "outputs": [
    {
     "name": "stdout",
     "output_type": "stream",
     "text": [
      "trek\n"
     ]
    }
   ],
   "source": [
    "bike_list = ['trek', 'redline', 'giant']\n",
    "first_bike = bike_list[0]\n",
    "print(first_bike)"
   ]
  },
  {
   "cell_type": "code",
   "execution_count": 4,
   "metadata": {},
   "outputs": [
    {
     "name": "stdout",
     "output_type": "stream",
     "text": [
      "giant\n"
     ]
    }
   ],
   "source": [
    "last_bike = bike_list[-1]\n",
    "print(last_bike)"
   ]
  },
  {
   "cell_type": "code",
   "execution_count": 5,
   "metadata": {},
   "outputs": [
    {
     "name": "stdout",
     "output_type": "stream",
     "text": [
      "trek\n",
      "redline\n",
      "giant\n",
      "['trek', 'redline', 'giant', 'trek', 'redline', 'giant']\n"
     ]
    }
   ],
   "source": [
    "for i in range(len(bike_list)):\n",
    "    print(bike_list[i])\n",
    "    bike_list.append(bike_list[i])\n",
    "print(bike_list)"
   ]
  },
  {
   "cell_type": "code",
   "execution_count": 6,
   "metadata": {},
   "outputs": [
    {
     "name": "stdout",
     "output_type": "stream",
     "text": [
      "[1, 4, 9, 16, 25, 36, 49, 64, 81, 100]\n"
     ]
    }
   ],
   "source": [
    "squares = [x**2 for x in range(1, 11)]\n",
    "print(squares)"
   ]
  },
  {
   "cell_type": "code",
   "execution_count": 7,
   "metadata": {},
   "outputs": [
    {
     "name": "stdout",
     "output_type": "stream",
     "text": [
      "['sam', 'bob']\n"
     ]
    }
   ],
   "source": [
    "finishers = ['sam', 'bob', 'ada', 'bea']\n",
    "first_two = finishers[:2]\n",
    "print(first_two)"
   ]
  },
  {
   "cell_type": "code",
   "execution_count": 8,
   "metadata": {},
   "outputs": [
    {
     "name": "stdout",
     "output_type": "stream",
     "text": [
      "['foo', 'redline', 'giant', 'trek', 'redline', 'giant']\n",
      "['trek', 'redline', 'giant', 'trek', 'redline', 'giant']\n"
     ]
    }
   ],
   "source": [
    "copy_of_bike_list = bike_list[:]\n",
    "bike_list[0] = 'foo'\n",
    "print(bike_list)\n",
    "print(copy_of_bike_list)"
   ]
  },
  {
   "attachments": {},
   "cell_type": "markdown",
   "metadata": {},
   "source": [
    "### If statements"
   ]
  },
  {
   "cell_type": "code",
   "execution_count": 9,
   "metadata": {},
   "outputs": [
    {
     "name": "stdout",
     "output_type": "stream",
     "text": [
      "True\n",
      "False\n",
      "False\n",
      "True\n",
      "False\n",
      "True\n"
     ]
    }
   ],
   "source": [
    "x = 42\n",
    "print(x == 42)\n",
    "print(x != 42)\n",
    "print(x > 42)\n",
    "print(x >= 42)\n",
    "print(x < 42)\n",
    "print(x <= 42)"
   ]
  },
  {
   "cell_type": "code",
   "execution_count": 10,
   "metadata": {},
   "outputs": [
    {
     "name": "stdout",
     "output_type": "stream",
     "text": [
      "True\n",
      "True\n"
     ]
    }
   ],
   "source": [
    "print('trek' in bike_list)\n",
    "print('surly' not in bike_list)"
   ]
  },
  {
   "cell_type": "code",
   "execution_count": 11,
   "metadata": {},
   "outputs": [
    {
     "name": "stdout",
     "output_type": "stream",
     "text": [
      "True\n",
      "False\n"
     ]
    }
   ],
   "source": [
    "game_active = True\n",
    "print(game_active)\n",
    "can_edit = False\n",
    "print(can_edit)"
   ]
  },
  {
   "cell_type": "code",
   "execution_count": 12,
   "metadata": {},
   "outputs": [
    {
     "name": "stdout",
     "output_type": "stream",
     "text": [
      "You can vote!\n"
     ]
    }
   ],
   "source": [
    "age = 18\n",
    "if age >= 18:\n",
    "    print(\"You can vote!\")"
   ]
  },
  {
   "cell_type": "code",
   "execution_count": 13,
   "metadata": {},
   "outputs": [
    {
     "name": "stdout",
     "output_type": "stream",
     "text": [
      "15\n"
     ]
    }
   ],
   "source": [
    "if age < 4:\n",
    "    ticket_price = 0\n",
    "elif age < 18:\n",
    "    ticket_price = 10\n",
    "else:\n",
    "    ticket_price = 15\n",
    "print(ticket_price)"
   ]
  },
  {
   "attachments": {},
   "cell_type": "markdown",
   "metadata": {},
   "source": [
    "### Dictionaries"
   ]
  },
  {
   "cell_type": "code",
   "execution_count": 14,
   "metadata": {},
   "outputs": [
    {
     "name": "stdout",
     "output_type": "stream",
     "text": [
      "The alien's color is green\n"
     ]
    }
   ],
   "source": [
    "alien = {'color': 'green', 'points': 5}\n",
    "print(f\"The alien's color is {alien['color']}\")"
   ]
  },
  {
   "cell_type": "code",
   "execution_count": 15,
   "metadata": {},
   "outputs": [
    {
     "name": "stdout",
     "output_type": "stream",
     "text": [
      "The alien's x_position is 0\n"
     ]
    }
   ],
   "source": [
    "alien['x_position'] = 0\n",
    "print(f\"The alien's x_position is {alien['x_position']}\")"
   ]
  },
  {
   "cell_type": "code",
   "execution_count": 16,
   "metadata": {},
   "outputs": [
    {
     "name": "stdout",
     "output_type": "stream",
     "text": [
      "eric loves 17\n",
      "ever loves 4\n"
     ]
    }
   ],
   "source": [
    "fav_numbers = {'eric': 17, 'ever': 4}\n",
    "for name, number in fav_numbers.items():\n",
    "    print(f\"{name} loves {number}\")"
   ]
  },
  {
   "cell_type": "code",
   "execution_count": 17,
   "metadata": {},
   "outputs": [
    {
     "name": "stdout",
     "output_type": "stream",
     "text": [
      "eric loves a number\n",
      "ever loves a number\n"
     ]
    }
   ],
   "source": [
    "for name in fav_numbers.keys():\n",
    "    print(f\"{name} loves a number\")"
   ]
  },
  {
   "cell_type": "code",
   "execution_count": 18,
   "metadata": {},
   "outputs": [
    {
     "name": "stdout",
     "output_type": "stream",
     "text": [
      "17 is a favorite\n",
      "4 is a favorite\n"
     ]
    }
   ],
   "source": [
    "for number in fav_numbers.values():\n",
    "    print(f\"{number} is a favorite\")"
   ]
  },
  {
   "attachments": {},
   "cell_type": "markdown",
   "metadata": {},
   "source": [
    "### User input"
   ]
  },
  {
   "cell_type": "code",
   "execution_count": 19,
   "metadata": {},
   "outputs": [
    {
     "name": "stdout",
     "output_type": "stream",
     "text": [
      "Hello, mengxiang!\n"
     ]
    }
   ],
   "source": [
    "name = input(\"What's your name? \")\n",
    "print(f\"Hello, {name}!\")"
   ]
  },
  {
   "cell_type": "code",
   "execution_count": 20,
   "metadata": {},
   "outputs": [
    {
     "name": "stdout",
     "output_type": "stream",
     "text": [
      "-1\n",
      "2.718\n"
     ]
    }
   ],
   "source": [
    "age = input(\"How old are you? \")\n",
    "age = int(age)\n",
    "print(age)\n",
    "\n",
    "pi = input(\"What's the value of pi? \")\n",
    "pi = float(pi)\n",
    "print(pi)"
   ]
  },
  {
   "attachments": {},
   "cell_type": "markdown",
   "metadata": {},
   "source": [
    "### While loops"
   ]
  },
  {
   "cell_type": "code",
   "execution_count": 21,
   "metadata": {},
   "outputs": [
    {
     "name": "stdout",
     "output_type": "stream",
     "text": [
      "12\n",
      "-6\n",
      "3\n",
      "-2\n",
      "1\n",
      "-1\n"
     ]
    }
   ],
   "source": [
    "current_value = 12\n",
    "while abs(current_value) > 0:\n",
    "    print(current_value)\n",
    "    current_value //= -2"
   ]
  },
  {
   "cell_type": "code",
   "execution_count": 22,
   "metadata": {},
   "outputs": [
    {
     "name": "stdout",
     "output_type": "stream",
     "text": [
      "foo\n",
      "bar\n",
      "quit\n"
     ]
    }
   ],
   "source": [
    "msg = ''\n",
    "while msg != 'quit':\n",
    "    msg = input(\"What's your message? \")\n",
    "    print(msg)"
   ]
  },
  {
   "attachments": {},
   "cell_type": "markdown",
   "metadata": {},
   "source": [
    "### Functions"
   ]
  },
  {
   "cell_type": "code",
   "execution_count": 23,
   "metadata": {},
   "outputs": [
    {
     "name": "stdout",
     "output_type": "stream",
     "text": [
      "Hello!\n"
     ]
    }
   ],
   "source": [
    "def greet_user():\n",
    "    \"\"\"Display a simple greeting.\"\"\"\n",
    "    print(\"Hello!\")\n",
    "greet_user()"
   ]
  },
  {
   "cell_type": "code",
   "execution_count": 24,
   "metadata": {},
   "outputs": [
    {
     "name": "stdout",
     "output_type": "stream",
     "text": [
      "Hello, jesse!\n"
     ]
    }
   ],
   "source": [
    "def greet_user(username):\n",
    "    \"\"\"Display a personalized greeting.\"\"\"\n",
    "    print(f\"Hello, {username}!\")\n",
    "greet_user('jesse')"
   ]
  },
  {
   "cell_type": "code",
   "execution_count": 25,
   "metadata": {},
   "outputs": [
    {
     "name": "stdout",
     "output_type": "stream",
     "text": [
      "Have a bacon pizza!\n",
      "Have a pepperoni pizza!\n",
      "Have a pineapple pizza!\n"
     ]
    }
   ],
   "source": [
    "def make_pizza(topping='bacon'):\n",
    "    \"\"\"Make a single-topping pizza.\"\"\"\n",
    "    print(f\"Have a {topping} pizza!\")\n",
    "make_pizza()\n",
    "make_pizza('pepperoni')\n",
    "make_pizza(topping='pineapple')"
   ]
  },
  {
   "attachments": {},
   "cell_type": "markdown",
   "metadata": {},
   "source": [
    "### Object references are passed by value \n",
    "[Is Python pass-by-reference or pass-by-value?](https://robertheaton.com/2014/02/09/pythons-pass-by-object-reference-as-explained-by-philip-k-dick/) by Robert Heaton"
   ]
  },
  {
   "cell_type": "code",
   "execution_count": 26,
   "metadata": {},
   "outputs": [
    {
     "name": "stdout",
     "output_type": "stream",
     "text": [
      "[0]\n",
      "[0, 1]\n"
     ]
    }
   ],
   "source": [
    "def reassign(l):\n",
    "    l = [0, 1]\n",
    "\n",
    "def append(l):\n",
    "    l.append(1)\n",
    "\n",
    "l = [0]\n",
    "reassign(l)\n",
    "print(l)\n",
    "append(l)\n",
    "print(l)"
   ]
  },
  {
   "attachments": {},
   "cell_type": "markdown",
   "metadata": {},
   "source": [
    "### Classes"
   ]
  },
  {
   "cell_type": "code",
   "execution_count": 27,
   "metadata": {},
   "outputs": [
    {
     "name": "stdout",
     "output_type": "stream",
     "text": [
      "Cat is a great dog!\n",
      "Cat is sitting.\n"
     ]
    }
   ],
   "source": [
    "class Dog():\n",
    "    \"\"\"Represent a dog.\"\"\"\n",
    "    def __init__(self, name):\n",
    "        \"\"\"Initialize dog object.\"\"\"\n",
    "        self.name = name\n",
    "    def sit(self):\n",
    "        \"\"\"Simulate sitting.\"\"\"\n",
    "        print(f\"{self.name} is sitting.\")\n",
    "\n",
    "my_dog = Dog('Peso')\n",
    "my_dog.name = 'Cat'\n",
    "print(f\"{my_dog.name} is a great dog!\")\n",
    "my_dog.sit()"
   ]
  },
  {
   "cell_type": "code",
   "execution_count": 28,
   "metadata": {},
   "outputs": [
    {
     "name": "stdout",
     "output_type": "stream",
     "text": [
      "Willie is a search dog.\n",
      "Willie is sitting.\n",
      "Willie is searching.\n"
     ]
    }
   ],
   "source": [
    "class SARDog(Dog):\n",
    "    \"\"\"Represent a search dog.\"\"\"\n",
    "    # def __init__(self, name):\n",
    "    #     \"\"\"Initialize the sardog.\"\"\"\n",
    "    #     super().__init__(name)\n",
    "    def search(self):\n",
    "        \"\"\"Simulate searching.\"\"\"\n",
    "        print(f\"{self.name} is searching.\")\n",
    "\n",
    "my_dog = SARDog('Willie')\n",
    "print(f\"{my_dog.name} is a search dog.\")\n",
    "my_dog.sit()\n",
    "my_dog.search()"
   ]
  },
  {
   "attachments": {},
   "cell_type": "markdown",
   "metadata": {},
   "source": [
    "### Working with files"
   ]
  },
  {
   "cell_type": "code",
   "execution_count": 29,
   "metadata": {},
   "outputs": [
    {
     "name": "stdout",
     "output_type": "stream",
     "text": [
      "i'm the buddha yo\n"
     ]
    }
   ],
   "source": [
    "filename = 'siddhartha.txt'\n",
    "with open(filename) as file_object:\n",
    "    lines = file_object.readlines()\n",
    "\n",
    "for line in lines:\n",
    "    print(line)"
   ]
  },
  {
   "cell_type": "code",
   "execution_count": 30,
   "metadata": {},
   "outputs": [
    {
     "name": "stdout",
     "output_type": "stream",
     "text": [
      "I love programming.\n"
     ]
    }
   ],
   "source": [
    "filename = 'journal.txt'\n",
    "with open(filename, 'w') as file_object:\n",
    "    file_object.write(\"I love programming.\")\n",
    "\n",
    "with open(filename) as file_object:\n",
    "    print(file_object.read())"
   ]
  },
  {
   "cell_type": "code",
   "execution_count": 31,
   "metadata": {},
   "outputs": [
    {
     "name": "stdout",
     "output_type": "stream",
     "text": [
      "I love programming.\n",
      "I love making games.\n"
     ]
    }
   ],
   "source": [
    "with open(filename, 'a') as file_object:\n",
    "    file_object.write(\"\\nI love making games.\")\n",
    "\n",
    "with open(filename) as file_object:\n",
    "    print(file_object.read())"
   ]
  },
  {
   "attachments": {},
   "cell_type": "markdown",
   "metadata": {},
   "source": [
    "### Exceptions"
   ]
  },
  {
   "cell_type": "code",
   "execution_count": 32,
   "metadata": {},
   "outputs": [
    {
     "name": "stdout",
     "output_type": "stream",
     "text": [
      "a is not a number. Please try again.\n"
     ]
    }
   ],
   "source": [
    "prompt = \"How many tickets do you need? \"\n",
    "num_tickets = input(prompt)\n",
    "try:\n",
    "    num_tickets = int(num_tickets)\n",
    "except ValueError:\n",
    "    print(f\"{num_tickets} is not a number. Please try again.\")\n",
    "else:\n",
    "    print(\"Your tickets are printing.\")"
   ]
  },
  {
   "attachments": {},
   "cell_type": "markdown",
   "metadata": {},
   "source": [
    "## Lists\n",
    "### Defining a list"
   ]
  },
  {
   "cell_type": "code",
   "execution_count": 33,
   "metadata": {},
   "outputs": [
    {
     "name": "stdout",
     "output_type": "stream",
     "text": [
      "['val', 'bob', 'mia', 'ron', 'ned', 5]\n"
     ]
    }
   ],
   "source": [
    "users = ['val', 'bob', 'mia', 'ron', 'ned', 5]\n",
    "print(users)"
   ]
  },
  {
   "attachments": {},
   "cell_type": "markdown",
   "metadata": {},
   "source": [
    "### Accessing elements"
   ]
  },
  {
   "cell_type": "code",
   "execution_count": 34,
   "metadata": {},
   "outputs": [
    {
     "name": "stdout",
     "output_type": "stream",
     "text": [
      "val\n",
      "bob\n",
      "5\n"
     ]
    }
   ],
   "source": [
    "first_user = users[0]\n",
    "print(first_user)\n",
    "second_user = users[1]\n",
    "print(second_user)\n",
    "newest_user = users[-1]\n",
    "print(newest_user)"
   ]
  },
  {
   "attachments": {},
   "cell_type": "markdown",
   "metadata": {},
   "source": [
    "### Modifying individual items"
   ]
  },
  {
   "cell_type": "code",
   "execution_count": 35,
   "metadata": {},
   "outputs": [
    {
     "name": "stdout",
     "output_type": "stream",
     "text": [
      "['valerie', 'bob', 'mia', 'ron', 'ronald', 5]\n"
     ]
    }
   ],
   "source": [
    "users[0] = 'valerie'\n",
    "users[-2] = 'ronald'\n",
    "print(users)"
   ]
  },
  {
   "attachments": {},
   "cell_type": "markdown",
   "metadata": {},
   "source": [
    "### Adding elements"
   ]
  },
  {
   "cell_type": "code",
   "execution_count": 36,
   "metadata": {},
   "outputs": [
    {
     "name": "stdout",
     "output_type": "stream",
     "text": [
      "['valerie', 'bob', 'mia', 'ron', 'ronald', 5, 'amy']\n",
      "['val', 'bob', 'mia']\n",
      "['joe', 'val', 'bea', 'bob', 'mia', 'foo']\n"
     ]
    }
   ],
   "source": [
    "users.append('amy')\n",
    "print(users)\n",
    "\n",
    "users = []\n",
    "users.append('val')\n",
    "users.append('bob')\n",
    "users.append('mia')\n",
    "print(users)\n",
    "\n",
    "users.insert(0, 'joe')\n",
    "users.insert(-2, 'bea')\n",
    "users.insert(10, 'foo')\n",
    "print(users)"
   ]
  },
  {
   "attachments": {},
   "cell_type": "markdown",
   "metadata": {},
   "source": [
    "### Removing elements"
   ]
  },
  {
   "cell_type": "code",
   "execution_count": 37,
   "metadata": {},
   "outputs": [
    {
     "name": "stdout",
     "output_type": "stream",
     "text": [
      "['joe', 'val', 'bea', 'bob', 'mia']\n",
      "['val', 'bea', 'bob', 'mia', 'joe']\n"
     ]
    }
   ],
   "source": [
    "del users[-1]\n",
    "print(users)\n",
    "users.append('joe')\n",
    "users.remove('joe')\n",
    "print(users)"
   ]
  },
  {
   "attachments": {},
   "cell_type": "markdown",
   "metadata": {},
   "source": [
    "### Popping elements"
   ]
  },
  {
   "cell_type": "code",
   "execution_count": 38,
   "metadata": {},
   "outputs": [
    {
     "name": "stdout",
     "output_type": "stream",
     "text": [
      "joe\n",
      "['val', 'bea', 'bob', 'mia']\n"
     ]
    }
   ],
   "source": [
    "most_recent_user = users.pop()\n",
    "print(most_recent_user)\n",
    "print(users)"
   ]
  },
  {
   "cell_type": "code",
   "execution_count": 39,
   "metadata": {},
   "outputs": [
    {
     "name": "stdout",
     "output_type": "stream",
     "text": [
      "val\n",
      "['bea', 'bob', 'mia']\n"
     ]
    }
   ],
   "source": [
    "first_user = users.pop(0)\n",
    "print(first_user)\n",
    "print(users)"
   ]
  },
  {
   "attachments": {},
   "cell_type": "markdown",
   "metadata": {},
   "source": [
    "### List length"
   ]
  },
  {
   "cell_type": "code",
   "execution_count": 40,
   "metadata": {},
   "outputs": [
    {
     "name": "stdout",
     "output_type": "stream",
     "text": [
      "We have 3 users.\n"
     ]
    }
   ],
   "source": [
    "num_users = len(users)\n",
    "print(f\"We have {num_users} users.\")"
   ]
  },
  {
   "attachments": {},
   "cell_type": "markdown",
   "metadata": {},
   "source": [
    "### Sorting a list"
   ]
  },
  {
   "cell_type": "code",
   "execution_count": 41,
   "metadata": {},
   "outputs": [
    {
     "name": "stdout",
     "output_type": "stream",
     "text": [
      "['bob', 'mia', 'ned', 'ron', 'val']\n",
      "['val', 'ron', 'ned', 'mia', 'bob']\n"
     ]
    }
   ],
   "source": [
    "users = ['val', 'bob', 'mia', 'ron', 'ned']\n",
    "users.sort()\n",
    "print(users)\n",
    "users.sort(reverse=True)\n",
    "print(users)"
   ]
  },
  {
   "cell_type": "code",
   "execution_count": 42,
   "metadata": {},
   "outputs": [
    {
     "name": "stdout",
     "output_type": "stream",
     "text": [
      "['bob', 'mia', 'ned', 'ron', 'val']\n",
      "['val', 'bob', 'mia', 'ron', 'ned']\n",
      "['val', 'ron', 'ned', 'mia', 'bob']\n",
      "['val', 'bob', 'mia', 'ron', 'ned']\n"
     ]
    }
   ],
   "source": [
    "users = ['val', 'bob', 'mia', 'ron', 'ned']\n",
    "print(sorted(users))\n",
    "print(users)\n",
    "print(sorted(users, reverse=True))\n",
    "print(users)"
   ]
  },
  {
   "cell_type": "code",
   "execution_count": 43,
   "metadata": {},
   "outputs": [
    {
     "name": "stdout",
     "output_type": "stream",
     "text": [
      "['ned', 'ron', 'mia', 'bob', 'val']\n"
     ]
    }
   ],
   "source": [
    "users.reverse()\n",
    "print(users)"
   ]
  },
  {
   "attachments": {},
   "cell_type": "markdown",
   "metadata": {},
   "source": [
    "### Looping through a list"
   ]
  },
  {
   "cell_type": "code",
   "execution_count": 44,
   "metadata": {},
   "outputs": [
    {
     "name": "stdout",
     "output_type": "stream",
     "text": [
      "Welcome, ned!\n",
      "Welcome, mia!\n",
      "Welcome, val!\n",
      "['bob', 'val']\n"
     ]
    }
   ],
   "source": [
    "for user in users:\n",
    "    print(f\"Welcome, {user}!\")\n",
    "    users.pop(0)\n",
    "print(users)"
   ]
  },
  {
   "attachments": {},
   "cell_type": "markdown",
   "metadata": {},
   "source": [
    "### The range() function"
   ]
  },
  {
   "cell_type": "code",
   "execution_count": 45,
   "metadata": {},
   "outputs": [
    {
     "name": "stdout",
     "output_type": "stream",
     "text": [
      "0\n",
      "1\n",
      "2\n",
      "3\n",
      "4\n",
      "5\n",
      "6\n",
      "7\n",
      "8\n",
      "9\n",
      "range(0, 10)\n"
     ]
    }
   ],
   "source": [
    "for number in range(10):\n",
    "    print(number)\n",
    "print(range(10))"
   ]
  },
  {
   "cell_type": "code",
   "execution_count": 46,
   "metadata": {},
   "outputs": [
    {
     "name": "stdout",
     "output_type": "stream",
     "text": [
      "[0, 1, 2, 3, 4, 5, 6, 7, 8, 9]\n"
     ]
    }
   ],
   "source": [
    "numbers = list(range(10))\n",
    "print(numbers)"
   ]
  },
  {
   "attachments": {},
   "cell_type": "markdown",
   "metadata": {},
   "source": [
    "### Simple statistics"
   ]
  },
  {
   "cell_type": "code",
   "execution_count": 47,
   "metadata": {},
   "outputs": [
    {
     "name": "stdout",
     "output_type": "stream",
     "text": [
      "1\n",
      "99\n",
      "557\n"
     ]
    }
   ],
   "source": [
    "ages = [93, 99, 66, 17, 85, 1, 35, 82, 2, 77]\n",
    "youngest = min(ages)\n",
    "print(youngest)\n",
    "oldest = max(ages)\n",
    "print(oldest)\n",
    "total_years = sum(ages)\n",
    "print(total_years)"
   ]
  },
  {
   "attachments": {},
   "cell_type": "markdown",
   "metadata": {},
   "source": [
    "### Slicing a list"
   ]
  },
  {
   "cell_type": "code",
   "execution_count": 48,
   "metadata": {},
   "outputs": [
    {
     "name": "stdout",
     "output_type": "stream",
     "text": [
      "['kai', 'abe', 'ada']\n",
      "['abe', 'ada', 'gus']\n",
      "['ada', 'gus', 'zoe']\n"
     ]
    }
   ],
   "source": [
    "finishers = ['kai', 'abe', 'ada', 'gus', 'zoe']\n",
    "first_three = finishers[:3]\n",
    "print(first_three)\n",
    "middle_three = finishers[len(finishers)//2-1:len(finishers)//2+2]\n",
    "print(middle_three)\n",
    "last_three = finishers[-3:]\n",
    "print(last_three)"
   ]
  },
  {
   "attachments": {},
   "cell_type": "markdown",
   "metadata": {},
   "source": [
    "### Copying a list"
   ]
  },
  {
   "cell_type": "code",
   "execution_count": 49,
   "metadata": {},
   "outputs": [
    {
     "name": "stdout",
     "output_type": "stream",
     "text": [
      "['kai', 'abe', 'ada', 'gus', 'zoe']\n",
      "['foo', 'abe', 'ada', 'gus', 'zoe']\n"
     ]
    }
   ],
   "source": [
    "finishers = ['kai', 'abe', 'ada', 'gus', 'zoe']\n",
    "copy_of_finishers = finishers[:]\n",
    "copy_of_finishers[0] = 'foo'\n",
    "print(finishers)\n",
    "print(copy_of_finishers)"
   ]
  },
  {
   "attachments": {},
   "cell_type": "markdown",
   "metadata": {},
   "source": [
    "### List comprehensions"
   ]
  },
  {
   "cell_type": "code",
   "execution_count": 50,
   "metadata": {},
   "outputs": [
    {
     "name": "stdout",
     "output_type": "stream",
     "text": [
      "[1, 4, 9, 16, 25, 36, 49, 64, 81, 100]\n",
      "[1, 4, 9, 16, 25, 36, 49, 64, 81, 100]\n"
     ]
    }
   ],
   "source": [
    "squares = []\n",
    "for x in range(1, 11):\n",
    "    square = x**2\n",
    "    squares.append(square)\n",
    "print(squares)\n",
    "squares2 = [x**2 for x in range(1, 11)]\n",
    "print(squares2)"
   ]
  },
  {
   "cell_type": "code",
   "execution_count": 51,
   "metadata": {},
   "outputs": [
    {
     "name": "stdout",
     "output_type": "stream",
     "text": [
      "['KAI', 'ABE', 'ADA', 'GUS', 'ZOE']\n",
      "['KAI', 'ABE', 'ADA', 'GUS', 'ZOE']\n"
     ]
    }
   ],
   "source": [
    "names = ['kai', 'abe', 'ada', 'gus', 'zoe']\n",
    "upper_names = []\n",
    "for name in names:\n",
    "    upper_names.append(name.upper())\n",
    "print(upper_names)\n",
    "upper_names2 = [name.upper() for name in names]\n",
    "print(upper_names2)"
   ]
  },
  {
   "attachments": {},
   "cell_type": "markdown",
   "metadata": {},
   "source": [
    "### Tuples"
   ]
  },
  {
   "cell_type": "code",
   "execution_count": 52,
   "metadata": {},
   "outputs": [
    {
     "name": "stdout",
     "output_type": "stream",
     "text": [
      "800\n",
      "600\n"
     ]
    }
   ],
   "source": [
    "dimensions = (800, 600)\n",
    "for dimension in dimensions:\n",
    "    print(dimension)"
   ]
  },
  {
   "cell_type": "code",
   "execution_count": 53,
   "metadata": {},
   "outputs": [
    {
     "ename": "TypeError",
     "evalue": "'tuple' object does not support item assignment",
     "output_type": "error",
     "traceback": [
      "\u001b[1;31m---------------------------------------------------------------------------\u001b[0m",
      "\u001b[1;31mTypeError\u001b[0m                                 Traceback (most recent call last)",
      "Cell \u001b[1;32mIn[53], line 1\u001b[0m\n\u001b[1;32m----> 1\u001b[0m dimensions[\u001b[39m0\u001b[39;49m] \u001b[39m=\u001b[39m \u001b[39m500\u001b[39m\n",
      "\u001b[1;31mTypeError\u001b[0m: 'tuple' object does not support item assignment"
     ]
    }
   ],
   "source": [
    "dimensions[0] = 500"
   ]
  },
  {
   "attachments": {},
   "cell_type": "markdown",
   "metadata": {},
   "source": [
    "### Visualizing your code"
   ]
  },
  {
   "cell_type": "code",
   "execution_count": 54,
   "metadata": {},
   "outputs": [
    {
     "name": "stdout",
     "output_type": "stream",
     "text": [
      "Hello willie!\n",
      "Hello hootz!\n",
      "Hello peso!\n",
      "Hello goblin!\n",
      "I love these dogs!\n",
      "\n",
      "These were my first two dogs:\n",
      "willie\n",
      "hootz\n",
      "['hootz', 'goblin']\n"
     ]
    }
   ],
   "source": [
    "dogs = []\n",
    "dogs.append('willie')\n",
    "dogs.append('hootz')\n",
    "dogs.append('peso')\n",
    "dogs.append('goblin')\n",
    "\n",
    "for dog in dogs:\n",
    "    print(f\"Hello {dog}!\")\n",
    "print(\"I love these dogs!\")\n",
    "print(\"\\nThese were my first two dogs:\")\n",
    "old_dogs = dogs[:2]\n",
    "for old_dog in old_dogs:\n",
    "    print(old_dog)\n",
    "\n",
    "del dogs[0]\n",
    "dogs.remove('peso')\n",
    "print(dogs)"
   ]
  },
  {
   "attachments": {},
   "cell_type": "markdown",
   "metadata": {},
   "source": [
    "## Dictionaries\n",
    "### Defining a dictionary"
   ]
  },
  {
   "cell_type": "code",
   "execution_count": 55,
   "metadata": {},
   "outputs": [
    {
     "name": "stdout",
     "output_type": "stream",
     "text": [
      "{'color': 'green', 'points': 5}\n"
     ]
    }
   ],
   "source": [
    "alien_0 = {'color': 'green', 'points': 5}\n",
    "print(alien_0)"
   ]
  },
  {
   "attachments": {},
   "cell_type": "markdown",
   "metadata": {},
   "source": [
    "### Accessing values"
   ]
  },
  {
   "cell_type": "code",
   "execution_count": 56,
   "metadata": {},
   "outputs": [
    {
     "name": "stdout",
     "output_type": "stream",
     "text": [
      "green\n",
      "5\n",
      "green\n",
      "5\n",
      "None\n"
     ]
    }
   ],
   "source": [
    "print(alien_0['color'])\n",
    "print(alien_0['points'])\n",
    "print(alien_0.get('color'))\n",
    "print(alien_0.get('points'))\n",
    "print(alien_0.get('foo'))"
   ]
  },
  {
   "attachments": {},
   "cell_type": "markdown",
   "metadata": {},
   "source": [
    "### Adding new key-value pairs"
   ]
  },
  {
   "cell_type": "code",
   "execution_count": 57,
   "metadata": {},
   "outputs": [
    {
     "name": "stdout",
     "output_type": "stream",
     "text": [
      "{'color': 'green', 'points': 5, 'x': 0, 'y': 25, 'speed': 1.5}\n"
     ]
    }
   ],
   "source": [
    "alien_0['x'] = 0\n",
    "alien_0['y'] = 25\n",
    "alien_0['speed'] = 1.5\n",
    "print(alien_0)"
   ]
  },
  {
   "attachments": {},
   "cell_type": "markdown",
   "metadata": {},
   "source": [
    "### Modifying values"
   ]
  },
  {
   "cell_type": "code",
   "execution_count": 58,
   "metadata": {},
   "outputs": [
    {
     "name": "stdout",
     "output_type": "stream",
     "text": [
      "{'color': 'yellow', 'points': 10, 'x': 0, 'y': 25, 'speed': 1.5}\n"
     ]
    }
   ],
   "source": [
    "alien_0['color'] = 'yellow'\n",
    "alien_0['points'] = 10\n",
    "print(alien_0)"
   ]
  },
  {
   "attachments": {},
   "cell_type": "markdown",
   "metadata": {},
   "source": [
    "### Removing key-value pairs"
   ]
  },
  {
   "cell_type": "code",
   "execution_count": 59,
   "metadata": {},
   "outputs": [
    {
     "name": "stdout",
     "output_type": "stream",
     "text": [
      "{'color': 'yellow', 'x': 0, 'y': 25, 'speed': 1.5}\n"
     ]
    }
   ],
   "source": [
    "del alien_0['points']\n",
    "print(alien_0)"
   ]
  },
  {
   "attachments": {},
   "cell_type": "markdown",
   "metadata": {},
   "source": [
    "### Looping through a dictionary"
   ]
  },
  {
   "cell_type": "code",
   "execution_count": 60,
   "metadata": {},
   "outputs": [
    {
     "name": "stdout",
     "output_type": "stream",
     "text": [
      "jen: python\n",
      "sarah: c\n",
      "edward: ruby\n",
      "phil: python\n"
     ]
    }
   ],
   "source": [
    "fav_languages = {\n",
    "    'jen': 'python',\n",
    "    'sarah': 'c',\n",
    "    'edward': 'ruby',\n",
    "    'phil': 'python',\n",
    "}\n",
    "\n",
    "for name, language in fav_languages.items():\n",
    "    print(f\"{name}: {language}\")"
   ]
  },
  {
   "cell_type": "code",
   "execution_count": 61,
   "metadata": {},
   "outputs": [
    {
     "name": "stdout",
     "output_type": "stream",
     "text": [
      "jen\n",
      "sarah\n",
      "edward\n",
      "phil\n"
     ]
    }
   ],
   "source": [
    "for name in fav_languages.keys():\n",
    "    print(name)"
   ]
  },
  {
   "cell_type": "code",
   "execution_count": 62,
   "metadata": {},
   "outputs": [
    {
     "name": "stdout",
     "output_type": "stream",
     "text": [
      "jen\n",
      "sarah\n",
      "edward\n",
      "phil\n"
     ]
    }
   ],
   "source": [
    "for name in fav_languages:\n",
    "    print(name)"
   ]
  },
  {
   "cell_type": "code",
   "execution_count": 63,
   "metadata": {},
   "outputs": [
    {
     "name": "stdout",
     "output_type": "stream",
     "text": [
      "python\n",
      "c\n",
      "ruby\n",
      "python\n"
     ]
    }
   ],
   "source": [
    "for language in fav_languages.values():\n",
    "    print(language)"
   ]
  },
  {
   "cell_type": "code",
   "execution_count": 64,
   "metadata": {},
   "outputs": [
    {
     "name": "stdout",
     "output_type": "stream",
     "text": [
      "sarah: c\n",
      "phil: python\n",
      "jen: python\n",
      "edward: ruby\n"
     ]
    }
   ],
   "source": [
    "for name in sorted(fav_languages.keys(), reverse=True):\n",
    "    language = fav_languages[name]\n",
    "    print(f\"{name}: {language}\")"
   ]
  },
  {
   "attachments": {},
   "cell_type": "markdown",
   "metadata": {},
   "source": [
    "### Dictionary length"
   ]
  },
  {
   "cell_type": "code",
   "execution_count": 65,
   "metadata": {},
   "outputs": [
    {
     "name": "stdout",
     "output_type": "stream",
     "text": [
      "4\n"
     ]
    }
   ],
   "source": [
    "print(len(fav_languages))"
   ]
  },
  {
   "attachments": {},
   "cell_type": "markdown",
   "metadata": {},
   "source": [
    "### Nesting ‒ A list of dictionaries"
   ]
  },
  {
   "cell_type": "code",
   "execution_count": 70,
   "metadata": {},
   "outputs": [
    {
     "name": "stdout",
     "output_type": "stream",
     "text": [
      "last: fermi\n",
      "first: enrico\n",
      "username: efermi\n",
      "\n",
      "last: curie\n",
      "first: marie\n",
      "username: mcurie\n",
      "\n"
     ]
    }
   ],
   "source": [
    "# Start with an empty list.\n",
    "users = []\n",
    "# Make a new user, and add them to the list.\n",
    "new_user = {\n",
    "    'last': 'fermi',\n",
    "    'first': 'enrico',\n",
    "    'username': 'efermi',\n",
    "}\n",
    "users.append(new_user)\n",
    "\n",
    "# Make another new user, and add them as well.\n",
    "new_user = {\n",
    "    'last': 'curie',\n",
    "    'first': 'marie',\n",
    "    'username': 'mcurie',\n",
    "}\n",
    "users.append(new_user)\n",
    "\n",
    "# Show all information about each user.\n",
    "for user_dict in users:\n",
    "    for k, v in user_dict.items():\n",
    "        print(f\"{k}: {v}\")\n",
    "    print()"
   ]
  },
  {
   "cell_type": "code",
   "execution_count": 71,
   "metadata": {},
   "outputs": [
    {
     "name": "stdout",
     "output_type": "stream",
     "text": [
      "last: fermi\n",
      "first: enrico\n",
      "username: efermi\n",
      "\n",
      "last: curie\n",
      "first: marie\n",
      "username: mcurie\n",
      "\n"
     ]
    }
   ],
   "source": [
    "# Define a list of users, where each user\n",
    "# is represented by a dictionary.\n",
    "users = [\n",
    "    {\n",
    "        'last': 'fermi',\n",
    "        'first': 'enrico',\n",
    "        'username': 'efermi',\n",
    "    },\n",
    "    {\n",
    "        'last': 'curie',\n",
    "        'first': 'marie',\n",
    "        'username': 'mcurie',\n",
    "    },\n",
    "]\n",
    "# Show all information about each user.\n",
    "for user_dict in users:\n",
    "    for k, v in user_dict.items():\n",
    "        print(f\"{k}: {v}\")\n",
    "    print()"
   ]
  },
  {
   "attachments": {},
   "cell_type": "markdown",
   "metadata": {},
   "source": [
    "### Nesting ‒ Lists in a dictionary"
   ]
  },
  {
   "cell_type": "code",
   "execution_count": 72,
   "metadata": {},
   "outputs": [
    {
     "name": "stdout",
     "output_type": "stream",
     "text": [
      "jen: \n",
      "- python\n",
      "- ruby\n",
      "sarah: \n",
      "- c\n",
      "edward: \n",
      "- ruby\n",
      "- go\n",
      "phil: \n",
      "- python\n",
      "- haskell\n"
     ]
    }
   ],
   "source": [
    "# Store multiple languages for each person.\n",
    "fav_languages = {\n",
    "    'jen': ['python', 'ruby'],\n",
    "    'sarah': ['c'],\n",
    "    'edward': ['ruby', 'go'],\n",
    "    'phil': ['python', 'haskell'],\n",
    "}\n",
    "# Show all responses for each person.\n",
    "for name, langs in fav_languages.items():\n",
    "    print(f\"{name}: \")\n",
    "    for lang in langs:\n",
    "        print(f\"- {lang}\")\n"
   ]
  },
  {
   "attachments": {},
   "cell_type": "markdown",
   "metadata": {},
   "source": [
    "### Nesting ‒ A dictionary of dictionaries"
   ]
  },
  {
   "cell_type": "code",
   "execution_count": 73,
   "metadata": {},
   "outputs": [
    {
     "name": "stdout",
     "output_type": "stream",
     "text": [
      "\n",
      "Username: aeinstein\n",
      "\tFull name: Albert Einstein\n",
      "\tLocation: Princeton\n",
      "\n",
      "Username: mcurie\n",
      "\tFull name: Marie Curie\n",
      "\tLocation: Paris\n"
     ]
    }
   ],
   "source": [
    "users = {\n",
    "    'aeinstein': {\n",
    "        'first': 'albert',\n",
    "        'last': 'einstein',\n",
    "        'location': 'princeton',\n",
    "    },\n",
    "    'mcurie': {\n",
    "        'first': 'marie',\n",
    "        'last': 'curie',\n",
    "        'location': 'paris',\n",
    "    },\n",
    "}\n",
    "for username, user_dict in users.items():\n",
    "    print(\"\\nUsername: \" + username)\n",
    "    full_name = user_dict['first'] + \" \"\n",
    "    full_name += user_dict['last']\n",
    "    location = user_dict['location']\n",
    "    print(f\"\\tFull name: {full_name.title()}\")\n",
    "    print(f\"\\tLocation: {location.title()}\")"
   ]
  },
  {
   "attachments": {},
   "cell_type": "markdown",
   "metadata": {},
   "source": [
    "### Dictionary Comprehensions"
   ]
  },
  {
   "cell_type": "code",
   "execution_count": 75,
   "metadata": {},
   "outputs": [
    {
     "name": "stdout",
     "output_type": "stream",
     "text": [
      "{0: 0, 1: 1, 2: 4, 3: 9, 4: 16}\n"
     ]
    }
   ],
   "source": [
    "squares = {}\n",
    "for x in range(5):\n",
    "    squares[x] = x**2\n",
    "print(squares)"
   ]
  },
  {
   "cell_type": "code",
   "execution_count": 76,
   "metadata": {},
   "outputs": [
    {
     "name": "stdout",
     "output_type": "stream",
     "text": [
      "{0: 0, 1: 1, 2: 4, 3: 9, 4: 16}\n"
     ]
    }
   ],
   "source": [
    "squares2 = {x:x**2 for x in range(5)}\n",
    "print(squares2)"
   ]
  },
  {
   "cell_type": "code",
   "execution_count": 77,
   "metadata": {},
   "outputs": [
    {
     "name": "stdout",
     "output_type": "stream",
     "text": [
      "{'kai': 'jen', 'abe': 'eva', 'ada': 'dan', 'gus': 'isa'}\n"
     ]
    }
   ],
   "source": [
    "group_1 = ['kai', 'abe', 'ada', 'gus', 'zoe']\n",
    "group_2 = ['jen', 'eva', 'dan', 'isa']\n",
    "pairings = {name:name_2\n",
    "    for name, name_2 in zip(group_1, group_2)}\n",
    "print(pairings)"
   ]
  },
  {
   "attachments": {},
   "cell_type": "markdown",
   "metadata": {},
   "source": [
    "### Generating a million dictionaries"
   ]
  },
  {
   "cell_type": "code",
   "execution_count": 78,
   "metadata": {},
   "outputs": [
    {
     "name": "stdout",
     "output_type": "stream",
     "text": [
      "Number of aliens created:\n",
      "1000000\n"
     ]
    }
   ],
   "source": [
    "aliens = []\n",
    "# Make a million green aliens, worth 5 points\n",
    "# each. Have them all start in one row.\n",
    "for alien_num in range(1000000):\n",
    "    new_alien = {}\n",
    "    new_alien['color'] = 'green'\n",
    "    new_alien['points'] = 5\n",
    "    new_alien['x'] = 20 * alien_num\n",
    "    new_alien['y'] = 0\n",
    "    aliens.append(new_alien)\n",
    "# Prove the list contains a million aliens.\n",
    "num_aliens = len(aliens)\n",
    "print(\"Number of aliens created:\")\n",
    "print(num_aliens)"
   ]
  },
  {
   "attachments": {},
   "cell_type": "markdown",
   "metadata": {},
   "source": [
    "## If Statements and While Loops\n",
    "### Conditional Tests"
   ]
  },
  {
   "cell_type": "code",
   "execution_count": 79,
   "metadata": {},
   "outputs": [
    {
     "name": "stdout",
     "output_type": "stream",
     "text": [
      "True\n",
      "False\n"
     ]
    }
   ],
   "source": [
    "car = 'bmw'\n",
    "print(car == 'bmw')\n",
    "car = 'audi'\n",
    "print(car == 'bmw')"
   ]
  },
  {
   "cell_type": "code",
   "execution_count": 80,
   "metadata": {},
   "outputs": [
    {
     "name": "stdout",
     "output_type": "stream",
     "text": [
      "True\n"
     ]
    }
   ],
   "source": [
    "car = 'Audi'\n",
    "print(car.lower() == 'audi')"
   ]
  },
  {
   "cell_type": "code",
   "execution_count": 81,
   "metadata": {},
   "outputs": [
    {
     "name": "stdout",
     "output_type": "stream",
     "text": [
      "True\n"
     ]
    }
   ],
   "source": [
    "topping = 'mushrooms'\n",
    "print(topping != 'anchovies')"
   ]
  },
  {
   "cell_type": "code",
   "execution_count": 85,
   "metadata": {},
   "outputs": [
    {
     "name": "stdout",
     "output_type": "stream",
     "text": [
      "True\n",
      "True\n",
      "False\n",
      "False\n",
      "False\n"
     ]
    }
   ],
   "source": [
    "print(0 == False)\n",
    "print(1 == True)\n",
    "print(2 == True)\n",
    "print([] == False)\n",
    "print(None == False)"
   ]
  },
  {
   "attachments": {},
   "cell_type": "markdown",
   "metadata": {},
   "source": [
    "### Numerical comparisons"
   ]
  },
  {
   "cell_type": "code",
   "execution_count": 86,
   "metadata": {},
   "outputs": [
    {
     "name": "stdout",
     "output_type": "stream",
     "text": [
      "True\n",
      "False\n"
     ]
    }
   ],
   "source": [
    "age = 18\n",
    "print(age == 18)\n",
    "print(age != 18)"
   ]
  },
  {
   "cell_type": "code",
   "execution_count": 87,
   "metadata": {},
   "outputs": [
    {
     "name": "stdout",
     "output_type": "stream",
     "text": [
      "True\n",
      "True\n",
      "False\n",
      "False\n"
     ]
    }
   ],
   "source": [
    "age = 19\n",
    "print(age < 21)\n",
    "print(age <= 21)\n",
    "print(age > 21)\n",
    "print(age >= 21)"
   ]
  },
  {
   "attachments": {},
   "cell_type": "markdown",
   "metadata": {},
   "source": [
    "### Checking multiple conditions"
   ]
  },
  {
   "cell_type": "code",
   "execution_count": 88,
   "metadata": {},
   "outputs": [
    {
     "name": "stdout",
     "output_type": "stream",
     "text": [
      "False\n",
      "True\n"
     ]
    }
   ],
   "source": [
    "age_0 = 22\n",
    "age_1 = 18\n",
    "print(age_0 >= 21 and age_1 >= 21)\n",
    "age_1 = 23\n",
    "print(age_0 >= 21 and age_1 >= 21)"
   ]
  },
  {
   "cell_type": "code",
   "execution_count": 89,
   "metadata": {},
   "outputs": [
    {
     "name": "stdout",
     "output_type": "stream",
     "text": [
      "True\n",
      "False\n"
     ]
    }
   ],
   "source": [
    "age_0 = 22\n",
    "age_1 = 18\n",
    "print(age_0 >= 21 or age_1 >= 21)\n",
    "age_0 = 18\n",
    "print(age_0 >= 21 or age_1 >= 21)"
   ]
  },
  {
   "attachments": {},
   "cell_type": "markdown",
   "metadata": {},
   "source": [
    "### Boolean values"
   ]
  },
  {
   "cell_type": "code",
   "execution_count": 90,
   "metadata": {},
   "outputs": [
    {
     "name": "stdout",
     "output_type": "stream",
     "text": [
      "True\n",
      "False\n"
     ]
    }
   ],
   "source": [
    "game_active = True\n",
    "can_edit = False\n",
    "print(game_active)\n",
    "print(can_edit)"
   ]
  },
  {
   "attachments": {},
   "cell_type": "markdown",
   "metadata": {},
   "source": [
    "### If statements"
   ]
  },
  {
   "cell_type": "code",
   "execution_count": 91,
   "metadata": {},
   "outputs": [
    {
     "name": "stdout",
     "output_type": "stream",
     "text": [
      "You're old enough to vote!\n"
     ]
    }
   ],
   "source": [
    "age = 19\n",
    "if age >= 18:\n",
    "    print(\"You're old enough to vote!\")"
   ]
  },
  {
   "cell_type": "code",
   "execution_count": 92,
   "metadata": {},
   "outputs": [
    {
     "name": "stdout",
     "output_type": "stream",
     "text": [
      "You can't vote yet.\n"
     ]
    }
   ],
   "source": [
    "age = 17\n",
    "if age >= 18:\n",
    "    print(\"You're old enough to vote!\")\n",
    "else:\n",
    "    print(\"You can't vote yet.\")"
   ]
  },
  {
   "cell_type": "code",
   "execution_count": 93,
   "metadata": {},
   "outputs": [
    {
     "name": "stdout",
     "output_type": "stream",
     "text": [
      "Your cost is $5.\n"
     ]
    }
   ],
   "source": [
    "age = 12\n",
    "if age < 4:\n",
    "    price = 0\n",
    "elif age < 18:\n",
    "    price = 5\n",
    "else:\n",
    "    price = 10\n",
    "print(f\"Your cost is ${price}.\")"
   ]
  },
  {
   "attachments": {},
   "cell_type": "markdown",
   "metadata": {},
   "source": [
    "### Conditional tests with lists"
   ]
  },
  {
   "cell_type": "code",
   "execution_count": 94,
   "metadata": {},
   "outputs": [
    {
     "name": "stdout",
     "output_type": "stream",
     "text": [
      "True\n",
      "False\n"
     ]
    }
   ],
   "source": [
    "players = ['al', 'bea', 'cyn', 'dale']\n",
    "print('al' in players)\n",
    "print('eric' in players)"
   ]
  },
  {
   "cell_type": "code",
   "execution_count": 95,
   "metadata": {},
   "outputs": [
    {
     "name": "stdout",
     "output_type": "stream",
     "text": [
      "You can play!\n"
     ]
    }
   ],
   "source": [
    "banned_users = ['ann', 'chad', 'dee']\n",
    "user = 'erin'\n",
    "if user not in banned_users:\n",
    "    print(\"You can play!\")"
   ]
  },
  {
   "cell_type": "code",
   "execution_count": 96,
   "metadata": {},
   "outputs": [
    {
     "name": "stdout",
     "output_type": "stream",
     "text": [
      "We have no players yet!\n"
     ]
    }
   ],
   "source": [
    "players = []\n",
    "if players:\n",
    "    for player in players:\n",
    "        print(f\"Player: {player.title()}\")\n",
    "else:\n",
    "    print(\"We have no players yet!\") "
   ]
  },
  {
   "attachments": {},
   "cell_type": "markdown",
   "metadata": {},
   "source": [
    "### Accepting input"
   ]
  },
  {
   "cell_type": "code",
   "execution_count": 97,
   "metadata": {},
   "outputs": [
    {
     "name": "stdout",
     "output_type": "stream",
     "text": [
      "Hello, mengxiang.\n"
     ]
    }
   ],
   "source": [
    "name = input(\"What's your name? \")\n",
    "print(f\"Hello, {name}.\")"
   ]
  },
  {
   "cell_type": "code",
   "execution_count": 98,
   "metadata": {},
   "outputs": [
    {
     "name": "stdout",
     "output_type": "stream",
     "text": [
      "\n",
      "You can't vote yet.\n"
     ]
    }
   ],
   "source": [
    "age = input(\"How old are you? \")\n",
    "age = int(age)\n",
    "if age >= 18:\n",
    "    print(\"\\nYou can vote!\")\n",
    "else:\n",
    "    print(\"\\nYou can't vote yet.\")\n"
   ]
  },
  {
   "cell_type": "code",
   "execution_count": 99,
   "metadata": {},
   "outputs": [
    {
     "name": "stdout",
     "output_type": "stream",
     "text": [
      "3.14\n"
     ]
    }
   ],
   "source": [
    "tip = input(\"How much do you want to tip? \")\n",
    "tip = float(tip)\n",
    "print(tip)"
   ]
  },
  {
   "attachments": {},
   "cell_type": "markdown",
   "metadata": {},
   "source": [
    "### While loops"
   ]
  },
  {
   "cell_type": "code",
   "execution_count": 100,
   "metadata": {},
   "outputs": [
    {
     "name": "stdout",
     "output_type": "stream",
     "text": [
      "1\n",
      "2\n",
      "3\n",
      "4\n",
      "5\n"
     ]
    }
   ],
   "source": [
    "current_number = 1\n",
    "while current_number <= 5:\n",
    "    print(current_number)\n",
    "    current_number += 1"
   ]
  },
  {
   "cell_type": "code",
   "execution_count": 101,
   "metadata": {},
   "outputs": [
    {
     "name": "stdout",
     "output_type": "stream",
     "text": [
      "foo\n",
      "bar\n"
     ]
    }
   ],
   "source": [
    "prompt = \"\\nTell me something, and I'll \"\n",
    "prompt += \"repeat it back to you.\"\n",
    "prompt += \"\\nEnter 'quit' to end the program. \"\n",
    "message = \"\"\n",
    "while message != 'quit':\n",
    "    message = input(prompt)\n",
    "    if message != 'quit':\n",
    "        print(message)"
   ]
  },
  {
   "cell_type": "code",
   "execution_count": 102,
   "metadata": {},
   "outputs": [
    {
     "name": "stdout",
     "output_type": "stream",
     "text": [
      "foo\n",
      "bar\n"
     ]
    }
   ],
   "source": [
    "prompt = \"\\nTell me something, and I'll \"\n",
    "prompt += \"repeat it back to you.\"\n",
    "prompt += \"\\nEnter 'quit' to end the program. \"\n",
    "active = True\n",
    "while active:\n",
    "    message = input(prompt)\n",
    "    if message == 'quit':\n",
    "        active = False\n",
    "    else:\n",
    "        print(message)"
   ]
  },
  {
   "cell_type": "code",
   "execution_count": 103,
   "metadata": {},
   "outputs": [
    {
     "name": "stdout",
     "output_type": "stream",
     "text": [
      "I've been to houston!\n"
     ]
    }
   ],
   "source": [
    "prompt = \"\\nWhat cities have you visited?\"\n",
    "prompt += \"\\nEnter 'quit' when you're done. \"\n",
    "while True:\n",
    "    city = input(prompt)\n",
    "    if city == 'quit':\n",
    "        break\n",
    "    else:\n",
    "        print(f\"I've been to {city}!\")\n"
   ]
  },
  {
   "attachments": {},
   "cell_type": "markdown",
   "metadata": {},
   "source": [
    "### Breaking out of loops"
   ]
  },
  {
   "cell_type": "code",
   "execution_count": 107,
   "metadata": {},
   "outputs": [
    {
     "name": "stdout",
     "output_type": "stream",
     "text": [
      "eve is banned!\n",
      "fred is banned!\n",
      "\n",
      "Your team:\n",
      "foo\n",
      "bar\n"
     ]
    }
   ],
   "source": [
    "banned_users = ['eve', 'fred', 'gary', 'helen']\n",
    "prompt = \"\\nAdd a player to your team.\"\n",
    "prompt += \"\\nEnter 'quit' when you're done. \"\n",
    "players = []\n",
    "while True:\n",
    "    player = input(prompt)\n",
    "    if player == 'quit':\n",
    "        break\n",
    "    elif player in banned_users:\n",
    "        print(f\"{player} is banned!\")\n",
    "        continue\n",
    "    players.append(player)\n",
    "print(\"\\nYour team:\")\n",
    "for player in players:\n",
    "    print(player)"
   ]
  },
  {
   "attachments": {},
   "cell_type": "markdown",
   "metadata": {},
   "source": [
    "### Avoiding infinite loops"
   ]
  },
  {
   "cell_type": "code",
   "execution_count": 108,
   "metadata": {},
   "outputs": [
    {
     "name": "stdout",
     "output_type": "stream",
     "text": [
      "Nice to meet you, foo! You're never leaving, HAHAHA!\n",
      "Nice to meet you, bar! You're never leaving, HAHAHA!\n"
     ]
    }
   ],
   "source": [
    "while True:\n",
    "    name = input(\"\\nWho are you? \")\n",
    "    print(f\"Nice to meet you, {name}! You're never leaving, HAHAHA!\")"
   ]
  },
  {
   "attachments": {},
   "cell_type": "markdown",
   "metadata": {},
   "source": [
    "### Removing all instances of a value from a list"
   ]
  },
  {
   "cell_type": "code",
   "execution_count": 1,
   "metadata": {},
   "outputs": [
    {
     "name": "stdout",
     "output_type": "stream",
     "text": [
      "['dog', 'cat', 'dog', 'fish', 'cat', 'rabbit', 'cat']\n",
      "['dog', 'dog', 'fish', 'rabbit']\n"
     ]
    }
   ],
   "source": [
    "pets = ['dog', 'cat', 'dog', 'fish', 'cat', 'rabbit', 'cat']\n",
    "print(pets)\n",
    "while 'cat' in pets:\n",
    "    pets.remove('cat')\n",
    "print(pets)"
   ]
  },
  {
   "attachments": {},
   "cell_type": "markdown",
   "metadata": {},
   "source": [
    "## Functions\n",
    "### Defining a function"
   ]
  },
  {
   "cell_type": "code",
   "execution_count": 9,
   "metadata": {},
   "outputs": [
    {
     "name": "stdout",
     "output_type": "stream",
     "text": [
      "Hello!\n"
     ]
    }
   ],
   "source": [
    "def greet_user():\n",
    "    \"\"\"Display a simple greeting.\"\"\"\n",
    "    print(\"Hello!\")\n",
    "greet_user()"
   ]
  },
  {
   "attachments": {},
   "cell_type": "markdown",
   "metadata": {},
   "source": [
    "### Passing information to a function"
   ]
  },
  {
   "cell_type": "code",
   "execution_count": 10,
   "metadata": {},
   "outputs": [
    {
     "name": "stdout",
     "output_type": "stream",
     "text": [
      "Hello, jesse!\n",
      "Hello, diana!\n",
      "Hello, brandon!\n"
     ]
    }
   ],
   "source": [
    "def greet_user(username):\n",
    "    \"\"\"Display a simple greeting.\"\"\"\n",
    "    print(f\"Hello, {username}!\")\n",
    "greet_user('jesse')\n",
    "greet_user('diana')\n",
    "greet_user('brandon')\n"
   ]
  },
  {
   "cell_type": "code",
   "execution_count": 11,
   "metadata": {},
   "outputs": [
    {
     "ename": "TypeError",
     "evalue": "greet_user() missing 1 required positional argument: 'username'",
     "output_type": "error",
     "traceback": [
      "\u001b[1;31m---------------------------------------------------------------------------\u001b[0m",
      "\u001b[1;31mTypeError\u001b[0m                                 Traceback (most recent call last)",
      "Cell \u001b[1;32mIn[11], line 1\u001b[0m\n\u001b[1;32m----> 1\u001b[0m greet_user()\n",
      "\u001b[1;31mTypeError\u001b[0m: greet_user() missing 1 required positional argument: 'username'"
     ]
    }
   ],
   "source": [
    "greet_user()"
   ]
  },
  {
   "attachments": {},
   "cell_type": "markdown",
   "metadata": {},
   "source": [
    "### Positional and keyword arguments"
   ]
  },
  {
   "cell_type": "code",
   "execution_count": 4,
   "metadata": {},
   "outputs": [
    {
     "name": "stdout",
     "output_type": "stream",
     "text": [
      "\n",
      "I have a hamster.\n",
      "Its name is harry.\n",
      "\n",
      "I have a dog.\n",
      "Its name is willie.\n"
     ]
    }
   ],
   "source": [
    "def describe_pet(animal, name):\n",
    "    \"\"\"Display information about a pet.\"\"\"\n",
    "    print(f\"\\nI have a {animal}.\")\n",
    "    print(f\"Its name is {name}.\")\n",
    "describe_pet('hamster', 'harry')\n",
    "describe_pet('dog', 'willie')"
   ]
  },
  {
   "cell_type": "code",
   "execution_count": 5,
   "metadata": {},
   "outputs": [
    {
     "name": "stdout",
     "output_type": "stream",
     "text": [
      "\n",
      "I have a hamster.\n",
      "Its name is harry.\n",
      "\n",
      "I have a dog.\n",
      "Its name is willie.\n"
     ]
    }
   ],
   "source": [
    "describe_pet(animal='hamster', name='harry')\n",
    "describe_pet(name='willie', animal='dog')"
   ]
  },
  {
   "attachments": {},
   "cell_type": "markdown",
   "metadata": {},
   "source": [
    "### Default values"
   ]
  },
  {
   "cell_type": "code",
   "execution_count": 12,
   "metadata": {},
   "outputs": [
    {
     "name": "stdout",
     "output_type": "stream",
     "text": [
      "\n",
      "I have a hamster.\n",
      "Its name is harry.\n",
      "\n",
      "I have a dog.\n",
      "Its name is willie.\n"
     ]
    }
   ],
   "source": [
    "def describe_pet(name, animal='dog'):\n",
    "    \"\"\"Display information about a pet.\"\"\"\n",
    "    print(f\"\\nI have a {animal}.\")\n",
    "    print(f\"Its name is {name}.\")\n",
    "describe_pet('harry', 'hamster')\n",
    "describe_pet('willie')"
   ]
  },
  {
   "cell_type": "code",
   "execution_count": 13,
   "metadata": {},
   "outputs": [
    {
     "name": "stdout",
     "output_type": "stream",
     "text": [
      "\n",
      "I have a hamster.\n",
      "Its name is harry.\n",
      "\n",
      "I have a snake.\n"
     ]
    }
   ],
   "source": [
    "def describe_pet(animal, name=None):\n",
    "    \"\"\"Display information about a pet.\"\"\"\n",
    "    print(f\"\\nI have a {animal}.\")\n",
    "    if name:\n",
    "        print(f\"Its name is {name}.\")\n",
    "describe_pet('hamster', 'harry')\n",
    "describe_pet('snake')"
   ]
  },
  {
   "attachments": {},
   "cell_type": "markdown",
   "metadata": {},
   "source": [
    "### Return values"
   ]
  },
  {
   "cell_type": "code",
   "execution_count": 14,
   "metadata": {},
   "outputs": [
    {
     "name": "stdout",
     "output_type": "stream",
     "text": [
      "Jimi Hendrix\n"
     ]
    }
   ],
   "source": [
    "def get_full_name(first, last):\n",
    "    \"\"\"Return a neatly formatted full name.\"\"\"\n",
    "    full_name = f\"{first} {last}\"\n",
    "    return full_name.title()\n",
    "musician = get_full_name('jimi', 'hendrix')\n",
    "print(musician)"
   ]
  },
  {
   "cell_type": "code",
   "execution_count": 15,
   "metadata": {},
   "outputs": [
    {
     "name": "stdout",
     "output_type": "stream",
     "text": [
      "{'first': 'jimi', 'last': 'hendrix'}\n"
     ]
    }
   ],
   "source": [
    "def build_person(first, last):\n",
    "    \"\"\"Return a dictionary of information\n",
    "    about a person.\n",
    "    \"\"\"\n",
    "    person = {'first': first, 'last': last}\n",
    "    return person\n",
    "musician = build_person('jimi', 'hendrix')\n",
    "print(musician)"
   ]
  },
  {
   "cell_type": "code",
   "execution_count": 16,
   "metadata": {},
   "outputs": [
    {
     "name": "stdout",
     "output_type": "stream",
     "text": [
      "{'first': 'jimi', 'last': 'hendrix', 'age': 27}\n",
      "{'first': 'janis', 'last': 'joplin'}\n"
     ]
    }
   ],
   "source": [
    "def build_person(first, last, age=None):\n",
    "    \"\"\"Return a dictionary of information\n",
    "    about a person.\n",
    "    \"\"\"\n",
    "    person = {'first': first, 'last': last}\n",
    "    if age:\n",
    "        person['age'] = age\n",
    "    return person\n",
    "musician = build_person('jimi', 'hendrix', 27)\n",
    "print(musician)\n",
    "musician = build_person('janis', 'joplin')\n",
    "print(musician)"
   ]
  },
  {
   "attachments": {},
   "cell_type": "markdown",
   "metadata": {},
   "source": [
    "### Passing a list to a function"
   ]
  },
  {
   "cell_type": "code",
   "execution_count": 17,
   "metadata": {},
   "outputs": [
    {
     "name": "stdout",
     "output_type": "stream",
     "text": [
      "Hello, hannah!\n",
      "Hello, ty!\n",
      "Hello, margot!\n"
     ]
    }
   ],
   "source": [
    "def greet_users(names):\n",
    "    \"\"\"Print a simple greeting to everyone.\"\"\"\n",
    "    for name in names:\n",
    "        msg = f\"Hello, {name}!\"\n",
    "        print(msg)\n",
    "usernames = ['hannah', 'ty', 'margot']\n",
    "greet_users(usernames)"
   ]
  },
  {
   "cell_type": "code",
   "execution_count": 18,
   "metadata": {},
   "outputs": [
    {
     "name": "stdout",
     "output_type": "stream",
     "text": [
      "Printing ring\n",
      "Printing pendant\n",
      "Printing phone case\n",
      "\n",
      "Unprinted: []\n",
      "Printed: ['ring', 'pendant', 'phone case']\n"
     ]
    }
   ],
   "source": [
    "def print_models(unprinted, printed):\n",
    "    \"\"\"3d print a set of models.\"\"\"\n",
    "    while unprinted:\n",
    "        current_model = unprinted.pop()\n",
    "        print(f\"Printing {current_model}\")\n",
    "        printed.append(current_model)\n",
    "# Store some unprinted designs,\n",
    "# and print each of them.\n",
    "unprinted = ['phone case', 'pendant', 'ring']\n",
    "printed = []\n",
    "print_models(unprinted, printed)\n",
    "print(f\"\\nUnprinted: {unprinted}\")\n",
    "print(f\"Printed: {printed}\")"
   ]
  },
  {
   "cell_type": "code",
   "execution_count": 19,
   "metadata": {},
   "outputs": [
    {
     "name": "stdout",
     "output_type": "stream",
     "text": [
      "Printing ring\n",
      "Printing pendant\n",
      "Printing phone case\n",
      "\n",
      "Original: ['phone case', 'pendant', 'ring']\n",
      "Printed: []\n"
     ]
    }
   ],
   "source": [
    "original = ['phone case', 'pendant', 'ring']\n",
    "printed = []\n",
    "print_models(original[:], printed[:])\n",
    "print(f\"\\nOriginal: {original}\")\n",
    "print(f\"Printed: {printed}\")"
   ]
  },
  {
   "attachments": {},
   "cell_type": "markdown",
   "metadata": {},
   "source": [
    "### Passing an arbitrary number of arguments"
   ]
  },
  {
   "cell_type": "code",
   "execution_count": 22,
   "metadata": {},
   "outputs": [
    {
     "name": "stdout",
     "output_type": "stream",
     "text": [
      "\n",
      "Making a small pizza.\n",
      "Toppings:\n",
      "- pepperoni\n",
      "\n",
      "Making a large pizza.\n",
      "Toppings:\n",
      "- bacon bits\n",
      "- pineapple\n",
      "\n",
      "Making a medium pizza.\n",
      "Toppings:\n",
      "- mushrooms\n",
      "- peppers\n",
      "- onions\n",
      "- extra cheese\n",
      "\n",
      "Making a foo pizza.\n",
      "Toppings:\n",
      "- bar\n",
      "- baz\n"
     ]
    }
   ],
   "source": [
    "def make_pizza(size, *toppings):\n",
    "    \"\"\"Make a pizza.\"\"\"\n",
    "    print(f\"\\nMaking a {size} pizza.\")\n",
    "    print(\"Toppings:\")\n",
    "    for topping in toppings:\n",
    "        print(f\"- {topping}\")\n",
    "# Make three pizzas with different toppings.\n",
    "make_pizza('small', 'pepperoni')\n",
    "make_pizza('large', 'bacon bits', 'pineapple')\n",
    "make_pizza('medium', 'mushrooms', 'peppers',\n",
    " 'onions', 'extra cheese')\n",
    "toppings = ['foo', 'bar', 'baz']\n",
    "make_pizza(*toppings)"
   ]
  },
  {
   "cell_type": "code",
   "execution_count": 25,
   "metadata": {},
   "outputs": [
    {
     "name": "stdout",
     "output_type": "stream",
     "text": [
      "{'location': 'princeton', 'first': 'albert', 'last': 'einstein'}\n",
      "{'location': 'paris', 'field': 'chemistry', 'first': 'marie', 'last': 'curie'}\n",
      "{'location': 'baz', 'first': 'foo', 'last': 'bar'}\n"
     ]
    }
   ],
   "source": [
    "def build_profile(first, last, **user_info):\n",
    "    \"\"\"Build a dictionary for a user.\"\"\"\n",
    "    user_info['first'] = first\n",
    "    user_info['last'] = last\n",
    "    return user_info\n",
    "# Create two users with different kinds\n",
    "# of information.\n",
    "user_0 = build_profile('albert', 'einstein', location='princeton')\n",
    "user_1 = build_profile('marie', 'curie', location='paris', field='chemistry')\n",
    "print(user_0)\n",
    "print(user_1)\n",
    "user_2 = build_profile(**{'first': 'foo', 'last': 'bar', 'location':'baz' })\n",
    "print(user_2)"
   ]
  },
  {
   "attachments": {},
   "cell_type": "markdown",
   "metadata": {},
   "source": [
    "### Modules"
   ]
  },
  {
   "cell_type": "code",
   "execution_count": 26,
   "metadata": {},
   "outputs": [
    {
     "name": "stdout",
     "output_type": "stream",
     "text": [
      "\n",
      "Making a medium pizza.\n",
      "Toppings:\n",
      "- pepperoni\n",
      "\n",
      "Making a small pizza.\n",
      "Toppings:\n",
      "- bacon\n",
      "- pineapple\n"
     ]
    }
   ],
   "source": [
    "import pizza\n",
    "\n",
    "pizza.make_pizza('medium', 'pepperoni')\n",
    "pizza.make_pizza('small', 'bacon', 'pineapple')\n"
   ]
  },
  {
   "cell_type": "code",
   "execution_count": 27,
   "metadata": {},
   "outputs": [
    {
     "name": "stdout",
     "output_type": "stream",
     "text": [
      "\n",
      "Making a medium pizza.\n",
      "Toppings:\n",
      "- pepperoni\n",
      "\n",
      "Making a small pizza.\n",
      "Toppings:\n",
      "- bacon\n",
      "- pineapple\n"
     ]
    }
   ],
   "source": [
    "from pizza import make_pizza\n",
    "\n",
    "make_pizza('medium', 'pepperoni')\n",
    "make_pizza('small', 'bacon', 'pineapple')"
   ]
  },
  {
   "cell_type": "code",
   "execution_count": 28,
   "metadata": {},
   "outputs": [
    {
     "name": "stdout",
     "output_type": "stream",
     "text": [
      "\n",
      "Making a medium pizza.\n",
      "Toppings:\n",
      "- pepperoni\n",
      "\n",
      "Making a small pizza.\n",
      "Toppings:\n",
      "- bacon\n",
      "- pineapple\n"
     ]
    }
   ],
   "source": [
    "import pizza as p\n",
    "\n",
    "p.make_pizza('medium', 'pepperoni')\n",
    "p.make_pizza('small', 'bacon', 'pineapple')"
   ]
  },
  {
   "cell_type": "code",
   "execution_count": 29,
   "metadata": {},
   "outputs": [
    {
     "name": "stdout",
     "output_type": "stream",
     "text": [
      "\n",
      "Making a medium pizza.\n",
      "Toppings:\n",
      "- pepperoni\n",
      "\n",
      "Making a small pizza.\n",
      "Toppings:\n",
      "- bacon\n",
      "- pineapple\n"
     ]
    }
   ],
   "source": [
    "from pizza import make_pizza as mp\n",
    "\n",
    "mp('medium', 'pepperoni')\n",
    "mp('small', 'bacon', 'pineapple')"
   ]
  },
  {
   "cell_type": "code",
   "execution_count": 30,
   "metadata": {},
   "outputs": [
    {
     "name": "stdout",
     "output_type": "stream",
     "text": [
      "\n",
      "Making a medium pizza.\n",
      "Toppings:\n",
      "- pepperoni\n",
      "\n",
      "Making a small pizza.\n",
      "Toppings:\n",
      "- bacon\n",
      "- pineapple\n"
     ]
    }
   ],
   "source": [
    "from pizza import *\n",
    "\n",
    "make_pizza('medium', 'pepperoni')\n",
    "make_pizza('small', 'bacon', 'pineapple')"
   ]
  },
  {
   "attachments": {},
   "cell_type": "markdown",
   "metadata": {},
   "source": [
    "## Classes\n",
    "### Creating and using a class"
   ]
  },
  {
   "cell_type": "code",
   "execution_count": 2,
   "metadata": {},
   "outputs": [],
   "source": [
    "class Car:\n",
    "    \"\"\"A simple attempt to model a car.\"\"\"\n",
    "\n",
    "    def __init__(self, make, model, year):\n",
    "        \"\"\"Initialize car attributes.\"\"\"\n",
    "        self.make = make\n",
    "        self.model = model\n",
    "        self.year = year\n",
    "        # Fuel capacity and level in gallons.\n",
    "        self.fuel_capacity = 15\n",
    "        self.fuel_level = 0\n",
    "    def fill_tank(self):\n",
    "        \"\"\"Fill gas tank to capacity.\"\"\"\n",
    "        self.fuel_level = self.fuel_capacity\n",
    "        print(\"Fuel tank is full.\")\n",
    "\n",
    "    def drive(self):\n",
    "        \"\"\"Simulate driving.\"\"\"\n",
    "        print(\"The car is moving.\")"
   ]
  },
  {
   "cell_type": "code",
   "execution_count": 3,
   "metadata": {},
   "outputs": [
    {
     "name": "stdout",
     "output_type": "stream",
     "text": [
      "audi\n",
      "a4\n",
      "2016\n"
     ]
    }
   ],
   "source": [
    "my_car = Car('audi', 'a4', 2016)\n",
    "print(my_car.make)\n",
    "print(my_car.model)\n",
    "print(my_car.year)"
   ]
  },
  {
   "cell_type": "code",
   "execution_count": 4,
   "metadata": {},
   "outputs": [
    {
     "name": "stdout",
     "output_type": "stream",
     "text": [
      "Fuel tank is full.\n",
      "The car is moving.\n"
     ]
    }
   ],
   "source": [
    "my_car.fill_tank()\n",
    "my_car.drive()"
   ]
  },
  {
   "cell_type": "code",
   "execution_count": 34,
   "metadata": {},
   "outputs": [
    {
     "name": "stdout",
     "output_type": "stream",
     "text": [
      "<__main__.Car object at 0x000002155D044CD0>\n",
      "<__main__.Car object at 0x000002155D045910>\n",
      "<__main__.Car object at 0x000002155D046B10>\n"
     ]
    }
   ],
   "source": [
    "my_car = Car('audi', 'a4', 2019)\n",
    "my_old_car = Car('subaru', 'outback', 2015)\n",
    "my_truck = Car('toyota', 'tacoma', 2012)\n",
    "print(my_car)\n",
    "print(my_old_car)\n",
    "print(my_truck)"
   ]
  },
  {
   "attachments": {},
   "cell_type": "markdown",
   "metadata": {},
   "source": [
    "### Modifying attributes"
   ]
  },
  {
   "cell_type": "code",
   "execution_count": 5,
   "metadata": {},
   "outputs": [
    {
     "name": "stdout",
     "output_type": "stream",
     "text": [
      "5\n"
     ]
    }
   ],
   "source": [
    "my_new_car = Car('audi', 'a4', 2019)\n",
    "my_new_car.fuel_level = 5\n",
    "print(my_new_car.fuel_level)"
   ]
  },
  {
   "attachments": {},
   "cell_type": "markdown",
   "metadata": {},
   "source": [
    "[add method to loaded class/module in python](https://stackoverflow.com/questions/7749914/add-method-to-loaded-class-module-in-python)"
   ]
  },
  {
   "cell_type": "code",
   "execution_count": 11,
   "metadata": {},
   "outputs": [
    {
     "name": "stdout",
     "output_type": "stream",
     "text": [
      "10\n",
      "The tank can't hold that much!\n",
      "10\n"
     ]
    }
   ],
   "source": [
    "def update_fuel_level(self, new_level):\n",
    "    \"\"\"Update the fuel level.\"\"\"\n",
    "    if new_level <= self.fuel_capacity:\n",
    "        self.fuel_level = new_level\n",
    "    else:\n",
    "        print(\"The tank can't hold that much!\")\n",
    "\n",
    "Car.update_fuel_level = update_fuel_level\n",
    "my_new_car.update_fuel_level(10)\n",
    "print(my_new_car.fuel_level)\n",
    "my_new_car.update_fuel_level(20)\n",
    "print(my_new_car.fuel_level)"
   ]
  },
  {
   "cell_type": "code",
   "execution_count": 12,
   "metadata": {},
   "outputs": [
    {
     "name": "stdout",
     "output_type": "stream",
     "text": [
      "Added fuel.\n",
      "15\n",
      "The tank won't hold that much.\n",
      "15\n"
     ]
    }
   ],
   "source": [
    "def add_fuel(self, amount):\n",
    "    \"\"\"Add fuel to the tank.\"\"\"\n",
    "    if (self.fuel_level + amount <= self.fuel_capacity):\n",
    "        self.fuel_level += amount\n",
    "        print(\"Added fuel.\")\n",
    "    else:\n",
    "        print(\"The tank won't hold that much.\")\n",
    "\n",
    "Car.add_fuel = add_fuel\n",
    "my_new_car.add_fuel(5)\n",
    "print(my_new_car.fuel_level)\n",
    "my_new_car.add_fuel(5)\n",
    "print(my_new_car.fuel_level)"
   ]
  },
  {
   "attachments": {},
   "cell_type": "markdown",
   "metadata": {},
   "source": [
    "### Class inheritance"
   ]
  },
  {
   "cell_type": "code",
   "execution_count": 13,
   "metadata": {},
   "outputs": [
    {
     "name": "stdout",
     "output_type": "stream",
     "text": [
      "The vehicle is fully charged.\n",
      "The car is moving.\n"
     ]
    }
   ],
   "source": [
    "class ElectricCar(Car):\n",
    "    \"\"\"A simple model of an electric car.\"\"\"\n",
    "\n",
    "    def __init__(self, make, model, year):\n",
    "        \"\"\"Initialize an electric car.\"\"\"\n",
    "        super().__init__(make, model, year)\n",
    "        # Attributes specific to electric cars.\n",
    "        # Battery capacity in kWh.\n",
    "        self.battery_size = 75\n",
    "        # Charge level in %.\n",
    "        self.charge_level = 0\n",
    "\n",
    "    def charge(self):\n",
    "        \"\"\"Fully charge the vehicle.\"\"\"\n",
    "        self.charge_level = 100\n",
    "        print(\"The vehicle is fully charged.\")\n",
    "\n",
    "my_ecar = ElectricCar('tesla', 'model s', 2019)\n",
    "my_ecar.charge()\n",
    "my_ecar.drive()"
   ]
  },
  {
   "cell_type": "code",
   "execution_count": 14,
   "metadata": {},
   "outputs": [
    {
     "name": "stdout",
     "output_type": "stream",
     "text": [
      "This car has no fuel tank!\n"
     ]
    }
   ],
   "source": [
    "def fill_tank(self):\n",
    "    \"\"\"Display an error message.\"\"\"\n",
    "    print(\"This car has no fuel tank!\")\n",
    "\n",
    "ElectricCar.fill_tank = fill_tank\n",
    "\n",
    "my_ecar.fill_tank()"
   ]
  },
  {
   "attachments": {},
   "cell_type": "markdown",
   "metadata": {},
   "source": [
    "### Instances as attributes"
   ]
  },
  {
   "cell_type": "code",
   "execution_count": 17,
   "metadata": {},
   "outputs": [
    {
     "name": "stdout",
     "output_type": "stream",
     "text": [
      "The vehicle is fully charged.\n",
      "260\n",
      "The car is moving.\n"
     ]
    }
   ],
   "source": [
    "class Battery:\n",
    "    \"\"\"A battery for an electric car.\"\"\"\n",
    "    def __init__(self, size=75):\n",
    "        \"\"\"Initialize battery attributes.\"\"\"\n",
    "        # Capacity in kWh, charge level in %.\n",
    "        self.size = size\n",
    "        self.charge_level = 0\n",
    "    def get_range(self):\n",
    "        \"\"\"Return the battery's range.\"\"\"\n",
    "        if self.size == 75:\n",
    "            return 260\n",
    "        elif self.size == 100:\n",
    "            return 315\n",
    "\n",
    "def __init__(self, make, model, year):\n",
    "    \"\"\"Initialize an electric car.\"\"\"\n",
    "    Car.__init__(self, make, model, year)\n",
    "    # Attribute specific to electric cars.\n",
    "    self.battery = Battery()\n",
    "\n",
    "def charge(self):\n",
    "    \"\"\"Fully charge the vehicle.\"\"\"\n",
    "    self.battery.charge_level = 100\n",
    "    print(\"The vehicle is fully charged.\")\n",
    "\n",
    "ElectricCar.__init__=__init__\n",
    "ElectricCar.charge = charge\n",
    "\n",
    "my_ecar = ElectricCar('tesla', 'model x', 2019)\n",
    "my_ecar.charge()\n",
    "print(my_ecar.battery.get_range())\n",
    "my_ecar.drive()"
   ]
  },
  {
   "attachments": {},
   "cell_type": "markdown",
   "metadata": {},
   "source": [
    "### Importing classes"
   ]
  },
  {
   "cell_type": "code",
   "execution_count": 2,
   "metadata": {},
   "outputs": [
    {
     "name": "stdout",
     "output_type": "stream",
     "text": [
      "Fuel tank is full.\n",
      "The car is moving.\n",
      "The vehicle is fully charged.\n",
      "The car is moving.\n"
     ]
    }
   ],
   "source": [
    "from car import Car, ElectricCar\n",
    "my_beetle = Car('volkswagen', 'beetle', 2016)\n",
    "my_beetle.fill_tank()\n",
    "my_beetle.drive()\n",
    "my_tesla = ElectricCar('tesla', 'model s', 2016)\n",
    "my_tesla.charge()\n",
    "my_tesla.drive()"
   ]
  },
  {
   "cell_type": "code",
   "execution_count": 1,
   "metadata": {},
   "outputs": [
    {
     "name": "stdout",
     "output_type": "stream",
     "text": [
      "Fuel tank is full.\n",
      "The car is moving.\n",
      "The vehicle is fully charged.\n",
      "The car is moving.\n"
     ]
    }
   ],
   "source": [
    "import car\n",
    "my_beetle = car.Car('volkswagen', 'beetle', 2019)\n",
    "my_beetle.fill_tank()\n",
    "my_beetle.drive()\n",
    "my_tesla = car.ElectricCar('tesla', 'model s', 2019)\n",
    "my_tesla.charge()\n",
    "my_tesla.drive()"
   ]
  },
  {
   "cell_type": "code",
   "execution_count": 3,
   "metadata": {},
   "outputs": [
    {
     "name": "stdout",
     "output_type": "stream",
     "text": [
      "Fuel tank is full.\n",
      "The car is moving.\n"
     ]
    }
   ],
   "source": [
    "from car import *\n",
    "my_beetle = Car('volkswagen', 'beetle', 2016)\n",
    "my_beetle.fill_tank()\n",
    "my_beetle.drive()"
   ]
  },
  {
   "attachments": {},
   "cell_type": "markdown",
   "metadata": {},
   "source": [
    "### Storing objects in a list"
   ]
  },
  {
   "cell_type": "code",
   "execution_count": 4,
   "metadata": {},
   "outputs": [
    {
     "name": "stdout",
     "output_type": "stream",
     "text": [
      "Fuel tank is full.\n",
      "Fuel tank is full.\n",
      "Fuel tank is full.\n",
      "Fuel tank is full.\n",
      "Fuel tank is full.\n",
      "Fuel tank is full.\n",
      "Fuel tank is full.\n",
      "Fuel tank is full.\n",
      "Fuel tank is full.\n",
      "Fuel tank is full.\n",
      "Fuel tank is full.\n",
      "Fuel tank is full.\n",
      "Fuel tank is full.\n",
      "Fuel tank is full.\n",
      "Fuel tank is full.\n",
      "Fuel tank is full.\n",
      "Fuel tank is full.\n",
      "Fuel tank is full.\n",
      "Fuel tank is full.\n",
      "Fuel tank is full.\n",
      "Fuel tank is full.\n",
      "Fuel tank is full.\n",
      "Fuel tank is full.\n",
      "Fuel tank is full.\n",
      "Fuel tank is full.\n",
      "Fuel tank is full.\n",
      "Fuel tank is full.\n",
      "Fuel tank is full.\n",
      "Fuel tank is full.\n",
      "Fuel tank is full.\n",
      "Fuel tank is full.\n",
      "Fuel tank is full.\n",
      "Fuel tank is full.\n",
      "Fuel tank is full.\n",
      "Fuel tank is full.\n",
      "Fuel tank is full.\n",
      "Fuel tank is full.\n",
      "Fuel tank is full.\n",
      "Fuel tank is full.\n",
      "Fuel tank is full.\n",
      "Fuel tank is full.\n",
      "Fuel tank is full.\n",
      "Fuel tank is full.\n",
      "Fuel tank is full.\n",
      "Fuel tank is full.\n",
      "Fuel tank is full.\n",
      "Fuel tank is full.\n",
      "Fuel tank is full.\n",
      "Fuel tank is full.\n",
      "Fuel tank is full.\n",
      "Fuel tank is full.\n",
      "Fuel tank is full.\n",
      "Fuel tank is full.\n",
      "Fuel tank is full.\n",
      "Fuel tank is full.\n",
      "Fuel tank is full.\n",
      "Fuel tank is full.\n",
      "Fuel tank is full.\n",
      "Fuel tank is full.\n",
      "Fuel tank is full.\n",
      "Fuel tank is full.\n",
      "Fuel tank is full.\n",
      "Fuel tank is full.\n",
      "Fuel tank is full.\n",
      "Fuel tank is full.\n",
      "Fuel tank is full.\n",
      "Fuel tank is full.\n",
      "Fuel tank is full.\n",
      "Fuel tank is full.\n",
      "Fuel tank is full.\n",
      "Fuel tank is full.\n",
      "Fuel tank is full.\n",
      "Fuel tank is full.\n",
      "Fuel tank is full.\n",
      "Fuel tank is full.\n",
      "Fuel tank is full.\n",
      "Fuel tank is full.\n",
      "Fuel tank is full.\n",
      "Fuel tank is full.\n",
      "Fuel tank is full.\n",
      "Fuel tank is full.\n",
      "Fuel tank is full.\n",
      "Fuel tank is full.\n",
      "Fuel tank is full.\n",
      "Fuel tank is full.\n",
      "Fuel tank is full.\n",
      "Fuel tank is full.\n",
      "Fuel tank is full.\n",
      "Fuel tank is full.\n",
      "Fuel tank is full.\n",
      "Fuel tank is full.\n",
      "Fuel tank is full.\n",
      "Fuel tank is full.\n",
      "Fuel tank is full.\n",
      "Fuel tank is full.\n",
      "Fuel tank is full.\n",
      "Fuel tank is full.\n",
      "Fuel tank is full.\n",
      "Fuel tank is full.\n",
      "Fuel tank is full.\n",
      "Fuel tank is full.\n",
      "Fuel tank is full.\n",
      "Fuel tank is full.\n",
      "Fuel tank is full.\n",
      "Fuel tank is full.\n",
      "Fuel tank is full.\n",
      "Fuel tank is full.\n",
      "Fuel tank is full.\n",
      "Fuel tank is full.\n",
      "Fuel tank is full.\n",
      "Fuel tank is full.\n",
      "Fuel tank is full.\n",
      "Fuel tank is full.\n",
      "Fuel tank is full.\n",
      "Fuel tank is full.\n",
      "Fuel tank is full.\n",
      "Fuel tank is full.\n",
      "Fuel tank is full.\n",
      "Fuel tank is full.\n",
      "Fuel tank is full.\n",
      "Fuel tank is full.\n",
      "Fuel tank is full.\n",
      "Fuel tank is full.\n",
      "Fuel tank is full.\n",
      "Fuel tank is full.\n",
      "Fuel tank is full.\n",
      "Fuel tank is full.\n",
      "Fuel tank is full.\n",
      "Fuel tank is full.\n",
      "Fuel tank is full.\n",
      "Fuel tank is full.\n",
      "Fuel tank is full.\n",
      "Fuel tank is full.\n",
      "Fuel tank is full.\n",
      "Fuel tank is full.\n",
      "Fuel tank is full.\n",
      "Fuel tank is full.\n",
      "Fuel tank is full.\n",
      "Fuel tank is full.\n",
      "Fuel tank is full.\n",
      "Fuel tank is full.\n",
      "Fuel tank is full.\n",
      "Fuel tank is full.\n",
      "Fuel tank is full.\n",
      "Fuel tank is full.\n",
      "Fuel tank is full.\n",
      "Fuel tank is full.\n",
      "Fuel tank is full.\n",
      "Fuel tank is full.\n",
      "Fuel tank is full.\n",
      "Fuel tank is full.\n",
      "Fuel tank is full.\n",
      "Fuel tank is full.\n",
      "Fuel tank is full.\n",
      "Fuel tank is full.\n",
      "Fuel tank is full.\n",
      "Fuel tank is full.\n",
      "Fuel tank is full.\n",
      "Fuel tank is full.\n",
      "Fuel tank is full.\n",
      "Fuel tank is full.\n",
      "Fuel tank is full.\n",
      "Fuel tank is full.\n",
      "Fuel tank is full.\n",
      "Fuel tank is full.\n",
      "Fuel tank is full.\n",
      "Fuel tank is full.\n",
      "Fuel tank is full.\n",
      "Fuel tank is full.\n",
      "Fuel tank is full.\n",
      "Fuel tank is full.\n",
      "Fuel tank is full.\n",
      "Fuel tank is full.\n",
      "Fuel tank is full.\n",
      "Fuel tank is full.\n",
      "Fuel tank is full.\n",
      "Fuel tank is full.\n",
      "Fuel tank is full.\n",
      "Fuel tank is full.\n",
      "Fuel tank is full.\n",
      "Fuel tank is full.\n",
      "Fuel tank is full.\n",
      "Fuel tank is full.\n",
      "Fuel tank is full.\n",
      "Fuel tank is full.\n",
      "Fuel tank is full.\n",
      "Fuel tank is full.\n",
      "Fuel tank is full.\n",
      "Fuel tank is full.\n",
      "Fuel tank is full.\n",
      "Fuel tank is full.\n",
      "Fuel tank is full.\n",
      "Fuel tank is full.\n",
      "Fuel tank is full.\n",
      "Fuel tank is full.\n",
      "Fuel tank is full.\n",
      "Fuel tank is full.\n",
      "Fuel tank is full.\n",
      "Fuel tank is full.\n",
      "Fuel tank is full.\n",
      "Fuel tank is full.\n",
      "Fuel tank is full.\n",
      "Fuel tank is full.\n",
      "Fuel tank is full.\n",
      "Fuel tank is full.\n",
      "Fuel tank is full.\n",
      "Fuel tank is full.\n",
      "Fuel tank is full.\n",
      "Fuel tank is full.\n",
      "Fuel tank is full.\n",
      "Fuel tank is full.\n",
      "Fuel tank is full.\n",
      "Fuel tank is full.\n",
      "Fuel tank is full.\n",
      "Fuel tank is full.\n",
      "Fuel tank is full.\n",
      "Fuel tank is full.\n",
      "Fuel tank is full.\n",
      "Fuel tank is full.\n",
      "Fuel tank is full.\n",
      "Fuel tank is full.\n",
      "Fuel tank is full.\n",
      "Fuel tank is full.\n",
      "Fuel tank is full.\n",
      "Fuel tank is full.\n",
      "Fuel tank is full.\n",
      "Fuel tank is full.\n",
      "Fuel tank is full.\n",
      "Fuel tank is full.\n",
      "Fuel tank is full.\n",
      "Fuel tank is full.\n",
      "Fuel tank is full.\n",
      "Fuel tank is full.\n",
      "Fuel tank is full.\n",
      "Fuel tank is full.\n",
      "Fuel tank is full.\n",
      "Fuel tank is full.\n",
      "Fuel tank is full.\n",
      "Fuel tank is full.\n",
      "Fuel tank is full.\n",
      "Fuel tank is full.\n",
      "Fuel tank is full.\n",
      "Fuel tank is full.\n",
      "Fuel tank is full.\n",
      "Fuel tank is full.\n",
      "Fuel tank is full.\n",
      "Fuel tank is full.\n",
      "Fuel tank is full.\n",
      "Fuel tank is full.\n",
      "Fuel tank is full.\n",
      "Fuel tank is full.\n",
      "Fuel tank is full.\n",
      "Fuel tank is full.\n",
      "Fuel tank is full.\n",
      "Fuel tank is full.\n",
      "Fuel tank is full.\n",
      "Fuel tank is full.\n",
      "Fuel tank is full.\n",
      "Fuel tank is full.\n",
      "Fuel tank is full.\n",
      "Fuel tank is full.\n",
      "Fuel tank is full.\n",
      "Fuel tank is full.\n",
      "Fuel tank is full.\n",
      "Fuel tank is full.\n",
      "Fuel tank is full.\n",
      "Fuel tank is full.\n",
      "Fuel tank is full.\n",
      "Fuel tank is full.\n",
      "Fuel tank is full.\n",
      "Fuel tank is full.\n",
      "Fuel tank is full.\n",
      "Fuel tank is full.\n",
      "Fuel tank is full.\n",
      "Fuel tank is full.\n",
      "Fuel tank is full.\n",
      "Fuel tank is full.\n",
      "Fuel tank is full.\n",
      "Fuel tank is full.\n",
      "Fuel tank is full.\n",
      "Fuel tank is full.\n",
      "Fuel tank is full.\n",
      "Fuel tank is full.\n",
      "Fuel tank is full.\n",
      "Fuel tank is full.\n",
      "Fuel tank is full.\n",
      "Fuel tank is full.\n",
      "Fuel tank is full.\n",
      "Fuel tank is full.\n",
      "Fuel tank is full.\n",
      "Fuel tank is full.\n",
      "Fuel tank is full.\n",
      "Fuel tank is full.\n",
      "Fuel tank is full.\n",
      "Fuel tank is full.\n",
      "Fuel tank is full.\n",
      "Fuel tank is full.\n",
      "Fuel tank is full.\n",
      "Fuel tank is full.\n",
      "Fuel tank is full.\n",
      "Fuel tank is full.\n",
      "Fuel tank is full.\n",
      "Fuel tank is full.\n",
      "Fuel tank is full.\n",
      "Fuel tank is full.\n",
      "Fuel tank is full.\n",
      "Fuel tank is full.\n",
      "Fuel tank is full.\n",
      "Fuel tank is full.\n",
      "Fuel tank is full.\n",
      "Fuel tank is full.\n",
      "Fuel tank is full.\n",
      "Fuel tank is full.\n",
      "Fuel tank is full.\n",
      "Fuel tank is full.\n",
      "Fuel tank is full.\n",
      "Fuel tank is full.\n",
      "Fuel tank is full.\n",
      "Fuel tank is full.\n",
      "Fuel tank is full.\n",
      "Fuel tank is full.\n",
      "Fuel tank is full.\n",
      "Fuel tank is full.\n",
      "Fuel tank is full.\n",
      "Fuel tank is full.\n",
      "Fuel tank is full.\n",
      "Fuel tank is full.\n",
      "Fuel tank is full.\n",
      "Fuel tank is full.\n",
      "Fuel tank is full.\n",
      "Fuel tank is full.\n",
      "Fuel tank is full.\n",
      "Fuel tank is full.\n",
      "Fuel tank is full.\n",
      "Fuel tank is full.\n",
      "Fuel tank is full.\n",
      "Fuel tank is full.\n",
      "Fuel tank is full.\n",
      "Fuel tank is full.\n",
      "Fuel tank is full.\n",
      "Fuel tank is full.\n",
      "Fuel tank is full.\n",
      "Fuel tank is full.\n",
      "Fuel tank is full.\n",
      "Fuel tank is full.\n",
      "Fuel tank is full.\n",
      "Fuel tank is full.\n",
      "Fuel tank is full.\n",
      "Fuel tank is full.\n",
      "Fuel tank is full.\n",
      "Fuel tank is full.\n",
      "Fuel tank is full.\n",
      "Fuel tank is full.\n",
      "Fuel tank is full.\n",
      "Fuel tank is full.\n",
      "Fuel tank is full.\n",
      "Fuel tank is full.\n",
      "Fuel tank is full.\n",
      "Fuel tank is full.\n",
      "Fuel tank is full.\n",
      "Fuel tank is full.\n",
      "Fuel tank is full.\n",
      "Fuel tank is full.\n",
      "Fuel tank is full.\n",
      "Fuel tank is full.\n",
      "Fuel tank is full.\n",
      "Fuel tank is full.\n",
      "Fuel tank is full.\n",
      "Fuel tank is full.\n",
      "Fuel tank is full.\n",
      "Fuel tank is full.\n",
      "Fuel tank is full.\n",
      "Fuel tank is full.\n",
      "Fuel tank is full.\n",
      "Fuel tank is full.\n",
      "Fuel tank is full.\n",
      "Fuel tank is full.\n",
      "Fuel tank is full.\n",
      "Fuel tank is full.\n",
      "Fuel tank is full.\n",
      "Fuel tank is full.\n",
      "Fuel tank is full.\n",
      "Fuel tank is full.\n",
      "Fuel tank is full.\n",
      "Fuel tank is full.\n",
      "Fuel tank is full.\n",
      "Fuel tank is full.\n",
      "Fuel tank is full.\n",
      "Fuel tank is full.\n",
      "Fuel tank is full.\n",
      "Fuel tank is full.\n",
      "Fuel tank is full.\n",
      "Fuel tank is full.\n",
      "Fuel tank is full.\n",
      "Fuel tank is full.\n",
      "Fuel tank is full.\n",
      "Fuel tank is full.\n",
      "Fuel tank is full.\n",
      "Fuel tank is full.\n",
      "Fuel tank is full.\n",
      "Fuel tank is full.\n",
      "Fuel tank is full.\n",
      "Fuel tank is full.\n",
      "Fuel tank is full.\n",
      "Fuel tank is full.\n",
      "Fuel tank is full.\n",
      "Fuel tank is full.\n",
      "Fuel tank is full.\n",
      "Fuel tank is full.\n",
      "Fuel tank is full.\n",
      "Fuel tank is full.\n",
      "Fuel tank is full.\n",
      "Fuel tank is full.\n",
      "Fuel tank is full.\n",
      "Fuel tank is full.\n",
      "Fuel tank is full.\n",
      "Fuel tank is full.\n",
      "Fuel tank is full.\n",
      "Fuel tank is full.\n",
      "Fuel tank is full.\n",
      "Fuel tank is full.\n",
      "Fuel tank is full.\n",
      "Fuel tank is full.\n",
      "Fuel tank is full.\n",
      "Fuel tank is full.\n",
      "Fuel tank is full.\n",
      "Fuel tank is full.\n",
      "Fuel tank is full.\n",
      "Fuel tank is full.\n",
      "Fuel tank is full.\n",
      "Fuel tank is full.\n",
      "Fuel tank is full.\n",
      "Fuel tank is full.\n",
      "Fuel tank is full.\n",
      "Fuel tank is full.\n",
      "Fuel tank is full.\n",
      "Fuel tank is full.\n",
      "Fuel tank is full.\n",
      "Fuel tank is full.\n",
      "Fuel tank is full.\n",
      "Fuel tank is full.\n",
      "Fuel tank is full.\n",
      "Fuel tank is full.\n",
      "Fuel tank is full.\n",
      "Fuel tank is full.\n",
      "Fuel tank is full.\n",
      "Fuel tank is full.\n",
      "Fuel tank is full.\n",
      "Fuel tank is full.\n",
      "Fuel tank is full.\n",
      "Fuel tank is full.\n",
      "Fuel tank is full.\n",
      "Fuel tank is full.\n",
      "Fuel tank is full.\n",
      "Fuel tank is full.\n",
      "Fuel tank is full.\n",
      "Fuel tank is full.\n",
      "Fuel tank is full.\n",
      "Fuel tank is full.\n",
      "Fuel tank is full.\n",
      "Fuel tank is full.\n",
      "Fuel tank is full.\n",
      "Fuel tank is full.\n",
      "Fuel tank is full.\n",
      "Fuel tank is full.\n",
      "Fuel tank is full.\n",
      "Fuel tank is full.\n",
      "Fuel tank is full.\n",
      "Fuel tank is full.\n",
      "Fuel tank is full.\n",
      "Fuel tank is full.\n",
      "Fuel tank is full.\n",
      "Fuel tank is full.\n",
      "Fuel tank is full.\n",
      "Fuel tank is full.\n",
      "Fuel tank is full.\n",
      "Fuel tank is full.\n",
      "Fuel tank is full.\n",
      "Fuel tank is full.\n",
      "Fuel tank is full.\n",
      "Fuel tank is full.\n",
      "Fuel tank is full.\n",
      "Fuel tank is full.\n",
      "Fuel tank is full.\n",
      "Fuel tank is full.\n",
      "Fuel tank is full.\n",
      "Fuel tank is full.\n",
      "Fuel tank is full.\n",
      "Fuel tank is full.\n",
      "Fuel tank is full.\n",
      "Fuel tank is full.\n",
      "Fuel tank is full.\n",
      "Fuel tank is full.\n",
      "Fuel tank is full.\n",
      "Fuel tank is full.\n",
      "Fuel tank is full.\n",
      "Fuel tank is full.\n",
      "Fuel tank is full.\n",
      "Fuel tank is full.\n",
      "Fuel tank is full.\n",
      "The vehicle is fully charged.\n",
      "The vehicle is fully charged.\n",
      "The vehicle is fully charged.\n",
      "The vehicle is fully charged.\n",
      "The vehicle is fully charged.\n",
      "The vehicle is fully charged.\n",
      "The vehicle is fully charged.\n",
      "The vehicle is fully charged.\n",
      "The vehicle is fully charged.\n",
      "The vehicle is fully charged.\n",
      "The vehicle is fully charged.\n",
      "The vehicle is fully charged.\n",
      "The vehicle is fully charged.\n",
      "The vehicle is fully charged.\n",
      "The vehicle is fully charged.\n",
      "The vehicle is fully charged.\n",
      "The vehicle is fully charged.\n",
      "The vehicle is fully charged.\n",
      "The vehicle is fully charged.\n",
      "The vehicle is fully charged.\n",
      "The vehicle is fully charged.\n",
      "The vehicle is fully charged.\n",
      "The vehicle is fully charged.\n",
      "The vehicle is fully charged.\n",
      "The vehicle is fully charged.\n",
      "The vehicle is fully charged.\n",
      "The vehicle is fully charged.\n",
      "The vehicle is fully charged.\n",
      "The vehicle is fully charged.\n",
      "The vehicle is fully charged.\n",
      "The vehicle is fully charged.\n",
      "The vehicle is fully charged.\n",
      "The vehicle is fully charged.\n",
      "The vehicle is fully charged.\n",
      "The vehicle is fully charged.\n",
      "The vehicle is fully charged.\n",
      "The vehicle is fully charged.\n",
      "The vehicle is fully charged.\n",
      "The vehicle is fully charged.\n",
      "The vehicle is fully charged.\n",
      "The vehicle is fully charged.\n",
      "The vehicle is fully charged.\n",
      "The vehicle is fully charged.\n",
      "The vehicle is fully charged.\n",
      "The vehicle is fully charged.\n",
      "The vehicle is fully charged.\n",
      "The vehicle is fully charged.\n",
      "The vehicle is fully charged.\n",
      "The vehicle is fully charged.\n",
      "The vehicle is fully charged.\n",
      "The vehicle is fully charged.\n",
      "The vehicle is fully charged.\n",
      "The vehicle is fully charged.\n",
      "The vehicle is fully charged.\n",
      "The vehicle is fully charged.\n",
      "The vehicle is fully charged.\n",
      "The vehicle is fully charged.\n",
      "The vehicle is fully charged.\n",
      "The vehicle is fully charged.\n",
      "The vehicle is fully charged.\n",
      "The vehicle is fully charged.\n",
      "The vehicle is fully charged.\n",
      "The vehicle is fully charged.\n",
      "The vehicle is fully charged.\n",
      "The vehicle is fully charged.\n",
      "The vehicle is fully charged.\n",
      "The vehicle is fully charged.\n",
      "The vehicle is fully charged.\n",
      "The vehicle is fully charged.\n",
      "The vehicle is fully charged.\n",
      "The vehicle is fully charged.\n",
      "The vehicle is fully charged.\n",
      "The vehicle is fully charged.\n",
      "The vehicle is fully charged.\n",
      "The vehicle is fully charged.\n",
      "The vehicle is fully charged.\n",
      "The vehicle is fully charged.\n",
      "The vehicle is fully charged.\n",
      "The vehicle is fully charged.\n",
      "The vehicle is fully charged.\n",
      "The vehicle is fully charged.\n",
      "The vehicle is fully charged.\n",
      "The vehicle is fully charged.\n",
      "The vehicle is fully charged.\n",
      "The vehicle is fully charged.\n",
      "The vehicle is fully charged.\n",
      "The vehicle is fully charged.\n",
      "The vehicle is fully charged.\n",
      "The vehicle is fully charged.\n",
      "The vehicle is fully charged.\n",
      "The vehicle is fully charged.\n",
      "The vehicle is fully charged.\n",
      "The vehicle is fully charged.\n",
      "The vehicle is fully charged.\n",
      "The vehicle is fully charged.\n",
      "The vehicle is fully charged.\n",
      "The vehicle is fully charged.\n",
      "The vehicle is fully charged.\n",
      "The vehicle is fully charged.\n",
      "The vehicle is fully charged.\n",
      "The vehicle is fully charged.\n",
      "The vehicle is fully charged.\n",
      "The vehicle is fully charged.\n",
      "The vehicle is fully charged.\n",
      "The vehicle is fully charged.\n",
      "The vehicle is fully charged.\n",
      "The vehicle is fully charged.\n",
      "The vehicle is fully charged.\n",
      "The vehicle is fully charged.\n",
      "The vehicle is fully charged.\n",
      "The vehicle is fully charged.\n",
      "The vehicle is fully charged.\n",
      "The vehicle is fully charged.\n",
      "The vehicle is fully charged.\n",
      "The vehicle is fully charged.\n",
      "The vehicle is fully charged.\n",
      "The vehicle is fully charged.\n",
      "The vehicle is fully charged.\n",
      "The vehicle is fully charged.\n",
      "The vehicle is fully charged.\n",
      "The vehicle is fully charged.\n",
      "The vehicle is fully charged.\n",
      "The vehicle is fully charged.\n",
      "The vehicle is fully charged.\n",
      "The vehicle is fully charged.\n",
      "The vehicle is fully charged.\n",
      "The vehicle is fully charged.\n",
      "The vehicle is fully charged.\n",
      "The vehicle is fully charged.\n",
      "The vehicle is fully charged.\n",
      "The vehicle is fully charged.\n",
      "The vehicle is fully charged.\n",
      "The vehicle is fully charged.\n",
      "The vehicle is fully charged.\n",
      "The vehicle is fully charged.\n",
      "The vehicle is fully charged.\n",
      "The vehicle is fully charged.\n",
      "The vehicle is fully charged.\n",
      "The vehicle is fully charged.\n",
      "The vehicle is fully charged.\n",
      "The vehicle is fully charged.\n",
      "The vehicle is fully charged.\n",
      "The vehicle is fully charged.\n",
      "The vehicle is fully charged.\n",
      "The vehicle is fully charged.\n",
      "The vehicle is fully charged.\n",
      "The vehicle is fully charged.\n",
      "The vehicle is fully charged.\n",
      "The vehicle is fully charged.\n",
      "The vehicle is fully charged.\n",
      "The vehicle is fully charged.\n",
      "The vehicle is fully charged.\n",
      "The vehicle is fully charged.\n",
      "The vehicle is fully charged.\n",
      "The vehicle is fully charged.\n",
      "The vehicle is fully charged.\n",
      "The vehicle is fully charged.\n",
      "The vehicle is fully charged.\n",
      "The vehicle is fully charged.\n",
      "The vehicle is fully charged.\n",
      "The vehicle is fully charged.\n",
      "The vehicle is fully charged.\n",
      "The vehicle is fully charged.\n",
      "The vehicle is fully charged.\n",
      "The vehicle is fully charged.\n",
      "The vehicle is fully charged.\n",
      "The vehicle is fully charged.\n",
      "The vehicle is fully charged.\n",
      "The vehicle is fully charged.\n",
      "The vehicle is fully charged.\n",
      "The vehicle is fully charged.\n",
      "The vehicle is fully charged.\n",
      "The vehicle is fully charged.\n",
      "The vehicle is fully charged.\n",
      "The vehicle is fully charged.\n",
      "The vehicle is fully charged.\n",
      "The vehicle is fully charged.\n",
      "The vehicle is fully charged.\n",
      "The vehicle is fully charged.\n",
      "The vehicle is fully charged.\n",
      "The vehicle is fully charged.\n",
      "The vehicle is fully charged.\n",
      "The vehicle is fully charged.\n",
      "The vehicle is fully charged.\n",
      "The vehicle is fully charged.\n",
      "The vehicle is fully charged.\n",
      "The vehicle is fully charged.\n",
      "The vehicle is fully charged.\n",
      "The vehicle is fully charged.\n",
      "The vehicle is fully charged.\n",
      "The vehicle is fully charged.\n",
      "The vehicle is fully charged.\n",
      "The vehicle is fully charged.\n",
      "The vehicle is fully charged.\n",
      "The vehicle is fully charged.\n",
      "The vehicle is fully charged.\n",
      "The vehicle is fully charged.\n",
      "The vehicle is fully charged.\n",
      "The vehicle is fully charged.\n",
      "The vehicle is fully charged.\n",
      "The vehicle is fully charged.\n",
      "The vehicle is fully charged.\n",
      "The vehicle is fully charged.\n",
      "The vehicle is fully charged.\n",
      "The vehicle is fully charged.\n",
      "The vehicle is fully charged.\n",
      "The vehicle is fully charged.\n",
      "The vehicle is fully charged.\n",
      "The vehicle is fully charged.\n",
      "The vehicle is fully charged.\n",
      "The vehicle is fully charged.\n",
      "The vehicle is fully charged.\n",
      "The vehicle is fully charged.\n",
      "The vehicle is fully charged.\n",
      "The vehicle is fully charged.\n",
      "The vehicle is fully charged.\n",
      "The vehicle is fully charged.\n",
      "The vehicle is fully charged.\n",
      "The vehicle is fully charged.\n",
      "The vehicle is fully charged.\n",
      "The vehicle is fully charged.\n",
      "The vehicle is fully charged.\n",
      "The vehicle is fully charged.\n",
      "The vehicle is fully charged.\n",
      "The vehicle is fully charged.\n",
      "The vehicle is fully charged.\n",
      "The vehicle is fully charged.\n",
      "The vehicle is fully charged.\n",
      "The vehicle is fully charged.\n",
      "The vehicle is fully charged.\n",
      "The vehicle is fully charged.\n",
      "The vehicle is fully charged.\n",
      "The vehicle is fully charged.\n",
      "The vehicle is fully charged.\n",
      "The vehicle is fully charged.\n",
      "The vehicle is fully charged.\n",
      "The vehicle is fully charged.\n",
      "The vehicle is fully charged.\n",
      "The vehicle is fully charged.\n",
      "The vehicle is fully charged.\n",
      "The vehicle is fully charged.\n",
      "The vehicle is fully charged.\n",
      "The vehicle is fully charged.\n",
      "The vehicle is fully charged.\n",
      "The vehicle is fully charged.\n",
      "The vehicle is fully charged.\n",
      "The vehicle is fully charged.\n",
      "The vehicle is fully charged.\n",
      "The vehicle is fully charged.\n",
      "The vehicle is fully charged.\n",
      "Gas cars: 500\n",
      "Electric cars: 250\n"
     ]
    }
   ],
   "source": [
    "from car import Car, ElectricCar\n",
    "# Make lists to hold a fleet of cars.\n",
    "gas_fleet = []\n",
    "electric_fleet = []\n",
    "# Make 500 gas cars and 250 electric cars.\n",
    "for _ in range(500):\n",
    "    car = Car('ford', 'escape', 2019)\n",
    "    gas_fleet.append(car)\n",
    "for _ in range(250):\n",
    "    ecar = ElectricCar('nissan', 'leaf', 2019)\n",
    "    electric_fleet.append(ecar)\n",
    "# Fill the gas cars, and charge electric cars.\n",
    "for car in gas_fleet:\n",
    "    car.fill_tank()\n",
    "for ecar in electric_fleet:\n",
    "    ecar.charge()\n",
    "print(f\"Gas cars: {len(gas_fleet)}\")\n",
    "print(f\"Electric cars: {len(electric_fleet)}\")\n"
   ]
  },
  {
   "attachments": {},
   "cell_type": "markdown",
   "metadata": {},
   "source": [
    "## Files and Exceptions\n",
    "### Reading from a file"
   ]
  },
  {
   "cell_type": "code",
   "execution_count": 27,
   "metadata": {},
   "outputs": [
    {
     "name": "stdout",
     "output_type": "stream",
     "text": [
      "i'm the buddha yo\n",
      "foo\n",
      "bar\n",
      "\n"
     ]
    }
   ],
   "source": [
    "filename = 'siddhartha.txt'\n",
    "with open(filename) as f_obj:\n",
    "    contents = f_obj.read()\n",
    "print(contents)"
   ]
  },
  {
   "cell_type": "code",
   "execution_count": 32,
   "metadata": {},
   "outputs": [
    {
     "name": "stdout",
     "output_type": "stream",
     "text": [
      "i'm the buddha yo\n",
      "\n",
      "foo\n",
      "\n",
      "bar\n",
      "\n",
      "i'm the buddha yo\n",
      "foo\n",
      "bar\n"
     ]
    }
   ],
   "source": [
    "with open(filename) as f_obj:\n",
    "    for line in f_obj:\n",
    "        print(line)\n",
    "\n",
    "with open(filename) as f_obj:\n",
    "    for line in f_obj:\n",
    "        print(line.rstrip())"
   ]
  },
  {
   "cell_type": "code",
   "execution_count": 29,
   "metadata": {},
   "outputs": [
    {
     "name": "stdout",
     "output_type": "stream",
     "text": [
      "i'm the buddha yo\n",
      "foo\n",
      "bar\n",
      "[\"i'm the buddha yo\\n\", 'foo\\n', 'bar\\n']\n"
     ]
    }
   ],
   "source": [
    "with open(filename) as f_obj:\n",
    "    lines = f_obj.readlines()\n",
    "\n",
    "for line in lines:\n",
    "    print(line.rstrip())\n",
    "\n",
    "print(lines)"
   ]
  },
  {
   "attachments": {},
   "cell_type": "markdown",
   "metadata": {},
   "source": [
    "### Writing to a file"
   ]
  },
  {
   "cell_type": "code",
   "execution_count": 14,
   "metadata": {},
   "outputs": [],
   "source": [
    "filename = 'programming.txt'\n",
    "with open(filename, 'w') as f:\n",
    "    f.write(\"I love programming!\")"
   ]
  },
  {
   "cell_type": "code",
   "execution_count": 15,
   "metadata": {},
   "outputs": [],
   "source": [
    "with open(filename, 'w') as f:\n",
    "    f.write(\"I love programming!\\n\")\n",
    "    f.write(\"I love creating new games.\\n\")"
   ]
  },
  {
   "cell_type": "code",
   "execution_count": 16,
   "metadata": {},
   "outputs": [],
   "source": [
    "with open(filename, 'a') as f:\n",
    "    f.write(\"I also love working with data.\\n\")\n",
    "    f.write(\"I love making apps as well.\\n\")"
   ]
  },
  {
   "attachments": {},
   "cell_type": "markdown",
   "metadata": {},
   "source": [
    "### File paths"
   ]
  },
  {
   "cell_type": "code",
   "execution_count": 33,
   "metadata": {},
   "outputs": [
    {
     "name": "stdout",
     "output_type": "stream",
     "text": [
      "alice\n",
      "white rabbit\n",
      "cheshire cat\n",
      "queen of hearts\n"
     ]
    }
   ],
   "source": [
    "f_path = \"text_files/alice.txt\"\n",
    "with open(f_path) as f:\n",
    "    lines = f.readlines()\n",
    "for line in lines:\n",
    "    print(line.rstrip())"
   ]
  },
  {
   "attachments": {},
   "cell_type": "markdown",
   "metadata": {},
   "source": [
    "[how to get an absolute file path in python](https://stackoverflow.com/questions/51520/how-to-get-an-absolute-file-path-in-python)"
   ]
  },
  {
   "cell_type": "code",
   "execution_count": 3,
   "metadata": {},
   "outputs": [
    {
     "name": "stdout",
     "output_type": "stream",
     "text": [
      "alice\n",
      "white rabbit\n",
      "cheshire cat\n",
      "queen of hearts\n"
     ]
    }
   ],
   "source": [
    "import os\n",
    "f_path = os.path.abspath('text_files/alice.txt')\n",
    "with open(f_path) as f:\n",
    "    lines = f.readlines()\n",
    "for line in lines:\n",
    "    print(line.rstrip())"
   ]
  },
  {
   "attachments": {},
   "cell_type": "markdown",
   "metadata": {},
   "source": [
    "### The try-except block"
   ]
  },
  {
   "cell_type": "code",
   "execution_count": 4,
   "metadata": {},
   "outputs": [
    {
     "name": "stdout",
     "output_type": "stream",
     "text": [
      "You can't divide by zero!\n"
     ]
    }
   ],
   "source": [
    "try:\n",
    "    print(5/0)\n",
    "except ZeroDivisionError:\n",
    "    print(\"You can't divide by zero!\")"
   ]
  },
  {
   "cell_type": "code",
   "execution_count": 5,
   "metadata": {},
   "outputs": [
    {
     "name": "stdout",
     "output_type": "stream",
     "text": [
      "Can’t find file: nonexistent.txt.\n"
     ]
    }
   ],
   "source": [
    "f_name = 'nonexistent.txt'\n",
    "try:\n",
    "    with open(f_name) as f:\n",
    "        lines = f.readlines()\n",
    "except FileNotFoundError:\n",
    "    msg = f\"Can’t find file: {f_name}.\"\n",
    "    print(msg)"
   ]
  },
  {
   "attachments": {},
   "cell_type": "markdown",
   "metadata": {},
   "source": [
    "### The else block"
   ]
  },
  {
   "cell_type": "code",
   "execution_count": 6,
   "metadata": {},
   "outputs": [
    {
     "name": "stdout",
     "output_type": "stream",
     "text": [
      "Enter two numbers. I'll divide them.\n",
      "0.5\n"
     ]
    }
   ],
   "source": [
    "print(\"Enter two numbers. I'll divide them.\")\n",
    "x = input(\"First number: \")\n",
    "y = input(\"Second number: \")\n",
    "try:\n",
    "    result = int(x) / int(y)\n",
    "except ZeroDivisionError:\n",
    "    print(\"You can't divide by zero!\")\n",
    "else:\n",
    "    print(result)"
   ]
  },
  {
   "cell_type": "code",
   "execution_count": 7,
   "metadata": {},
   "outputs": [
    {
     "name": "stdout",
     "output_type": "stream",
     "text": [
      "Enter two numbers. I'll divide them.\n",
      "Enter 'q' to quit.\n",
      "2.0\n",
      "0.5\n",
      "You can't divide by zero!\n"
     ]
    }
   ],
   "source": [
    "\"\"\"A simple calculator for division only.\"\"\"\n",
    "print(\"Enter two numbers. I'll divide them.\")\n",
    "print(\"Enter 'q' to quit.\")\n",
    "while True:\n",
    "    x = input(\"\\nFirst number: \")\n",
    "    if x == 'q':\n",
    "        break\n",
    "    y = input(\"Second number: \")\n",
    "    if y == 'q':\n",
    "        break\n",
    "    try:\n",
    "        result = int(x) / int(y)\n",
    "    except ZeroDivisionError:\n",
    "        print(\"You can't divide by zero!\")\n",
    "    else:\n",
    "        print(result)"
   ]
  },
  {
   "attachments": {},
   "cell_type": "markdown",
   "metadata": {},
   "source": [
    "### Failing silently"
   ]
  },
  {
   "cell_type": "code",
   "execution_count": 8,
   "metadata": {},
   "outputs": [
    {
     "name": "stdout",
     "output_type": "stream",
     "text": [
      "siddhartha.txt has 3 lines.\n"
     ]
    }
   ],
   "source": [
    "f_names = ['alice.txt', 'siddhartha.txt', 'moby_dick.txt', 'little_women.txt']\n",
    "for f_name in f_names:\n",
    "    # Report the length of each file found.\n",
    "    try:\n",
    "        with open(f_name) as f:\n",
    "            lines = f.readlines()\n",
    "    except FileNotFoundError:\n",
    "        # Just move on to the next file.\n",
    "        pass\n",
    "    else:\n",
    "        num_lines = len(lines)\n",
    "        msg = f\"{f_name} has {num_lines}\"\n",
    "        msg += \" lines.\"\n",
    "        print(msg)"
   ]
  },
  {
   "attachments": {},
   "cell_type": "markdown",
   "metadata": {},
   "source": [
    "### Avoid bare except blocks"
   ]
  },
  {
   "cell_type": "code",
   "execution_count": 9,
   "metadata": {},
   "outputs": [
    {
     "name": "stdout",
     "output_type": "stream",
     "text": [
      "this is bad cuz except is bare\n"
     ]
    }
   ],
   "source": [
    "try:\n",
    "    1/0\n",
    "except:\n",
    "    print(\"this is bad cuz except is bare\")"
   ]
  },
  {
   "cell_type": "code",
   "execution_count": 11,
   "metadata": {},
   "outputs": [
    {
     "name": "stdout",
     "output_type": "stream",
     "text": [
      "This is also bad cuz Exception is not specific, but better than bare\n"
     ]
    }
   ],
   "source": [
    "try:\n",
    "    1/0\n",
    "except Exception:\n",
    "    print(\"This is also bad cuz exception is not specific, but better than bare\")"
   ]
  },
  {
   "cell_type": "code",
   "execution_count": 12,
   "metadata": {},
   "outputs": [
    {
     "name": "stdout",
     "output_type": "stream",
     "text": [
      "division by zero <class 'ZeroDivisionError'>\n"
     ]
    }
   ],
   "source": [
    "try:\n",
    "    1/0\n",
    "except Exception as e:\n",
    "    print(e, type(e))"
   ]
  },
  {
   "attachments": {},
   "cell_type": "markdown",
   "metadata": {},
   "source": [
    "### Storing data with json"
   ]
  },
  {
   "cell_type": "code",
   "execution_count": 13,
   "metadata": {},
   "outputs": [],
   "source": [
    "\"\"\"Store some numbers.\"\"\"\n",
    "import json\n",
    "numbers = [2, 3, 5, 7, 11, 13]\n",
    "filename = 'numbers.json'\n",
    "with open(filename, 'w') as f:\n",
    "    json.dump(numbers, f)"
   ]
  },
  {
   "cell_type": "code",
   "execution_count": 14,
   "metadata": {},
   "outputs": [
    {
     "name": "stdout",
     "output_type": "stream",
     "text": [
      "[2, 3, 5, 7, 11, 13]\n"
     ]
    }
   ],
   "source": [
    "\"\"\"Load some previously stored numbers.\"\"\"\n",
    "import json\n",
    "filename = 'numbers.json'\n",
    "with open(filename) as f:\n",
    "    numbers = json.load(f)\n",
    "print(numbers)"
   ]
  },
  {
   "cell_type": "code",
   "execution_count": 17,
   "metadata": {},
   "outputs": [
    {
     "name": "stdout",
     "output_type": "stream",
     "text": [
      "Can't find file: numbers2.json.\n"
     ]
    }
   ],
   "source": [
    "import json\n",
    "f_name = 'numbers2.json'\n",
    "try:\n",
    "    with open(f_name) as f:\n",
    "        numbers = json.load(f)\n",
    "except FileNotFoundError:\n",
    "    msg = f\"Can't find file: {f_name}.\"\n",
    "    print(msg)\n",
    "else:\n",
    "    print(numbers)"
   ]
  },
  {
   "attachments": {},
   "cell_type": "markdown",
   "metadata": {},
   "source": [
    "## Matplotlib\n",
    "### Line graphs and scatter plots"
   ]
  },
  {
   "cell_type": "code",
   "execution_count": 1,
   "metadata": {},
   "outputs": [
    {
     "data": {
      "image/png": "[encoded data removed]",
      "text/plain": [
       "<Figure size 640x480 with 1 Axes>"
      ]
     },
     "metadata": {},
     "output_type": "display_data"
    }
   ],
   "source": [
    "import matplotlib.pyplot as plt\n",
    "x_values = list(range(10))\n",
    "squares = [x**2 for x in x_values]\n",
    "fig, ax = plt.subplots()\n",
    "ax.plot(x_values, squares)\n",
    "plt.show()"
   ]
  },
  {
   "cell_type": "code",
   "execution_count": 2,
   "metadata": {},
   "outputs": [
    {
     "data": {
      "image/png": "[encoded data removed]",
      "text/plain": [
       "<Figure size 640x480 with 1 Axes>"
      ]
     },
     "metadata": {},
     "output_type": "display_data"
    }
   ],
   "source": [
    "x_values = list(range(10))\n",
    "squares = [x**2 for x in x_values]\n",
    "fig, ax = plt.subplots()\n",
    "ax.scatter(x_values, squares, s=10)\n",
    "plt.show()"
   ]
  },
  {
   "attachments": {},
   "cell_type": "markdown",
   "metadata": {},
   "source": [
    "### Customizing Plots"
   ]
  },
  {
   "cell_type": "code",
   "execution_count": 3,
   "metadata": {},
   "outputs": [
    {
     "data": {
      "image/png": "[encoded data removed]",
      "text/plain": [
       "<Figure size 800x550 with 1 Axes>"
      ]
     },
     "metadata": {},
     "output_type": "display_data"
    }
   ],
   "source": [
    "x_values = list(range(10))\n",
    "squares = [x**2 for x in x_values]\n",
    "plt.style.use('seaborn-v0_8')\n",
    "fig, ax = plt.subplots()\n",
    "ax.scatter(x_values, squares, s=10)\n",
    "plt.show()"
   ]
  },
  {
   "cell_type": "code",
   "execution_count": 4,
   "metadata": {},
   "outputs": [
    {
     "name": "stdout",
     "output_type": "stream",
     "text": [
      "['Solarize_Light2', '_classic_test_patch', '_mpl-gallery', '_mpl-gallery-nogrid', 'bmh', 'classic', 'dark_background', 'fast', 'fivethirtyeight', 'ggplot', 'grayscale', 'seaborn-v0_8', 'seaborn-v0_8-bright', 'seaborn-v0_8-colorblind', 'seaborn-v0_8-dark', 'seaborn-v0_8-dark-palette', 'seaborn-v0_8-darkgrid', 'seaborn-v0_8-deep', 'seaborn-v0_8-muted', 'seaborn-v0_8-notebook', 'seaborn-v0_8-paper', 'seaborn-v0_8-pastel', 'seaborn-v0_8-poster', 'seaborn-v0_8-talk', 'seaborn-v0_8-ticks', 'seaborn-v0_8-white', 'seaborn-v0_8-whitegrid', 'tableau-colorblind10']\n"
     ]
    }
   ],
   "source": [
    "print(plt.style.available)"
   ]
  },
  {
   "cell_type": "code",
   "execution_count": 22,
   "metadata": {},
   "outputs": [
    {
     "data": {
      "image/png": "[encoded data removed]",
      "text/plain": [
       "<Figure size 800x550 with 1 Axes>"
      ]
     },
     "metadata": {},
     "output_type": "display_data"
    }
   ],
   "source": [
    "x_values = list(range(1000))\n",
    "squares = [x**2 for x in x_values]\n",
    "# Set overall style to use, and plot data.\n",
    "plt.style.use('dark_background')\n",
    "fig, ax = plt.subplots()\n",
    "ax.scatter(x_values, squares, s=10)\n",
    "# Set chart title and label axes.\n",
    "ax.set_title('Square Numbers', fontsize=24)\n",
    "ax.set_xlabel('Value', fontsize=14)\n",
    "ax.set_ylabel('Square of Value', fontsize=14)\n",
    "# Set scale of axes, and size of tick labels.\n",
    "ax.axis([0, 1100, 0, 1_100_000])\n",
    "ax.tick_params(axis='both', labelsize=14)\n",
    "plt.show()\n"
   ]
  },
  {
   "cell_type": "code",
   "execution_count": 6,
   "metadata": {},
   "outputs": [
    {
     "data": {
      "image/png": "[encoded data removed]",
      "text/plain": [
       "<Figure size 800x550 with 1 Axes>"
      ]
     },
     "metadata": {},
     "output_type": "display_data"
    }
   ],
   "source": [
    "fig, ax = plt.subplots()\n",
    "ax.scatter(x_values, squares, c=squares, cmap=plt.cm.Blues, s=10)\n",
    "plt.show()"
   ]
  },
  {
   "cell_type": "code",
   "execution_count": 7,
   "metadata": {},
   "outputs": [
    {
     "data": {
      "image/png": "[encoded data removed]",
      "text/plain": [
       "<Figure size 800x550 with 1 Axes>"
      ]
     },
     "metadata": {},
     "output_type": "display_data"
    }
   ],
   "source": [
    "fig, ax = plt.subplots()\n",
    "ax.scatter(x_values, squares, c=squares, cmap=plt.cm.Blues, s=10)\n",
    "ax.scatter(x_values[0], squares[0], c='green', s=100)\n",
    "ax.scatter(x_values[-1], squares[-1], c='red', s=100)\n",
    "plt.show()"
   ]
  },
  {
   "cell_type": "code",
   "execution_count": 8,
   "metadata": {},
   "outputs": [
    {
     "data": {
      "image/png": "[encoded data removed]",
      "text/plain": [
       "<Figure size 800x550 with 1 Axes>"
      ]
     },
     "metadata": {},
     "output_type": "display_data"
    }
   ],
   "source": [
    "fig, ax = plt.subplots()\n",
    "ax.scatter(x_values, squares, c=squares, cmap=plt.cm.Blues, s=10)\n",
    "ax.get_xaxis().set_visible(False)\n",
    "ax.get_yaxis().set_visible(False)\n",
    "plt.show()"
   ]
  },
  {
   "cell_type": "code",
   "execution_count": 9,
   "metadata": {},
   "outputs": [
    {
     "data": {
      "image/png": "[encoded data removed]",
      "text/plain": [
       "<Figure size 1280x768 with 1 Axes>"
      ]
     },
     "metadata": {},
     "output_type": "display_data"
    }
   ],
   "source": [
    "fig, ax = plt.subplots(figsize=(10, 6), dpi=128)\n",
    "ax.scatter(x_values, squares, c=squares, cmap=plt.cm.Blues, s=10)\n",
    "plt.show()"
   ]
  },
  {
   "cell_type": "code",
   "execution_count": 10,
   "metadata": {},
   "outputs": [
    {
     "data": {
      "image/png": "[encoded data removed]",
      "text/plain": [
       "<Figure size 1280x768 with 1 Axes>"
      ]
     },
     "metadata": {},
     "output_type": "display_data"
    }
   ],
   "source": [
    "fig, ax = plt.subplots(figsize=(10, 6), dpi=128)\n",
    "ax.scatter(x_values, squares, c=squares, cmap=plt.cm.Blues, s=10)\n",
    "plt.savefig('squares.png', bbox_inches='tight')"
   ]
  },
  {
   "attachments": {},
   "cell_type": "markdown",
   "metadata": {},
   "source": [
    "### Multiple plots"
   ]
  },
  {
   "cell_type": "code",
   "execution_count": 11,
   "metadata": {},
   "outputs": [
    {
     "data": {
      "image/png": "[encoded data removed]",
      "text/plain": [
       "<Figure size 800x550 with 1 Axes>"
      ]
     },
     "metadata": {},
     "output_type": "display_data"
    }
   ],
   "source": [
    "x_values = list(range(11))\n",
    "squares = [x**2 for x in x_values]\n",
    "cubes = [x**3 for x in x_values]\n",
    "fig, ax = plt.subplots()\n",
    "ax.scatter(x_values, squares, c='blue', s=10)\n",
    "ax.scatter(x_values, cubes, c='red', s=10)\n",
    "plt.show()"
   ]
  },
  {
   "cell_type": "code",
   "execution_count": 12,
   "metadata": {},
   "outputs": [
    {
     "data": {
      "image/png": "[encoded data removed]",
      "text/plain": [
       "<Figure size 800x550 with 1 Axes>"
      ]
     },
     "metadata": {},
     "output_type": "display_data"
    }
   ],
   "source": [
    "fig, ax = plt.subplots()\n",
    "ax.scatter(x_values, squares, c='blue', s=10)\n",
    "ax.scatter(x_values, cubes, c='red', s=10)\n",
    "ax.fill_between(x_values, cubes, squares, facecolor='blue', alpha=0.25)\n",
    "plt.show()"
   ]
  },
  {
   "attachments": {},
   "cell_type": "markdown",
   "metadata": {},
   "source": [
    "### Working with dates and times"
   ]
  },
  {
   "cell_type": "code",
   "execution_count": 13,
   "metadata": {},
   "outputs": [
    {
     "name": "stdout",
     "output_type": "stream",
     "text": [
      "01/27/2023\n"
     ]
    }
   ],
   "source": [
    "from datetime import datetime as dt\n",
    "today = dt.now()\n",
    "date_string = today.strftime('%m/%d/%Y')\n",
    "print(date_string) \n"
   ]
  },
  {
   "cell_type": "code",
   "execution_count": 14,
   "metadata": {},
   "outputs": [
    {
     "name": "stdout",
     "output_type": "stream",
     "text": [
      "2019-09-22 00:00:00\n"
     ]
    }
   ],
   "source": [
    "new_years = dt(2019, 1, 1)\n",
    "fall_equinox = dt(year=2019, month=9, day=22)\n",
    "print(fall_equinox)"
   ]
  },
  {
   "cell_type": "code",
   "execution_count": 16,
   "metadata": {},
   "outputs": [
    {
     "name": "stdout",
     "output_type": "stream",
     "text": [
      "Friday\n",
      "January\n",
      "01\n",
      "27\n",
      "2023\n",
      "23\n",
      "09\n",
      "09\n",
      "AM\n",
      "49\n",
      "13\n"
     ]
    }
   ],
   "source": [
    "print(today.strftime(\"%A\"))\n",
    "print(today.strftime(\"%B\"))\n",
    "print(today.strftime(\"%m\"))\n",
    "print(today.strftime(\"%d\"))\n",
    "print(today.strftime(\"%Y\"))\n",
    "print(today.strftime(\"%y\"))\n",
    "print(today.strftime(\"%H\"))\n",
    "print(today.strftime(\"%I\"))\n",
    "print(today.strftime(\"%p\"))\n",
    "print(today.strftime(\"%M\"))\n",
    "print(today.strftime(\"%S\"))"
   ]
  },
  {
   "cell_type": "code",
   "execution_count": 17,
   "metadata": {},
   "outputs": [
    {
     "name": "stdout",
     "output_type": "stream",
     "text": [
      "2019-01-01 00:00:00\n"
     ]
    }
   ],
   "source": [
    "new_years = dt.strptime('1/1/2019', '%m/%d/%Y')\n",
    "print(new_years)"
   ]
  },
  {
   "cell_type": "code",
   "execution_count": 18,
   "metadata": {},
   "outputs": [
    {
     "name": "stdout",
     "output_type": "stream",
     "text": [
      "January 01, 2019\n"
     ]
    }
   ],
   "source": [
    "ny_string = new_years.strftime('%B %d, %Y')\n",
    "print(ny_string)"
   ]
  },
  {
   "cell_type": "code",
   "execution_count": 19,
   "metadata": {},
   "outputs": [
    {
     "data": {
      "image/png": "[encoded data removed]",
      "text/plain": [
       "<Figure size 800x550 with 1 Axes>"
      ]
     },
     "metadata": {},
     "output_type": "display_data"
    }
   ],
   "source": [
    "from matplotlib import dates as mdates\n",
    "dates = [\n",
    "    dt(2019, 6, 21), dt(2019, 6, 22),\n",
    "    dt(2019, 6, 23), dt(2019, 6, 24),\n",
    "]\n",
    "highs = [56, 57, 57, 64]\n",
    "\n",
    "fig, ax = plt.subplots()\n",
    "ax.plot(dates, highs, c='red')\n",
    "ax.set_title(\"Daily High Temps\", fontsize=24)\n",
    "ax.set_ylabel(\"Temp (F)\", fontsize=16)\n",
    "x_axis = ax.get_xaxis()\n",
    "x_axis.set_major_formatter(mdates.DateFormatter('%B %d %Y'))\n",
    "fig.autofmt_xdate()\n",
    "plt.show()"
   ]
  },
  {
   "attachments": {},
   "cell_type": "markdown",
   "metadata": {},
   "source": [
    "### Multiple plots in one figure"
   ]
  },
  {
   "cell_type": "code",
   "execution_count": 20,
   "metadata": {},
   "outputs": [
    {
     "data": {
      "image/png": "[encoded data removed]",
      "text/plain": [
       "<Figure size 800x550 with 2 Axes>"
      ]
     },
     "metadata": {},
     "output_type": "display_data"
    }
   ],
   "source": [
    "x_values = list(range(11))\n",
    "squares = [x**2 for x in x_values]\n",
    "cubes = [x**3 for x in x_values]\n",
    "fig, axs = plt.subplots(2, 1, sharex=True)\n",
    "axs[0].scatter(x_values, squares)\n",
    "axs[0].set_title('Squares')\n",
    "axs[1].scatter(x_values, cubes, c='red')\n",
    "axs[1].set_title('Cubes')\n",
    "plt.show()"
   ]
  },
  {
   "cell_type": "code",
   "execution_count": 23,
   "metadata": {},
   "outputs": [
    {
     "data": {
      "image/png": "[encoded data removed]",
      "text/plain": [
       "<Figure size 800x550 with 2 Axes>"
      ]
     },
     "metadata": {},
     "output_type": "display_data"
    }
   ],
   "source": [
    "x_values = list(range(11))\n",
    "squares = [x**2 for x in x_values]\n",
    "cubes = [x**3 for x in x_values]\n",
    "fig, axs = plt.subplots(1, 2, sharey=True)\n",
    "axs[0].scatter(x_values, squares)\n",
    "axs[0].set_title('Squares')\n",
    "axs[1].scatter(x_values, cubes, c='red')\n",
    "axs[1].set_title('Cubes')\n",
    "plt.show()"
   ]
  },
  {
   "cell_type": "code",
   "execution_count": null,
   "metadata": {},
   "outputs": [],
   "source": []
  }
 ],
 "metadata": {
  "kernelspec": {
   "display_name": "Python 3",
   "language": "python",
   "name": "python3"
  },
  "language_info": {
   "codemirror_mode": {
    "name": "ipython",
    "version": 3
   },
   "file_extension": ".py",
   "mimetype": "text/x-python",
   "name": "python",
   "nbconvert_exporter": "python",
   "pygments_lexer": "ipython3",
   "version": "3.11.0"
  },
  "orig_nbformat": 4,
  "vscode": {
   "interpreter": {
    "hash": "5238573367df39f7286bb46f9ff5f08f63a01a80960060ce41e3c79b190280fa"
   }
  }
 },
 "nbformat": 4,
 "nbformat_minor": 2
}
