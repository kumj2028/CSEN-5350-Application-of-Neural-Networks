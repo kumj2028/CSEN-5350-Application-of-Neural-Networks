{
 "cells": [
  {
   "attachments": {},
   "cell_type": "markdown",
   "metadata": {},
   "source": [
    "# Homework 4\n",
    "## Mengxiang Jiang\n",
    "\n",
    "The majority of the code here comes from the [Companion Jupyter notebooks for the book \"Deep Learning with Python\"](https://github.com/fchollet/deep-learning-with-python-notebooks) by François Chollet, specifically chapter 2.\n",
    "If the code comes from somewhere else it will have a source linked to the original.\\\n",
    "[Video Link](https://youtu.be/gmHJk2IpYro)"
   ]
  },
  {
   "attachments": {},
   "cell_type": "markdown",
   "metadata": {},
   "source": [
    "**Computational Graph**\n",
    "\n",
    "<img src=\"comp_graph.png\" width=\"1200\">"
   ]
  },
  {
   "attachments": {},
   "cell_type": "markdown",
   "metadata": {},
   "source": [
    "**Using Tensorflow to Calculate Partial Derivatives**"
   ]
  },
  {
   "cell_type": "code",
   "execution_count": 1,
   "metadata": {},
   "outputs": [
    {
     "name": "stderr",
     "output_type": "stream",
     "text": [
      "2023-02-17 18:10:45.132738: I tensorflow/core/platform/cpu_feature_guard.cc:193] This TensorFlow binary is optimized with oneAPI Deep Neural Network Library (oneDNN) to use the following CPU instructions in performance-critical operations:  AVX2 AVX_VNNI FMA\n",
      "To enable them in other operations, rebuild TensorFlow with the appropriate compiler flags.\n",
      "2023-02-17 18:10:45.204676: I tensorflow/core/util/port.cc:104] oneDNN custom operations are on. You may see slightly different numerical results due to floating-point round-off errors from different computation orders. To turn them off, set the environment variable `TF_ENABLE_ONEDNN_OPTS=0`.\n"
     ]
    }
   ],
   "source": [
    "import tensorflow as tf"
   ]
  },
  {
   "cell_type": "code",
   "execution_count": 2,
   "metadata": {},
   "outputs": [
    {
     "name": "stdout",
     "output_type": "stream",
     "text": [
      "partial derivative wrt to x: 3.0\n",
      "partial derivative wrt to y: -1.0\n",
      "partial derivative wrt to z: 27.0\n"
     ]
    },
    {
     "name": "stderr",
     "output_type": "stream",
     "text": [
      "2023-02-17 18:10:45.963821: I tensorflow/core/platform/cpu_feature_guard.cc:193] This TensorFlow binary is optimized with oneAPI Deep Neural Network Library (oneDNN) to use the following CPU instructions in performance-critical operations:  AVX2 AVX_VNNI FMA\n",
      "To enable them in other operations, rebuild TensorFlow with the appropriate compiler flags.\n",
      "2023-02-17 18:10:46.258760: I tensorflow/core/common_runtime/gpu/gpu_device.cc:1613] Created device /job:localhost/replica:0/task:0/device:GPU:0 with 7815 MB memory:  -> device: 0, name: NVIDIA GeForce RTX 3080, pci bus id: 0000:01:00.0, compute capability: 8.6\n"
     ]
    }
   ],
   "source": [
    "x = tf.Variable(-1.)\n",
    "y = tf.Variable(2.)\n",
    "z = tf.Variable(3.)\n",
    "with tf.GradientTape() as tape:\n",
    "    f = x*y + z**3 + x\n",
    "grad_of_f_wrt_x_y_z = tape.gradient(f, [x, y, z])\n",
    "print(f\"partial derivative wrt to x: {grad_of_f_wrt_x_y_z[0]}\")\n",
    "print(f\"partial derivative wrt to y: {grad_of_f_wrt_x_y_z[1]}\")\n",
    "print(f\"partial derivative wrt to z: {grad_of_f_wrt_x_y_z[2]}\")"
   ]
  },
  {
   "attachments": {},
   "cell_type": "markdown",
   "metadata": {},
   "source": [
    "## Looking back at our first example"
   ]
  },
  {
   "cell_type": "code",
   "execution_count": 3,
   "metadata": {},
   "outputs": [
    {
     "name": "stdout",
     "output_type": "stream",
     "text": [
      "Epoch 1/5\n",
      "  1/469 [..............................] - ETA: 5:28 - loss: 2.3972 - accuracy: 0.0469"
     ]
    },
    {
     "name": "stderr",
     "output_type": "stream",
     "text": [
      "2023-02-17 18:10:47.231656: I tensorflow/compiler/xla/stream_executor/cuda/cuda_blas.cc:630] TensorFloat-32 will be used for the matrix multiplication. This will only be logged once.\n",
      "2023-02-17 18:10:47.232899: I tensorflow/compiler/xla/service/service.cc:173] XLA service 0x7f5bb9f93c00 initialized for platform CUDA (this does not guarantee that XLA will be used). Devices:\n",
      "2023-02-17 18:10:47.232910: I tensorflow/compiler/xla/service/service.cc:181]   StreamExecutor device (0): NVIDIA GeForce RTX 3080, Compute Capability 8.6\n",
      "2023-02-17 18:10:47.235059: I tensorflow/compiler/mlir/tensorflow/utils/dump_mlir_util.cc:268] disabling MLIR crash reproducer, set env var `MLIR_CRASH_REPRODUCER_DIRECTORY` to enable.\n",
      "2023-02-17 18:10:47.286987: I tensorflow/compiler/jit/xla_compilation_cache.cc:477] Compiled cluster using XLA!  This line is logged at most once for the lifetime of the process.\n"
     ]
    },
    {
     "name": "stdout",
     "output_type": "stream",
     "text": [
      "469/469 [==============================] - 1s 922us/step - loss: 0.2665 - accuracy: 0.9232\n",
      "Epoch 2/5\n",
      "469/469 [==============================] - 0s 894us/step - loss: 0.1084 - accuracy: 0.9677\n",
      "Epoch 3/5\n",
      "469/469 [==============================] - 0s 871us/step - loss: 0.0710 - accuracy: 0.9787\n",
      "Epoch 4/5\n",
      "469/469 [==============================] - 0s 899us/step - loss: 0.0515 - accuracy: 0.9844\n",
      "Epoch 5/5\n",
      "469/469 [==============================] - 0s 928us/step - loss: 0.0385 - accuracy: 0.9886\n",
      "313/313 [==============================] - 0s 668us/step - loss: 0.0660 - accuracy: 0.9795\n",
      "test_acc: 0.9794999957084656\n"
     ]
    }
   ],
   "source": [
    "from tensorflow import keras\n",
    "from tensorflow.keras import layers\n",
    "from tensorflow.keras.datasets import mnist\n",
    "\n",
    "(train_images, train_labels), (test_images, test_labels) = mnist.load_data()\n",
    "train_images = train_images.reshape((60000, 28 * 28))\n",
    "train_images = train_images.astype(\"float32\") / 255\n",
    "test_images = test_images.reshape((10000, 28 * 28))\n",
    "test_images = test_images.astype(\"float32\") / 255\n",
    "\n",
    "model = keras.Sequential([\n",
    "    layers.Dense(512, activation=\"relu\"),\n",
    "    layers.Dense(10, activation=\"softmax\")\n",
    "])\n",
    "\n",
    "model.compile(optimizer=\"rmsprop\",\n",
    "              loss=\"sparse_categorical_crossentropy\",\n",
    "              metrics=[\"accuracy\"])\n",
    "\n",
    "history = model.fit(train_images, train_labels, epochs=5, batch_size=128)\n",
    "\n",
    "test_loss, test_acc = model.evaluate(test_images, test_labels)\n",
    "print(f\"test_acc: {test_acc}\")"
   ]
  },
  {
   "attachments": {},
   "cell_type": "markdown",
   "metadata": {},
   "source": [
    "### Reimplementing our first example from scratch in TensorFlow\n",
    "#### A simple Dense class"
   ]
  },
  {
   "cell_type": "code",
   "execution_count": 4,
   "metadata": {},
   "outputs": [],
   "source": [
    "class NaiveDense:\n",
    "    def __init__(self, input_size, output_size, activation):\n",
    "        self.activation = activation\n",
    "\n",
    "        w_shape = (input_size, output_size)\n",
    "        w_initial_value = tf.random.uniform(w_shape, minval=0, maxval=1e-1)\n",
    "        self.W = tf.Variable(w_initial_value)\n",
    "\n",
    "        b_shape = (output_size,)\n",
    "        b_initial_value = tf.zeros(b_shape)\n",
    "        self.b = tf.Variable(b_initial_value)\n",
    "\n",
    "    def __call__(self, inputs):\n",
    "        return self.activation(tf.matmul(inputs, self.W) + self.b)\n",
    "\n",
    "    @property\n",
    "    def weights(self):\n",
    "        return [self.W, self.b]"
   ]
  },
  {
   "attachments": {},
   "cell_type": "markdown",
   "metadata": {},
   "source": [
    "#### A simple Sequential class"
   ]
  },
  {
   "cell_type": "code",
   "execution_count": 5,
   "metadata": {},
   "outputs": [],
   "source": [
    "class NaiveSequential:\n",
    "    def __init__(self, layers):\n",
    "        self.layers = layers\n",
    "\n",
    "    def __call__(self, inputs):\n",
    "        x = inputs\n",
    "        for layer in self.layers:\n",
    "           x = layer(x)\n",
    "        return x\n",
    "\n",
    "    @property\n",
    "    def weights(self):\n",
    "       weights = []\n",
    "       for layer in self.layers:\n",
    "           weights += layer.weights\n",
    "       return weights"
   ]
  },
  {
   "cell_type": "code",
   "execution_count": 6,
   "metadata": {},
   "outputs": [],
   "source": [
    "model = NaiveSequential([\n",
    "    NaiveDense(input_size=28 * 28, output_size=512, activation=tf.nn.relu),\n",
    "    NaiveDense(input_size=512, output_size=10, activation=tf.nn.softmax)\n",
    "])\n",
    "assert len(model.weights) == 4"
   ]
  },
  {
   "attachments": {},
   "cell_type": "markdown",
   "metadata": {},
   "source": [
    "#### A batch generator"
   ]
  },
  {
   "cell_type": "code",
   "execution_count": 7,
   "metadata": {},
   "outputs": [],
   "source": [
    "import math\n",
    "import numpy as np\n",
    "\n",
    "class BatchGenerator:\n",
    "    def __init__(self, images, labels, batch_size=128):\n",
    "        assert len(images) == len(labels)\n",
    "        p = np.random.permutation(len(images))\n",
    "        self.index = 0\n",
    "        self.images = images[p]\n",
    "        self.labels = labels[p]\n",
    "        self.batch_size = batch_size\n",
    "        self.num_batches = math.ceil(len(images) / batch_size)\n",
    "\n",
    "    def next(self):\n",
    "        images = self.images[self.index : self.index + self.batch_size]\n",
    "        labels = self.labels[self.index : self.index + self.batch_size]\n",
    "        self.index += self.batch_size\n",
    "        return images, labels"
   ]
  },
  {
   "attachments": {},
   "cell_type": "markdown",
   "metadata": {},
   "source": [
    "### Running one training step"
   ]
  },
  {
   "cell_type": "code",
   "execution_count": 8,
   "metadata": {},
   "outputs": [],
   "source": [
    "def one_training_step(model, images_batch, labels_batch, learning_rate, past_velocity, momentum):\n",
    "    with tf.GradientTape() as tape:\n",
    "        predictions = model(images_batch)\n",
    "        per_sample_losses = tf.keras.losses.sparse_categorical_crossentropy(\n",
    "            labels_batch, predictions)\n",
    "        average_loss = tf.reduce_mean(per_sample_losses)\n",
    "    gradients = tape.gradient(average_loss, model.weights)\n",
    "    past_velocity = update_weights(gradients, model.weights, learning_rate, past_velocity, momentum)\n",
    "    return average_loss, past_velocity"
   ]
  },
  {
   "cell_type": "code",
   "execution_count": 9,
   "metadata": {},
   "outputs": [],
   "source": [
    "def update_weights(gradients, weights, learning_rate, past_velocity, momentum):\n",
    "    for g, w in zip(gradients, weights):\n",
    "        velocity = past_velocity * momentum - learning_rate * g\n",
    "        w.assign(w + momentum * velocity - learning_rate * g)\n",
    "        past_velocity = velocity\n",
    "        return past_velocity"
   ]
  },
  {
   "attachments": {},
   "cell_type": "markdown",
   "metadata": {},
   "source": [
    "### The full training loop"
   ]
  },
  {
   "cell_type": "code",
   "execution_count": 10,
   "metadata": {},
   "outputs": [],
   "source": [
    "def fit(model, images, labels, epochs, batch_size=128, learning_rate=1e-1, past_velocity=0, momentum=0.1):\n",
    "    for epoch_counter in range(epochs):\n",
    "        print(f\"Epoch {epoch_counter}\")\n",
    "        batch_generator = BatchGenerator(images, labels)\n",
    "        for batch_counter in range(batch_generator.num_batches):\n",
    "            images_batch, labels_batch = batch_generator.next()\n",
    "            loss, past_velocity = one_training_step(model, images_batch, labels_batch, learning_rate, past_velocity, momentum)\n",
    "            if batch_counter % 100 == 0:\n",
    "                print(f\"loss at batch {batch_counter}: {loss:.2f}\")"
   ]
  },
  {
   "cell_type": "code",
   "execution_count": 11,
   "metadata": {},
   "outputs": [
    {
     "name": "stdout",
     "output_type": "stream",
     "text": [
      "Epoch 0\n",
      "loss at batch 0: 5.69\n",
      "loss at batch 100: 0.81\n",
      "loss at batch 200: 0.63\n",
      "loss at batch 300: 0.56\n",
      "loss at batch 400: 0.48\n",
      "Epoch 1\n",
      "loss at batch 0: 0.45\n",
      "loss at batch 100: 0.39\n",
      "loss at batch 200: 0.37\n",
      "loss at batch 300: 0.40\n",
      "loss at batch 400: 0.38\n",
      "Epoch 2\n",
      "loss at batch 0: 0.36\n",
      "loss at batch 100: 0.53\n",
      "loss at batch 200: 0.33\n",
      "loss at batch 300: 0.41\n",
      "loss at batch 400: 0.34\n",
      "Epoch 3\n",
      "loss at batch 0: 0.47\n",
      "loss at batch 100: 0.47\n",
      "loss at batch 200: 0.45\n",
      "loss at batch 300: 0.41\n",
      "loss at batch 400: 0.32\n",
      "Epoch 4\n",
      "loss at batch 0: 0.26\n",
      "loss at batch 100: 0.39\n",
      "loss at batch 200: 0.29\n",
      "loss at batch 300: 0.46\n",
      "loss at batch 400: 0.45\n",
      "Epoch 5\n",
      "loss at batch 0: 0.30\n",
      "loss at batch 100: 0.40\n",
      "loss at batch 200: 0.34\n",
      "loss at batch 300: 0.34\n",
      "loss at batch 400: 0.36\n",
      "Epoch 6\n",
      "loss at batch 0: 0.46\n",
      "loss at batch 100: 0.30\n",
      "loss at batch 200: 0.30\n",
      "loss at batch 300: 0.22\n",
      "loss at batch 400: 0.25\n",
      "Epoch 7\n",
      "loss at batch 0: 0.40\n",
      "loss at batch 100: 0.24\n",
      "loss at batch 200: 0.30\n",
      "loss at batch 300: 0.40\n",
      "loss at batch 400: 0.32\n",
      "Epoch 8\n",
      "loss at batch 0: 0.37\n",
      "loss at batch 100: 0.32\n",
      "loss at batch 200: 0.25\n",
      "loss at batch 300: 0.34\n",
      "loss at batch 400: 0.26\n",
      "Epoch 9\n",
      "loss at batch 0: 0.35\n",
      "loss at batch 100: 0.40\n",
      "loss at batch 200: 0.29\n",
      "loss at batch 300: 0.34\n",
      "loss at batch 400: 0.40\n"
     ]
    }
   ],
   "source": [
    "fit(model, train_images, train_labels, epochs=10, batch_size=128)"
   ]
  },
  {
   "attachments": {},
   "cell_type": "markdown",
   "metadata": {},
   "source": [
    "### Evaluating the model"
   ]
  },
  {
   "cell_type": "code",
   "execution_count": 12,
   "metadata": {},
   "outputs": [
    {
     "name": "stdout",
     "output_type": "stream",
     "text": [
      "accuracy: 0.92\n"
     ]
    }
   ],
   "source": [
    "predictions = model(test_images)\n",
    "predictions = predictions.numpy()\n",
    "predicted_labels = np.argmax(predictions, axis=1)\n",
    "matches = predicted_labels == test_labels\n",
    "print(f\"accuracy: {matches.mean():.2f}\")"
   ]
  },
  {
   "cell_type": "code",
   "execution_count": null,
   "metadata": {},
   "outputs": [],
   "source": []
  }
 ],
 "metadata": {
  "kernelspec": {
   "display_name": "tf-py38",
   "language": "python",
   "name": "python3"
  },
  "language_info": {
   "codemirror_mode": {
    "name": "ipython",
    "version": 3
   },
   "file_extension": ".py",
   "mimetype": "text/x-python",
   "name": "python",
   "nbconvert_exporter": "python",
   "pygments_lexer": "ipython3",
   "version": "3.8.16"
  },
  "orig_nbformat": 4,
  "vscode": {
   "interpreter": {
    "hash": "0288237b4dcd3cb959217430d914fb9faefd981f75ffd9a2923e712050b1e8ae"
   }
  }
 },
 "nbformat": 4,
 "nbformat_minor": 2
}
