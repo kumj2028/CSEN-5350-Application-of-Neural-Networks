{
 "cells": [
  {
   "attachments": {},
   "cell_type": "markdown",
   "metadata": {},
   "source": [
    "# Homework 3\n",
    "## Mengxiang Jiang\n",
    "\n",
    "The majority of the code here comes from the [Companion Jupyter notebooks for the book \"Deep Learning with Python\"](https://github.com/fchollet/deep-learning-with-python-notebooks) by François Chollet, specifically chapter 2.\n",
    "If the code comes from somewhere else it will have a source linked to the original.\\\n",
    "[Video Link](https://youtu.be/bac1f8u-l4A)"
   ]
  },
  {
   "attachments": {},
   "cell_type": "markdown",
   "metadata": {},
   "source": [
    "**My Installation of Tensorflow on Ubuntu 22.04**"
   ]
  },
  {
   "attachments": {},
   "cell_type": "markdown",
   "metadata": {},
   "source": [
    "I followed this [guide](https://www.tensorflow.org/install/pip#step-by-step_instructions), except using python 3.8 rather than 3.9.\\\n",
    "For installing the Nvidia GPU driver, I followed the manual install part of this [guide](https://linuxconfig.org/how-to-install-the-nvidia-drivers-on-ubuntu-22-04).\\\n",
    "After the completing the installation and running the code, I found some warning/error messages that were fixed following these links:\\\n",
    "[successful NUMA node read from SysFS had negative value (-1)](https://stackoverflow.com/questions/44232898/memoryerror-in-tensorflow-and-successful-numa-node-read-from-sysfs-had-negativ)\\\n",
    "[Could not load dynamic library 'libnvinfer.so.7'](https://stackoverflow.com/questions/74956134/could-not-load-dynamic-library-libnvinfer-so-7)"
   ]
  },
  {
   "attachments": {},
   "cell_type": "markdown",
   "metadata": {},
   "source": [
    "**Loading the MNIST dataset in Keras**"
   ]
  },
  {
   "cell_type": "code",
   "execution_count": 1,
   "metadata": {},
   "outputs": [
    {
     "name": "stderr",
     "output_type": "stream",
     "text": [
      "2023-02-10 15:52:33.484685: I tensorflow/core/platform/cpu_feature_guard.cc:193] This TensorFlow binary is optimized with oneAPI Deep Neural Network Library (oneDNN) to use the following CPU instructions in performance-critical operations:  AVX2 AVX_VNNI FMA\n",
      "To enable them in other operations, rebuild TensorFlow with the appropriate compiler flags.\n",
      "2023-02-10 15:52:33.546885: I tensorflow/core/util/port.cc:104] oneDNN custom operations are on. You may see slightly different numerical results due to floating-point round-off errors from different computation orders. To turn them off, set the environment variable `TF_ENABLE_ONEDNN_OPTS=0`.\n"
     ]
    }
   ],
   "source": [
    "from tensorflow.keras.datasets import mnist\n",
    "(train_images, train_labels), (test_images, test_labels) = mnist.load_data()"
   ]
  },
  {
   "attachments": {},
   "cell_type": "markdown",
   "metadata": {},
   "source": [
    "**Preparing the image data**"
   ]
  },
  {
   "cell_type": "code",
   "execution_count": 2,
   "metadata": {},
   "outputs": [],
   "source": [
    "train_images = train_images.reshape((60000, 28 * 28))\n",
    "train_images = train_images.astype(\"float32\") / 255\n",
    "test_images = test_images.reshape((10000, 28 * 28))\n",
    "test_images = test_images.astype(\"float32\") / 255"
   ]
  },
  {
   "attachments": {},
   "cell_type": "markdown",
   "metadata": {},
   "source": [
    "**imports for network architecture**"
   ]
  },
  {
   "cell_type": "code",
   "execution_count": 3,
   "metadata": {},
   "outputs": [],
   "source": [
    "from tensorflow import keras\n",
    "from tensorflow.keras import layers"
   ]
  },
  {
   "attachments": {},
   "cell_type": "markdown",
   "metadata": {},
   "source": [
    "**function for generating and compiling a model with variable number of neurons in the first hidden layer**"
   ]
  },
  {
   "cell_type": "code",
   "execution_count": 4,
   "metadata": {},
   "outputs": [],
   "source": [
    "def single_layer_model(neurons):\n",
    "    model = keras.Sequential([\n",
    "        layers.Dense(neurons, activation=\"relu\"),\n",
    "        layers.Dense(10, activation=\"softmax\")\n",
    "    ])\n",
    "    model.compile(\n",
    "        optimizer=\"rmsprop\",\n",
    "        loss=\"sparse_categorical_crossentropy\",\n",
    "        metrics=[\"accuracy\"]\n",
    "    )\n",
    "    return model\n"
   ]
  },
  {
   "attachments": {},
   "cell_type": "markdown",
   "metadata": {},
   "source": [
    "**function for evaluating models with variable number of neurons**"
   ]
  },
  {
   "cell_type": "code",
   "execution_count": 5,
   "metadata": {},
   "outputs": [],
   "source": [
    "def evaluate_networks(neuron_counts, model_fun):\n",
    "    train_accuracies = []\n",
    "    train_losses = []\n",
    "    test_accuracies = []\n",
    "    test_losses = []\n",
    "    for n in neuron_counts:\n",
    "        model = model_fun(n)\n",
    "        model.fit(train_images, train_labels, epochs=5, batch_size=128)\n",
    "        train_loss, train_acc = model.evaluate(train_images, train_labels)\n",
    "        train_accuracies.append(train_acc)\n",
    "        train_losses.append(train_loss)\n",
    "        test_loss, test_acc = model.evaluate(test_images, test_labels)\n",
    "        test_accuracies.append(test_acc)\n",
    "        test_losses.append(test_loss)\n",
    "    return {\n",
    "        'Number of Neurons': neuron_counts,\n",
    "        'Training Accuracy': train_accuracies,\n",
    "        'Training Loss': train_losses,\n",
    "        'Testing Accuracy': test_accuracies,\n",
    "        'Testing Loss': test_losses\n",
    "    }"
   ]
  },
  {
   "attachments": {},
   "cell_type": "markdown",
   "metadata": {},
   "source": [
    "**generate models from 4 neurons up to 512, evaluate them, and store the results**"
   ]
  },
  {
   "cell_type": "code",
   "execution_count": 6,
   "metadata": {},
   "outputs": [
    {
     "name": "stdout",
     "output_type": "stream",
     "text": [
      "Epoch 1/5\n"
     ]
    },
    {
     "name": "stderr",
     "output_type": "stream",
     "text": [
      "2023-02-10 15:52:34.693249: I tensorflow/core/platform/cpu_feature_guard.cc:193] This TensorFlow binary is optimized with oneAPI Deep Neural Network Library (oneDNN) to use the following CPU instructions in performance-critical operations:  AVX2 AVX_VNNI FMA\n",
      "To enable them in other operations, rebuild TensorFlow with the appropriate compiler flags.\n",
      "2023-02-10 15:52:34.972231: I tensorflow/core/common_runtime/gpu/gpu_device.cc:1613] Created device /job:localhost/replica:0/task:0/device:GPU:0 with 7878 MB memory:  -> device: 0, name: NVIDIA GeForce RTX 3080, pci bus id: 0000:01:00.0, compute capability: 8.6\n",
      "2023-02-10 15:52:35.717656: I tensorflow/compiler/xla/stream_executor/cuda/cuda_blas.cc:630] TensorFloat-32 will be used for the matrix multiplication. This will only be logged once.\n",
      "2023-02-10 15:52:35.719056: I tensorflow/compiler/xla/service/service.cc:173] XLA service 0x7f0f4fecb360 initialized for platform CUDA (this does not guarantee that XLA will be used). Devices:\n",
      "2023-02-10 15:52:35.719066: I tensorflow/compiler/xla/service/service.cc:181]   StreamExecutor device (0): NVIDIA GeForce RTX 3080, Compute Capability 8.6\n",
      "2023-02-10 15:52:35.721718: I tensorflow/compiler/mlir/tensorflow/utils/dump_mlir_util.cc:268] disabling MLIR crash reproducer, set env var `MLIR_CRASH_REPRODUCER_DIRECTORY` to enable.\n",
      "2023-02-10 15:52:35.773070: I tensorflow/compiler/jit/xla_compilation_cache.cc:477] Compiled cluster using XLA!  This line is logged at most once for the lifetime of the process.\n"
     ]
    },
    {
     "name": "stdout",
     "output_type": "stream",
     "text": [
      "469/469 [==============================] - 1s 765us/step - loss: 1.4760 - accuracy: 0.4825\n",
      "Epoch 2/5\n",
      "469/469 [==============================] - 0s 761us/step - loss: 1.0192 - accuracy: 0.6707\n",
      "Epoch 3/5\n",
      "469/469 [==============================] - 0s 734us/step - loss: 0.9001 - accuracy: 0.7257\n",
      "Epoch 4/5\n",
      "469/469 [==============================] - 0s 774us/step - loss: 0.8365 - accuracy: 0.7471\n",
      "Epoch 5/5\n",
      "469/469 [==============================] - 0s 754us/step - loss: 0.7702 - accuracy: 0.7754\n",
      "1875/1875 [==============================] - 1s 523us/step - loss: 0.6715 - accuracy: 0.8159\n",
      "313/313 [==============================] - 0s 544us/step - loss: 0.6630 - accuracy: 0.8152\n",
      "Epoch 1/5\n",
      "469/469 [==============================] - 1s 749us/step - loss: 0.8897 - accuracy: 0.7544\n",
      "Epoch 2/5\n",
      "469/469 [==============================] - 0s 801us/step - loss: 0.3955 - accuracy: 0.8927\n",
      "Epoch 3/5\n",
      "469/469 [==============================] - 0s 778us/step - loss: 0.3401 - accuracy: 0.9064\n",
      "Epoch 4/5\n",
      "469/469 [==============================] - 0s 826us/step - loss: 0.3154 - accuracy: 0.9128\n",
      "Epoch 5/5\n",
      "469/469 [==============================] - 0s 771us/step - loss: 0.3002 - accuracy: 0.9165\n",
      "1875/1875 [==============================] - 1s 559us/step - loss: 0.2922 - accuracy: 0.9190\n",
      "313/313 [==============================] - 0s 583us/step - loss: 0.2994 - accuracy: 0.9170\n",
      "Epoch 1/5\n",
      "469/469 [==============================] - 1s 802us/step - loss: 0.6119 - accuracy: 0.8349\n",
      "Epoch 2/5\n",
      "469/469 [==============================] - 0s 797us/step - loss: 0.3042 - accuracy: 0.9125\n",
      "Epoch 3/5\n",
      "469/469 [==============================] - 0s 786us/step - loss: 0.2635 - accuracy: 0.9250\n",
      "Epoch 4/5\n",
      "469/469 [==============================] - 0s 765us/step - loss: 0.2381 - accuracy: 0.9321\n",
      "Epoch 5/5\n",
      "469/469 [==============================] - 0s 813us/step - loss: 0.2216 - accuracy: 0.9379\n",
      "1875/1875 [==============================] - 1s 530us/step - loss: 0.2191 - accuracy: 0.9382\n",
      "313/313 [==============================] - 0s 611us/step - loss: 0.2271 - accuracy: 0.9354\n",
      "Epoch 1/5\n",
      "469/469 [==============================] - 1s 784us/step - loss: 0.4679 - accuracy: 0.8769\n",
      "Epoch 2/5\n",
      "469/469 [==============================] - 0s 786us/step - loss: 0.2481 - accuracy: 0.9294\n",
      "Epoch 3/5\n",
      "469/469 [==============================] - 0s 785us/step - loss: 0.2033 - accuracy: 0.9422\n",
      "Epoch 4/5\n",
      "469/469 [==============================] - 0s 820us/step - loss: 0.1757 - accuracy: 0.9498\n",
      "Epoch 5/5\n",
      "469/469 [==============================] - 0s 803us/step - loss: 0.1549 - accuracy: 0.9554\n",
      "1875/1875 [==============================] - 1s 544us/step - loss: 0.1397 - accuracy: 0.9602\n",
      "313/313 [==============================] - 0s 622us/step - loss: 0.1546 - accuracy: 0.9557\n",
      "Epoch 1/5\n",
      "469/469 [==============================] - 1s 810us/step - loss: 0.3840 - accuracy: 0.8952\n",
      "Epoch 2/5\n",
      "469/469 [==============================] - 0s 787us/step - loss: 0.2007 - accuracy: 0.9430\n",
      "Epoch 3/5\n",
      "469/469 [==============================] - 0s 793us/step - loss: 0.1538 - accuracy: 0.9555\n",
      "Epoch 4/5\n",
      "469/469 [==============================] - 0s 791us/step - loss: 0.1254 - accuracy: 0.9642\n",
      "Epoch 5/5\n",
      "469/469 [==============================] - 0s 779us/step - loss: 0.1054 - accuracy: 0.9694\n",
      "1875/1875 [==============================] - 1s 534us/step - loss: 0.0937 - accuracy: 0.9736\n",
      "313/313 [==============================] - 0s 657us/step - loss: 0.1083 - accuracy: 0.9682\n",
      "Epoch 1/5\n",
      "469/469 [==============================] - 1s 844us/step - loss: 0.3415 - accuracy: 0.9073\n",
      "Epoch 2/5\n",
      "469/469 [==============================] - 0s 781us/step - loss: 0.1650 - accuracy: 0.9523\n",
      "Epoch 3/5\n",
      "469/469 [==============================] - 0s 796us/step - loss: 0.1171 - accuracy: 0.9658\n",
      "Epoch 4/5\n",
      "469/469 [==============================] - 0s 805us/step - loss: 0.0912 - accuracy: 0.9742\n",
      "Epoch 5/5\n",
      "469/469 [==============================] - 0s 860us/step - loss: 0.0735 - accuracy: 0.9786\n",
      "1875/1875 [==============================] - 1s 538us/step - loss: 0.0625 - accuracy: 0.9819\n",
      "313/313 [==============================] - 0s 629us/step - loss: 0.0893 - accuracy: 0.9722\n",
      "Epoch 1/5\n",
      "469/469 [==============================] - 1s 770us/step - loss: 0.2940 - accuracy: 0.9171\n",
      "Epoch 2/5\n",
      "469/469 [==============================] - 0s 791us/step - loss: 0.1291 - accuracy: 0.9622\n",
      "Epoch 3/5\n",
      "469/469 [==============================] - 0s 750us/step - loss: 0.0876 - accuracy: 0.9741\n",
      "Epoch 4/5\n",
      "469/469 [==============================] - 0s 880us/step - loss: 0.0660 - accuracy: 0.9804\n",
      "Epoch 5/5\n",
      "469/469 [==============================] - 0s 808us/step - loss: 0.0512 - accuracy: 0.9850\n",
      "1875/1875 [==============================] - 1s 555us/step - loss: 0.0354 - accuracy: 0.9905\n",
      "313/313 [==============================] - 0s 626us/step - loss: 0.0684 - accuracy: 0.9800\n",
      "Epoch 1/5\n",
      "469/469 [==============================] - 1s 899us/step - loss: 0.2644 - accuracy: 0.9243\n",
      "Epoch 2/5\n",
      "469/469 [==============================] - 0s 850us/step - loss: 0.1082 - accuracy: 0.9684\n",
      "Epoch 3/5\n",
      "469/469 [==============================] - 0s 799us/step - loss: 0.0715 - accuracy: 0.9785\n",
      "Epoch 4/5\n",
      "469/469 [==============================] - 0s 839us/step - loss: 0.0524 - accuracy: 0.9840\n",
      "Epoch 5/5\n",
      "469/469 [==============================] - 0s 816us/step - loss: 0.0384 - accuracy: 0.9886\n",
      "1875/1875 [==============================] - 1s 556us/step - loss: 0.0337 - accuracy: 0.9897\n",
      "313/313 [==============================] - 0s 644us/step - loss: 0.0731 - accuracy: 0.9788\n"
     ]
    }
   ],
   "source": [
    "neuron_counts = [4, 8, 16, 32, 64, 128, 256, 512]\n",
    "\n",
    "one_layer_results = evaluate_networks(neuron_counts, single_layer_model)"
   ]
  },
  {
   "attachments": {},
   "cell_type": "markdown",
   "metadata": {},
   "source": [
    "**pandas dataframe of results**"
   ]
  },
  {
   "cell_type": "code",
   "execution_count": 7,
   "metadata": {},
   "outputs": [
    {
     "name": "stdout",
     "output_type": "stream",
     "text": [
      "   Number of Neurons  Training Accuracy  Training Loss  Testing Accuracy  \\\n",
      "0                  4           0.815883       0.671538            0.8152   \n",
      "1                  8           0.919033       0.292163            0.9170   \n",
      "2                 16           0.938217       0.219074            0.9354   \n",
      "3                 32           0.960167       0.139725            0.9557   \n",
      "4                 64           0.973600       0.093716            0.9682   \n",
      "5                128           0.981950       0.062483            0.9722   \n",
      "6                256           0.990550       0.035389            0.9800   \n",
      "7                512           0.989667       0.033696            0.9788   \n",
      "\n",
      "   Testing Loss  \n",
      "0      0.663016  \n",
      "1      0.299405  \n",
      "2      0.227123  \n",
      "3      0.154630  \n",
      "4      0.108286  \n",
      "5      0.089285  \n",
      "6      0.068397  \n",
      "7      0.073081  \n"
     ]
    }
   ],
   "source": [
    "import pandas as pd\n",
    "\n",
    "df1 = pd.DataFrame(one_layer_results)\n",
    "print(df1)"
   ]
  },
  {
   "attachments": {},
   "cell_type": "markdown",
   "metadata": {},
   "source": [
    "**plot of results**"
   ]
  },
  {
   "cell_type": "code",
   "execution_count": 8,
   "metadata": {},
   "outputs": [
    {
     "data": {
      "image/png": "[encoded data removed]",
      "text/plain": [
       "<Figure size 640x480 with 1 Axes>"
      ]
     },
     "metadata": {},
     "output_type": "display_data"
    }
   ],
   "source": [
    "import matplotlib.pyplot as plt\n",
    "\n",
    "plt.title(\"Single Hidden Layer MNIST Performance\")\n",
    "plt.xlabel(\"Number of Neurons in First Hidden Layer\")\n",
    "plt.ylabel(\"Accuracy\")\n",
    "plt.plot(neuron_counts, one_layer_results['Training Accuracy'], c='blue', label='training set accuracy')\n",
    "plt.plot(neuron_counts, one_layer_results['Testing Accuracy'], c='red', label='testing set accuracy')\n",
    "plt.legend()\n",
    "plt.show()"
   ]
  },
  {
   "attachments": {},
   "cell_type": "markdown",
   "metadata": {},
   "source": [
    "**function for generating and compiling a model with variable number of neurons in the second hidden layer**"
   ]
  },
  {
   "cell_type": "code",
   "execution_count": 9,
   "metadata": {},
   "outputs": [],
   "source": [
    "def two_layer_model(neurons):\n",
    "    model = keras.Sequential([\n",
    "        layers.Dense(256, activation=\"relu\"), # the 256 seems to be a good number in the one hidden layer model\n",
    "        layers.Dense(neurons, activation=\"relu\"),\n",
    "        layers.Dense(10, activation=\"softmax\")\n",
    "    ])\n",
    "    model.compile(\n",
    "        optimizer=\"rmsprop\",\n",
    "        loss=\"sparse_categorical_crossentropy\",\n",
    "        metrics=[\"accuracy\"]\n",
    "    )\n",
    "    return model"
   ]
  },
  {
   "attachments": {},
   "cell_type": "markdown",
   "metadata": {},
   "source": [
    "**generate models with second layer of 4 neurons up to 512, evaluate them, and store the results**"
   ]
  },
  {
   "cell_type": "code",
   "execution_count": 10,
   "metadata": {},
   "outputs": [
    {
     "name": "stdout",
     "output_type": "stream",
     "text": [
      "Epoch 1/5\n",
      "469/469 [==============================] - 1s 889us/step - loss: 1.1046 - accuracy: 0.6585\n",
      "Epoch 2/5\n",
      "469/469 [==============================] - 0s 904us/step - loss: 0.5354 - accuracy: 0.8937\n",
      "Epoch 3/5\n",
      "469/469 [==============================] - 0s 952us/step - loss: 0.3401 - accuracy: 0.9356\n",
      "Epoch 4/5\n",
      "469/469 [==============================] - 0s 940us/step - loss: 0.2179 - accuracy: 0.9566\n",
      "Epoch 5/5\n",
      "469/469 [==============================] - 0s 906us/step - loss: 0.1538 - accuracy: 0.9679\n",
      "1875/1875 [==============================] - 1s 587us/step - loss: 0.1255 - accuracy: 0.9729\n",
      "313/313 [==============================] - 0s 668us/step - loss: 0.1722 - accuracy: 0.9600\n",
      "Epoch 1/5\n",
      "469/469 [==============================] - 1s 834us/step - loss: 0.4253 - accuracy: 0.8813\n",
      "Epoch 2/5\n",
      "469/469 [==============================] - 0s 889us/step - loss: 0.1610 - accuracy: 0.9547\n",
      "Epoch 3/5\n",
      "469/469 [==============================] - 0s 882us/step - loss: 0.1102 - accuracy: 0.9685\n",
      "Epoch 4/5\n",
      "469/469 [==============================] - 0s 835us/step - loss: 0.0833 - accuracy: 0.9764\n",
      "Epoch 5/5\n",
      "469/469 [==============================] - 0s 819us/step - loss: 0.0659 - accuracy: 0.9806\n",
      "1875/1875 [==============================] - 1s 572us/step - loss: 0.0565 - accuracy: 0.9836\n",
      "313/313 [==============================] - 0s 609us/step - loss: 0.0903 - accuracy: 0.9719\n",
      "Epoch 1/5\n",
      "469/469 [==============================] - 1s 852us/step - loss: 0.3553 - accuracy: 0.9008\n",
      "Epoch 2/5\n",
      "469/469 [==============================] - 0s 881us/step - loss: 0.1482 - accuracy: 0.9564\n",
      "Epoch 3/5\n",
      "469/469 [==============================] - 0s 865us/step - loss: 0.1018 - accuracy: 0.9696\n",
      "Epoch 4/5\n",
      "469/469 [==============================] - 0s 858us/step - loss: 0.0768 - accuracy: 0.9769\n",
      "Epoch 5/5\n",
      "469/469 [==============================] - 0s 888us/step - loss: 0.0604 - accuracy: 0.9817\n",
      "1875/1875 [==============================] - 1s 544us/step - loss: 0.0432 - accuracy: 0.9877\n",
      "313/313 [==============================] - 0s 623us/step - loss: 0.0795 - accuracy: 0.9748\n",
      "Epoch 1/5\n",
      "469/469 [==============================] - 1s 861us/step - loss: 0.3058 - accuracy: 0.9127\n",
      "Epoch 2/5\n",
      "469/469 [==============================] - 0s 829us/step - loss: 0.1216 - accuracy: 0.9636\n",
      "Epoch 3/5\n",
      "469/469 [==============================] - 0s 885us/step - loss: 0.0816 - accuracy: 0.9755\n",
      "Epoch 4/5\n",
      "469/469 [==============================] - 0s 938us/step - loss: 0.0594 - accuracy: 0.9821\n",
      "Epoch 5/5\n",
      "469/469 [==============================] - 0s 940us/step - loss: 0.0455 - accuracy: 0.9859\n",
      "1875/1875 [==============================] - 1s 558us/step - loss: 0.0320 - accuracy: 0.9909\n",
      "313/313 [==============================] - 0s 650us/step - loss: 0.0751 - accuracy: 0.9747\n",
      "Epoch 1/5\n",
      "469/469 [==============================] - 1s 828us/step - loss: 0.2804 - accuracy: 0.9194\n",
      "Epoch 2/5\n",
      "469/469 [==============================] - 0s 833us/step - loss: 0.1132 - accuracy: 0.9660\n",
      "Epoch 3/5\n",
      "469/469 [==============================] - 0s 890us/step - loss: 0.0766 - accuracy: 0.9769\n",
      "Epoch 4/5\n",
      "469/469 [==============================] - 0s 839us/step - loss: 0.0554 - accuracy: 0.9827\n",
      "Epoch 5/5\n",
      "469/469 [==============================] - 0s 881us/step - loss: 0.0426 - accuracy: 0.9868\n",
      "1875/1875 [==============================] - 1s 528us/step - loss: 0.0389 - accuracy: 0.9880\n",
      "313/313 [==============================] - 0s 616us/step - loss: 0.0884 - accuracy: 0.9733\n",
      "Epoch 1/5\n",
      "469/469 [==============================] - 1s 942us/step - loss: 0.2723 - accuracy: 0.9196\n",
      "Epoch 2/5\n",
      "469/469 [==============================] - 0s 868us/step - loss: 0.1059 - accuracy: 0.9681\n",
      "Epoch 3/5\n",
      "469/469 [==============================] - 0s 904us/step - loss: 0.0685 - accuracy: 0.9788\n",
      "Epoch 4/5\n",
      "469/469 [==============================] - 0s 921us/step - loss: 0.0507 - accuracy: 0.9840\n",
      "Epoch 5/5\n",
      "469/469 [==============================] - 0s 928us/step - loss: 0.0376 - accuracy: 0.9881\n",
      "1875/1875 [==============================] - 1s 593us/step - loss: 0.0252 - accuracy: 0.9921\n",
      "313/313 [==============================] - 0s 708us/step - loss: 0.0740 - accuracy: 0.9773\n",
      "Epoch 1/5\n",
      "469/469 [==============================] - 1s 896us/step - loss: 0.2582 - accuracy: 0.9227\n",
      "Epoch 2/5\n",
      "469/469 [==============================] - 0s 955us/step - loss: 0.0983 - accuracy: 0.9702\n",
      "Epoch 3/5\n",
      "469/469 [==============================] - 0s 896us/step - loss: 0.0643 - accuracy: 0.9798\n",
      "Epoch 4/5\n",
      "469/469 [==============================] - 0s 935us/step - loss: 0.0468 - accuracy: 0.9850\n",
      "Epoch 5/5\n",
      "469/469 [==============================] - 0s 887us/step - loss: 0.0358 - accuracy: 0.9888\n",
      "1875/1875 [==============================] - 1s 570us/step - loss: 0.0197 - accuracy: 0.9940\n",
      "313/313 [==============================] - 0s 604us/step - loss: 0.0635 - accuracy: 0.9803\n",
      "Epoch 1/5\n",
      "469/469 [==============================] - 1s 851us/step - loss: 0.2526 - accuracy: 0.9232\n",
      "Epoch 2/5\n",
      "469/469 [==============================] - 0s 877us/step - loss: 0.0946 - accuracy: 0.9710\n",
      "Epoch 3/5\n",
      "469/469 [==============================] - 0s 927us/step - loss: 0.0619 - accuracy: 0.9807\n",
      "Epoch 4/5\n",
      "469/469 [==============================] - 0s 856us/step - loss: 0.0444 - accuracy: 0.9859\n",
      "Epoch 5/5\n",
      "469/469 [==============================] - 0s 920us/step - loss: 0.0329 - accuracy: 0.9897\n",
      "1875/1875 [==============================] - 1s 545us/step - loss: 0.0313 - accuracy: 0.9901\n",
      "313/313 [==============================] - 0s 630us/step - loss: 0.0802 - accuracy: 0.9775\n"
     ]
    }
   ],
   "source": [
    "\n",
    "two_layer_results = evaluate_networks(neuron_counts, two_layer_model)"
   ]
  },
  {
   "attachments": {},
   "cell_type": "markdown",
   "metadata": {},
   "source": [
    "**pandas dataframe of results**"
   ]
  },
  {
   "cell_type": "code",
   "execution_count": 11,
   "metadata": {},
   "outputs": [
    {
     "name": "stdout",
     "output_type": "stream",
     "text": [
      "   Number of Neurons  Training Accuracy  Training Loss  Testing Accuracy  \\\n",
      "0                  4           0.972850       0.125539            0.9600   \n",
      "1                  8           0.983633       0.056540            0.9719   \n",
      "2                 16           0.987717       0.043159            0.9748   \n",
      "3                 32           0.990933       0.031957            0.9747   \n",
      "4                 64           0.987983       0.038929            0.9733   \n",
      "5                128           0.992133       0.025181            0.9773   \n",
      "6                256           0.993950       0.019702            0.9803   \n",
      "7                512           0.990083       0.031318            0.9775   \n",
      "\n",
      "   Testing Loss  \n",
      "0      0.172187  \n",
      "1      0.090296  \n",
      "2      0.079454  \n",
      "3      0.075132  \n",
      "4      0.088410  \n",
      "5      0.074010  \n",
      "6      0.063537  \n",
      "7      0.080161  \n"
     ]
    }
   ],
   "source": [
    "df2 = pd.DataFrame(two_layer_results)\n",
    "print(df2)"
   ]
  },
  {
   "attachments": {},
   "cell_type": "markdown",
   "metadata": {},
   "source": [
    "**plot of results**"
   ]
  },
  {
   "cell_type": "code",
   "execution_count": 12,
   "metadata": {},
   "outputs": [
    {
     "data": {
      "image/png": "[encoded data removed]",
      "text/plain": [
       "<Figure size 640x480 with 1 Axes>"
      ]
     },
     "metadata": {},
     "output_type": "display_data"
    }
   ],
   "source": [
    "import matplotlib.pyplot as plt\n",
    "\n",
    "plt.title(\"Two Hidden Layer MNIST Performance\")\n",
    "plt.xlabel(\"Number of Neurons in Second Hidden Layer\")\n",
    "plt.ylabel(\"Accuracy\")\n",
    "plt.plot(neuron_counts, two_layer_results['Training Accuracy'], c='blue', label='training set accuracy')\n",
    "plt.plot(neuron_counts, two_layer_results['Testing Accuracy'], c='red', label='testing set accuracy')\n",
    "plt.legend()\n",
    "plt.show()"
   ]
  },
  {
   "cell_type": "code",
   "execution_count": null,
   "metadata": {},
   "outputs": [],
   "source": []
  }
 ],
 "metadata": {
  "kernelspec": {
   "display_name": "tf-py38",
   "language": "python",
   "name": "python3"
  },
  "language_info": {
   "codemirror_mode": {
    "name": "ipython",
    "version": 3
   },
   "file_extension": ".py",
   "mimetype": "text/x-python",
   "name": "python",
   "nbconvert_exporter": "python",
   "pygments_lexer": "ipython3",
   "version": "3.8.16"
  },
  "orig_nbformat": 4,
  "vscode": {
   "interpreter": {
    "hash": "0288237b4dcd3cb959217430d914fb9faefd981f75ffd9a2923e712050b1e8ae"
   }
  }
 },
 "nbformat": 4,
 "nbformat_minor": 2
}
