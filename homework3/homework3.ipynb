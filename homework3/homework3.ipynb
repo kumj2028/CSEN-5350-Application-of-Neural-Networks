{
 "cells": [
  {
   "attachments": {},
   "cell_type": "markdown",
   "metadata": {},
   "source": [
    "# Homework 3\n",
    "## Mengxiang Jiang\n",
    "\n",
    "The majority of the code here comes from the [Companion Jupyter notebooks for the book \"Deep Learning with Python\"](https://github.com/fchollet/deep-learning-with-python-notebooks) by François Chollet, specifically chapter 2.\n",
    "If the code comes from somewhere else it will have a source linked to the original.\\\n",
    "[Video Link](https://youtu.be/ZBcMe8eCq24)"
   ]
  },
  {
   "attachments": {},
   "cell_type": "markdown",
   "metadata": {},
   "source": [
    "**Loading the MNIST dataset in Keras**"
   ]
  },
  {
   "cell_type": "code",
   "execution_count": 1,
   "metadata": {},
   "outputs": [
    {
     "name": "stderr",
     "output_type": "stream",
     "text": [
      "2023-02-10 03:57:58.128895: I tensorflow/core/platform/cpu_feature_guard.cc:193] This TensorFlow binary is optimized with oneAPI Deep Neural Network Library (oneDNN) to use the following CPU instructions in performance-critical operations:  AVX2 AVX_VNNI FMA\n",
      "To enable them in other operations, rebuild TensorFlow with the appropriate compiler flags.\n",
      "2023-02-10 03:57:58.203348: I tensorflow/core/util/port.cc:104] oneDNN custom operations are on. You may see slightly different numerical results due to floating-point round-off errors from different computation orders. To turn them off, set the environment variable `TF_ENABLE_ONEDNN_OPTS=0`.\n",
      "2023-02-10 03:57:58.542398: W tensorflow/compiler/xla/stream_executor/platform/default/dso_loader.cc:64] Could not load dynamic library 'libnvinfer.so.7'; dlerror: libnvinfer.so.7: cannot open shared object file: No such file or directory; LD_LIBRARY_PATH: :/home/mengxiang/miniconda3/envs/tf/lib/\n",
      "2023-02-10 03:57:58.542433: W tensorflow/compiler/xla/stream_executor/platform/default/dso_loader.cc:64] Could not load dynamic library 'libnvinfer_plugin.so.7'; dlerror: libnvinfer_plugin.so.7: cannot open shared object file: No such file or directory; LD_LIBRARY_PATH: :/home/mengxiang/miniconda3/envs/tf/lib/\n",
      "2023-02-10 03:57:58.542436: W tensorflow/compiler/tf2tensorrt/utils/py_utils.cc:38] TF-TRT Warning: Cannot dlopen some TensorRT libraries. If you would like to use Nvidia GPU with TensorRT, please make sure the missing libraries mentioned above are installed properly.\n"
     ]
    }
   ],
   "source": [
    "from tensorflow.keras.datasets import mnist\n",
    "(train_images, train_labels), (test_images, test_labels) = mnist.load_data()"
   ]
  },
  {
   "attachments": {},
   "cell_type": "markdown",
   "metadata": {},
   "source": [
    "**Preparing the image data**"
   ]
  },
  {
   "cell_type": "code",
   "execution_count": 2,
   "metadata": {},
   "outputs": [],
   "source": [
    "train_images = train_images.reshape((60000, 28 * 28))\n",
    "train_images = train_images.astype(\"float32\") / 255\n",
    "test_images = test_images.reshape((10000, 28 * 28))\n",
    "test_images = test_images.astype(\"float32\") / 255"
   ]
  },
  {
   "attachments": {},
   "cell_type": "markdown",
   "metadata": {},
   "source": [
    "**imports for network architecture**"
   ]
  },
  {
   "cell_type": "code",
   "execution_count": 3,
   "metadata": {},
   "outputs": [],
   "source": [
    "from tensorflow import keras\n",
    "from tensorflow.keras import layers"
   ]
  },
  {
   "attachments": {},
   "cell_type": "markdown",
   "metadata": {},
   "source": [
    "**function for generating and compiling a model with variable number of neurons in the first hidden layer**"
   ]
  },
  {
   "cell_type": "code",
   "execution_count": 4,
   "metadata": {},
   "outputs": [],
   "source": [
    "def single_layer_model(neurons):\n",
    "    model = keras.Sequential([\n",
    "        layers.Dense(neurons, activation=\"relu\"),\n",
    "        layers.Dense(10, activation=\"softmax\")\n",
    "    ])\n",
    "    model.compile(\n",
    "        optimizer=\"rmsprop\",\n",
    "        loss=\"sparse_categorical_crossentropy\",\n",
    "        metrics=[\"accuracy\"]\n",
    "    )\n",
    "    return model\n"
   ]
  },
  {
   "attachments": {},
   "cell_type": "markdown",
   "metadata": {},
   "source": [
    "**generate models from 4 neurons up to 512, evaluate them, and store the results**"
   ]
  },
  {
   "cell_type": "code",
   "execution_count": 5,
   "metadata": {},
   "outputs": [
    {
     "name": "stderr",
     "output_type": "stream",
     "text": [
      "2023-02-10 03:57:59.355959: I tensorflow/compiler/xla/stream_executor/cuda/cuda_gpu_executor.cc:981] successful NUMA node read from SysFS had negative value (-1), but there must be at least one NUMA node, so returning NUMA node zero\n",
      "2023-02-10 03:57:59.359711: I tensorflow/compiler/xla/stream_executor/cuda/cuda_gpu_executor.cc:981] successful NUMA node read from SysFS had negative value (-1), but there must be at least one NUMA node, so returning NUMA node zero\n",
      "2023-02-10 03:57:59.359791: I tensorflow/compiler/xla/stream_executor/cuda/cuda_gpu_executor.cc:981] successful NUMA node read from SysFS had negative value (-1), but there must be at least one NUMA node, so returning NUMA node zero\n",
      "2023-02-10 03:57:59.360407: I tensorflow/core/platform/cpu_feature_guard.cc:193] This TensorFlow binary is optimized with oneAPI Deep Neural Network Library (oneDNN) to use the following CPU instructions in performance-critical operations:  AVX2 AVX_VNNI FMA\n",
      "To enable them in other operations, rebuild TensorFlow with the appropriate compiler flags.\n",
      "2023-02-10 03:57:59.360868: I tensorflow/compiler/xla/stream_executor/cuda/cuda_gpu_executor.cc:981] successful NUMA node read from SysFS had negative value (-1), but there must be at least one NUMA node, so returning NUMA node zero\n",
      "2023-02-10 03:57:59.360939: I tensorflow/compiler/xla/stream_executor/cuda/cuda_gpu_executor.cc:981] successful NUMA node read from SysFS had negative value (-1), but there must be at least one NUMA node, so returning NUMA node zero\n",
      "2023-02-10 03:57:59.360983: I tensorflow/compiler/xla/stream_executor/cuda/cuda_gpu_executor.cc:981] successful NUMA node read from SysFS had negative value (-1), but there must be at least one NUMA node, so returning NUMA node zero\n",
      "2023-02-10 03:57:59.652199: I tensorflow/compiler/xla/stream_executor/cuda/cuda_gpu_executor.cc:981] successful NUMA node read from SysFS had negative value (-1), but there must be at least one NUMA node, so returning NUMA node zero\n",
      "2023-02-10 03:57:59.652295: I tensorflow/compiler/xla/stream_executor/cuda/cuda_gpu_executor.cc:981] successful NUMA node read from SysFS had negative value (-1), but there must be at least one NUMA node, so returning NUMA node zero\n",
      "2023-02-10 03:57:59.652344: I tensorflow/compiler/xla/stream_executor/cuda/cuda_gpu_executor.cc:981] successful NUMA node read from SysFS had negative value (-1), but there must be at least one NUMA node, so returning NUMA node zero\n",
      "2023-02-10 03:57:59.652392: I tensorflow/core/common_runtime/gpu/gpu_device.cc:1613] Created device /job:localhost/replica:0/task:0/device:GPU:0 with 7832 MB memory:  -> device: 0, name: NVIDIA GeForce RTX 3080, pci bus id: 0000:01:00.0, compute capability: 8.6\n"
     ]
    },
    {
     "name": "stdout",
     "output_type": "stream",
     "text": [
      "Epoch 1/5\n"
     ]
    },
    {
     "name": "stderr",
     "output_type": "stream",
     "text": [
      "2023-02-10 03:58:00.438111: I tensorflow/compiler/xla/stream_executor/cuda/cuda_blas.cc:630] TensorFloat-32 will be used for the matrix multiplication. This will only be logged once.\n",
      "2023-02-10 03:58:00.440038: I tensorflow/compiler/xla/service/service.cc:173] XLA service 0x7fec35eb5100 initialized for platform CUDA (this does not guarantee that XLA will be used). Devices:\n",
      "2023-02-10 03:58:00.440053: I tensorflow/compiler/xla/service/service.cc:181]   StreamExecutor device (0): NVIDIA GeForce RTX 3080, Compute Capability 8.6\n",
      "2023-02-10 03:58:00.442392: I tensorflow/compiler/mlir/tensorflow/utils/dump_mlir_util.cc:268] disabling MLIR crash reproducer, set env var `MLIR_CRASH_REPRODUCER_DIRECTORY` to enable.\n",
      "2023-02-10 03:58:00.494185: I tensorflow/compiler/jit/xla_compilation_cache.cc:477] Compiled cluster using XLA!  This line is logged at most once for the lifetime of the process.\n"
     ]
    },
    {
     "name": "stdout",
     "output_type": "stream",
     "text": [
      "469/469 [==============================] - 2s 2ms/step - loss: 1.6569 - accuracy: 0.3867\n",
      "Epoch 2/5\n",
      "469/469 [==============================] - 1s 1ms/step - loss: 0.9280 - accuracy: 0.7196\n",
      "Epoch 3/5\n",
      "469/469 [==============================] - 1s 2ms/step - loss: 0.6692 - accuracy: 0.8118\n",
      "Epoch 4/5\n",
      "469/469 [==============================] - 1s 3ms/step - loss: 0.6062 - accuracy: 0.8282\n",
      "Epoch 5/5\n",
      "469/469 [==============================] - 1s 2ms/step - loss: 0.5782 - accuracy: 0.8366\n",
      "1875/1875 [==============================] - 1s 644us/step - loss: 0.5647 - accuracy: 0.8413\n",
      "313/313 [==============================] - 0s 742us/step - loss: 0.5498 - accuracy: 0.8490\n",
      "Epoch 1/5\n",
      "469/469 [==============================] - 1s 2ms/step - loss: 0.7893 - accuracy: 0.7866\n",
      "Epoch 2/5\n",
      "469/469 [==============================] - 1s 3ms/step - loss: 0.3844 - accuracy: 0.8909\n",
      "Epoch 3/5\n",
      "469/469 [==============================] - 1s 2ms/step - loss: 0.3399 - accuracy: 0.9029\n",
      "Epoch 4/5\n",
      "469/469 [==============================] - 1s 2ms/step - loss: 0.3197 - accuracy: 0.9090\n",
      "Epoch 5/5\n",
      "469/469 [==============================] - 1s 3ms/step - loss: 0.3073 - accuracy: 0.9136\n",
      "1875/1875 [==============================] - 1s 737us/step - loss: 0.3003 - accuracy: 0.9163\n",
      "313/313 [==============================] - 0s 889us/step - loss: 0.2994 - accuracy: 0.9153\n",
      "Epoch 1/5\n",
      "469/469 [==============================] - 2s 2ms/step - loss: 0.5845 - accuracy: 0.8362\n",
      "Epoch 2/5\n",
      "469/469 [==============================] - 1s 2ms/step - loss: 0.2944 - accuracy: 0.9169\n",
      "Epoch 3/5\n",
      "469/469 [==============================] - 2s 3ms/step - loss: 0.2536 - accuracy: 0.9286\n",
      "Epoch 4/5\n",
      "469/469 [==============================] - 1s 3ms/step - loss: 0.2275 - accuracy: 0.9362\n",
      "Epoch 5/5\n",
      "469/469 [==============================] - 1s 2ms/step - loss: 0.2108 - accuracy: 0.9404\n",
      "1875/1875 [==============================] - 1s 727us/step - loss: 0.2005 - accuracy: 0.9431\n",
      "313/313 [==============================] - 0s 1ms/step - loss: 0.2094 - accuracy: 0.9410\n",
      "Epoch 1/5\n",
      "469/469 [==============================] - 1s 1ms/step - loss: 0.4727 - accuracy: 0.8735\n",
      "Epoch 2/5\n",
      "469/469 [==============================] - 1s 2ms/step - loss: 0.2618 - accuracy: 0.9273\n",
      "Epoch 3/5\n",
      "469/469 [==============================] - 1s 2ms/step - loss: 0.2182 - accuracy: 0.9387\n",
      "Epoch 4/5\n",
      "469/469 [==============================] - 1s 2ms/step - loss: 0.1885 - accuracy: 0.9473\n",
      "Epoch 5/5\n",
      "469/469 [==============================] - 1s 3ms/step - loss: 0.1663 - accuracy: 0.9533\n",
      "1875/1875 [==============================] - 2s 813us/step - loss: 0.1512 - accuracy: 0.9570\n",
      "313/313 [==============================] - 0s 730us/step - loss: 0.1615 - accuracy: 0.9548\n",
      "Epoch 1/5\n",
      "469/469 [==============================] - 2s 3ms/step - loss: 0.3894 - accuracy: 0.8956\n",
      "Epoch 2/5\n",
      "469/469 [==============================] - 1s 2ms/step - loss: 0.2020 - accuracy: 0.9431\n",
      "Epoch 3/5\n",
      "469/469 [==============================] - 1s 2ms/step - loss: 0.1544 - accuracy: 0.9560\n",
      "Epoch 4/5\n",
      "469/469 [==============================] - 1s 2ms/step - loss: 0.1260 - accuracy: 0.9642\n",
      "Epoch 5/5\n",
      "469/469 [==============================] - 1s 2ms/step - loss: 0.1070 - accuracy: 0.9689\n",
      "1875/1875 [==============================] - 1s 771us/step - loss: 0.0925 - accuracy: 0.9736\n",
      "313/313 [==============================] - 0s 743us/step - loss: 0.1129 - accuracy: 0.9664\n",
      "Epoch 1/5\n",
      "469/469 [==============================] - 1s 2ms/step - loss: 0.3353 - accuracy: 0.9076\n",
      "Epoch 2/5\n",
      "469/469 [==============================] - 1s 1ms/step - loss: 0.1617 - accuracy: 0.9527\n",
      "Epoch 3/5\n",
      "469/469 [==============================] - 1s 3ms/step - loss: 0.1147 - accuracy: 0.9665\n",
      "Epoch 4/5\n",
      "469/469 [==============================] - 1s 2ms/step - loss: 0.0891 - accuracy: 0.9742\n",
      "Epoch 5/5\n",
      "469/469 [==============================] - 1s 3ms/step - loss: 0.0727 - accuracy: 0.9786\n",
      "1875/1875 [==============================] - 1s 683us/step - loss: 0.0557 - accuracy: 0.9843\n",
      "313/313 [==============================] - 1s 2ms/step - loss: 0.0811 - accuracy: 0.9750\n",
      "Epoch 1/5\n",
      "469/469 [==============================] - 1s 3ms/step - loss: 0.2944 - accuracy: 0.9175\n",
      "Epoch 2/5\n",
      "469/469 [==============================] - 1s 2ms/step - loss: 0.1316 - accuracy: 0.9619\n",
      "Epoch 3/5\n",
      "469/469 [==============================] - 1s 2ms/step - loss: 0.0905 - accuracy: 0.9735\n",
      "Epoch 4/5\n",
      "469/469 [==============================] - 1s 2ms/step - loss: 0.0669 - accuracy: 0.9802\n",
      "Epoch 5/5\n",
      "469/469 [==============================] - 1s 2ms/step - loss: 0.0527 - accuracy: 0.9849\n",
      "1875/1875 [==============================] - 2s 982us/step - loss: 0.0401 - accuracy: 0.9887\n",
      "313/313 [==============================] - 0s 1ms/step - loss: 0.0743 - accuracy: 0.9769\n",
      "Epoch 1/5\n",
      "469/469 [==============================] - 2s 3ms/step - loss: 0.2629 - accuracy: 0.9240\n",
      "Epoch 2/5\n",
      "469/469 [==============================] - 1s 3ms/step - loss: 0.1075 - accuracy: 0.9682\n",
      "Epoch 3/5\n",
      "469/469 [==============================] - 1s 3ms/step - loss: 0.0713 - accuracy: 0.9793\n",
      "Epoch 4/5\n",
      "469/469 [==============================] - 1s 3ms/step - loss: 0.0519 - accuracy: 0.9843\n",
      "Epoch 5/5\n",
      "469/469 [==============================] - 1s 2ms/step - loss: 0.0384 - accuracy: 0.9887\n",
      "1875/1875 [==============================] - 2s 851us/step - loss: 0.0262 - accuracy: 0.9925\n",
      "313/313 [==============================] - 0s 697us/step - loss: 0.0649 - accuracy: 0.9789\n"
     ]
    }
   ],
   "source": [
    "neurons = [4, 8, 16, 32, 64, 128, 256, 512]\n",
    "train_accuracies = []\n",
    "test_accuracies = []\n",
    "for n in neurons:\n",
    "    model = single_layer_model(n)\n",
    "    model.fit(train_images, train_labels, epochs=5, batch_size=128)\n",
    "    train_loss, train_acc = model.evaluate(train_images, train_labels)\n",
    "    train_accuracies.append(train_acc)\n",
    "    test_loss, test_acc = model.evaluate(test_images, test_labels)\n",
    "    test_accuracies.append(test_acc)\n"
   ]
  },
  {
   "attachments": {},
   "cell_type": "markdown",
   "metadata": {},
   "source": [
    "**pandas dataframe of results**"
   ]
  },
  {
   "cell_type": "code",
   "execution_count": 6,
   "metadata": {},
   "outputs": [
    {
     "name": "stdout",
     "output_type": "stream",
     "text": [
      "   Number of Neurons  Training Accuracy  Testing Accuracy\n",
      "0                  4           0.841317            0.8490\n",
      "1                  8           0.916283            0.9153\n",
      "2                 16           0.943067            0.9410\n",
      "3                 32           0.957000            0.9548\n",
      "4                 64           0.973600            0.9664\n",
      "5                128           0.984250            0.9750\n",
      "6                256           0.988717            0.9769\n",
      "7                512           0.992517            0.9789\n"
     ]
    }
   ],
   "source": [
    "import pandas as pd\n",
    "\n",
    "data = {\n",
    "    'Number of Neurons': neurons,\n",
    "    'Training Accuracy': train_accuracies,\n",
    "    'Testing Accuracy': test_accuracies\n",
    "}\n",
    "\n",
    "df1 = pd.DataFrame(data)\n",
    "print(df1)"
   ]
  },
  {
   "attachments": {},
   "cell_type": "markdown",
   "metadata": {},
   "source": [
    "**plot of results**"
   ]
  },
  {
   "cell_type": "code",
   "execution_count": 7,
   "metadata": {},
   "outputs": [
    {
     "data": {
      "image/png": "[encoded data removed]",
      "text/plain": [
       "<Figure size 640x480 with 1 Axes>"
      ]
     },
     "metadata": {},
     "output_type": "display_data"
    }
   ],
   "source": [
    "import matplotlib.pyplot as plt\n",
    "\n",
    "plt.title(\"Single Hidden Layer MNIST Performance\")\n",
    "plt.xlabel(\"Number of Neurons in First Hidden Layer\")\n",
    "plt.ylabel(\"Accuracy\")\n",
    "plt.plot(neurons, train_accuracies, c='blue', label='training set accuracy')\n",
    "plt.plot(neurons, test_accuracies, c='red', label='testing set accuracy')\n",
    "plt.legend()\n",
    "plt.show()"
   ]
  },
  {
   "attachments": {},
   "cell_type": "markdown",
   "metadata": {},
   "source": [
    "**function for generating and compiling a model with variable number of neurons in the second hidden layer**"
   ]
  },
  {
   "cell_type": "code",
   "execution_count": 8,
   "metadata": {},
   "outputs": [],
   "source": [
    "def two_layer_model(neurons):\n",
    "    model = keras.Sequential([\n",
    "        layers.Dense(128, activation=\"relu\"),\n",
    "        layers.Dense(neurons, activation=\"relu\"),\n",
    "        layers.Dense(10, activation=\"softmax\")\n",
    "    ])\n",
    "    model.compile(\n",
    "        optimizer=\"rmsprop\",\n",
    "        loss=\"sparse_categorical_crossentropy\",\n",
    "        metrics=[\"accuracy\"]\n",
    "    )\n",
    "    return model"
   ]
  },
  {
   "attachments": {},
   "cell_type": "markdown",
   "metadata": {},
   "source": [
    "**generate models from 4 neurons up to 512, evaluate them, and store the results**"
   ]
  },
  {
   "cell_type": "code",
   "execution_count": 9,
   "metadata": {},
   "outputs": [
    {
     "name": "stdout",
     "output_type": "stream",
     "text": [
      "Epoch 1/5\n",
      "469/469 [==============================] - 2s 3ms/step - loss: 1.1789 - accuracy: 0.5788\n",
      "Epoch 2/5\n",
      "469/469 [==============================] - 2s 4ms/step - loss: 0.3390 - accuracy: 0.9089\n",
      "Epoch 3/5\n",
      "469/469 [==============================] - 2s 3ms/step - loss: 0.2172 - accuracy: 0.9398\n",
      "Epoch 4/5\n",
      "469/469 [==============================] - 1s 3ms/step - loss: 0.1710 - accuracy: 0.9530\n",
      "Epoch 5/5\n",
      "469/469 [==============================] - 2s 4ms/step - loss: 0.1432 - accuracy: 0.9605\n",
      "1875/1875 [==============================] - 2s 1ms/step - loss: 0.1273 - accuracy: 0.9648\n",
      "313/313 [==============================] - 0s 1ms/step - loss: 0.1697 - accuracy: 0.9523\n",
      "Epoch 1/5\n",
      "469/469 [==============================] - 1s 2ms/step - loss: 0.5118 - accuracy: 0.8604\n",
      "Epoch 2/5\n",
      "469/469 [==============================] - 1s 3ms/step - loss: 0.1943 - accuracy: 0.9467\n",
      "Epoch 3/5\n",
      "469/469 [==============================] - 1s 3ms/step - loss: 0.1388 - accuracy: 0.9610\n",
      "Epoch 4/5\n",
      "469/469 [==============================] - 2s 4ms/step - loss: 0.1104 - accuracy: 0.9683\n",
      "Epoch 5/5\n",
      "469/469 [==============================] - 1s 2ms/step - loss: 0.0918 - accuracy: 0.9741\n",
      "1875/1875 [==============================] - 1s 680us/step - loss: 0.0769 - accuracy: 0.9789\n",
      "313/313 [==============================] - 0s 609us/step - loss: 0.1022 - accuracy: 0.9673\n",
      "Epoch 1/5\n",
      "469/469 [==============================] - 2s 3ms/step - loss: 0.4265 - accuracy: 0.8800\n",
      "Epoch 2/5\n",
      "469/469 [==============================] - 1s 3ms/step - loss: 0.1628 - accuracy: 0.9529\n",
      "Epoch 3/5\n",
      "469/469 [==============================] - 2s 4ms/step - loss: 0.1161 - accuracy: 0.9653\n",
      "Epoch 4/5\n",
      "469/469 [==============================] - 1s 3ms/step - loss: 0.0905 - accuracy: 0.9735\n",
      "Epoch 5/5\n",
      "469/469 [==============================] - 1s 2ms/step - loss: 0.0733 - accuracy: 0.9787\n",
      "1875/1875 [==============================] - 2s 776us/step - loss: 0.0601 - accuracy: 0.9821\n",
      "313/313 [==============================] - 0s 1ms/step - loss: 0.0830 - accuracy: 0.9736\n",
      "Epoch 1/5\n",
      "469/469 [==============================] - 2s 3ms/step - loss: 0.3501 - accuracy: 0.9008\n",
      "Epoch 2/5\n",
      "469/469 [==============================] - 1s 3ms/step - loss: 0.1503 - accuracy: 0.9556\n",
      "Epoch 3/5\n",
      "469/469 [==============================] - 1s 3ms/step - loss: 0.1014 - accuracy: 0.9702\n",
      "Epoch 4/5\n",
      "469/469 [==============================] - 1s 3ms/step - loss: 0.0762 - accuracy: 0.9772\n",
      "Epoch 5/5\n",
      "469/469 [==============================] - 1s 3ms/step - loss: 0.0623 - accuracy: 0.9810\n",
      "1875/1875 [==============================] - 2s 860us/step - loss: 0.0453 - accuracy: 0.9871\n",
      "313/313 [==============================] - 0s 1ms/step - loss: 0.0829 - accuracy: 0.9751\n",
      "Epoch 1/5\n",
      "469/469 [==============================] - 2s 3ms/step - loss: 0.3331 - accuracy: 0.9049\n",
      "Epoch 2/5\n",
      "469/469 [==============================] - 2s 4ms/step - loss: 0.1383 - accuracy: 0.9599\n",
      "Epoch 3/5\n",
      "469/469 [==============================] - 2s 4ms/step - loss: 0.0969 - accuracy: 0.9706\n",
      "Epoch 4/5\n",
      "469/469 [==============================] - 2s 4ms/step - loss: 0.0725 - accuracy: 0.9778\n",
      "Epoch 5/5\n",
      "469/469 [==============================] - 1s 3ms/step - loss: 0.0578 - accuracy: 0.9827\n",
      "1875/1875 [==============================] - 2s 993us/step - loss: 0.0484 - accuracy: 0.9847\n",
      "313/313 [==============================] - 0s 1ms/step - loss: 0.0821 - accuracy: 0.9751\n",
      "Epoch 1/5\n",
      "469/469 [==============================] - 2s 3ms/step - loss: 0.3109 - accuracy: 0.9098\n",
      "Epoch 2/5\n",
      "469/469 [==============================] - 2s 4ms/step - loss: 0.1294 - accuracy: 0.9610\n",
      "Epoch 3/5\n",
      "469/469 [==============================] - 2s 4ms/step - loss: 0.0879 - accuracy: 0.9734\n",
      "Epoch 4/5\n",
      "469/469 [==============================] - 2s 4ms/step - loss: 0.0661 - accuracy: 0.9801\n",
      "Epoch 5/5\n",
      "469/469 [==============================] - 2s 4ms/step - loss: 0.0523 - accuracy: 0.9839\n",
      "1875/1875 [==============================] - 2s 991us/step - loss: 0.0372 - accuracy: 0.9893\n",
      "313/313 [==============================] - 0s 715us/step - loss: 0.0779 - accuracy: 0.9769\n",
      "Epoch 1/5\n",
      "469/469 [==============================] - 2s 4ms/step - loss: 0.3020 - accuracy: 0.9114\n",
      "Epoch 2/5\n",
      "469/469 [==============================] - 2s 4ms/step - loss: 0.1217 - accuracy: 0.9625\n",
      "Epoch 3/5\n",
      "469/469 [==============================] - 2s 3ms/step - loss: 0.0835 - accuracy: 0.9743\n",
      "Epoch 4/5\n",
      "469/469 [==============================] - 2s 4ms/step - loss: 0.0625 - accuracy: 0.9802\n",
      "Epoch 5/5\n",
      "469/469 [==============================] - 2s 4ms/step - loss: 0.0495 - accuracy: 0.9846\n",
      "1875/1875 [==============================] - 2s 926us/step - loss: 0.0476 - accuracy: 0.9844\n",
      "313/313 [==============================] - 0s 1ms/step - loss: 0.0886 - accuracy: 0.9738\n",
      "Epoch 1/5\n",
      "469/469 [==============================] - 1s 2ms/step - loss: 0.2792 - accuracy: 0.9164\n",
      "Epoch 2/5\n",
      "469/469 [==============================] - 1s 3ms/step - loss: 0.1101 - accuracy: 0.9664\n",
      "Epoch 3/5\n",
      "469/469 [==============================] - 1s 2ms/step - loss: 0.0750 - accuracy: 0.9773\n",
      "Epoch 4/5\n",
      "469/469 [==============================] - 1s 3ms/step - loss: 0.0563 - accuracy: 0.9826\n",
      "Epoch 5/5\n",
      "469/469 [==============================] - 1s 2ms/step - loss: 0.0443 - accuracy: 0.9861\n",
      "1875/1875 [==============================] - 2s 974us/step - loss: 0.0324 - accuracy: 0.9898\n",
      "313/313 [==============================] - 0s 1ms/step - loss: 0.0816 - accuracy: 0.9749\n"
     ]
    }
   ],
   "source": [
    "neurons = [4, 8, 16, 32, 64, 128, 256, 512]\n",
    "train_accuracies = []\n",
    "test_accuracies = []\n",
    "for n in neurons:\n",
    "    model = two_layer_model(n)\n",
    "    model.fit(train_images, train_labels, epochs=5, batch_size=128)\n",
    "    train_loss, train_acc = model.evaluate(train_images, train_labels)\n",
    "    train_accuracies.append(train_acc)\n",
    "    test_loss, test_acc = model.evaluate(test_images, test_labels)\n",
    "    test_accuracies.append(test_acc)\n"
   ]
  },
  {
   "attachments": {},
   "cell_type": "markdown",
   "metadata": {},
   "source": [
    "**pandas dataframe of results**"
   ]
  },
  {
   "cell_type": "code",
   "execution_count": 10,
   "metadata": {},
   "outputs": [
    {
     "name": "stdout",
     "output_type": "stream",
     "text": [
      "   Number of Neurons  Training Accuracy  Testing Accuracy\n",
      "0                  4           0.964767            0.9523\n",
      "1                  8           0.978933            0.9673\n",
      "2                 16           0.982067            0.9736\n",
      "3                 32           0.987117            0.9751\n",
      "4                 64           0.984750            0.9751\n",
      "5                128           0.989283            0.9769\n",
      "6                256           0.984433            0.9738\n",
      "7                512           0.989750            0.9749\n"
     ]
    }
   ],
   "source": [
    "data = {\n",
    "    'Number of Neurons': neurons,\n",
    "    'Training Accuracy': train_accuracies,\n",
    "    'Testing Accuracy': test_accuracies\n",
    "}\n",
    "\n",
    "df2 = pd.DataFrame(data)\n",
    "print(df2)"
   ]
  },
  {
   "attachments": {},
   "cell_type": "markdown",
   "metadata": {},
   "source": [
    "**plot of results**"
   ]
  },
  {
   "cell_type": "code",
   "execution_count": 11,
   "metadata": {},
   "outputs": [
    {
     "data": {
      "image/png": "[encoded data removed]",
      "text/plain": [
       "<Figure size 640x480 with 1 Axes>"
      ]
     },
     "metadata": {},
     "output_type": "display_data"
    }
   ],
   "source": [
    "import matplotlib.pyplot as plt\n",
    "\n",
    "plt.title(\"Two Hidden Layer MNIST Performance\")\n",
    "plt.xlabel(\"Number of Neurons in Second Hidden Layer\")\n",
    "plt.ylabel(\"Accuracy\")\n",
    "plt.plot(neurons, train_accuracies, c='blue', label='training set accuracy')\n",
    "plt.plot(neurons, test_accuracies, c='red', label='testing set accuracy')\n",
    "plt.legend()\n",
    "plt.show()"
   ]
  },
  {
   "cell_type": "code",
   "execution_count": null,
   "metadata": {},
   "outputs": [],
   "source": []
  }
 ],
 "metadata": {
  "kernelspec": {
   "display_name": "tf",
   "language": "python",
   "name": "python3"
  },
  "language_info": {
   "codemirror_mode": {
    "name": "ipython",
    "version": 3
   },
   "file_extension": ".py",
   "mimetype": "text/x-python",
   "name": "python",
   "nbconvert_exporter": "python",
   "pygments_lexer": "ipython3",
   "version": "3.10.9"
  },
  "orig_nbformat": 4,
  "vscode": {
   "interpreter": {
    "hash": "540e916a70b031968b36af65bb9729790f056dcb0082cb67873bc70b5e80d420"
   }
  }
 },
 "nbformat": 4,
 "nbformat_minor": 2
}
