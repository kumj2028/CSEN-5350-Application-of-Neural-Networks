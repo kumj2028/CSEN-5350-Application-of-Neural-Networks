{
 "cells": [
  {
   "attachments": {},
   "cell_type": "markdown",
   "metadata": {},
   "source": [
    "# Homework 1\n",
    "## Mengxiang Jiang\n",
    "\n",
    "The majority of the code here comes from the [NumPy Cheat Sheet](https://www.datacamp.com/cheat-sheet/numpy-cheat-sheet-data-analysis-in-python)\n",
    "and the [Pandas Basics Cheat Sheet](https://www.datacamp.com/cheat-sheet/pandas-cheat-sheet-for-data-science-in-python). \n",
    "If the code comes from somewhere else it will have a source linked to the original. Some of the code has been modified from the original to show errors or to remove errors."
   ]
  },
  {
   "attachments": {},
   "cell_type": "markdown",
   "metadata": {},
   "source": [
    "### Importing Numpy"
   ]
  },
  {
   "cell_type": "code",
   "execution_count": 1,
   "metadata": {},
   "outputs": [],
   "source": [
    "import numpy as np"
   ]
  },
  {
   "attachments": {},
   "cell_type": "markdown",
   "metadata": {},
   "source": [
    "### Creating Arrays"
   ]
  },
  {
   "cell_type": "code",
   "execution_count": 2,
   "metadata": {},
   "outputs": [
    {
     "name": "stdout",
     "output_type": "stream",
     "text": [
      "a:\n",
      "[1 2 3]\n",
      "b:\n",
      "[[1.5 2.  3. ]\n",
      " [4.  5.  6. ]]\n",
      "c:\n",
      "[[[1.5 2.  3. ]\n",
      "  [4.  5.  6. ]]\n",
      "\n",
      " [[3.  2.  1. ]\n",
      "  [4.  5.  6. ]]]\n"
     ]
    }
   ],
   "source": [
    "a = np.array([1,2,3])\n",
    "b = np.array([(1.5,2,3), (4,5,6)], dtype = float)\n",
    "c = np.array([[(1.5,2,3), (4,5,6)],[(3,2,1), (4,5,6)]], dtype = float)\n",
    "\n",
    "print(f\"a:\\n{a}\")\n",
    "print(f\"b:\\n{b}\")\n",
    "print(f\"c:\\n{c}\")"
   ]
  },
  {
   "cell_type": "code",
   "execution_count": 3,
   "metadata": {},
   "outputs": [
    {
     "name": "stdout",
     "output_type": "stream",
     "text": [
      "zeros:\n",
      "[[0. 0. 0. 0.]\n",
      " [0. 0. 0. 0.]\n",
      " [0. 0. 0. 0.]]\n",
      "ones:\n",
      "[[[1 1 1 1]\n",
      "  [1 1 1 1]\n",
      "  [1 1 1 1]]\n",
      "\n",
      " [[1 1 1 1]\n",
      "  [1 1 1 1]\n",
      "  [1 1 1 1]]]\n",
      "arange:\n",
      "[10 15 20]\n",
      "linspace:\n",
      "[0.   0.25 0.5  0.75 1.   1.25 1.5  1.75 2.  ]\n",
      "full:\n",
      "[[7 7]\n",
      " [7 7]]\n",
      "eye:\n",
      "[[1. 0.]\n",
      " [0. 1.]]\n",
      "random:\n",
      "[[0.99947062 0.36766825]\n",
      " [0.64068206 0.56773307]]\n",
      "empty:\n",
      "[[1.39069238e-309 1.39069238e-309]\n",
      " [1.39069238e-309 1.39069238e-309]\n",
      " [1.39069238e-309 1.39069238e-309]]\n"
     ]
    }
   ],
   "source": [
    "print(f\"zeros:\\n{np.zeros((3,4))}\") #Create an array of zeros\n",
    "print(f\"ones:\\n{np.ones((2,3,4),dtype=np.int16)}\") #Create an array of ones\n",
    "print(f\"arange:\\n{ np.arange(10,25,5)}\") #Create an array of evenly spaced values (step value)\n",
    "print(f\"linspace:\\n{np.linspace(0,2,9)}\") #Create an array of evenlyspaced values (number of samples)\n",
    "print(f\"full:\\n{np.full((2,2),7)}\") #Create a constant array\n",
    "print(f\"eye:\\n{np.eye(2)}\") #Create a 2X2 identity matrix\n",
    "print(f\"random:\\n{np.random.random((2,2))}\") #Create an array with random values\n",
    "print(f\"empty:\\n{np.empty((3,2))}\") #Create an empty array"
   ]
  },
  {
   "attachments": {},
   "cell_type": "markdown",
   "metadata": {},
   "source": [
    "### I/O"
   ]
  },
  {
   "cell_type": "code",
   "execution_count": 4,
   "metadata": {},
   "outputs": [
    {
     "name": "stdout",
     "output_type": "stream",
     "text": [
      "a:\n",
      "[[0.89544607 0.25142219]\n",
      " [0.07646361 0.64283289]]\n",
      "a:\n",
      "[[0.31699701 0.41379326]\n",
      " [0.16368251 0.86271526]]\n",
      "loading a:\n",
      "[[0.89544607 0.25142219]\n",
      " [0.07646361 0.64283289]]\n"
     ]
    }
   ],
   "source": [
    "a = np.random.random((2,2))\n",
    "b = np.random.random((2,2))\n",
    "print(f\"a:\\n{a}\")\n",
    "print(f\"a:\\n{b}\")\n",
    "np.save('my_array' , a)\n",
    "print(f\"loading a:\\n{np.load('my_array.npy')}\")"
   ]
  },
  {
   "attachments": {},
   "cell_type": "markdown",
   "metadata": {},
   "source": [
    "[numpy.savez](https://numpy.org/doc/stable/reference/generated/numpy.savez.html)"
   ]
  },
  {
   "cell_type": "code",
   "execution_count": 5,
   "metadata": {},
   "outputs": [
    {
     "name": "stdout",
     "output_type": "stream",
     "text": [
      "npzfile['a']:\n",
      "[[0.89544607 0.25142219]\n",
      " [0.07646361 0.64283289]]\n",
      "npzfile['b']:\n",
      "[[0.31699701 0.41379326]\n",
      " [0.16368251 0.86271526]]\n"
     ]
    }
   ],
   "source": [
    "np.savez('array.npz', a=a, b=b)\n",
    "npzfile = np.load('array.npz')\n",
    "print(f\"npzfile['a']:\\n{npzfile['a']}\")\n",
    "print(f\"npzfile['b']:\\n{npzfile['b']}\")"
   ]
  },
  {
   "cell_type": "code",
   "execution_count": 6,
   "metadata": {},
   "outputs": [
    {
     "name": "stdout",
     "output_type": "stream",
     "text": [
      "[[0.89544607 0.25142219]\n",
      " [0.07646361 0.64283289]]\n"
     ]
    }
   ],
   "source": [
    "np.savetxt('myfile.txt', a)\n",
    "print(np.loadtxt('myfile.txt'))\n"
   ]
  },
  {
   "cell_type": "code",
   "execution_count": 7,
   "metadata": {},
   "outputs": [
    {
     "name": "stdout",
     "output_type": "stream",
     "text": [
      "[[0.89544607 0.25142219]\n",
      " [0.07646361 0.64283289]]\n"
     ]
    }
   ],
   "source": [
    "np.savetxt( 'my_file.csv', a, delimiter=',')\n",
    "print(np.genfromtxt('my_file.csv', delimiter=','))"
   ]
  },
  {
   "attachments": {},
   "cell_type": "markdown",
   "metadata": {},
   "source": [
    "### Asking For Help"
   ]
  },
  {
   "cell_type": "code",
   "execution_count": 8,
   "metadata": {},
   "outputs": [
    {
     "name": "stdout",
     "output_type": "stream",
     "text": [
      "Data-type of the array's elements.\n",
      "\n",
      ".. warning::\n",
      "\n",
      "    Setting ``arr.dtype`` is discouraged and may be deprecated in the\n",
      "    future.  Setting will replace the ``dtype`` without modifying the\n",
      "    memory (see also `ndarray.view` and `ndarray.astype`).\n",
      "\n",
      "Parameters\n",
      "----------\n",
      "None\n",
      "\n",
      "Returns\n",
      "-------\n",
      "d : numpy dtype object\n",
      "\n",
      "See Also\n",
      "--------\n",
      "ndarray.astype : Cast the values contained in the array to a new data-type.\n",
      "ndarray.view : Create a view of the same data but a different data-type.\n",
      "numpy.dtype\n",
      "\n",
      "Examples\n",
      "--------\n",
      ">>> x\n",
      "array([[0, 1],\n",
      "       [2, 3]])\n",
      ">>> x.dtype\n",
      "dtype('int32')\n",
      ">>> type(x.dtype)\n",
      "<type 'numpy.dtype'>\n",
      "None\n"
     ]
    }
   ],
   "source": [
    "print(np.info(np.ndarray.dtype))"
   ]
  },
  {
   "attachments": {},
   "cell_type": "markdown",
   "metadata": {},
   "source": [
    "### Inspecting Your Array"
   ]
  },
  {
   "cell_type": "code",
   "execution_count": 9,
   "metadata": {},
   "outputs": [
    {
     "name": "stdout",
     "output_type": "stream",
     "text": [
      "shape: (2, 2)\n",
      "len: 2\n",
      "ndim: 2\n",
      "size: 4\n",
      "dtype:float64\n",
      "dtype.name: float64\n",
      "astype:\n",
      "[[0 0]\n",
      " [0 0]]\n"
     ]
    }
   ],
   "source": [
    "print(f\"shape: {a.shape}\") #Array dimensions\n",
    "print(f\"len: {len(a)}\")#Length of array\n",
    "print(f\"ndim: {a.ndim}\") #Number of array dimensions\n",
    "print(f\"size: {a.size}\") #Number of array elements\n",
    "print(f\"dtype:{a.dtype}\")  #Data type of array elements\n",
    "print(f\"dtype.name: {a.dtype.name}\")  #Name of data type\n",
    "print(f\"astype:\\n{a.astype(int)}\") #Convert an array to a different type"
   ]
  },
  {
   "attachments": {},
   "cell_type": "markdown",
   "metadata": {},
   "source": [
    "### Data Types"
   ]
  },
  {
   "cell_type": "code",
   "execution_count": 10,
   "metadata": {},
   "outputs": [
    {
     "name": "stdout",
     "output_type": "stream",
     "text": [
      "original: [ 3.1415  2.718  -1.      0.    ]\n",
      "int_: [ 3  2 -1  0]\n",
      "uint: [         3          2 4294967295          0]\n",
      "float_: [ 3.1415  2.718  -1.      0.    ]\n",
      "complex_: [ 3.1415+0.j  2.718 +0.j -1.    +0.j  0.    +0.j]\n",
      "bool_: [ True  True  True False]\n",
      "object_: [3.1415 2.718 -1.0 0.0]\n",
      "string_: [b'3.1415' b'2.718' b'-1.0' b'0.0']\n",
      "unicode_: ['3.1415' '2.718' '-1.0' '0.0']\n"
     ]
    }
   ],
   "source": [
    "c = np.array([3.1415, 2.718, -1, 0])\n",
    "print(f\"original: {c}\")\n",
    "print(f\"int_: {c.astype(np.int_)}\") #Signed integer\n",
    "print(f\"uint: {c.astype(np.uint)}\") #Unsigned integer\n",
    "print(f\"float_: {c.astype(np.float_)}\") #Floating point\n",
    "print(f\"complex_: {c.astype(np.complex_)}\") #Complex numbers\n",
    "print(f\"bool_: {c.astype(np.bool_)}\")  #Boolean type storing TRUE and FALSE values\n",
    "print(f\"object_: {c.astype(np.object_)}\") #Python object type\n",
    "print(f\"string_: {c.astype(np.string_)}\") #Fixed-length string type\n",
    "print(f\"unicode_: {c.astype(np.unicode_)}\") #Fixed-length unicode type"
   ]
  },
  {
   "attachments": {},
   "cell_type": "markdown",
   "metadata": {},
   "source": [
    "### Array Mathematics\n",
    "#### Subtraction"
   ]
  },
  {
   "cell_type": "code",
   "execution_count": 11,
   "metadata": {},
   "outputs": [
    {
     "name": "stdout",
     "output_type": "stream",
     "text": [
      "a-b:\n",
      "[[ 0.57844907 -0.16237107]\n",
      " [-0.0872189  -0.21988238]]\n",
      "np.subtract(a,b):\n",
      "[[ 0.57844907 -0.16237107]\n",
      " [-0.0872189  -0.21988238]]\n"
     ]
    }
   ],
   "source": [
    "print(f\"a-b:\\n{a-b}\")\n",
    "print(f\"np.subtract(a,b):\\n{np.subtract(a, b)}\")"
   ]
  },
  {
   "attachments": {},
   "cell_type": "markdown",
   "metadata": {},
   "source": [
    "#### Addition"
   ]
  },
  {
   "cell_type": "code",
   "execution_count": 12,
   "metadata": {},
   "outputs": [
    {
     "name": "stdout",
     "output_type": "stream",
     "text": [
      "a+b:\n",
      "[[1.21244308 0.66521545]\n",
      " [0.24014613 1.50554815]]\n",
      "np.add(a,b):\n",
      "[[1.21244308 0.66521545]\n",
      " [0.24014613 1.50554815]]\n"
     ]
    }
   ],
   "source": [
    "print(f\"a+b:\\n{a+b}\")\n",
    "print(f\"np.add(a,b):\\n{np.add(a, b)}\")"
   ]
  },
  {
   "attachments": {},
   "cell_type": "markdown",
   "metadata": {},
   "source": [
    "#### Multiplication (element-wise)"
   ]
  },
  {
   "cell_type": "code",
   "execution_count": 13,
   "metadata": {},
   "outputs": [
    {
     "name": "stdout",
     "output_type": "stream",
     "text": [
      "a*b:\n",
      "[[0.28385372 0.10403681]\n",
      " [0.01251576 0.55458174]]\n",
      "np.multiply(a,b):\n",
      "[[0.28385372 0.10403681]\n",
      " [0.01251576 0.55458174]]\n"
     ]
    }
   ],
   "source": [
    "print(f\"a*b:\\n{a*b}\")\n",
    "print(f\"np.multiply(a,b):\\n{np.multiply(a, b)}\")"
   ]
  },
  {
   "attachments": {},
   "cell_type": "markdown",
   "metadata": {},
   "source": [
    "### Division (element-wise)"
   ]
  },
  {
   "cell_type": "code",
   "execution_count": 14,
   "metadata": {},
   "outputs": [
    {
     "name": "stdout",
     "output_type": "stream",
     "text": [
      "a/b:\n",
      "[[2.8247777  0.60760339]\n",
      " [0.4671459  0.74512752]]\n",
      "np.divide(a,b):\n",
      "[[2.8247777  0.60760339]\n",
      " [0.4671459  0.74512752]]\n"
     ]
    }
   ],
   "source": [
    "print(f\"a/b:\\n{a/b}\")\n",
    "print(f\"np.divide(a,b):\\n{np.divide(a, b)}\")"
   ]
  },
  {
   "attachments": {},
   "cell_type": "markdown",
   "metadata": {},
   "source": [
    "#### Exponentiation (e^x)"
   ]
  },
  {
   "cell_type": "code",
   "execution_count": 15,
   "metadata": {},
   "outputs": [
    {
     "name": "stdout",
     "output_type": "stream",
     "text": [
      "a:\n",
      "[[0.89544607 0.25142219]\n",
      " [0.07646361 0.64283289]]\n",
      "np.exp(a):\n",
      "[[2.44842772 1.28585284]\n",
      " [1.07946291 1.90186101]]\n",
      "math.e**a:\n",
      "[[2.44842772 1.28585284]\n",
      " [1.07946291 1.90186101]]\n"
     ]
    }
   ],
   "source": [
    "print(f\"a:\\n{a}\")\n",
    "print(f\"np.exp(a):\\n{np.exp(a)}\")\n",
    "import math\n",
    "print(f\"math.e**a:\\n{math.e**a}\")"
   ]
  },
  {
   "attachments": {},
   "cell_type": "markdown",
   "metadata": {},
   "source": [
    "#### Square root"
   ]
  },
  {
   "cell_type": "code",
   "execution_count": 16,
   "metadata": {},
   "outputs": [
    {
     "name": "stdout",
     "output_type": "stream",
     "text": [
      "a:\n",
      "[[0.89544607 0.25142219]\n",
      " [0.07646361 0.64283289]]\n",
      "np.sqrt(a):\n",
      "[[0.94628012 0.50142017]\n",
      " [0.27652055 0.8017686 ]]\n",
      "a**(0.5):\n",
      "[[0.94628012 0.50142017]\n",
      " [0.27652055 0.8017686 ]]\n"
     ]
    }
   ],
   "source": [
    "print(f\"a:\\n{a}\")\n",
    "print(f\"np.sqrt(a):\\n{np.sqrt(a)}\")\n",
    "print(f\"a**(0.5):\\n{a**(0.5)}\")"
   ]
  },
  {
   "attachments": {},
   "cell_type": "markdown",
   "metadata": {},
   "source": [
    "#### Sine (radians)"
   ]
  },
  {
   "cell_type": "code",
   "execution_count": 18,
   "metadata": {},
   "outputs": [
    {
     "name": "stdout",
     "output_type": "stream",
     "text": [
      "a:\n",
      "[[0.89544607 0.25142219]\n",
      " [0.07646361 0.64283289]]\n",
      "np.sin(a):\n",
      "[[0.78048803 0.24878168]\n",
      " [0.07638913 0.59946529]]\n"
     ]
    }
   ],
   "source": [
    "print(f\"a:\\n{a}\")\n",
    "print(f\"np.sin(a):\\n{np.sin(a)}\")\n",
    "#print(f\"math.sin(a):\\n{math.sin(a)}\") does notwork"
   ]
  },
  {
   "cell_type": "code",
   "execution_count": null,
   "metadata": {},
   "outputs": [],
   "source": []
  }
 ],
 "metadata": {
  "kernelspec": {
   "display_name": "Python 3",
   "language": "python",
   "name": "python3"
  },
  "language_info": {
   "codemirror_mode": {
    "name": "ipython",
    "version": 3
   },
   "file_extension": ".py",
   "mimetype": "text/x-python",
   "name": "python",
   "nbconvert_exporter": "python",
   "pygments_lexer": "ipython3",
   "version": "3.11.1"
  },
  "orig_nbformat": 4,
  "vscode": {
   "interpreter": {
    "hash": "cf865a5bb83423a13f1a4dff8844ebfb9c8d4a77656f764a000309d145488ed6"
   }
  }
 },
 "nbformat": 4,
 "nbformat_minor": 2
}
