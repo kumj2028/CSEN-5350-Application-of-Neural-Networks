{
 "cells": [
  {
   "attachments": {},
   "cell_type": "markdown",
   "metadata": {},
   "source": [
    "# Homework 1\n",
    "## Mengxiang Jiang\n",
    "\n",
    "The majority of the code here comes from the [NumPy Cheat Sheet](https://www.datacamp.com/cheat-sheet/numpy-cheat-sheet-data-analysis-in-python)\n",
    "and the [Pandas Basics Cheat Sheet](https://www.datacamp.com/cheat-sheet/pandas-cheat-sheet-for-data-science-in-python). \n",
    "If the code comes from somewhere else it will have a source linked to the original. Some of the code has been modified from the original to show errors or to remove errors."
   ]
  },
  {
   "attachments": {},
   "cell_type": "markdown",
   "metadata": {},
   "source": [
    "### Importing Numpy"
   ]
  },
  {
   "cell_type": "code",
   "execution_count": 1,
   "metadata": {},
   "outputs": [],
   "source": [
    "import numpy as np"
   ]
  },
  {
   "attachments": {},
   "cell_type": "markdown",
   "metadata": {},
   "source": [
    "### Creating Arrays"
   ]
  },
  {
   "cell_type": "code",
   "execution_count": 2,
   "metadata": {},
   "outputs": [
    {
     "name": "stdout",
     "output_type": "stream",
     "text": [
      "a: [1 2 3]\n",
      "\n",
      "b: [[1.5 2.  3. ]\n",
      " [4.  5.  6. ]]\n",
      "\n",
      "c: [[[1.5 2.  3. ]\n",
      "  [4.  5.  6. ]]\n",
      "\n",
      " [[3.  2.  1. ]\n",
      "  [4.  5.  6. ]]]\n",
      "\n"
     ]
    }
   ],
   "source": [
    "a = np.array([1,2,3])\n",
    "b = np.array([(1.5,2,3), (4,5,6)], dtype = float)\n",
    "c = np.array([[(1.5,2,3), (4,5,6)],[(3,2,1), (4,5,6)]], dtype = float)\n",
    "\n",
    "print(f\"a: {a}\\n\")\n",
    "print(f\"b: {b}\\n\")\n",
    "print(f\"c: {c}\\n\")"
   ]
  },
  {
   "cell_type": "code",
   "execution_count": 3,
   "metadata": {},
   "outputs": [
    {
     "name": "stdout",
     "output_type": "stream",
     "text": [
      "zeros: [[0. 0. 0. 0.]\n",
      " [0. 0. 0. 0.]\n",
      " [0. 0. 0. 0.]]\n",
      "ones: [[[1 1 1 1]\n",
      "  [1 1 1 1]\n",
      "  [1 1 1 1]]\n",
      "\n",
      " [[1 1 1 1]\n",
      "  [1 1 1 1]\n",
      "  [1 1 1 1]]]\n",
      "arange: [10 15 20]\n",
      "linspace: [0.   0.25 0.5  0.75 1.   1.25 1.5  1.75 2.  ]\n",
      "full: [[7 7]\n",
      " [7 7]]\n",
      "eye: [[1. 0.]\n",
      " [0. 1.]]\n",
      "random: [[0.28967617 0.28774202]\n",
      " [0.50286383 0.6963722 ]]\n",
      "empty: [[1.39069238e-309 1.39069238e-309]\n",
      " [1.39069238e-309 1.39069238e-309]\n",
      " [1.39069238e-309 1.39069238e-309]]\n"
     ]
    }
   ],
   "source": [
    "print(f\"zeros: {np.zeros((3,4))}\") #Create an array of zeros\n",
    "print(f\"ones: {np.ones((2,3,4),dtype=np.int16)}\") #Create an array of ones\n",
    "print(f\"arange: { np.arange(10,25,5)}\") #Create an array of evenly spaced values (step value)\n",
    "print(f\"linspace: {np.linspace(0,2,9)}\") #Create an array of evenlyspaced values (number of samples)\n",
    "print(f\"full: {np.full((2,2),7)}\") #Create a constant array\n",
    "print(f\"eye: {np.eye(2)}\") #Create a 2X2 identity matrix\n",
    "print(f\"random: {np.random.random((2,2))}\") #Create an array with random values\n",
    "print(f\"empty: {np.empty((3,2))}\") #Create an empty array"
   ]
  },
  {
   "attachments": {},
   "cell_type": "markdown",
   "metadata": {},
   "source": [
    "### I/O"
   ]
  },
  {
   "cell_type": "code",
   "execution_count": 4,
   "metadata": {},
   "outputs": [
    {
     "name": "stdout",
     "output_type": "stream",
     "text": [
      "[[0.171079   0.71808901]\n",
      " [0.41523274 0.87987844]]\n",
      "[[1. 0.]\n",
      " [0. 1.]]\n",
      "[[0.171079   0.71808901]\n",
      " [0.41523274 0.87987844]]\n"
     ]
    }
   ],
   "source": [
    "a = np.random.random((2,2))\n",
    "b = np.eye(2)\n",
    "print(a)\n",
    "print(b)\n",
    "np.save('my_array' , a)\n",
    "print(np.load('my_array.npy'))"
   ]
  },
  {
   "attachments": {},
   "cell_type": "markdown",
   "metadata": {},
   "source": [
    "[numpy.savez](https://numpy.org/doc/stable/reference/generated/numpy.savez.html)"
   ]
  },
  {
   "cell_type": "code",
   "execution_count": 5,
   "metadata": {},
   "outputs": [
    {
     "name": "stdout",
     "output_type": "stream",
     "text": [
      "[[0.171079   0.71808901]\n",
      " [0.41523274 0.87987844]]\n",
      "[[1. 0.]\n",
      " [0. 1.]]\n"
     ]
    }
   ],
   "source": [
    "np.savez('array.npz', a=a, b=b)\n",
    "npzfile = np.load('array.npz')\n",
    "print(npzfile['a'])\n",
    "print(npzfile['b'])"
   ]
  },
  {
   "attachments": {},
   "cell_type": "markdown",
   "metadata": {},
   "source": [
    "[numpy.savetext](https://numpy.org/doc/stable/reference/generated/numpy.savetxt.html)"
   ]
  },
  {
   "cell_type": "code",
   "execution_count": 6,
   "metadata": {},
   "outputs": [
    {
     "name": "stdout",
     "output_type": "stream",
     "text": [
      "[[0.171079   0.71808901]\n",
      " [0.41523274 0.87987844]]\n"
     ]
    }
   ],
   "source": [
    "np.savetxt('myfile.txt', a)\n",
    "print(np.loadtxt('myfile.txt'))\n"
   ]
  },
  {
   "cell_type": "code",
   "execution_count": 7,
   "metadata": {},
   "outputs": [
    {
     "name": "stdout",
     "output_type": "stream",
     "text": [
      "[[0.171079   0.71808901]\n",
      " [0.41523274 0.87987844]]\n"
     ]
    }
   ],
   "source": [
    "np.savetxt( 'my_file.csv', a, delimiter=',')\n",
    "print(np.genfromtxt('my_file.csv', delimiter=','))"
   ]
  },
  {
   "attachments": {},
   "cell_type": "markdown",
   "metadata": {},
   "source": [
    "### Asking For Help"
   ]
  },
  {
   "cell_type": "code",
   "execution_count": 8,
   "metadata": {},
   "outputs": [
    {
     "name": "stdout",
     "output_type": "stream",
     "text": [
      "Data-type of the array's elements.\n",
      "\n",
      ".. warning::\n",
      "\n",
      "    Setting ``arr.dtype`` is discouraged and may be deprecated in the\n",
      "    future.  Setting will replace the ``dtype`` without modifying the\n",
      "    memory (see also `ndarray.view` and `ndarray.astype`).\n",
      "\n",
      "Parameters\n",
      "----------\n",
      "None\n",
      "\n",
      "Returns\n",
      "-------\n",
      "d : numpy dtype object\n",
      "\n",
      "See Also\n",
      "--------\n",
      "ndarray.astype : Cast the values contained in the array to a new data-type.\n",
      "ndarray.view : Create a view of the same data but a different data-type.\n",
      "numpy.dtype\n",
      "\n",
      "Examples\n",
      "--------\n",
      ">>> x\n",
      "array([[0, 1],\n",
      "       [2, 3]])\n",
      ">>> x.dtype\n",
      "dtype('int32')\n",
      ">>> type(x.dtype)\n",
      "<type 'numpy.dtype'>\n",
      "None\n"
     ]
    }
   ],
   "source": [
    "print(np.info(np.ndarray.dtype))"
   ]
  },
  {
   "cell_type": "code",
   "execution_count": null,
   "metadata": {},
   "outputs": [],
   "source": []
  }
 ],
 "metadata": {
  "kernelspec": {
   "display_name": "Python 3",
   "language": "python",
   "name": "python3"
  },
  "language_info": {
   "codemirror_mode": {
    "name": "ipython",
    "version": 3
   },
   "file_extension": ".py",
   "mimetype": "text/x-python",
   "name": "python",
   "nbconvert_exporter": "python",
   "pygments_lexer": "ipython3",
   "version": "3.11.0"
  },
  "orig_nbformat": 4,
  "vscode": {
   "interpreter": {
    "hash": "5238573367df39f7286bb46f9ff5f08f63a01a80960060ce41e3c79b190280fa"
   }
  }
 },
 "nbformat": 4,
 "nbformat_minor": 2
}
