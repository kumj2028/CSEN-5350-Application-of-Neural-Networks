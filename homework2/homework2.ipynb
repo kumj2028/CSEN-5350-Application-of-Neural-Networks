{
 "cells": [
  {
   "attachments": {},
   "cell_type": "markdown",
   "metadata": {},
   "source": [
    "# Homework 2\n",
    "## Mengxiang Jiang\n",
    "\n",
    "The majority of the code here comes from the [NumPy Cheat Sheet](https://www.datacamp.com/cheat-sheet/numpy-cheat-sheet-data-analysis-in-python)\n",
    "and the [Pandas Basics Cheat Sheet](https://www.datacamp.com/cheat-sheet/pandas-cheat-sheet-for-data-science-in-python). \n",
    "If the code comes from somewhere else it will have a source linked to the original. Some of the code has been modified from the original to show errors or to remove errors.\\\n",
    "[Video Link](https://youtu.be/ZBcMe8eCq24)"
   ]
  },
  {
   "attachments": {},
   "cell_type": "markdown",
   "metadata": {},
   "source": [
    "### Importing Numpy"
   ]
  },
  {
   "cell_type": "code",
   "execution_count": 1,
   "metadata": {},
   "outputs": [],
   "source": [
    "import numpy as np"
   ]
  },
  {
   "attachments": {},
   "cell_type": "markdown",
   "metadata": {},
   "source": [
    "### Creating Arrays"
   ]
  },
  {
   "cell_type": "code",
   "execution_count": 2,
   "metadata": {},
   "outputs": [
    {
     "name": "stdout",
     "output_type": "stream",
     "text": [
      "a:\n",
      "[1 2 3]\n",
      "b:\n",
      "[[1.5 2.  3. ]\n",
      " [4.  5.  6. ]]\n",
      "c:\n",
      "[[[1.5 2.  3. ]\n",
      "  [4.  5.  6. ]]\n",
      "\n",
      " [[3.  2.  1. ]\n",
      "  [4.  5.  6. ]]]\n"
     ]
    }
   ],
   "source": [
    "a = np.array([1,2,3])\n",
    "b = np.array([(1.5,2,3), (4,5,6)], dtype = float)\n",
    "c = np.array([[(1.5,2,3), (4,5,6)],[(3,2,1), (4,5,6)]], dtype = float)\n",
    "\n",
    "print(f\"a:\\n{a}\")\n",
    "print(f\"b:\\n{b}\")\n",
    "print(f\"c:\\n{c}\")"
   ]
  },
  {
   "cell_type": "code",
   "execution_count": 3,
   "metadata": {},
   "outputs": [
    {
     "name": "stdout",
     "output_type": "stream",
     "text": [
      "zeros:\n",
      "[[0. 0. 0. 0.]\n",
      " [0. 0. 0. 0.]\n",
      " [0. 0. 0. 0.]]\n",
      "ones:\n",
      "[[[1 1 1 1]\n",
      "  [1 1 1 1]\n",
      "  [1 1 1 1]]\n",
      "\n",
      " [[1 1 1 1]\n",
      "  [1 1 1 1]\n",
      "  [1 1 1 1]]]\n",
      "arange:\n",
      "[10 15 20]\n",
      "linspace:\n",
      "[0.   0.25 0.5  0.75 1.   1.25 1.5  1.75 2.  ]\n",
      "full:\n",
      "[[7 7]\n",
      " [7 7]]\n",
      "eye:\n",
      "[[1. 0.]\n",
      " [0. 1.]]\n",
      "random:\n",
      "[[0.50884302 0.18780538]\n",
      " [0.27177352 0.41762909]]\n",
      "empty:\n",
      "[[1.39069238e-309 1.39069238e-309]\n",
      " [1.39069238e-309 1.39069238e-309]\n",
      " [1.39069238e-309 1.39069238e-309]]\n"
     ]
    }
   ],
   "source": [
    "print(f\"zeros:\\n{np.zeros((3,4))}\") #Create an array of zeros\n",
    "print(f\"ones:\\n{np.ones((2,3,4),dtype=np.int16)}\") #Create an array of ones\n",
    "print(f\"arange:\\n{ np.arange(10,25,5)}\") #Create an array of evenly spaced values (step value)\n",
    "print(f\"linspace:\\n{np.linspace(0,2,9)}\") #Create an array of evenlyspaced values (number of samples)\n",
    "print(f\"full:\\n{np.full((2,2),7)}\") #Create a constant array\n",
    "print(f\"eye:\\n{np.eye(2)}\") #Create a 2X2 identity matrix\n",
    "print(f\"random:\\n{np.random.random((2,2))}\") #Create an array with random values\n",
    "print(f\"empty:\\n{np.empty((3,2))}\") #Create an empty array"
   ]
  },
  {
   "attachments": {},
   "cell_type": "markdown",
   "metadata": {},
   "source": [
    "### I/O"
   ]
  },
  {
   "cell_type": "code",
   "execution_count": 4,
   "metadata": {},
   "outputs": [
    {
     "name": "stdout",
     "output_type": "stream",
     "text": [
      "a:\n",
      "[[0.64983541 0.65581982]\n",
      " [0.85967918 0.67902368]]\n",
      "a:\n",
      "[[0.15152542 0.3715619 ]\n",
      " [0.88429955 0.95671499]]\n",
      "loading a:\n",
      "[[0.64983541 0.65581982]\n",
      " [0.85967918 0.67902368]]\n"
     ]
    }
   ],
   "source": [
    "a = np.random.random((2,2))\n",
    "b = np.random.random((2,2))\n",
    "print(f\"a:\\n{a}\")\n",
    "print(f\"a:\\n{b}\")\n",
    "np.save('my_array' , a)\n",
    "print(f\"loading a:\\n{np.load('my_array.npy')}\")"
   ]
  },
  {
   "attachments": {},
   "cell_type": "markdown",
   "metadata": {},
   "source": [
    "[numpy.savez](https://numpy.org/doc/stable/reference/generated/numpy.savez.html)"
   ]
  },
  {
   "cell_type": "code",
   "execution_count": 5,
   "metadata": {},
   "outputs": [
    {
     "name": "stdout",
     "output_type": "stream",
     "text": [
      "npzfile['a']:\n",
      "[[0.64983541 0.65581982]\n",
      " [0.85967918 0.67902368]]\n",
      "npzfile['b']:\n",
      "[[0.15152542 0.3715619 ]\n",
      " [0.88429955 0.95671499]]\n"
     ]
    }
   ],
   "source": [
    "np.savez('array.npz', a=a, b=b)\n",
    "npzfile = np.load('array.npz')\n",
    "print(f\"npzfile['a']:\\n{npzfile['a']}\")\n",
    "print(f\"npzfile['b']:\\n{npzfile['b']}\")"
   ]
  },
  {
   "cell_type": "code",
   "execution_count": 6,
   "metadata": {},
   "outputs": [
    {
     "name": "stdout",
     "output_type": "stream",
     "text": [
      "[[0.64983541 0.65581982]\n",
      " [0.85967918 0.67902368]]\n"
     ]
    }
   ],
   "source": [
    "np.savetxt('myfile.txt', a)\n",
    "print(np.loadtxt('myfile.txt'))\n"
   ]
  },
  {
   "cell_type": "code",
   "execution_count": 7,
   "metadata": {},
   "outputs": [
    {
     "name": "stdout",
     "output_type": "stream",
     "text": [
      "[[0.64983541 0.65581982]\n",
      " [0.85967918 0.67902368]]\n"
     ]
    }
   ],
   "source": [
    "np.savetxt( 'my_file.csv', a, delimiter=',')\n",
    "print(np.genfromtxt('my_file.csv', delimiter=','))"
   ]
  },
  {
   "attachments": {},
   "cell_type": "markdown",
   "metadata": {},
   "source": [
    "### Asking For Help"
   ]
  },
  {
   "cell_type": "code",
   "execution_count": 8,
   "metadata": {},
   "outputs": [
    {
     "name": "stdout",
     "output_type": "stream",
     "text": [
      "Data-type of the array's elements.\n",
      "\n",
      ".. warning::\n",
      "\n",
      "    Setting ``arr.dtype`` is discouraged and may be deprecated in the\n",
      "    future.  Setting will replace the ``dtype`` without modifying the\n",
      "    memory (see also `ndarray.view` and `ndarray.astype`).\n",
      "\n",
      "Parameters\n",
      "----------\n",
      "None\n",
      "\n",
      "Returns\n",
      "-------\n",
      "d : numpy dtype object\n",
      "\n",
      "See Also\n",
      "--------\n",
      "ndarray.astype : Cast the values contained in the array to a new data-type.\n",
      "ndarray.view : Create a view of the same data but a different data-type.\n",
      "numpy.dtype\n",
      "\n",
      "Examples\n",
      "--------\n",
      ">>> x\n",
      "array([[0, 1],\n",
      "       [2, 3]])\n",
      ">>> x.dtype\n",
      "dtype('int32')\n",
      ">>> type(x.dtype)\n",
      "<type 'numpy.dtype'>\n",
      "None\n"
     ]
    }
   ],
   "source": [
    "print(np.info(np.ndarray.dtype))"
   ]
  },
  {
   "attachments": {},
   "cell_type": "markdown",
   "metadata": {},
   "source": [
    "### Inspecting Your Array"
   ]
  },
  {
   "cell_type": "code",
   "execution_count": 9,
   "metadata": {},
   "outputs": [
    {
     "name": "stdout",
     "output_type": "stream",
     "text": [
      "shape: (2, 2)\n",
      "len: 2\n",
      "ndim: 2\n",
      "size: 4\n",
      "dtype:float64\n",
      "dtype.name: float64\n",
      "astype:\n",
      "[[0 0]\n",
      " [0 0]]\n"
     ]
    }
   ],
   "source": [
    "print(f\"shape: {a.shape}\") #Array dimensions\n",
    "print(f\"len: {len(a)}\")#Length of array\n",
    "print(f\"ndim: {a.ndim}\") #Number of array dimensions\n",
    "print(f\"size: {a.size}\") #Number of array elements\n",
    "print(f\"dtype:{a.dtype}\")  #Data type of array elements\n",
    "print(f\"dtype.name: {a.dtype.name}\")  #Name of data type\n",
    "print(f\"astype:\\n{a.astype(int)}\") #Convert an array to a different type"
   ]
  },
  {
   "attachments": {},
   "cell_type": "markdown",
   "metadata": {},
   "source": [
    "### Data Types"
   ]
  },
  {
   "cell_type": "code",
   "execution_count": 10,
   "metadata": {},
   "outputs": [
    {
     "name": "stdout",
     "output_type": "stream",
     "text": [
      "original: [ 3.1415  2.718  -1.      0.    ]\n",
      "int_: [ 3  2 -1  0]\n",
      "uint: [         3          2 4294967295          0]\n",
      "float_: [ 3.1415  2.718  -1.      0.    ]\n",
      "complex_: [ 3.1415+0.j  2.718 +0.j -1.    +0.j  0.    +0.j]\n",
      "bool_: [ True  True  True False]\n",
      "object_: [3.1415 2.718 -1.0 0.0]\n",
      "string_: [b'3.1415' b'2.718' b'-1.0' b'0.0']\n",
      "unicode_: ['3.1415' '2.718' '-1.0' '0.0']\n"
     ]
    }
   ],
   "source": [
    "c = np.array([3.1415, 2.718, -1, 0])\n",
    "print(f\"original: {c}\")\n",
    "print(f\"int_: {c.astype(np.int_)}\") #Signed integer\n",
    "print(f\"uint: {c.astype(np.uint)}\") #Unsigned integer\n",
    "print(f\"float_: {c.astype(np.float_)}\") #Floating point\n",
    "print(f\"complex_: {c.astype(np.complex_)}\") #Complex numbers\n",
    "print(f\"bool_: {c.astype(np.bool_)}\")  #Boolean type storing TRUE and FALSE values\n",
    "print(f\"object_: {c.astype(np.object_)}\") #Python object type\n",
    "print(f\"string_: {c.astype(np.string_)}\") #Fixed-length string type\n",
    "print(f\"unicode_: {c.astype(np.unicode_)}\") #Fixed-length unicode type"
   ]
  },
  {
   "attachments": {},
   "cell_type": "markdown",
   "metadata": {},
   "source": [
    "### Array Mathematics\n",
    "#### Subtraction"
   ]
  },
  {
   "cell_type": "code",
   "execution_count": 11,
   "metadata": {},
   "outputs": [
    {
     "name": "stdout",
     "output_type": "stream",
     "text": [
      "a-b:\n",
      "[[ 0.49830999  0.28425792]\n",
      " [-0.02462037 -0.27769131]]\n",
      "np.subtract(a,b):\n",
      "[[ 0.49830999  0.28425792]\n",
      " [-0.02462037 -0.27769131]]\n"
     ]
    }
   ],
   "source": [
    "print(f\"a-b:\\n{a-b}\")\n",
    "print(f\"np.subtract(a,b):\\n{np.subtract(a, b)}\")"
   ]
  },
  {
   "attachments": {},
   "cell_type": "markdown",
   "metadata": {},
   "source": [
    "#### Addition"
   ]
  },
  {
   "cell_type": "code",
   "execution_count": 12,
   "metadata": {},
   "outputs": [
    {
     "name": "stdout",
     "output_type": "stream",
     "text": [
      "a+b:\n",
      "[[0.80136083 1.02738172]\n",
      " [1.74397873 1.63573867]]\n",
      "np.add(a,b):\n",
      "[[0.80136083 1.02738172]\n",
      " [1.74397873 1.63573867]]\n"
     ]
    }
   ],
   "source": [
    "print(f\"a+b:\\n{a+b}\")\n",
    "print(f\"np.add(a,b):\\n{np.add(a, b)}\")"
   ]
  },
  {
   "attachments": {},
   "cell_type": "markdown",
   "metadata": {},
   "source": [
    "#### Multiplication (element-wise)"
   ]
  },
  {
   "cell_type": "code",
   "execution_count": 13,
   "metadata": {},
   "outputs": [
    {
     "name": "stdout",
     "output_type": "stream",
     "text": [
      "a*b:\n",
      "[[0.09846658 0.24367766]\n",
      " [0.76021391 0.64963213]]\n",
      "np.multiply(a,b):\n",
      "[[0.09846658 0.24367766]\n",
      " [0.76021391 0.64963213]]\n"
     ]
    }
   ],
   "source": [
    "print(f\"a*b:\\n{a*b}\")\n",
    "print(f\"np.multiply(a,b):\\n{np.multiply(a, b)}\")"
   ]
  },
  {
   "attachments": {},
   "cell_type": "markdown",
   "metadata": {},
   "source": [
    "### Division (element-wise)"
   ]
  },
  {
   "cell_type": "code",
   "execution_count": 14,
   "metadata": {},
   "outputs": [
    {
     "name": "stdout",
     "output_type": "stream",
     "text": [
      "a/b:\n",
      "[[4.28862309 1.76503516]\n",
      " [0.97215833 0.709745  ]]\n",
      "np.divide(a,b):\n",
      "[[4.28862309 1.76503516]\n",
      " [0.97215833 0.709745  ]]\n"
     ]
    }
   ],
   "source": [
    "print(f\"a/b:\\n{a/b}\")\n",
    "print(f\"np.divide(a,b):\\n{np.divide(a, b)}\")"
   ]
  },
  {
   "attachments": {},
   "cell_type": "markdown",
   "metadata": {},
   "source": [
    "#### Exponentiation (e^x)"
   ]
  },
  {
   "cell_type": "code",
   "execution_count": 15,
   "metadata": {},
   "outputs": [
    {
     "name": "stdout",
     "output_type": "stream",
     "text": [
      "a:\n",
      "[[0.64983541 0.65581982]\n",
      " [0.85967918 0.67902368]]\n",
      "np.exp(a):\n",
      "[[1.91522557 1.92672143]\n",
      " [2.36240266 1.97195153]]\n",
      "math.e**a:\n",
      "[[1.91522557 1.92672143]\n",
      " [2.36240266 1.97195153]]\n"
     ]
    }
   ],
   "source": [
    "print(f\"a:\\n{a}\")\n",
    "print(f\"np.exp(a):\\n{np.exp(a)}\")\n",
    "import math\n",
    "print(f\"math.e**a:\\n{math.e**a}\")"
   ]
  },
  {
   "attachments": {},
   "cell_type": "markdown",
   "metadata": {},
   "source": [
    "#### Square root"
   ]
  },
  {
   "cell_type": "code",
   "execution_count": 16,
   "metadata": {},
   "outputs": [
    {
     "name": "stdout",
     "output_type": "stream",
     "text": [
      "a:\n",
      "[[0.64983541 0.65581982]\n",
      " [0.85967918 0.67902368]]\n",
      "np.sqrt(a):\n",
      "[[0.80612369 0.80982703]\n",
      " [0.92718886 0.82402893]]\n",
      "a**(0.5):\n",
      "[[0.80612369 0.80982703]\n",
      " [0.92718886 0.82402893]]\n"
     ]
    }
   ],
   "source": [
    "print(f\"a:\\n{a}\")\n",
    "print(f\"np.sqrt(a):\\n{np.sqrt(a)}\")\n",
    "print(f\"a**(0.5):\\n{a**(0.5)}\")"
   ]
  },
  {
   "attachments": {},
   "cell_type": "markdown",
   "metadata": {},
   "source": [
    "#### Sine (radians)"
   ]
  },
  {
   "cell_type": "code",
   "execution_count": 62,
   "metadata": {},
   "outputs": [
    {
     "name": "stdout",
     "output_type": "stream",
     "text": [
      "a:\n",
      "[[0.62323626 0.31479988 0.21953848 0.79783131 0.48802276 0.63590151]\n",
      " [0.88169528 0.64061188 0.88039052 0.13475182 0.47543171 0.62420983]]\n",
      "np.sin(a):\n",
      "[[0.58366604 0.30962619 0.21777921 0.71584347 0.46888039 0.59390305]\n",
      " [0.77181792 0.59768611 0.77098764 0.13434438 0.45772232 0.58445629]]\n",
      "vec_sin(a):\n",
      "[[0.58366604 0.30962619 0.21777921 0.71584347 0.46888039 0.59390305]\n",
      " [0.77181792 0.59768611 0.77098764 0.13434438 0.45772232 0.58445629]]\n"
     ]
    }
   ],
   "source": [
    "print(f\"a:\\n{a}\")\n",
    "print(f\"np.sin(a):\\n{np.sin(a)}\")\n",
    "#print(f\"math.sin(a):\\n{math.sin(a)}\") does not work\n",
    "vec_sin = np.vectorize(math.sin)\n",
    "print(f\"vec_sin(a):\\n{vec_sin(a)}\")"
   ]
  },
  {
   "attachments": {},
   "cell_type": "markdown",
   "metadata": {},
   "source": [
    "#### Cosine"
   ]
  },
  {
   "cell_type": "code",
   "execution_count": 18,
   "metadata": {},
   "outputs": [
    {
     "name": "stdout",
     "output_type": "stream",
     "text": [
      "a:\n",
      "[[0.64983541 0.65581982]\n",
      " [0.85967918 0.67902368]]\n",
      "np.cos(a):\n",
      "[[0.7961834  0.79254826]\n",
      " [0.65268057 0.77818625]]\n"
     ]
    }
   ],
   "source": [
    "print(f\"a:\\n{a}\")\n",
    "print(f\"np.cos(a):\\n{np.cos(a)}\")"
   ]
  },
  {
   "attachments": {},
   "cell_type": "markdown",
   "metadata": {},
   "source": [
    "#### Natural Log"
   ]
  },
  {
   "cell_type": "code",
   "execution_count": 19,
   "metadata": {},
   "outputs": [
    {
     "name": "stdout",
     "output_type": "stream",
     "text": [
      "a:\n",
      "[[0.64983541 0.65581982]\n",
      " [0.85967918 0.67902368]]\n",
      "np.log(a):\n",
      "[[-0.43103617 -0.4218692 ]\n",
      " [-0.15119601 -0.38709928]]\n"
     ]
    }
   ],
   "source": [
    "print(f\"a:\\n{a}\")\n",
    "print(f\"np.log(a):\\n{np.log(a)}\")"
   ]
  },
  {
   "attachments": {},
   "cell_type": "markdown",
   "metadata": {},
   "source": [
    "#### Dot Product"
   ]
  },
  {
   "cell_type": "code",
   "execution_count": 20,
   "metadata": {},
   "outputs": [
    {
     "name": "stdout",
     "output_type": "stream",
     "text": [
      "a:\n",
      "[[0.64983541 0.65581982]\n",
      " [0.85967918 0.67902368]]\n",
      "b:\n",
      "[[0.15152542 0.3715619 ]\n",
      " [0.88429955 0.95671499]]\n",
      "a.dot(b):\n",
      "[[0.67840775 0.86888673]\n",
      " [0.73072358 0.96905616]]\n"
     ]
    }
   ],
   "source": [
    "print(f\"a:\\n{a}\")\n",
    "print(f\"b:\\n{b}\")\n",
    "print(f\"a.dot(b):\\n{a.dot(b)}\")"
   ]
  },
  {
   "attachments": {},
   "cell_type": "markdown",
   "metadata": {},
   "source": [
    "#### Comparison"
   ]
  },
  {
   "cell_type": "code",
   "execution_count": 21,
   "metadata": {},
   "outputs": [
    {
     "name": "stdout",
     "output_type": "stream",
     "text": [
      "a == a:\n",
      "[[ True  True]\n",
      " [ True  True]]\n",
      "a == b:\n",
      "[[False False]\n",
      " [False False]]\n",
      "a < 0.5 :\n",
      "[[False False]\n",
      " [False False]]\n",
      "np.array_equal(a, a):\n",
      "True\n",
      "np.array_equal(a, b):\n",
      "False\n"
     ]
    }
   ],
   "source": [
    "print(f\"a == a:\\n{a == a}\")\n",
    "print(f\"a == b:\\n{a == b}\")\n",
    "print(f\"a < 0.5 :\\n{a < 0.5}\")\n",
    "print(f\"np.array_equal(a, a):\\n{np.array_equal(a, a)}\")\n",
    "print(f\"np.array_equal(a, b):\\n{np.array_equal(a, b)}\")"
   ]
  },
  {
   "attachments": {},
   "cell_type": "markdown",
   "metadata": {},
   "source": [
    "### Copying Arrays "
   ]
  },
  {
   "cell_type": "code",
   "execution_count": 22,
   "metadata": {},
   "outputs": [
    {
     "name": "stdout",
     "output_type": "stream",
     "text": [
      "a:\n",
      "[[0.40338479 0.77303925]\n",
      " [0.1982853  0.35014665]]\n",
      "h:\n",
      "[[0.40338479 0.77303925]\n",
      " [0.1982853  0.35014665]]\n",
      "After modifying h[0][0] = 0\n",
      "a:\n",
      "[[0.         0.77303925]\n",
      " [0.1982853  0.35014665]]\n",
      "h:\n",
      "[[0.         0.77303925]\n",
      " [0.1982853  0.35014665]]\n"
     ]
    }
   ],
   "source": [
    "a = np.random.random((2,2))\n",
    "h = a.view() #Create a view of the array with the same data\n",
    "print(f\"a:\\n{a}\")\n",
    "print(f\"h:\\n{h}\")\n",
    "h[0][0] = 0\n",
    "print(\"After modifying h[0][0] = 0\")\n",
    "print(f\"a:\\n{a}\")\n",
    "print(f\"h:\\n{h}\")"
   ]
  },
  {
   "cell_type": "code",
   "execution_count": 23,
   "metadata": {},
   "outputs": [
    {
     "name": "stdout",
     "output_type": "stream",
     "text": [
      "a:\n",
      "[[0.79844512 0.12503969]\n",
      " [0.37729892 0.40272517]]\n",
      "h:\n",
      "[[0.79844512 0.12503969]\n",
      " [0.37729892 0.40272517]]\n",
      "After modifying h[0][0] = 0\n",
      "a:\n",
      "[[0.79844512 0.12503969]\n",
      " [0.37729892 0.40272517]]\n",
      "h:\n",
      "[[0.         0.12503969]\n",
      " [0.37729892 0.40272517]]\n",
      "testing objects:\n",
      "a:\n",
      "[<__main__.Dog object at 0x000001C31209EE10>]\n",
      "h:\n",
      "[<__main__.Dog object at 0x000001C31209EE10>]\n",
      "After modifying h[0].name = 'bar'\n",
      "a[0].name:\n",
      "bar\n",
      "h[0].name:\n",
      "bar\n"
     ]
    }
   ],
   "source": [
    "a = np.random.random((2,2))\n",
    "h = np.copy(a) #Create a copy of the array\n",
    "print(f\"a:\\n{a}\")\n",
    "print(f\"h:\\n{h}\")\n",
    "h[0][0] = 0\n",
    "print(\"After modifying h[0][0] = 0\")\n",
    "print(f\"a:\\n{a}\")\n",
    "print(f\"h:\\n{h}\")\n",
    "\n",
    "class Dog():\n",
    "    def __init__(self, name):\n",
    "        self.name = name\n",
    "print(\"testing objects:\")\n",
    "a = np.array([Dog('foo')])\n",
    "h = np.copy(a) #Create a copy of the array\n",
    "print(f\"a:\\n{a}\")\n",
    "print(f\"h:\\n{h}\")\n",
    "h[0].name = 'bar'\n",
    "print(\"After modifying h[0].name = 'bar'\")\n",
    "print(f\"a[0].name:\\n{a[0].name}\")\n",
    "print(f\"h[0].name:\\n{h[0].name}\")"
   ]
  },
  {
   "cell_type": "code",
   "execution_count": 24,
   "metadata": {},
   "outputs": [
    {
     "name": "stdout",
     "output_type": "stream",
     "text": [
      "a:\n",
      "[[0.21412216 0.72402426]\n",
      " [0.07359884 0.61690243]]\n",
      "h:\n",
      "[[0.21412216 0.72402426]\n",
      " [0.07359884 0.61690243]]\n",
      "After modifying h[0][0] = 0\n",
      "a:\n",
      "[[0.21412216 0.72402426]\n",
      " [0.07359884 0.61690243]]\n",
      "h:\n",
      "[[0.         0.72402426]\n",
      " [0.07359884 0.61690243]]\n",
      "testing objects:\n",
      "a:\n",
      "[<__main__.Dog object at 0x000001C31209F050>]\n",
      "h:\n",
      "[<__main__.Dog object at 0x000001C31209F050>]\n",
      "After modifying h[0].name = 'bar'\n",
      "a[0].name:\n",
      "bar\n",
      "h[0].name:\n",
      "bar\n"
     ]
    }
   ],
   "source": [
    "a = np.random.random((2,2))\n",
    "h = a.copy() #Create a \"deep\" copy of the array\n",
    "print(f\"a:\\n{a}\")\n",
    "print(f\"h:\\n{h}\")\n",
    "h[0][0] = 0\n",
    "print(\"After modifying h[0][0] = 0\")\n",
    "print(f\"a:\\n{a}\")\n",
    "print(f\"h:\\n{h}\")\n",
    "print(\"testing objects:\")\n",
    "a = np.array([Dog('foo')])\n",
    "h = a.copy() #Create a \"deep\" copy of the array\n",
    "print(f\"a:\\n{a}\")\n",
    "print(f\"h:\\n{h}\")\n",
    "h[0].name = 'bar'\n",
    "print(\"After modifying h[0].name = 'bar'\")\n",
    "print(f\"a[0].name:\\n{a[0].name}\")\n",
    "print(f\"h[0].name:\\n{h[0].name}\")"
   ]
  },
  {
   "cell_type": "code",
   "execution_count": 25,
   "metadata": {},
   "outputs": [
    {
     "name": "stdout",
     "output_type": "stream",
     "text": [
      "a:\n",
      "[[0.99560486 0.35168596]\n",
      " [0.92713033 0.37862869]]\n",
      "h:\n",
      "[[0.99560486 0.35168596]\n",
      " [0.92713033 0.37862869]]\n",
      "After modifying h[0][0] = 0\n",
      "a:\n",
      "[[0.99560486 0.35168596]\n",
      " [0.92713033 0.37862869]]\n",
      "h:\n",
      "[[0.         0.35168596]\n",
      " [0.92713033 0.37862869]]\n",
      "testing objects:\n",
      "a:\n",
      "[<__main__.Dog object at 0x000001C31209F3D0>]\n",
      "h:\n",
      "[<__main__.Dog object at 0x000001C31208C310>]\n",
      "After modifying h[0].name = 'bar'\n",
      "a[0].name:\n",
      "foo\n",
      "h[0].name:\n",
      "bar\n"
     ]
    }
   ],
   "source": [
    "import copy\n",
    "a = np.random.random((2,2))\n",
    "h = copy.deepcopy(a) #Create a real deep copy of the array\n",
    "print(f\"a:\\n{a}\")\n",
    "print(f\"h:\\n{h}\")\n",
    "h[0][0] = 0\n",
    "print(\"After modifying h[0][0] = 0\")\n",
    "print(f\"a:\\n{a}\")\n",
    "print(f\"h:\\n{h}\")\n",
    "print(\"testing objects:\")\n",
    "a = np.array([Dog('foo')])\n",
    "h = copy.deepcopy(a) #Create a real deep copy of the array\n",
    "print(f\"a:\\n{a}\")\n",
    "print(f\"h:\\n{h}\")\n",
    "h[0].name = 'bar'\n",
    "print(\"After modifying h[0].name = 'bar'\")\n",
    "print(f\"a[0].name:\\n{a[0].name}\")\n",
    "print(f\"h[0].name:\\n{h[0].name}\")"
   ]
  },
  {
   "attachments": {},
   "cell_type": "markdown",
   "metadata": {},
   "source": [
    "### Sorting Arrays "
   ]
  },
  {
   "cell_type": "code",
   "execution_count": 26,
   "metadata": {},
   "outputs": [
    {
     "name": "stdout",
     "output_type": "stream",
     "text": [
      "a:\n",
      "[[[0.83067787 0.6557039 ]\n",
      "  [0.19603069 0.98789956]]\n",
      "\n",
      " [[0.65200364 0.11165853]\n",
      "  [0.75831615 0.05440025]]]\n",
      "a after a.sort():\n",
      "[[[0.6557039  0.83067787]\n",
      "  [0.19603069 0.98789956]]\n",
      "\n",
      " [[0.11165853 0.65200364]\n",
      "  [0.05440025 0.75831615]]]\n",
      "b:\n",
      "[[[0.78551522 0.57484006]\n",
      "  [0.13161437 0.29985178]]\n",
      "\n",
      " [[0.68687138 0.30558548]\n",
      "  [0.83670692 0.85900193]]]\n",
      "b after b.sort(axis=0):\n",
      "[[[0.68687138 0.30558548]\n",
      "  [0.13161437 0.29985178]]\n",
      "\n",
      " [[0.78551522 0.57484006]\n",
      "  [0.83670692 0.85900193]]]\n",
      "c:\n",
      "[[[0.25457727 0.48538013]\n",
      "  [0.30360881 0.87961164]]\n",
      "\n",
      " [[0.89328544 0.21944112]\n",
      "  [0.29232363 0.13413384]]]\n",
      "c after c.sort(axis=1):\n",
      "[[[0.25457727 0.48538013]\n",
      "  [0.30360881 0.87961164]]\n",
      "\n",
      " [[0.29232363 0.13413384]\n",
      "  [0.89328544 0.21944112]]]\n",
      "d:\n",
      "[[[0.39747589 0.86236098]\n",
      "  [0.86831777 0.07061531]]\n",
      "\n",
      " [[0.05929095 0.41799079]\n",
      "  [0.06456415 0.95734189]]]\n",
      "d after d.sort(axis=2):\n",
      "[[[0.39747589 0.86236098]\n",
      "  [0.07061531 0.86831777]]\n",
      "\n",
      " [[0.05929095 0.41799079]\n",
      "  [0.06456415 0.95734189]]]\n"
     ]
    }
   ],
   "source": [
    "a = np.random.random((2,2,2))\n",
    "print(f\"a:\\n{a}\")\n",
    "a.sort()\n",
    "print(f\"a after a.sort():\\n{a}\")\n",
    "b = np.random.random((2,2,2))\n",
    "print(f\"b:\\n{b}\")\n",
    "b.sort(axis=0)\n",
    "print(f\"b after b.sort(axis=0):\\n{b}\")\n",
    "c = np.random.random((2,2,2))\n",
    "print(f\"c:\\n{c}\")\n",
    "c.sort(axis=1)\n",
    "print(f\"c after c.sort(axis=1):\\n{c}\")\n",
    "d = np.random.random((2,2,2))\n",
    "print(f\"d:\\n{d}\")\n",
    "d.sort(axis=2)\n",
    "print(f\"d after d.sort(axis=2):\\n{d}\")"
   ]
  },
  {
   "attachments": {},
   "cell_type": "markdown",
   "metadata": {},
   "source": [
    "### Subsetting, Slicing, Indexing"
   ]
  },
  {
   "attachments": {},
   "cell_type": "markdown",
   "metadata": {},
   "source": [
    "#### Subsetting"
   ]
  },
  {
   "cell_type": "code",
   "execution_count": 27,
   "metadata": {},
   "outputs": [
    {
     "name": "stdout",
     "output_type": "stream",
     "text": [
      "a:\n",
      "[[[0.6557039  0.83067787]\n",
      "  [0.19603069 0.98789956]]\n",
      "\n",
      " [[0.11165853 0.65200364]\n",
      "  [0.05440025 0.75831615]]]\n",
      "a[1]:\n",
      "[[0.11165853 0.65200364]\n",
      " [0.05440025 0.75831615]]\n",
      "a[1][0]:\n",
      "[0.11165853 0.65200364]\n",
      "a[1][0][1]:\n",
      "0.6520036449019777\n"
     ]
    }
   ],
   "source": [
    "print(f\"a:\\n{a}\")\n",
    "print(f\"a[1]:\\n{a[1]}\")\n",
    "print(f\"a[1][0]:\\n{a[1][0]}\")\n",
    "print(f\"a[1][0][1]:\\n{a[1][0][1]}\")"
   ]
  },
  {
   "attachments": {},
   "cell_type": "markdown",
   "metadata": {},
   "source": [
    "#### Slicing"
   ]
  },
  {
   "cell_type": "code",
   "execution_count": 28,
   "metadata": {},
   "outputs": [
    {
     "name": "stdout",
     "output_type": "stream",
     "text": [
      "a:\n",
      "[[[0.62323626 0.31479988 0.21953848]\n",
      "  [0.79783131 0.48802276 0.63590151]\n",
      "  [0.88169528 0.64061188 0.88039052]]\n",
      "\n",
      " [[0.13475182 0.47543171 0.62420983]\n",
      "  [0.97402485 0.9613656  0.11136016]\n",
      "  [0.49482418 0.07317145 0.59567927]]\n",
      "\n",
      " [[0.80932736 0.7748779  0.55991217]\n",
      "  [0.98722024 0.42218809 0.36674666]\n",
      "  [0.45342186 0.58563428 0.12383768]]]\n",
      "a[0:2]:\n",
      "[[[0.62323626 0.31479988 0.21953848]\n",
      "  [0.79783131 0.48802276 0.63590151]\n",
      "  [0.88169528 0.64061188 0.88039052]]\n",
      "\n",
      " [[0.13475182 0.47543171 0.62420983]\n",
      "  [0.97402485 0.9613656  0.11136016]\n",
      "  [0.49482418 0.07317145 0.59567927]]]\n",
      "a[0:2, 1]:\n",
      "[[0.79783131 0.48802276 0.63590151]\n",
      " [0.97402485 0.9613656  0.11136016]]\n",
      "a[0:2, 0:2]:\n",
      "[[[0.62323626 0.31479988 0.21953848]\n",
      "  [0.79783131 0.48802276 0.63590151]]\n",
      "\n",
      " [[0.13475182 0.47543171 0.62420983]\n",
      "  [0.97402485 0.9613656  0.11136016]]]\n",
      "a[1, ...]:\n",
      "[[0.13475182 0.47543171 0.62420983]\n",
      " [0.97402485 0.9613656  0.11136016]\n",
      " [0.49482418 0.07317145 0.59567927]]\n",
      "a[::-1]:\n",
      "[[[0.80932736 0.7748779  0.55991217]\n",
      "  [0.98722024 0.42218809 0.36674666]\n",
      "  [0.45342186 0.58563428 0.12383768]]\n",
      "\n",
      " [[0.13475182 0.47543171 0.62420983]\n",
      "  [0.97402485 0.9613656  0.11136016]\n",
      "  [0.49482418 0.07317145 0.59567927]]\n",
      "\n",
      " [[0.62323626 0.31479988 0.21953848]\n",
      "  [0.79783131 0.48802276 0.63590151]\n",
      "  [0.88169528 0.64061188 0.88039052]]]\n"
     ]
    }
   ],
   "source": [
    "a = np.random.random((3,3,3))\n",
    "print(f\"a:\\n{a}\")\n",
    "print(f\"a[0:2]:\\n{a[0:2]}\")\n",
    "print(f\"a[0:2, 1]:\\n{a[0:2, 1]}\")\n",
    "print(f\"a[0:2, 0:2]:\\n{a[0:2, 0:2]}\")\n",
    "print(f\"a[1, ...]:\\n{a[1, ...]}\")\n",
    "print(f\"a[::-1]:\\n{a[::-1]}\")"
   ]
  },
  {
   "attachments": {},
   "cell_type": "markdown",
   "metadata": {},
   "source": [
    "#### Boolean Indexing"
   ]
  },
  {
   "cell_type": "code",
   "execution_count": 29,
   "metadata": {},
   "outputs": [
    {
     "name": "stdout",
     "output_type": "stream",
     "text": [
      "a:\n",
      "[[[0.62323626 0.31479988 0.21953848]\n",
      "  [0.79783131 0.48802276 0.63590151]\n",
      "  [0.88169528 0.64061188 0.88039052]]\n",
      "\n",
      " [[0.13475182 0.47543171 0.62420983]\n",
      "  [0.97402485 0.9613656  0.11136016]\n",
      "  [0.49482418 0.07317145 0.59567927]]\n",
      "\n",
      " [[0.80932736 0.7748779  0.55991217]\n",
      "  [0.98722024 0.42218809 0.36674666]\n",
      "  [0.45342186 0.58563428 0.12383768]]]\n",
      "a[a<0.5]:\n",
      "[0.31479988 0.21953848 0.48802276 0.13475182 0.47543171 0.11136016\n",
      " 0.49482418 0.07317145 0.42218809 0.36674666 0.45342186 0.12383768]\n"
     ]
    }
   ],
   "source": [
    "print(f\"a:\\n{a}\")\n",
    "print(f\"a[a<0.5]:\\n{a[a<0.5]}\")"
   ]
  },
  {
   "attachments": {},
   "cell_type": "markdown",
   "metadata": {},
   "source": [
    "#### Fancy Indexing"
   ]
  },
  {
   "cell_type": "code",
   "execution_count": 30,
   "metadata": {},
   "outputs": [
    {
     "name": "stdout",
     "output_type": "stream",
     "text": [
      "a:\n",
      "[[[0.62323626 0.31479988 0.21953848]\n",
      "  [0.79783131 0.48802276 0.63590151]\n",
      "  [0.88169528 0.64061188 0.88039052]]\n",
      "\n",
      " [[0.13475182 0.47543171 0.62420983]\n",
      "  [0.97402485 0.9613656  0.11136016]\n",
      "  [0.49482418 0.07317145 0.59567927]]\n",
      "\n",
      " [[0.80932736 0.7748779  0.55991217]\n",
      "  [0.98722024 0.42218809 0.36674666]\n",
      "  [0.45342186 0.58563428 0.12383768]]]\n",
      "a[[1,0,1,0],[0,1,2,0]]:\n",
      "[[0.13475182 0.47543171 0.62420983]\n",
      " [0.79783131 0.48802276 0.63590151]\n",
      " [0.49482418 0.07317145 0.59567927]\n",
      " [0.62323626 0.31479988 0.21953848]]\n",
      "a[[1,0,1,0]][:,[0,1,2,0]]:\n",
      "[[[0.13475182 0.47543171 0.62420983]\n",
      "  [0.97402485 0.9613656  0.11136016]\n",
      "  [0.49482418 0.07317145 0.59567927]\n",
      "  [0.13475182 0.47543171 0.62420983]]\n",
      "\n",
      " [[0.62323626 0.31479988 0.21953848]\n",
      "  [0.79783131 0.48802276 0.63590151]\n",
      "  [0.88169528 0.64061188 0.88039052]\n",
      "  [0.62323626 0.31479988 0.21953848]]\n",
      "\n",
      " [[0.13475182 0.47543171 0.62420983]\n",
      "  [0.97402485 0.9613656  0.11136016]\n",
      "  [0.49482418 0.07317145 0.59567927]\n",
      "  [0.13475182 0.47543171 0.62420983]]\n",
      "\n",
      " [[0.62323626 0.31479988 0.21953848]\n",
      "  [0.79783131 0.48802276 0.63590151]\n",
      "  [0.88169528 0.64061188 0.88039052]\n",
      "  [0.62323626 0.31479988 0.21953848]]]\n"
     ]
    }
   ],
   "source": [
    "print(f\"a:\\n{a}\")\n",
    "print(f\"a[[1,0,1,0],[0,1,2,0]]:\\n{a[[1,0,1,0],[0,1,2,0]]}\")\n",
    "print(f\"a[[1,0,1,0]][:,[0,1,2,0]]:\\n{a[[1,0,1,0]][:,[0,1,2,0]]}\")"
   ]
  },
  {
   "attachments": {},
   "cell_type": "markdown",
   "metadata": {},
   "source": [
    "### Array Manipulation \n",
    "#### Transposing Array"
   ]
  },
  {
   "cell_type": "code",
   "execution_count": 31,
   "metadata": {},
   "outputs": [
    {
     "name": "stdout",
     "output_type": "stream",
     "text": [
      "a:\n",
      "[[[0.62323626 0.31479988 0.21953848]\n",
      "  [0.79783131 0.48802276 0.63590151]\n",
      "  [0.88169528 0.64061188 0.88039052]]\n",
      "\n",
      " [[0.13475182 0.47543171 0.62420983]\n",
      "  [0.97402485 0.9613656  0.11136016]\n",
      "  [0.49482418 0.07317145 0.59567927]]\n",
      "\n",
      " [[0.80932736 0.7748779  0.55991217]\n",
      "  [0.98722024 0.42218809 0.36674666]\n",
      "  [0.45342186 0.58563428 0.12383768]]]\n",
      "np.transpose(a):\n",
      "[[[0.62323626 0.13475182 0.80932736]\n",
      "  [0.79783131 0.97402485 0.98722024]\n",
      "  [0.88169528 0.49482418 0.45342186]]\n",
      "\n",
      " [[0.31479988 0.47543171 0.7748779 ]\n",
      "  [0.48802276 0.9613656  0.42218809]\n",
      "  [0.64061188 0.07317145 0.58563428]]\n",
      "\n",
      " [[0.21953848 0.62420983 0.55991217]\n",
      "  [0.63590151 0.11136016 0.36674666]\n",
      "  [0.88039052 0.59567927 0.12383768]]]\n",
      "a.T:\n",
      "[[[0.62323626 0.13475182 0.80932736]\n",
      "  [0.79783131 0.97402485 0.98722024]\n",
      "  [0.88169528 0.49482418 0.45342186]]\n",
      "\n",
      " [[0.31479988 0.47543171 0.7748779 ]\n",
      "  [0.48802276 0.9613656  0.42218809]\n",
      "  [0.64061188 0.07317145 0.58563428]]\n",
      "\n",
      " [[0.21953848 0.62420983 0.55991217]\n",
      "  [0.63590151 0.11136016 0.36674666]\n",
      "  [0.88039052 0.59567927 0.12383768]]]\n"
     ]
    }
   ],
   "source": [
    "print(f\"a:\\n{a}\")\n",
    "print(f\"np.transpose(a):\\n{np.transpose(a)}\")\n",
    "print(f\"a.T:\\n{a.T}\")"
   ]
  },
  {
   "attachments": {},
   "cell_type": "markdown",
   "metadata": {},
   "source": [
    "#### Changing Array Shape"
   ]
  },
  {
   "cell_type": "code",
   "execution_count": 32,
   "metadata": {},
   "outputs": [
    {
     "name": "stdout",
     "output_type": "stream",
     "text": [
      "a:\n",
      "[[[0.62323626 0.31479988 0.21953848]\n",
      "  [0.79783131 0.48802276 0.63590151]\n",
      "  [0.88169528 0.64061188 0.88039052]]\n",
      "\n",
      " [[0.13475182 0.47543171 0.62420983]\n",
      "  [0.97402485 0.9613656  0.11136016]\n",
      "  [0.49482418 0.07317145 0.59567927]]\n",
      "\n",
      " [[0.80932736 0.7748779  0.55991217]\n",
      "  [0.98722024 0.42218809 0.36674666]\n",
      "  [0.45342186 0.58563428 0.12383768]]]\n",
      "a.ravel():\n",
      "[0.62323626 0.31479988 0.21953848 0.79783131 0.48802276 0.63590151\n",
      " 0.88169528 0.64061188 0.88039052 0.13475182 0.47543171 0.62420983\n",
      " 0.97402485 0.9613656  0.11136016 0.49482418 0.07317145 0.59567927\n",
      " 0.80932736 0.7748779  0.55991217 0.98722024 0.42218809 0.36674666\n",
      " 0.45342186 0.58563428 0.12383768]\n",
      "a.reshape(3, -1):\n",
      "[[0.62323626 0.31479988 0.21953848 0.79783131 0.48802276 0.63590151\n",
      "  0.88169528 0.64061188 0.88039052]\n",
      " [0.13475182 0.47543171 0.62420983 0.97402485 0.9613656  0.11136016\n",
      "  0.49482418 0.07317145 0.59567927]\n",
      " [0.80932736 0.7748779  0.55991217 0.98722024 0.42218809 0.36674666\n",
      "  0.45342186 0.58563428 0.12383768]]\n",
      "a.reshape(-1, 3):\n",
      "[[0.62323626 0.31479988 0.21953848]\n",
      " [0.79783131 0.48802276 0.63590151]\n",
      " [0.88169528 0.64061188 0.88039052]\n",
      " [0.13475182 0.47543171 0.62420983]\n",
      " [0.97402485 0.9613656  0.11136016]\n",
      " [0.49482418 0.07317145 0.59567927]\n",
      " [0.80932736 0.7748779  0.55991217]\n",
      " [0.98722024 0.42218809 0.36674666]\n",
      " [0.45342186 0.58563428 0.12383768]]\n",
      "a:\n",
      "[[[0.62323626 0.31479988 0.21953848]\n",
      "  [0.79783131 0.48802276 0.63590151]\n",
      "  [0.88169528 0.64061188 0.88039052]]\n",
      "\n",
      " [[0.13475182 0.47543171 0.62420983]\n",
      "  [0.97402485 0.9613656  0.11136016]\n",
      "  [0.49482418 0.07317145 0.59567927]]\n",
      "\n",
      " [[0.80932736 0.7748779  0.55991217]\n",
      "  [0.98722024 0.42218809 0.36674666]\n",
      "  [0.45342186 0.58563428 0.12383768]]]\n"
     ]
    }
   ],
   "source": [
    "print(f\"a:\\n{a}\")\n",
    "print(f\"a.ravel():\\n{a.ravel()}\")\n",
    "print(f\"a.reshape(3, -1):\\n{a.reshape(3, -1)}\")\n",
    "print(f\"a.reshape(-1, 3):\\n{a.reshape(-1, 3)}\")\n",
    "print(f\"a:\\n{a}\")"
   ]
  },
  {
   "attachments": {},
   "cell_type": "markdown",
   "metadata": {},
   "source": [
    "#### Adding/Removing Elements "
   ]
  },
  {
   "cell_type": "code",
   "execution_count": 33,
   "metadata": {},
   "outputs": [
    {
     "name": "stdout",
     "output_type": "stream",
     "text": [
      "a after a.resize((2,6)):\n",
      "[[0.62323626 0.31479988 0.21953848 0.79783131 0.48802276 0.63590151]\n",
      " [0.88169528 0.64061188 0.88039052 0.13475182 0.47543171 0.62420983]]\n",
      "b:\n",
      "[[[0.68687138 0.30558548]\n",
      "  [0.13161437 0.29985178]]\n",
      "\n",
      " [[0.78551522 0.57484006]\n",
      "  [0.83670692 0.85900193]]]\n",
      "c:\n",
      "[[[0.25457727 0.48538013]\n",
      "  [0.30360881 0.87961164]]\n",
      "\n",
      " [[0.29232363 0.13413384]\n",
      "  [0.89328544 0.21944112]]]\n",
      "np.append(b, c):\n",
      "[0.68687138 0.30558548 0.13161437 0.29985178 0.78551522 0.57484006\n",
      " 0.83670692 0.85900193 0.25457727 0.48538013 0.30360881 0.87961164\n",
      " 0.29232363 0.13413384 0.89328544 0.21944112]\n",
      "np.insert(a, 1, 5):\n",
      "[0.62323626 5.         0.31479988 0.21953848 0.79783131 0.48802276\n",
      " 0.63590151 0.88169528 0.64061188 0.88039052 0.13475182 0.47543171\n",
      " 0.62420983]\n",
      "np.delete(a, [1]):\n",
      "[0.62323626 0.21953848 0.79783131 0.48802276 0.63590151 0.88169528\n",
      " 0.64061188 0.88039052 0.13475182 0.47543171 0.62420983]\n",
      "a:\n",
      "[[0.62323626 0.31479988 0.21953848 0.79783131 0.48802276 0.63590151]\n",
      " [0.88169528 0.64061188 0.88039052 0.13475182 0.47543171 0.62420983]]\n"
     ]
    }
   ],
   "source": [
    "a.resize((2,6)) # Does not return anything, rather modifies a into a 2x6 array if it has enough elements\n",
    "print(f\"a after a.resize((2,6)):\\n{a}\")\n",
    "print(f\"b:\\n{b}\")\n",
    "print(f\"c:\\n{c}\")\n",
    "print(f\"np.append(b, c):\\n{np.append(b, c)}\") # Returns 1D array with all elements of b followed by c\n",
    "print(f\"np.insert(a, 1, 5):\\n{np.insert(a, 1, 5)}\") # Returns 1D array with all elements of a with 5 inserted into index 1\n",
    "print(f\"np.delete(a, [1]):\\n{np.delete(a, [1])}\") # Returns 1D array with all elements of a with the element in index 1 removed\n",
    "print(f\"a:\\n{a}\")"
   ]
  },
  {
   "attachments": {},
   "cell_type": "markdown",
   "metadata": {},
   "source": [
    "#### Combining Arrays"
   ]
  },
  {
   "cell_type": "code",
   "execution_count": 34,
   "metadata": {},
   "outputs": [
    {
     "name": "stdout",
     "output_type": "stream",
     "text": [
      "b:\n",
      "[[[0.68687138 0.30558548]\n",
      "  [0.13161437 0.29985178]]\n",
      "\n",
      " [[0.78551522 0.57484006]\n",
      "  [0.83670692 0.85900193]]]\n",
      "c:\n",
      "[[[0.25457727 0.48538013]\n",
      "  [0.30360881 0.87961164]]\n",
      "\n",
      " [[0.29232363 0.13413384]\n",
      "  [0.89328544 0.21944112]]]\n",
      "np.concatenate((b, c),axis=0):\n",
      "[[[0.68687138 0.30558548]\n",
      "  [0.13161437 0.29985178]]\n",
      "\n",
      " [[0.78551522 0.57484006]\n",
      "  [0.83670692 0.85900193]]\n",
      "\n",
      " [[0.25457727 0.48538013]\n",
      "  [0.30360881 0.87961164]]\n",
      "\n",
      " [[0.29232363 0.13413384]\n",
      "  [0.89328544 0.21944112]]]\n",
      "np.concatenate((b, c),axis=1):\n",
      "[[[0.68687138 0.30558548]\n",
      "  [0.13161437 0.29985178]\n",
      "  [0.25457727 0.48538013]\n",
      "  [0.30360881 0.87961164]]\n",
      "\n",
      " [[0.78551522 0.57484006]\n",
      "  [0.83670692 0.85900193]\n",
      "  [0.29232363 0.13413384]\n",
      "  [0.89328544 0.21944112]]]\n",
      "np.concatenate((b, c),axis=2):\n",
      "[[[0.68687138 0.30558548 0.25457727 0.48538013]\n",
      "  [0.13161437 0.29985178 0.30360881 0.87961164]]\n",
      "\n",
      " [[0.78551522 0.57484006 0.29232363 0.13413384]\n",
      "  [0.83670692 0.85900193 0.89328544 0.21944112]]]\n",
      "np.vstack((b, c)):\n",
      "[[[0.68687138 0.30558548]\n",
      "  [0.13161437 0.29985178]]\n",
      "\n",
      " [[0.78551522 0.57484006]\n",
      "  [0.83670692 0.85900193]]\n",
      "\n",
      " [[0.25457727 0.48538013]\n",
      "  [0.30360881 0.87961164]]\n",
      "\n",
      " [[0.29232363 0.13413384]\n",
      "  [0.89328544 0.21944112]]]\n",
      "np.r_[b,c]:\n",
      "[[[0.68687138 0.30558548]\n",
      "  [0.13161437 0.29985178]]\n",
      "\n",
      " [[0.78551522 0.57484006]\n",
      "  [0.83670692 0.85900193]]\n",
      "\n",
      " [[0.25457727 0.48538013]\n",
      "  [0.30360881 0.87961164]]\n",
      "\n",
      " [[0.29232363 0.13413384]\n",
      "  [0.89328544 0.21944112]]]\n",
      "np.hstack((b, c)):\n",
      "[[[0.68687138 0.30558548]\n",
      "  [0.13161437 0.29985178]\n",
      "  [0.25457727 0.48538013]\n",
      "  [0.30360881 0.87961164]]\n",
      "\n",
      " [[0.78551522 0.57484006]\n",
      "  [0.83670692 0.85900193]\n",
      "  [0.29232363 0.13413384]\n",
      "  [0.89328544 0.21944112]]]\n",
      "np.column_stack((b, c)):\n",
      "[[[0.68687138 0.30558548]\n",
      "  [0.13161437 0.29985178]\n",
      "  [0.25457727 0.48538013]\n",
      "  [0.30360881 0.87961164]]\n",
      "\n",
      " [[0.78551522 0.57484006]\n",
      "  [0.83670692 0.85900193]\n",
      "  [0.29232363 0.13413384]\n",
      "  [0.89328544 0.21944112]]]\n",
      "np.c_[b,c]:\n",
      "[[[0.68687138 0.30558548 0.25457727 0.48538013]\n",
      "  [0.13161437 0.29985178 0.30360881 0.87961164]]\n",
      "\n",
      " [[0.78551522 0.57484006 0.29232363 0.13413384]\n",
      "  [0.83670692 0.85900193 0.89328544 0.21944112]]]\n"
     ]
    }
   ],
   "source": [
    "print(f\"b:\\n{b}\")\n",
    "print(f\"c:\\n{c}\")\n",
    "print(f\"np.concatenate((b, c),axis=0):\\n{np.concatenate((b, c),axis=0)}\") # if both b and c are NxMxO arrays, the result is an 2NxMxO array\n",
    "print(f\"np.concatenate((b, c),axis=1):\\n{np.concatenate((b, c),axis=1)}\") # if both b and c are NxMxO arrays, the result is an Nx2MxO array\n",
    "print(f\"np.concatenate((b, c),axis=2):\\n{np.concatenate((b, c),axis=2)}\") # if both b and c are NxMxO arrays, the result is an NxMx2O array\n",
    "print(f\"np.vstack((b, c)):\\n{np.vstack((b, c))}\") # same as np.concatenate((b, c),axis=0)\n",
    "print(f\"np.r_[b,c]:\\n{np.r_[b,c]}\") # same as np.concatenate((b, c),axis=0)\n",
    "print(f\"np.hstack((b, c)):\\n{np.hstack((b, c))}\") # same as np.concatenate((b, c),axis=1)\n",
    "print(f\"np.column_stack((b, c)):\\n{np.column_stack((b, c))}\") # same as np.concatenate((b, c),axis=1)\n",
    "print(f\"np.c_[b,c]:\\n{np.c_[b,c]}\") # same as np.concatenate((b, c),axis=2)"
   ]
  },
  {
   "attachments": {},
   "cell_type": "markdown",
   "metadata": {},
   "source": [
    "#### Splitting Arrays"
   ]
  },
  {
   "cell_type": "code",
   "execution_count": 35,
   "metadata": {},
   "outputs": [
    {
     "name": "stdout",
     "output_type": "stream",
     "text": [
      "b:\n",
      "[[0.62323626 0.31479988 0.21953848 0.79783131 0.48802276 0.63590151]\n",
      " [0.88169528 0.64061188 0.88039052 0.13475182 0.47543171 0.62420983]]\n",
      "np.vsplit(a,2):\n",
      "[array([[0.62323626, 0.31479988, 0.21953848, 0.79783131, 0.48802276,\n",
      "        0.63590151]]), array([[0.88169528, 0.64061188, 0.88039052, 0.13475182, 0.47543171,\n",
      "        0.62420983]])]\n",
      "np.hsplit(a,3):\n",
      "[array([[0.62323626, 0.31479988],\n",
      "       [0.88169528, 0.64061188]]), array([[0.21953848, 0.79783131],\n",
      "       [0.88039052, 0.13475182]]), array([[0.48802276, 0.63590151],\n",
      "       [0.47543171, 0.62420983]])]\n"
     ]
    }
   ],
   "source": [
    "print(f\"b:\\n{a}\")\n",
    "print(f\"np.vsplit(a,2):\\n{np.vsplit(a,2)}\") # since a is 2x6, this splits a into two 1x6 arrays\n",
    "print(f\"np.hsplit(a,3):\\n{np.hsplit(a,3)}\") # since a is 2x6, this splits a into three 2x2 arrays"
   ]
  },
  {
   "attachments": {},
   "cell_type": "markdown",
   "metadata": {},
   "source": [
    "### Importing Pandas"
   ]
  },
  {
   "cell_type": "code",
   "execution_count": 36,
   "metadata": {},
   "outputs": [],
   "source": [
    "import pandas as pd"
   ]
  },
  {
   "attachments": {},
   "cell_type": "markdown",
   "metadata": {},
   "source": [
    "### Pandas Data Structures\n",
    "#### Series"
   ]
  },
  {
   "cell_type": "code",
   "execution_count": 37,
   "metadata": {},
   "outputs": [
    {
     "name": "stdout",
     "output_type": "stream",
     "text": [
      "a    3\n",
      "b   -5\n",
      "c    7\n",
      "d    4\n",
      "dtype: int64\n"
     ]
    }
   ],
   "source": [
    "s = pd.Series([3, -5, 7, 4], index=['a', 'b', 'c', 'd'])\n",
    "print(s)"
   ]
  },
  {
   "attachments": {},
   "cell_type": "markdown",
   "metadata": {},
   "source": [
    "#### DataFrame"
   ]
  },
  {
   "cell_type": "code",
   "execution_count": 38,
   "metadata": {},
   "outputs": [
    {
     "name": "stdout",
     "output_type": "stream",
     "text": [
      "   Country    Capital  Population\n",
      "0  Belgium   Brussels    11190846\n",
      "1    India  New Delhi  1303171035\n",
      "2   Brazil   Brasilia   207847528\n"
     ]
    }
   ],
   "source": [
    "data = {\n",
    "    'Country': ['Belgium', 'India', 'Brazil'],\n",
    "    'Capital': ['Brussels', 'New Delhi', 'Brasilia'],\n",
    "    'Population': [11190846, 1303171035, 207847528]\n",
    "}\n",
    "\n",
    "df = pd.DataFrame(data, columns=['Country', 'Capital', 'Population'])\n",
    "print(df)"
   ]
  },
  {
   "attachments": {},
   "cell_type": "markdown",
   "metadata": {},
   "source": [
    "#### Asking For Help"
   ]
  },
  {
   "cell_type": "code",
   "execution_count": 39,
   "metadata": {},
   "outputs": [
    {
     "name": "stdout",
     "output_type": "stream",
     "text": [
      "Help on property:\n",
      "\n",
      "    Access a group of rows and columns by label(s) or a boolean array.\n",
      "    \n",
      "    ``.loc[]`` is primarily label based, but may also be used with a\n",
      "    boolean array.\n",
      "    \n",
      "    Allowed inputs are:\n",
      "    \n",
      "    - A single label, e.g. ``5`` or ``'a'``, (note that ``5`` is\n",
      "      interpreted as a *label* of the index, and **never** as an\n",
      "      integer position along the index).\n",
      "    - A list or array of labels, e.g. ``['a', 'b', 'c']``.\n",
      "    - A slice object with labels, e.g. ``'a':'f'``.\n",
      "    \n",
      "      .. warning:: Note that contrary to usual python slices, **both** the\n",
      "          start and the stop are included\n",
      "    \n",
      "    - A boolean array of the same length as the axis being sliced,\n",
      "      e.g. ``[True, False, True]``.\n",
      "    - An alignable boolean Series. The index of the key will be aligned before\n",
      "      masking.\n",
      "    - An alignable Index. The Index of the returned selection will be the input.\n",
      "    - A ``callable`` function with one argument (the calling Series or\n",
      "      DataFrame) and that returns valid output for indexing (one of the above)\n",
      "    \n",
      "    See more at :ref:`Selection by Label <indexing.label>`.\n",
      "    \n",
      "    Raises\n",
      "    ------\n",
      "    KeyError\n",
      "        If any items are not found.\n",
      "    IndexingError\n",
      "        If an indexed key is passed and its index is unalignable to the frame index.\n",
      "    \n",
      "    See Also\n",
      "    --------\n",
      "    DataFrame.at : Access a single value for a row/column label pair.\n",
      "    DataFrame.iloc : Access group of rows and columns by integer position(s).\n",
      "    DataFrame.xs : Returns a cross-section (row(s) or column(s)) from the\n",
      "        Series/DataFrame.\n",
      "    Series.loc : Access group of values using labels.\n",
      "    \n",
      "    Examples\n",
      "    --------\n",
      "    **Getting values**\n",
      "    \n",
      "    >>> df = pd.DataFrame([[1, 2], [4, 5], [7, 8]],\n",
      "    ...      index=['cobra', 'viper', 'sidewinder'],\n",
      "    ...      columns=['max_speed', 'shield'])\n",
      "    >>> df\n",
      "                max_speed  shield\n",
      "    cobra               1       2\n",
      "    viper               4       5\n",
      "    sidewinder          7       8\n",
      "    \n",
      "    Single label. Note this returns the row as a Series.\n",
      "    \n",
      "    >>> df.loc['viper']\n",
      "    max_speed    4\n",
      "    shield       5\n",
      "    Name: viper, dtype: int64\n",
      "    \n",
      "    List of labels. Note using ``[[]]`` returns a DataFrame.\n",
      "    \n",
      "    >>> df.loc[['viper', 'sidewinder']]\n",
      "                max_speed  shield\n",
      "    viper               4       5\n",
      "    sidewinder          7       8\n",
      "    \n",
      "    Single label for row and column\n",
      "    \n",
      "    >>> df.loc['cobra', 'shield']\n",
      "    2\n",
      "    \n",
      "    Slice with labels for row and single label for column. As mentioned\n",
      "    above, note that both the start and stop of the slice are included.\n",
      "    \n",
      "    >>> df.loc['cobra':'viper', 'max_speed']\n",
      "    cobra    1\n",
      "    viper    4\n",
      "    Name: max_speed, dtype: int64\n",
      "    \n",
      "    Boolean list with the same length as the row axis\n",
      "    \n",
      "    >>> df.loc[[False, False, True]]\n",
      "                max_speed  shield\n",
      "    sidewinder          7       8\n",
      "    \n",
      "    Alignable boolean Series:\n",
      "    \n",
      "    >>> df.loc[pd.Series([False, True, False],\n",
      "    ...        index=['viper', 'sidewinder', 'cobra'])]\n",
      "                max_speed  shield\n",
      "    sidewinder          7       8\n",
      "    \n",
      "    Index (same behavior as ``df.reindex``)\n",
      "    \n",
      "    >>> df.loc[pd.Index([\"cobra\", \"viper\"], name=\"foo\")]\n",
      "           max_speed  shield\n",
      "    foo\n",
      "    cobra          1       2\n",
      "    viper          4       5\n",
      "    \n",
      "    Conditional that returns a boolean Series\n",
      "    \n",
      "    >>> df.loc[df['shield'] > 6]\n",
      "                max_speed  shield\n",
      "    sidewinder          7       8\n",
      "    \n",
      "    Conditional that returns a boolean Series with column labels specified\n",
      "    \n",
      "    >>> df.loc[df['shield'] > 6, ['max_speed']]\n",
      "                max_speed\n",
      "    sidewinder          7\n",
      "    \n",
      "    Callable that returns a boolean Series\n",
      "    \n",
      "    >>> df.loc[lambda df: df['shield'] == 8]\n",
      "                max_speed  shield\n",
      "    sidewinder          7       8\n",
      "    \n",
      "    **Setting values**\n",
      "    \n",
      "    Set value for all items matching the list of labels\n",
      "    \n",
      "    >>> df.loc[['viper', 'sidewinder'], ['shield']] = 50\n",
      "    >>> df\n",
      "                max_speed  shield\n",
      "    cobra               1       2\n",
      "    viper               4      50\n",
      "    sidewinder          7      50\n",
      "    \n",
      "    Set value for an entire row\n",
      "    \n",
      "    >>> df.loc['cobra'] = 10\n",
      "    >>> df\n",
      "                max_speed  shield\n",
      "    cobra              10      10\n",
      "    viper               4      50\n",
      "    sidewinder          7      50\n",
      "    \n",
      "    Set value for an entire column\n",
      "    \n",
      "    >>> df.loc[:, 'max_speed'] = 30\n",
      "    >>> df\n",
      "                max_speed  shield\n",
      "    cobra              30      10\n",
      "    viper              30      50\n",
      "    sidewinder         30      50\n",
      "    \n",
      "    Set value for rows matching callable condition\n",
      "    \n",
      "    >>> df.loc[df['shield'] > 35] = 0\n",
      "    >>> df\n",
      "                max_speed  shield\n",
      "    cobra              30      10\n",
      "    viper               0       0\n",
      "    sidewinder          0       0\n",
      "    \n",
      "    **Getting values on a DataFrame with an index that has integer labels**\n",
      "    \n",
      "    Another example using integers for the index\n",
      "    \n",
      "    >>> df = pd.DataFrame([[1, 2], [4, 5], [7, 8]],\n",
      "    ...      index=[7, 8, 9], columns=['max_speed', 'shield'])\n",
      "    >>> df\n",
      "       max_speed  shield\n",
      "    7          1       2\n",
      "    8          4       5\n",
      "    9          7       8\n",
      "    \n",
      "    Slice with integer labels for rows. As mentioned above, note that both\n",
      "    the start and stop of the slice are included.\n",
      "    \n",
      "    >>> df.loc[7:9]\n",
      "       max_speed  shield\n",
      "    7          1       2\n",
      "    8          4       5\n",
      "    9          7       8\n",
      "    \n",
      "    **Getting values with a MultiIndex**\n",
      "    \n",
      "    A number of examples using a DataFrame with a MultiIndex\n",
      "    \n",
      "    >>> tuples = [\n",
      "    ...    ('cobra', 'mark i'), ('cobra', 'mark ii'),\n",
      "    ...    ('sidewinder', 'mark i'), ('sidewinder', 'mark ii'),\n",
      "    ...    ('viper', 'mark ii'), ('viper', 'mark iii')\n",
      "    ... ]\n",
      "    >>> index = pd.MultiIndex.from_tuples(tuples)\n",
      "    >>> values = [[12, 2], [0, 4], [10, 20],\n",
      "    ...         [1, 4], [7, 1], [16, 36]]\n",
      "    >>> df = pd.DataFrame(values, columns=['max_speed', 'shield'], index=index)\n",
      "    >>> df\n",
      "                         max_speed  shield\n",
      "    cobra      mark i           12       2\n",
      "               mark ii           0       4\n",
      "    sidewinder mark i           10      20\n",
      "               mark ii           1       4\n",
      "    viper      mark ii           7       1\n",
      "               mark iii         16      36\n",
      "    \n",
      "    Single label. Note this returns a DataFrame with a single index.\n",
      "    \n",
      "    >>> df.loc['cobra']\n",
      "             max_speed  shield\n",
      "    mark i          12       2\n",
      "    mark ii          0       4\n",
      "    \n",
      "    Single index tuple. Note this returns a Series.\n",
      "    \n",
      "    >>> df.loc[('cobra', 'mark ii')]\n",
      "    max_speed    0\n",
      "    shield       4\n",
      "    Name: (cobra, mark ii), dtype: int64\n",
      "    \n",
      "    Single label for row and column. Similar to passing in a tuple, this\n",
      "    returns a Series.\n",
      "    \n",
      "    >>> df.loc['cobra', 'mark i']\n",
      "    max_speed    12\n",
      "    shield        2\n",
      "    Name: (cobra, mark i), dtype: int64\n",
      "    \n",
      "    Single tuple. Note using ``[[]]`` returns a DataFrame.\n",
      "    \n",
      "    >>> df.loc[[('cobra', 'mark ii')]]\n",
      "                   max_speed  shield\n",
      "    cobra mark ii          0       4\n",
      "    \n",
      "    Single tuple for the index with a single label for the column\n",
      "    \n",
      "    >>> df.loc[('cobra', 'mark i'), 'shield']\n",
      "    2\n",
      "    \n",
      "    Slice from index tuple to single label\n",
      "    \n",
      "    >>> df.loc[('cobra', 'mark i'):'viper']\n",
      "                         max_speed  shield\n",
      "    cobra      mark i           12       2\n",
      "               mark ii           0       4\n",
      "    sidewinder mark i           10      20\n",
      "               mark ii           1       4\n",
      "    viper      mark ii           7       1\n",
      "               mark iii         16      36\n",
      "    \n",
      "    Slice from index tuple to index tuple\n",
      "    \n",
      "    >>> df.loc[('cobra', 'mark i'):('viper', 'mark ii')]\n",
      "                        max_speed  shield\n",
      "    cobra      mark i          12       2\n",
      "               mark ii          0       4\n",
      "    sidewinder mark i          10      20\n",
      "               mark ii          1       4\n",
      "    viper      mark ii          7       1\n",
      "    \n",
      "    Please see the :ref:`user guide<advanced.advanced_hierarchical>`\n",
      "    for more details and explanations of advanced indexing.\n",
      "\n"
     ]
    }
   ],
   "source": [
    "help(pd.Series.loc)"
   ]
  },
  {
   "attachments": {},
   "cell_type": "markdown",
   "metadata": {},
   "source": [
    "### I/O\n",
    "#### Read and Write to CSV\n",
    "[How to get rid of \"Unamed: 0\" column in a pandas DataFrame read in from CSV file](https://stackoverflow.com/questions/36519086/how-to-get-rid-of-unnamed-0-column-in-a-pandas-dataframe-read-in-from-csv-fil)"
   ]
  },
  {
   "cell_type": "code",
   "execution_count": 40,
   "metadata": {},
   "outputs": [
    {
     "name": "stdout",
     "output_type": "stream",
     "text": [
      "df:\n",
      "   Country    Capital  Population\n",
      "0  Belgium   Brussels    11190846\n",
      "1    India  New Delhi  1303171035\n",
      "2   Brazil   Brasilia   207847528\n",
      "df2:\n",
      "   Unnamed: 0  Country    Capital  Population\n",
      "0           0  Belgium   Brussels    11190846\n",
      "1           1    India  New Delhi  1303171035\n",
      "2           2   Brazil   Brasilia   207847528\n",
      "df3:\n",
      "   Country    Capital  Population\n",
      "0  Belgium   Brussels    11190846\n",
      "1    India  New Delhi  1303171035\n",
      "2   Brazil   Brasilia   207847528\n"
     ]
    }
   ],
   "source": [
    "print(f\"df:\\n{df}\")\n",
    "df.to_csv('myDataFrame.csv')\n",
    "df2 = pd.read_csv('myDataFrame.csv')\n",
    "print(f\"df2:\\n{df2}\")\n",
    "df3 = pd.read_csv('myDataFrame.csv', index_col=[0])\n",
    "print(f\"df3:\\n{df3}\")"
   ]
  },
  {
   "attachments": {},
   "cell_type": "markdown",
   "metadata": {},
   "source": [
    "#### Read and Write to Excel\n",
    "[ModuleNotFoundError: No module named 'openpyxl'](https://pythonexamples.org/modulenotfounderror-no-module-named-openpyxl/)"
   ]
  },
  {
   "cell_type": "code",
   "execution_count": 41,
   "metadata": {},
   "outputs": [
    {
     "name": "stdout",
     "output_type": "stream",
     "text": [
      "df:\n",
      "   Country    Capital  Population\n",
      "0  Belgium   Brussels    11190846\n",
      "1    India  New Delhi  1303171035\n",
      "2   Brazil   Brasilia   207847528\n",
      "df2:\n",
      "   Unnamed: 0  Country    Capital  Population\n",
      "0           0  Belgium   Brussels    11190846\n",
      "1           1    India  New Delhi  1303171035\n",
      "2           2   Brazil   Brasilia   207847528\n",
      "df3:\n",
      "   Country    Capital  Population\n",
      "0  Belgium   Brussels    11190846\n",
      "1    India  New Delhi  1303171035\n",
      "2   Brazil   Brasilia   207847528\n"
     ]
    }
   ],
   "source": [
    "print(f\"df:\\n{df}\")\n",
    "df.to_excel('myDataFrame.xlsx')\n",
    "df2 = pd.read_excel('myDataFrame.xlsx')\n",
    "print(f\"df2:\\n{df2}\")\n",
    "df3 = pd.read_excel('myDataFrame.xlsx', index_col=[0])\n",
    "print(f\"df3:\\n{df3}\")"
   ]
  },
  {
   "attachments": {},
   "cell_type": "markdown",
   "metadata": {},
   "source": [
    "### Selection\n",
    "#### Getting"
   ]
  },
  {
   "cell_type": "code",
   "execution_count": 42,
   "metadata": {},
   "outputs": [
    {
     "name": "stdout",
     "output_type": "stream",
     "text": [
      "s:\n",
      "a    3\n",
      "b   -5\n",
      "c    7\n",
      "d    4\n",
      "dtype: int64\n",
      "s['b']:\n",
      "-5\n"
     ]
    }
   ],
   "source": [
    "print(f\"s:\\n{s}\")\n",
    "print(f\"s['b']:\\n{s['b']}\")"
   ]
  },
  {
   "cell_type": "code",
   "execution_count": 43,
   "metadata": {},
   "outputs": [
    {
     "name": "stdout",
     "output_type": "stream",
     "text": [
      "df:\n",
      "   Country    Capital  Population\n",
      "0  Belgium   Brussels    11190846\n",
      "1    India  New Delhi  1303171035\n",
      "2   Brazil   Brasilia   207847528\n",
      "df[1:]:\n",
      "  Country    Capital  Population\n",
      "1   India  New Delhi  1303171035\n",
      "2  Brazil   Brasilia   207847528\n"
     ]
    }
   ],
   "source": [
    "print(f\"df:\\n{df}\")\n",
    "print(f\"df[1:]:\\n{df[1:]}\")"
   ]
  },
  {
   "attachments": {},
   "cell_type": "markdown",
   "metadata": {},
   "source": [
    "#### Selecting\n",
    "##### By Position"
   ]
  },
  {
   "cell_type": "code",
   "execution_count": 44,
   "metadata": {},
   "outputs": [
    {
     "name": "stdout",
     "output_type": "stream",
     "text": [
      "df:\n",
      "   Country    Capital  Population\n",
      "0  Belgium   Brussels    11190846\n",
      "1    India  New Delhi  1303171035\n",
      "2   Brazil   Brasilia   207847528\n",
      "df.iloc[0:1, :]:\n",
      "   Country\n",
      "0  Belgium\n",
      "df.iat[0, 0]:\n",
      "Belgium\n"
     ]
    }
   ],
   "source": [
    "print(f\"df:\\n{df}\")\n",
    "print(f\"df.iloc[0:1, :]:\\n{df.iloc[0:1, 0:1]}\") # for a single value or slice\n",
    "print(f\"df.iat[0, 0]:\\n{df.iat[0, 0]}\") # for a single value"
   ]
  },
  {
   "attachments": {},
   "cell_type": "markdown",
   "metadata": {},
   "source": [
    "##### By Label"
   ]
  },
  {
   "cell_type": "code",
   "execution_count": 45,
   "metadata": {},
   "outputs": [
    {
     "name": "stdout",
     "output_type": "stream",
     "text": [
      "df:\n",
      "   Country    Capital  Population\n",
      "0  Belgium   Brussels    11190846\n",
      "1    India  New Delhi  1303171035\n",
      "2   Brazil   Brasilia   207847528\n",
      "df.loc[0:1, 'Country']:\n",
      "   Country    Capital\n",
      "0  Belgium   Brussels\n",
      "1    India  New Delhi\n",
      "df.at[0, 'Country']:\n",
      "Belgium\n"
     ]
    }
   ],
   "source": [
    "print(f\"df:\\n{df}\")\n",
    "print(f\"df.loc[0:1, 'Country']:\\n{df.loc[0:1, ['Country', 'Capital']]}\") # for a single value or slice\n",
    "print(f\"df.at[0, 'Country']:\\n{df.at[0, 'Country']}\") # for a single value"
   ]
  },
  {
   "attachments": {},
   "cell_type": "markdown",
   "metadata": {},
   "source": [
    "##### By Label/Position\n",
    "[AttributeError: 'DataFrame' object has no attribute 'ix'](https://stackoverflow.com/questions/59991397/attributeerror-dataframe-object-has-no-attribute-ix)"
   ]
  },
  {
   "cell_type": "code",
   "execution_count": 46,
   "metadata": {},
   "outputs": [],
   "source": [
    "# print(f\"df:\\n{df}\")\n",
    "# print(f\"df.ix[2]:\\n{df.ix[2]}\") ix has been deprecated as well as removed"
   ]
  },
  {
   "attachments": {},
   "cell_type": "markdown",
   "metadata": {},
   "source": [
    "##### Boolean Indexing"
   ]
  },
  {
   "cell_type": "code",
   "execution_count": 47,
   "metadata": {},
   "outputs": [
    {
     "name": "stdout",
     "output_type": "stream",
     "text": [
      "s:\n",
      "a    3\n",
      "b   -5\n",
      "c    7\n",
      "d    4\n",
      "dtype: int64\n",
      "s[~(s > 1)]:\n",
      "b   -5\n",
      "dtype: int64\n"
     ]
    }
   ],
   "source": [
    "print(f\"s:\\n{s}\")\n",
    "print(f\"s[~(s > 1)]:\\n{s[~(s > 1)]}\")"
   ]
  },
  {
   "cell_type": "code",
   "execution_count": 48,
   "metadata": {},
   "outputs": [
    {
     "name": "stdout",
     "output_type": "stream",
     "text": [
      "s[(s < -1) | (s > 3)]:\n",
      "b   -5\n",
      "c    7\n",
      "d    4\n",
      "dtype: int64\n"
     ]
    }
   ],
   "source": [
    "print(f\"s[(s < -1) | (s > 3)]:\\n{s[(s < -1) | (s > 3)]}\")"
   ]
  },
  {
   "cell_type": "code",
   "execution_count": 49,
   "metadata": {},
   "outputs": [
    {
     "name": "stdout",
     "output_type": "stream",
     "text": [
      "df:\n",
      "   Country    Capital  Population\n",
      "0  Belgium   Brussels    11190846\n",
      "1    India  New Delhi  1303171035\n",
      "2   Brazil   Brasilia   207847528\n",
      "df[df['Population'] > 200000000]:\n",
      "  Country    Capital  Population\n",
      "1   India  New Delhi  1303171035\n",
      "2  Brazil   Brasilia   207847528\n"
     ]
    }
   ],
   "source": [
    "print(f\"df:\\n{df}\")\n",
    "print(f\"df[df['Population'] > 200000000]:\\n{df[df['Population'] > 200000000]}\")"
   ]
  },
  {
   "attachments": {},
   "cell_type": "markdown",
   "metadata": {},
   "source": [
    "##### Setting"
   ]
  },
  {
   "cell_type": "code",
   "execution_count": 50,
   "metadata": {},
   "outputs": [
    {
     "name": "stdout",
     "output_type": "stream",
     "text": [
      "s:\n",
      "a    3\n",
      "b   -5\n",
      "c    7\n",
      "d    4\n",
      "dtype: int64\n",
      "s after s['a'] = 6: \n",
      "a    6\n",
      "b   -5\n",
      "c    7\n",
      "d    4\n",
      "dtype: int64\n"
     ]
    }
   ],
   "source": [
    "print(f\"s:\\n{s}\")\n",
    "s['a'] = 6\n",
    "print(f\"s after s['a'] = 6: \\n{s}\")"
   ]
  },
  {
   "attachments": {},
   "cell_type": "markdown",
   "metadata": {},
   "source": [
    "### Dropping"
   ]
  },
  {
   "cell_type": "code",
   "execution_count": 51,
   "metadata": {},
   "outputs": [
    {
     "name": "stdout",
     "output_type": "stream",
     "text": [
      "s:\n",
      "a    6\n",
      "b   -5\n",
      "c    7\n",
      "d    4\n",
      "dtype: int64\n",
      "s.drop(['a', 'c']): \n",
      "b   -5\n",
      "d    4\n",
      "dtype: int64\n"
     ]
    }
   ],
   "source": [
    "print(f\"s:\\n{s}\")\n",
    "print(f\"s.drop(['a', 'c']): \\n{s.drop(['a',  'c'])}\") # Returns a series with specified labels removed"
   ]
  },
  {
   "cell_type": "code",
   "execution_count": 52,
   "metadata": {},
   "outputs": [
    {
     "name": "stdout",
     "output_type": "stream",
     "text": [
      "df:\n",
      "   Country    Capital  Population\n",
      "0  Belgium   Brussels    11190846\n",
      "1    India  New Delhi  1303171035\n",
      "2   Brazil   Brasilia   207847528\n",
      "df.drop('Country', axis=1): \n",
      "     Capital  Population\n",
      "0   Brussels    11190846\n",
      "1  New Delhi  1303171035\n",
      "2   Brasilia   207847528\n"
     ]
    }
   ],
   "source": [
    "print(f\"df:\\n{df}\")\n",
    "print(f\"df.drop('Country', axis=1): \\n{df.drop('Country', axis=1)}\") # Returns a dataframe with specified labels removed"
   ]
  },
  {
   "attachments": {},
   "cell_type": "markdown",
   "metadata": {},
   "source": [
    "### Sort and Rank"
   ]
  },
  {
   "cell_type": "code",
   "execution_count": 53,
   "metadata": {},
   "outputs": [
    {
     "name": "stdout",
     "output_type": "stream",
     "text": [
      "df:\n",
      "   Country    Capital  Population\n",
      "0  Belgium   Brussels    11190846\n",
      "1    India  New Delhi  1303171035\n",
      "2   Brazil   Brasilia   207847528\n",
      "df.sort_index(ascending=False):\n",
      "   Country    Capital  Population\n",
      "2   Brazil   Brasilia   207847528\n",
      "1    India  New Delhi  1303171035\n",
      "0  Belgium   Brussels    11190846\n",
      "df:\n",
      "   Country    Capital  Population\n",
      "0  Belgium   Brussels    11190846\n",
      "1    India  New Delhi  1303171035\n",
      "2   Brazil   Brasilia   207847528\n"
     ]
    }
   ],
   "source": [
    "print(f\"df:\\n{df}\")\n",
    "print(f\"df.sort_index(ascending=False):\\n{df.sort_index(ascending=False)}\") # Returns a new dataframe by default unless inplace is set to True\n",
    "print(f\"df:\\n{df}\")"
   ]
  },
  {
   "cell_type": "code",
   "execution_count": 54,
   "metadata": {},
   "outputs": [
    {
     "name": "stdout",
     "output_type": "stream",
     "text": [
      "df:\n",
      "   Country    Capital  Population\n",
      "0  Belgium   Brussels    11190846\n",
      "1    India  New Delhi  1303171035\n",
      "2   Brazil   Brasilia   207847528\n",
      "df.sort_values(by='Country'):\n",
      "   Country    Capital  Population\n",
      "0  Belgium   Brussels    11190846\n",
      "2   Brazil   Brasilia   207847528\n",
      "1    India  New Delhi  1303171035\n",
      "df:\n",
      "   Country    Capital  Population\n",
      "0  Belgium   Brussels    11190846\n",
      "1    India  New Delhi  1303171035\n",
      "2   Brazil   Brasilia   207847528\n"
     ]
    }
   ],
   "source": [
    "print(f\"df:\\n{df}\")\n",
    "print(f\"df.sort_values(by='Country'):\\n{df.sort_values(by='Country')}\") # Returns a new dataframe by default unless inplace is set to True\n",
    "print(f\"df:\\n{df}\")"
   ]
  },
  {
   "cell_type": "code",
   "execution_count": 55,
   "metadata": {},
   "outputs": [
    {
     "name": "stdout",
     "output_type": "stream",
     "text": [
      "df:\n",
      "   Country    Capital  Population\n",
      "0  Belgium   Brussels    11190846\n",
      "1    India  New Delhi  1303171035\n",
      "2   Brazil   Brasilia   207847528\n",
      "df.rank():\n",
      "   Country  Capital  Population\n",
      "0      1.0      2.0         1.0\n",
      "1      3.0      3.0         3.0\n",
      "2      2.0      1.0         2.0\n"
     ]
    }
   ],
   "source": [
    "print(f\"df:\\n{df}\")\n",
    "print(f\"df.rank():\\n{df.rank()}\")"
   ]
  },
  {
   "attachments": {},
   "cell_type": "markdown",
   "metadata": {},
   "source": [
    "### Retrieving Series/DataFrame Information\n",
    "#### Basic Information"
   ]
  },
  {
   "cell_type": "code",
   "execution_count": 56,
   "metadata": {},
   "outputs": [
    {
     "name": "stdout",
     "output_type": "stream",
     "text": [
      "df:\n",
      "   Country    Capital  Population\n",
      "0  Belgium   Brussels    11190846\n",
      "1    India  New Delhi  1303171035\n",
      "2   Brazil   Brasilia   207847528\n",
      "df.shape:\n",
      "(3, 3)\n",
      "df.index:\n",
      "RangeIndex(start=0, stop=3, step=1)\n",
      "df.columns:\n",
      "Index(['Country', 'Capital', 'Population'], dtype='object')\n",
      "df.info():\n",
      "<class 'pandas.core.frame.DataFrame'>\n",
      "RangeIndex: 3 entries, 0 to 2\n",
      "Data columns (total 3 columns):\n",
      " #   Column      Non-Null Count  Dtype \n",
      "---  ------      --------------  ----- \n",
      " 0   Country     3 non-null      object\n",
      " 1   Capital     3 non-null      object\n",
      " 2   Population  3 non-null      int64 \n",
      "dtypes: int64(1), object(2)\n",
      "memory usage: 200.0+ bytes\n",
      "df.count():\n",
      "Country       3\n",
      "Capital       3\n",
      "Population    3\n",
      "dtype: int64\n"
     ]
    }
   ],
   "source": [
    "print(f\"df:\\n{df}\")\n",
    "print(f\"df.shape:\\n{df.shape}\")\n",
    "print(f\"df.index:\\n{df.index}\")\n",
    "print(f\"df.columns:\\n{df.columns}\")\n",
    "print(\"df.info():\")\n",
    "df.info()\n",
    "print(f\"df.count():\\n{df.count()}\")"
   ]
  },
  {
   "attachments": {},
   "cell_type": "markdown",
   "metadata": {},
   "source": [
    "#### Summary"
   ]
  },
  {
   "cell_type": "code",
   "execution_count": 57,
   "metadata": {},
   "outputs": [
    {
     "name": "stdout",
     "output_type": "stream",
     "text": [
      "df:\n",
      "   Country    Capital  Population\n",
      "0  Belgium   Brussels    11190846\n",
      "1    India  New Delhi  1303171035\n",
      "2   Brazil   Brasilia   207847528\n",
      "df.sum():\n",
      "Country              BelgiumIndiaBrazil\n",
      "Capital       BrusselsNew DelhiBrasilia\n",
      "Population                   1522209409\n",
      "dtype: object\n",
      "df.cumsum():\n",
      "              Country                    Capital  Population\n",
      "0             Belgium                   Brussels    11190846\n",
      "1        BelgiumIndia          BrusselsNew Delhi  1314361881\n",
      "2  BelgiumIndiaBrazil  BrusselsNew DelhiBrasilia  1522209409\n",
      "df.min():\n",
      "Country        Belgium\n",
      "Capital       Brasilia\n",
      "Population    11190846\n",
      "dtype: object\n",
      "df.max():\n",
      "Country            India\n",
      "Capital        New Delhi\n",
      "Population    1303171035\n",
      "dtype: object\n",
      "df['Population'].idxmin():\n",
      "0\n",
      "df['Population'].idxmax():\n",
      "1\n",
      "df.describe():\n",
      "         Population\n",
      "count  3.000000e+00\n",
      "mean   5.074031e+08\n",
      "std    6.961346e+08\n",
      "min    1.119085e+07\n",
      "25%    1.095192e+08\n",
      "50%    2.078475e+08\n",
      "75%    7.555093e+08\n",
      "max    1.303171e+09\n",
      "df['Population'].mean():\n",
      "507403136.3333333\n",
      "df['Population'].median():\n",
      "207847528.0\n"
     ]
    }
   ],
   "source": [
    "print(f\"df:\\n{df}\")\n",
    "print(f\"df.sum():\\n{df.sum()}\")\n",
    "print(f\"df.cumsum():\\n{df.cumsum()}\")\n",
    "print(f\"df.min():\\n{df.min()}\")\n",
    "print(f\"df.max():\\n{df.max()}\")\n",
    "print(f\"df['Population'].idxmin():\\n{df['Population'].idxmin()}\") # need to specify a numeric column\n",
    "print(f\"df['Population'].idxmax():\\n{df['Population'].idxmax()}\") # need to specify a numeric column\n",
    "print(f\"df.describe():\\n{df.describe()}\")\n",
    "print(f\"df['Population'].mean():\\n{df['Population'].mean()}\") # need to specify a numeric column\n",
    "print(f\"df['Population'].median():\\n{df['Population'].median()}\") # need to specify a numeric column"
   ]
  },
  {
   "attachments": {},
   "cell_type": "markdown",
   "metadata": {},
   "source": [
    "### Applying Functions\n",
    "[pandas.DataFrame.apply](https://pandas.pydata.org/docs/reference/api/pandas.DataFrame.apply.html)\\\n",
    "[pandas.DataFrame.applymap](https://pandas.pydata.org/docs/reference/api/pandas.DataFrame.applymap.html)"
   ]
  },
  {
   "cell_type": "code",
   "execution_count": 58,
   "metadata": {},
   "outputs": [
    {
     "name": "stdout",
     "output_type": "stream",
     "text": [
      "f:\n",
      "<function sum at 0x000001C37FAE42C0>\n",
      "df:\n",
      "   Country    Capital  Population\n",
      "0  Belgium   Brussels    11190846\n",
      "1    India  New Delhi  1303171035\n",
      "2   Brazil   Brasilia   207847528\n",
      "df.apply(f):\n",
      "Country              BelgiumIndiaBrazil\n",
      "Capital       BrusselsNew DelhiBrasilia\n",
      "Population                   1522209409\n",
      "dtype: object\n",
      "g:\n",
      "<function <lambda> at 0x000001C316476840>\n",
      "df.applymap(g):\n",
      "          Country             Capital  Population\n",
      "0  BelgiumBelgium    BrusselsBrussels    22381692\n",
      "1      IndiaIndia  New DelhiNew Delhi  2606342070\n",
      "2    BrazilBrazil    BrasiliaBrasilia   415695056\n"
     ]
    }
   ],
   "source": [
    "f = np.sum\n",
    "print(f\"f:\\n{f}\")\n",
    "print(f\"df:\\n{df}\")\n",
    "print(f\"df.apply(f):\\n{df.apply(f)}\")\n",
    "g = lambda x: x*2\n",
    "print(f\"g:\\n{g}\")\n",
    "print(f\"df.applymap(g):\\n{df.applymap(g)}\")"
   ]
  },
  {
   "attachments": {},
   "cell_type": "markdown",
   "metadata": {},
   "source": [
    "### Internal Data Alignment"
   ]
  },
  {
   "cell_type": "code",
   "execution_count": 59,
   "metadata": {},
   "outputs": [
    {
     "name": "stdout",
     "output_type": "stream",
     "text": [
      "s:\n",
      "a    6\n",
      "b   -5\n",
      "c    7\n",
      "d    4\n",
      "dtype: int64\n",
      "s3:\n",
      "a    7\n",
      "c   -2\n",
      "d    3\n",
      "dtype: int64\n",
      "s + s3:\n",
      "a    13.0\n",
      "b     NaN\n",
      "c     5.0\n",
      "d     7.0\n",
      "dtype: float64\n"
     ]
    }
   ],
   "source": [
    "s3 = pd.Series([7, -2, 3],  index=['a', 'c', 'd'])\n",
    "print(f\"s:\\n{s}\")\n",
    "print(f\"s3:\\n{s3}\")\n",
    "print(f\"s + s3:\\n{s + s3}\")"
   ]
  },
  {
   "attachments": {},
   "cell_type": "markdown",
   "metadata": {},
   "source": [
    "### Arithmetic Operations with Fill Methods"
   ]
  },
  {
   "cell_type": "code",
   "execution_count": 60,
   "metadata": {},
   "outputs": [
    {
     "name": "stdout",
     "output_type": "stream",
     "text": [
      "s.add(s3, fill_value=0):\n",
      "a    13.0\n",
      "b    -5.0\n",
      "c     5.0\n",
      "d     7.0\n",
      "dtype: float64\n"
     ]
    }
   ],
   "source": [
    "print(f\"s.add(s3, fill_value=0):\\n{s.add(s3, fill_value=0)}\")"
   ]
  },
  {
   "cell_type": "code",
   "execution_count": null,
   "metadata": {},
   "outputs": [],
   "source": []
  }
 ],
 "metadata": {
  "kernelspec": {
   "display_name": "Python 3",
   "language": "python",
   "name": "python3"
  },
  "language_info": {
   "codemirror_mode": {
    "name": "ipython",
    "version": 3
   },
   "file_extension": ".py",
   "mimetype": "text/x-python",
   "name": "python",
   "nbconvert_exporter": "python",
   "pygments_lexer": "ipython3",
   "version": "3.11.0"
  },
  "orig_nbformat": 4,
  "vscode": {
   "interpreter": {
    "hash": "5238573367df39f7286bb46f9ff5f08f63a01a80960060ce41e3c79b190280fa"
   }
  }
 },
 "nbformat": 4,
 "nbformat_minor": 2
}
