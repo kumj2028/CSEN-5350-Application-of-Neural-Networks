{
 "cells": [
  {
   "attachments": {},
   "cell_type": "markdown",
   "metadata": {},
   "source": [
    "## Introduction to generative adversarial networks\n",
    "### Getting our hands on the CelebA dataset\n",
    "**Getting the CelebA data**"
   ]
  },
  {
   "cell_type": "code",
   "execution_count": 2,
   "metadata": {},
   "outputs": [
    {
     "name": "stdout",
     "output_type": "stream",
     "text": [
      "/bin/bash: /home/mengxiang/miniconda3/lib/libtinfo.so.6: no version information available (required by /bin/bash)\n",
      "mkdir: cannot create directory ‘celeba_gan’: File exists\n",
      "/bin/bash: /home/mengxiang/miniconda3/lib/libtinfo.so.6: no version information available (required by /bin/bash)\n",
      "/home/mengxiang/miniconda3/envs/tf-py38/lib/python3.8/site-packages/gdown/cli.py:126: FutureWarning: Option `--id` was deprecated in version 4.3.1 and will be removed in 5.0. You don't need to pass it anymore to use a file ID.\n",
      "  warnings.warn(\n",
      "Downloading...\n",
      "From (uriginal): https://drive.google.com/uc?id=1O7m1010EJjLE5QxLZiM9Fpjs7Oj6e684\n",
      "From (redirected): https://drive.google.com/uc?id=1O7m1010EJjLE5QxLZiM9Fpjs7Oj6e684&confirm=t&uuid=e7d31a9f-3455-44cb-8272-f6b3b91842f5\n",
      "To: /home/mengxiang/Documents/GitHub/CSEN-5350-Application-of-Neural-Networks/gan/celeba_gan/data.zip\n",
      "100%|██████████████████████████████████████| 1.44G/1.44G [03:00<00:00, 7.99MB/s]\n",
      "/bin/bash: /home/mengxiang/miniconda3/lib/libtinfo.so.6: no version information available (required by /bin/bash)\n"
     ]
    }
   ],
   "source": [
    "!mkdir celeba_gan\n",
    "!gdown --id 1O7m1010EJjLE5QxLZiM9Fpjs7Oj6e684 -O celeba_gan/data.zip\n",
    "!unzip -qq celeba_gan/data.zip -d celeba_gan"
   ]
  },
  {
   "attachments": {},
   "cell_type": "markdown",
   "metadata": {},
   "source": [
    "**Creating a dataset from a directory of images**"
   ]
  },
  {
   "cell_type": "code",
   "execution_count": 3,
   "metadata": {},
   "outputs": [
    {
     "name": "stderr",
     "output_type": "stream",
     "text": [
      "2023-05-07 21:44:49.992715: I tensorflow/core/platform/cpu_feature_guard.cc:193] This TensorFlow binary is optimized with oneAPI Deep Neural Network Library (oneDNN) to use the following CPU instructions in performance-critical operations:  AVX2 AVX_VNNI FMA\n",
      "To enable them in other operations, rebuild TensorFlow with the appropriate compiler flags.\n",
      "2023-05-07 21:44:50.143594: I tensorflow/core/util/port.cc:104] oneDNN custom operations are on. You may see slightly different numerical results due to floating-point round-off errors from different computation orders. To turn them off, set the environment variable `TF_ENABLE_ONEDNN_OPTS=0`.\n"
     ]
    },
    {
     "name": "stdout",
     "output_type": "stream",
     "text": [
      "Found 202599 files belonging to 1 classes.\n"
     ]
    },
    {
     "name": "stderr",
     "output_type": "stream",
     "text": [
      "2023-05-07 21:44:54.268992: I tensorflow/compiler/xla/stream_executor/cuda/cuda_gpu_executor.cc:981] successful NUMA node read from SysFS had negative value (-1), but there must be at least one NUMA node, so returning NUMA node zero\n",
      "2023-05-07 21:44:54.282786: I tensorflow/compiler/xla/stream_executor/cuda/cuda_gpu_executor.cc:981] successful NUMA node read from SysFS had negative value (-1), but there must be at least one NUMA node, so returning NUMA node zero\n",
      "2023-05-07 21:44:54.282867: I tensorflow/compiler/xla/stream_executor/cuda/cuda_gpu_executor.cc:981] successful NUMA node read from SysFS had negative value (-1), but there must be at least one NUMA node, so returning NUMA node zero\n",
      "2023-05-07 21:44:54.283907: I tensorflow/core/platform/cpu_feature_guard.cc:193] This TensorFlow binary is optimized with oneAPI Deep Neural Network Library (oneDNN) to use the following CPU instructions in performance-critical operations:  AVX2 AVX_VNNI FMA\n",
      "To enable them in other operations, rebuild TensorFlow with the appropriate compiler flags.\n",
      "2023-05-07 21:44:54.284643: I tensorflow/compiler/xla/stream_executor/cuda/cuda_gpu_executor.cc:981] successful NUMA node read from SysFS had negative value (-1), but there must be at least one NUMA node, so returning NUMA node zero\n",
      "2023-05-07 21:44:54.284709: I tensorflow/compiler/xla/stream_executor/cuda/cuda_gpu_executor.cc:981] successful NUMA node read from SysFS had negative value (-1), but there must be at least one NUMA node, so returning NUMA node zero\n",
      "2023-05-07 21:44:54.284750: I tensorflow/compiler/xla/stream_executor/cuda/cuda_gpu_executor.cc:981] successful NUMA node read from SysFS had negative value (-1), but there must be at least one NUMA node, so returning NUMA node zero\n",
      "2023-05-07 21:44:54.741106: I tensorflow/compiler/xla/stream_executor/cuda/cuda_gpu_executor.cc:981] successful NUMA node read from SysFS had negative value (-1), but there must be at least one NUMA node, so returning NUMA node zero\n",
      "2023-05-07 21:44:54.741351: I tensorflow/compiler/xla/stream_executor/cuda/cuda_gpu_executor.cc:981] successful NUMA node read from SysFS had negative value (-1), but there must be at least one NUMA node, so returning NUMA node zero\n",
      "2023-05-07 21:44:54.741400: I tensorflow/compiler/xla/stream_executor/cuda/cuda_gpu_executor.cc:981] successful NUMA node read from SysFS had negative value (-1), but there must be at least one NUMA node, so returning NUMA node zero\n",
      "2023-05-07 21:44:54.741452: I tensorflow/core/common_runtime/gpu/gpu_device.cc:1613] Created device /job:localhost/replica:0/task:0/device:GPU:0 with 7423 MB memory:  -> device: 0, name: NVIDIA GeForce RTX 3080, pci bus id: 0000:01:00.0, compute capability: 8.6\n"
     ]
    }
   ],
   "source": [
    "from tensorflow import keras\n",
    "dataset = keras.utils.image_dataset_from_directory(\n",
    "    \"celeba_gan\",\n",
    "    label_mode=None,\n",
    "    image_size=(64, 64),\n",
    "    batch_size=32,\n",
    "    smart_resize=True)"
   ]
  },
  {
   "attachments": {},
   "cell_type": "markdown",
   "metadata": {},
   "source": [
    "**Rescaling the images**"
   ]
  },
  {
   "cell_type": "code",
   "execution_count": 4,
   "metadata": {},
   "outputs": [
    {
     "name": "stdout",
     "output_type": "stream",
     "text": [
      "WARNING:tensorflow:From /home/mengxiang/miniconda3/envs/tf-py38/lib/python3.8/site-packages/tensorflow/python/autograph/pyct/static_analysis/liveness.py:83: Analyzer.lamba_check (from tensorflow.python.autograph.pyct.static_analysis.liveness) is deprecated and will be removed after 2023-09-23.\n",
      "Instructions for updating:\n",
      "Lambda fuctions will be no more assumed to be used in the statement where they are used, or at least in the same block. https://github.com/tensorflow/tensorflow/issues/56089\n"
     ]
    }
   ],
   "source": [
    "dataset = dataset.map(lambda x: x / 255.)"
   ]
  },
  {
   "attachments": {},
   "cell_type": "markdown",
   "metadata": {},
   "source": [
    "**Displaying the first image**"
   ]
  },
  {
   "cell_type": "code",
   "execution_count": 5,
   "metadata": {},
   "outputs": [
    {
     "data": {
      "image/png": "[encoded data removed]",
      "text/plain": [
       "<Figure size 640x480 with 1 Axes>"
      ]
     },
     "metadata": {},
     "output_type": "display_data"
    }
   ],
   "source": [
    "import matplotlib.pyplot as plt\n",
    "for x in dataset:\n",
    "    plt.axis(\"off\")\n",
    "    plt.imshow((x.numpy() * 255).astype(\"int32\")[0])\n",
    "    break"
   ]
  },
  {
   "attachments": {},
   "cell_type": "markdown",
   "metadata": {},
   "source": [
    "### The discriminator\n",
    "**The GAN discriminator network**"
   ]
  },
  {
   "cell_type": "code",
   "execution_count": 6,
   "metadata": {},
   "outputs": [],
   "source": [
    "from tensorflow.keras import layers\n",
    "\n",
    "discriminator = keras.Sequential(\n",
    "    [\n",
    "        keras.Input(shape=(64, 64, 3)),\n",
    "        layers.Conv2D(64, kernel_size=4, strides=2, padding=\"same\"),\n",
    "        layers.LeakyReLU(alpha=0.2),\n",
    "        layers.Conv2D(128, kernel_size=4, strides=2, padding=\"same\"),\n",
    "        layers.LeakyReLU(alpha=0.2),\n",
    "        layers.Conv2D(128, kernel_size=4, strides=2, padding=\"same\"),\n",
    "        layers.LeakyReLU(alpha=0.2),\n",
    "        layers.Flatten(),\n",
    "        layers.Dropout(0.2),\n",
    "        layers.Dense(1, activation=\"sigmoid\"),\n",
    "    ],\n",
    "    name=\"discriminator\",\n",
    ")"
   ]
  },
  {
   "cell_type": "code",
   "execution_count": 7,
   "metadata": {},
   "outputs": [
    {
     "name": "stdout",
     "output_type": "stream",
     "text": [
      "Model: \"discriminator\"\n",
      "_________________________________________________________________\n",
      " Layer (type)                Output Shape              Param #   \n",
      "=================================================================\n",
      " conv2d (Conv2D)             (None, 32, 32, 64)        3136      \n",
      "                                                                 \n",
      " leaky_re_lu (LeakyReLU)     (None, 32, 32, 64)        0         \n",
      "                                                                 \n",
      " conv2d_1 (Conv2D)           (None, 16, 16, 128)       131200    \n",
      "                                                                 \n",
      " leaky_re_lu_1 (LeakyReLU)   (None, 16, 16, 128)       0         \n",
      "                                                                 \n",
      " conv2d_2 (Conv2D)           (None, 8, 8, 128)         262272    \n",
      "                                                                 \n",
      " leaky_re_lu_2 (LeakyReLU)   (None, 8, 8, 128)         0         \n",
      "                                                                 \n",
      " flatten (Flatten)           (None, 8192)              0         \n",
      "                                                                 \n",
      " dropout (Dropout)           (None, 8192)              0         \n",
      "                                                                 \n",
      " dense (Dense)               (None, 1)                 8193      \n",
      "                                                                 \n",
      "=================================================================\n",
      "Total params: 404,801\n",
      "Trainable params: 404,801\n",
      "Non-trainable params: 0\n",
      "_________________________________________________________________\n"
     ]
    }
   ],
   "source": [
    "discriminator.summary()"
   ]
  },
  {
   "attachments": {},
   "cell_type": "markdown",
   "metadata": {},
   "source": [
    "### The generator\n",
    "**GAN generator network**"
   ]
  },
  {
   "cell_type": "code",
   "execution_count": 8,
   "metadata": {},
   "outputs": [],
   "source": [
    "latent_dim = 128\n",
    "\n",
    "generator = keras.Sequential(\n",
    "    [\n",
    "        keras.Input(shape=(latent_dim,)),\n",
    "        layers.Dense(8 * 8 * 128),\n",
    "        layers.Reshape((8, 8, 128)),\n",
    "        layers.Conv2DTranspose(128, kernel_size=4, strides=2, padding=\"same\"),\n",
    "        layers.LeakyReLU(alpha=0.2),\n",
    "        layers.Conv2DTranspose(256, kernel_size=4, strides=2, padding=\"same\"),\n",
    "        layers.LeakyReLU(alpha=0.2),\n",
    "        layers.Conv2DTranspose(512, kernel_size=4, strides=2, padding=\"same\"),\n",
    "        layers.LeakyReLU(alpha=0.2),\n",
    "        layers.Conv2D(3, kernel_size=5, padding=\"same\", activation=\"sigmoid\"),\n",
    "    ],\n",
    "    name=\"generator\",\n",
    ")"
   ]
  },
  {
   "cell_type": "code",
   "execution_count": 9,
   "metadata": {},
   "outputs": [
    {
     "name": "stdout",
     "output_type": "stream",
     "text": [
      "Model: \"generator\"\n",
      "_________________________________________________________________\n",
      " Layer (type)                Output Shape              Param #   \n",
      "=================================================================\n",
      " dense_1 (Dense)             (None, 8192)              1056768   \n",
      "                                                                 \n",
      " reshape (Reshape)           (None, 8, 8, 128)         0         \n",
      "                                                                 \n",
      " conv2d_transpose (Conv2DTra  (None, 16, 16, 128)      262272    \n",
      " nspose)                                                         \n",
      "                                                                 \n",
      " leaky_re_lu_3 (LeakyReLU)   (None, 16, 16, 128)       0         \n",
      "                                                                 \n",
      " conv2d_transpose_1 (Conv2DT  (None, 32, 32, 256)      524544    \n",
      " ranspose)                                                       \n",
      "                                                                 \n",
      " leaky_re_lu_4 (LeakyReLU)   (None, 32, 32, 256)       0         \n",
      "                                                                 \n",
      " conv2d_transpose_2 (Conv2DT  (None, 64, 64, 512)      2097664   \n",
      " ranspose)                                                       \n",
      "                                                                 \n",
      " leaky_re_lu_5 (LeakyReLU)   (None, 64, 64, 512)       0         \n",
      "                                                                 \n",
      " conv2d_3 (Conv2D)           (None, 64, 64, 3)         38403     \n",
      "                                                                 \n",
      "=================================================================\n",
      "Total params: 3,979,651\n",
      "Trainable params: 3,979,651\n",
      "Non-trainable params: 0\n",
      "_________________________________________________________________\n"
     ]
    }
   ],
   "source": [
    "generator.summary()"
   ]
  },
  {
   "attachments": {},
   "cell_type": "markdown",
   "metadata": {},
   "source": [
    "### The adversarial network\n",
    "**The GAN `Model`**"
   ]
  },
  {
   "cell_type": "code",
   "execution_count": 10,
   "metadata": {},
   "outputs": [],
   "source": [
    "import tensorflow as tf\n",
    "class GAN(keras.Model):\n",
    "    def __init__(self, discriminator, generator, latent_dim):\n",
    "        super().__init__()\n",
    "        self.discriminator = discriminator\n",
    "        self.generator = generator\n",
    "        self.latent_dim = latent_dim\n",
    "        self.d_loss_metric = keras.metrics.Mean(name=\"d_loss\")\n",
    "        self.g_loss_metric = keras.metrics.Mean(name=\"g_loss\")\n",
    "\n",
    "    def compile(self, d_optimizer, g_optimizer, loss_fn):\n",
    "        super(GAN, self).compile()\n",
    "        self.d_optimizer = d_optimizer\n",
    "        self.g_optimizer = g_optimizer\n",
    "        self.loss_fn = loss_fn\n",
    "\n",
    "    @property\n",
    "    def metrics(self):\n",
    "        return [self.d_loss_metric, self.g_loss_metric]\n",
    "\n",
    "    def train_step(self, real_images):\n",
    "        batch_size = tf.shape(real_images)[0]\n",
    "        random_latent_vectors = tf.random.normal(\n",
    "            shape=(batch_size, self.latent_dim))\n",
    "        generated_images = self.generator(random_latent_vectors)\n",
    "        combined_images = tf.concat([generated_images, real_images], axis=0)\n",
    "        labels = tf.concat(\n",
    "            [tf.ones((batch_size, 1)), tf.zeros((batch_size, 1))],\n",
    "            axis=0\n",
    "        )\n",
    "        labels += 0.05 * tf.random.uniform(tf.shape(labels))\n",
    "\n",
    "        with tf.GradientTape() as tape:\n",
    "            predictions = self.discriminator(combined_images)\n",
    "            d_loss = self.loss_fn(labels, predictions)\n",
    "        grads = tape.gradient(d_loss, self.discriminator.trainable_weights)\n",
    "        self.d_optimizer.apply_gradients(\n",
    "            zip(grads, self.discriminator.trainable_weights)\n",
    "        )\n",
    "\n",
    "        random_latent_vectors = tf.random.normal(\n",
    "            shape=(batch_size, self.latent_dim))\n",
    "\n",
    "        misleading_labels = tf.zeros((batch_size, 1))\n",
    "\n",
    "        with tf.GradientTape() as tape:\n",
    "            predictions = self.discriminator(\n",
    "                self.generator(random_latent_vectors))\n",
    "            g_loss = self.loss_fn(misleading_labels, predictions)\n",
    "        grads = tape.gradient(g_loss, self.generator.trainable_weights)\n",
    "        self.g_optimizer.apply_gradients(\n",
    "            zip(grads, self.generator.trainable_weights))\n",
    "\n",
    "        self.d_loss_metric.update_state(d_loss)\n",
    "        self.g_loss_metric.update_state(g_loss)\n",
    "        return {\"d_loss\": self.d_loss_metric.result(),\n",
    "                \"g_loss\": self.g_loss_metric.result()}"
   ]
  },
  {
   "attachments": {},
   "cell_type": "markdown",
   "metadata": {},
   "source": [
    "**A callback that samples generated images during training**"
   ]
  },
  {
   "cell_type": "code",
   "execution_count": 11,
   "metadata": {},
   "outputs": [],
   "source": [
    "class GANMonitor(keras.callbacks.Callback):\n",
    "    def __init__(self, num_img=3, latent_dim=128):\n",
    "        self.num_img = num_img\n",
    "        self.latent_dim = latent_dim\n",
    "\n",
    "    def on_epoch_end(self, epoch, logs=None):\n",
    "        random_latent_vectors = tf.random.normal(shape=(self.num_img, self.latent_dim))\n",
    "        generated_images = self.model.generator(random_latent_vectors)\n",
    "        generated_images *= 255\n",
    "        generated_images.numpy()\n",
    "        for i in range(self.num_img):\n",
    "            img = keras.utils.array_to_img(generated_images[i])\n",
    "            img.save(f\"generated_img_{epoch:03d}_{i}.png\")"
   ]
  },
  {
   "attachments": {},
   "cell_type": "markdown",
   "metadata": {},
   "source": [
    "**Compiling and training the GAN**"
   ]
  },
  {
   "cell_type": "code",
   "execution_count": 12,
   "metadata": {},
   "outputs": [
    {
     "name": "stdout",
     "output_type": "stream",
     "text": [
      "Epoch 1/100\n"
     ]
    },
    {
     "name": "stderr",
     "output_type": "stream",
     "text": [
      "2023-05-07 21:49:01.110855: I tensorflow/compiler/xla/stream_executor/cuda/cuda_blas.cc:630] TensorFloat-32 will be used for the matrix multiplication. This will only be logged once.\n",
      "2023-05-07 21:49:01.629558: I tensorflow/compiler/xla/stream_executor/cuda/cuda_dnn.cc:428] Loaded cuDNN version 8100\n",
      "2023-05-07 21:49:03.018316: I tensorflow/compiler/xla/service/service.cc:173] XLA service 0x7f54e41d1190 initialized for platform CUDA (this does not guarantee that XLA will be used). Devices:\n",
      "2023-05-07 21:49:03.018336: I tensorflow/compiler/xla/service/service.cc:181]   StreamExecutor device (0): NVIDIA GeForce RTX 3080, Compute Capability 8.6\n",
      "2023-05-07 21:49:03.027959: I tensorflow/compiler/mlir/tensorflow/utils/dump_mlir_util.cc:268] disabling MLIR crash reproducer, set env var `MLIR_CRASH_REPRODUCER_DIRECTORY` to enable.\n",
      "2023-05-07 21:49:03.144455: I tensorflow/compiler/jit/xla_compilation_cache.cc:477] Compiled cluster using XLA!  This line is logged at most once for the lifetime of the process.\n"
     ]
    },
    {
     "name": "stdout",
     "output_type": "stream",
     "text": [
      "6332/6332 [==============================] - 490s 77ms/step - d_loss: 0.5991 - g_loss: 1.2758\n",
      "Epoch 2/100\n",
      "6332/6332 [==============================] - 486s 77ms/step - d_loss: 0.6490 - g_loss: 1.1054\n",
      "Epoch 3/100\n",
      "6332/6332 [==============================] - 477s 75ms/step - d_loss: 0.6569 - g_loss: 1.0489\n",
      "Epoch 4/100\n",
      "6332/6332 [==============================] - 475s 75ms/step - d_loss: 0.6468 - g_loss: 1.0760\n",
      "Epoch 5/100\n",
      "6332/6332 [==============================] - 484s 76ms/step - d_loss: 0.6425 - g_loss: 1.0569\n",
      "Epoch 6/100\n",
      "6332/6332 [==============================] - 474s 75ms/step - d_loss: 0.6555 - g_loss: 0.9681\n",
      "Epoch 7/100\n",
      "6332/6332 [==============================] - 482s 76ms/step - d_loss: 0.6723 - g_loss: 0.9266\n",
      "Epoch 8/100\n",
      "6332/6332 [==============================] - 483s 76ms/step - d_loss: 0.6768 - g_loss: 0.9013\n",
      "Epoch 9/100\n",
      "6332/6332 [==============================] - 483s 76ms/step - d_loss: 0.6872 - g_loss: 0.8643\n",
      "Epoch 10/100\n",
      "6332/6332 [==============================] - 474s 75ms/step - d_loss: 0.6779 - g_loss: 0.8928\n",
      "Epoch 11/100\n",
      "6332/6332 [==============================] - 475s 75ms/step - d_loss: 0.6728 - g_loss: 0.9067\n",
      "Epoch 12/100\n",
      "6332/6332 [==============================] - 481s 76ms/step - d_loss: 0.6776 - g_loss: 0.8883\n",
      "Epoch 13/100\n",
      "6332/6332 [==============================] - 473s 75ms/step - d_loss: 0.6685 - g_loss: 0.8981\n",
      "Epoch 14/100\n",
      "6332/6332 [==============================] - 474s 75ms/step - d_loss: 0.6653 - g_loss: 0.9104\n",
      "Epoch 15/100\n",
      "6332/6332 [==============================] - 465s 73ms/step - d_loss: 0.6715 - g_loss: 0.8943\n",
      "Epoch 16/100\n",
      "6332/6332 [==============================] - 473s 75ms/step - d_loss: 0.6694 - g_loss: 0.9148\n",
      "Epoch 17/100\n",
      "6332/6332 [==============================] - 472s 75ms/step - d_loss: 0.6610 - g_loss: 0.9207\n",
      "Epoch 18/100\n",
      "6332/6332 [==============================] - 472s 74ms/step - d_loss: 0.6682 - g_loss: 0.9086\n",
      "Epoch 19/100\n",
      "6332/6332 [==============================] - 470s 74ms/step - d_loss: 0.6646 - g_loss: 0.9113\n",
      "Epoch 20/100\n",
      "6332/6332 [==============================] - 472s 75ms/step - d_loss: 0.6683 - g_loss: 0.9045\n",
      "Epoch 21/100\n",
      "6332/6332 [==============================] - 471s 74ms/step - d_loss: 0.6697 - g_loss: 0.9083\n",
      "Epoch 22/100\n",
      "6332/6332 [==============================] - 471s 74ms/step - d_loss: 0.6697 - g_loss: 0.8974\n",
      "Epoch 23/100\n",
      "6332/6332 [==============================] - 471s 74ms/step - d_loss: 0.6640 - g_loss: 0.9110\n",
      "Epoch 24/100\n",
      "6332/6332 [==============================] - 472s 74ms/step - d_loss: 0.6684 - g_loss: 0.9032\n",
      "Epoch 25/100\n",
      "6332/6332 [==============================] - 471s 74ms/step - d_loss: 0.6656 - g_loss: 0.9121\n",
      "Epoch 26/100\n",
      "6332/6332 [==============================] - 471s 74ms/step - d_loss: 0.6619 - g_loss: 0.9208\n",
      "Epoch 27/100\n",
      "6332/6332 [==============================] - 471s 74ms/step - d_loss: 0.6633 - g_loss: 0.9014\n",
      "Epoch 28/100\n",
      "6332/6332 [==============================] - 471s 74ms/step - d_loss: 0.6661 - g_loss: 0.9052\n",
      "Epoch 29/100\n",
      "6332/6332 [==============================] - 471s 74ms/step - d_loss: 0.6627 - g_loss: 0.9186\n",
      "Epoch 30/100\n",
      "6332/6332 [==============================] - 471s 74ms/step - d_loss: 0.6552 - g_loss: 0.9270\n",
      "Epoch 31/100\n",
      "6332/6332 [==============================] - 471s 74ms/step - d_loss: 0.6598 - g_loss: 0.9131\n",
      "Epoch 32/100\n",
      "6332/6332 [==============================] - 471s 74ms/step - d_loss: 0.6583 - g_loss: 0.9203\n",
      "Epoch 33/100\n",
      "6332/6332 [==============================] - 471s 74ms/step - d_loss: 0.6580 - g_loss: 0.9190\n",
      "Epoch 34/100\n",
      "6332/6332 [==============================] - 471s 74ms/step - d_loss: 0.6566 - g_loss: 0.9312\n",
      "Epoch 35/100\n",
      "6332/6332 [==============================] - 471s 74ms/step - d_loss: 0.6520 - g_loss: 0.9343\n",
      "Epoch 36/100\n",
      "6332/6332 [==============================] - 471s 74ms/step - d_loss: 0.6468 - g_loss: 0.9417\n",
      "Epoch 37/100\n",
      "6332/6332 [==============================] - 471s 74ms/step - d_loss: 0.6413 - g_loss: 0.9477\n",
      "Epoch 38/100\n",
      "6332/6332 [==============================] - 471s 74ms/step - d_loss: 0.6371 - g_loss: 0.9507\n",
      "Epoch 39/100\n",
      "6332/6332 [==============================] - 471s 74ms/step - d_loss: 0.6352 - g_loss: 0.9669\n",
      "Epoch 40/100\n",
      "6332/6332 [==============================] - 470s 74ms/step - d_loss: 0.6321 - g_loss: 0.9681\n",
      "Epoch 41/100\n",
      "6332/6332 [==============================] - 470s 74ms/step - d_loss: 0.6305 - g_loss: 0.9678\n",
      "Epoch 42/100\n",
      "6332/6332 [==============================] - 471s 74ms/step - d_loss: 0.6315 - g_loss: 0.9776\n",
      "Epoch 43/100\n",
      "6332/6332 [==============================] - 471s 74ms/step - d_loss: 0.6310 - g_loss: 0.9821\n",
      "Epoch 44/100\n",
      "6332/6332 [==============================] - 471s 74ms/step - d_loss: 0.6327 - g_loss: 0.9866\n",
      "Epoch 45/100\n",
      "6332/6332 [==============================] - 470s 74ms/step - d_loss: 0.6282 - g_loss: 0.9843\n",
      "Epoch 46/100\n",
      "6332/6332 [==============================] - 471s 74ms/step - d_loss: 0.6306 - g_loss: 0.9797\n",
      "Epoch 47/100\n",
      "6332/6332 [==============================] - 471s 74ms/step - d_loss: 0.6320 - g_loss: 0.9778\n",
      "Epoch 48/100\n",
      "6332/6332 [==============================] - 471s 74ms/step - d_loss: 0.6304 - g_loss: 0.9837\n",
      "Epoch 49/100\n",
      "6332/6332 [==============================] - 471s 74ms/step - d_loss: 0.6300 - g_loss: 0.9792\n",
      "Epoch 50/100\n",
      "6332/6332 [==============================] - 471s 74ms/step - d_loss: 0.6266 - g_loss: 0.9907\n",
      "Epoch 51/100\n",
      "6332/6332 [==============================] - 471s 74ms/step - d_loss: 0.6247 - g_loss: 0.9989\n",
      "Epoch 52/100\n",
      "6332/6332 [==============================] - 471s 74ms/step - d_loss: 0.6233 - g_loss: 0.9939\n",
      "Epoch 53/100\n",
      "6332/6332 [==============================] - 471s 74ms/step - d_loss: 0.6232 - g_loss: 1.0078\n",
      "Epoch 54/100\n",
      "6332/6332 [==============================] - 471s 74ms/step - d_loss: 0.6204 - g_loss: 1.0114\n",
      "Epoch 55/100\n",
      "6332/6332 [==============================] - 472s 74ms/step - d_loss: 0.6158 - g_loss: 1.0146\n",
      "Epoch 56/100\n",
      "6332/6332 [==============================] - 471s 74ms/step - d_loss: 0.6135 - g_loss: 1.0188\n",
      "Epoch 57/100\n",
      "6332/6332 [==============================] - 471s 74ms/step - d_loss: 0.6111 - g_loss: 1.0233\n",
      "Epoch 58/100\n",
      "6332/6332 [==============================] - 472s 74ms/step - d_loss: 0.6114 - g_loss: 1.0299\n",
      "Epoch 59/100\n",
      "6332/6332 [==============================] - 471s 74ms/step - d_loss: 0.6094 - g_loss: 1.0352\n",
      "Epoch 60/100\n",
      "6332/6332 [==============================] - 471s 74ms/step - d_loss: 0.6072 - g_loss: 1.0400\n",
      "Epoch 61/100\n",
      "6332/6332 [==============================] - 471s 74ms/step - d_loss: 0.6039 - g_loss: 1.0432\n",
      "Epoch 62/100\n",
      "6332/6332 [==============================] - 471s 74ms/step - d_loss: 0.6038 - g_loss: 1.0514\n",
      "Epoch 63/100\n",
      "6332/6332 [==============================] - 470s 74ms/step - d_loss: 0.6017 - g_loss: 1.0510\n",
      "Epoch 64/100\n",
      "6332/6332 [==============================] - 471s 74ms/step - d_loss: 0.5988 - g_loss: 1.0716\n",
      "Epoch 65/100\n",
      "6332/6332 [==============================] - 470s 74ms/step - d_loss: 0.5968 - g_loss: 1.0724\n",
      "Epoch 66/100\n",
      "6332/6332 [==============================] - 470s 74ms/step - d_loss: 0.5967 - g_loss: 1.0730\n",
      "Epoch 67/100\n",
      "6332/6332 [==============================] - 469s 74ms/step - d_loss: 0.5938 - g_loss: 1.0759\n",
      "Epoch 68/100\n",
      "6332/6332 [==============================] - 470s 74ms/step - d_loss: 0.5888 - g_loss: 1.0867\n",
      "Epoch 69/100\n",
      "6332/6332 [==============================] - 468s 74ms/step - d_loss: 0.5890 - g_loss: 1.0916\n",
      "Epoch 70/100\n",
      "6332/6332 [==============================] - 470s 74ms/step - d_loss: 0.5866 - g_loss: 1.0939\n",
      "Epoch 71/100\n",
      "6332/6332 [==============================] - 469s 74ms/step - d_loss: 0.5849 - g_loss: 1.1078\n",
      "Epoch 72/100\n",
      "6332/6332 [==============================] - 469s 74ms/step - d_loss: 0.5843 - g_loss: 1.1094\n",
      "Epoch 73/100\n",
      "6332/6332 [==============================] - 470s 74ms/step - d_loss: 0.5821 - g_loss: 1.1158\n",
      "Epoch 74/100\n",
      "6332/6332 [==============================] - 469s 74ms/step - d_loss: 0.5800 - g_loss: 1.1215\n",
      "Epoch 75/100\n",
      "6332/6332 [==============================] - 474s 75ms/step - d_loss: 0.5768 - g_loss: 1.1268\n",
      "Epoch 76/100\n",
      "6332/6332 [==============================] - 473s 75ms/step - d_loss: 0.5778 - g_loss: 1.1309\n",
      "Epoch 77/100\n",
      "6332/6332 [==============================] - 473s 75ms/step - d_loss: 0.5774 - g_loss: 1.1254\n",
      "Epoch 78/100\n",
      "6332/6332 [==============================] - 472s 75ms/step - d_loss: 0.5745 - g_loss: 1.1361\n",
      "Epoch 79/100\n",
      "6332/6332 [==============================] - 472s 75ms/step - d_loss: 0.5741 - g_loss: 1.1458\n",
      "Epoch 80/100\n",
      "6332/6332 [==============================] - 472s 75ms/step - d_loss: 0.5716 - g_loss: 1.1470\n",
      "Epoch 81/100\n",
      "6332/6332 [==============================] - 473s 75ms/step - d_loss: 0.5695 - g_loss: 1.1496\n",
      "Epoch 82/100\n",
      "6332/6332 [==============================] - 473s 75ms/step - d_loss: 0.5689 - g_loss: 1.1596\n",
      "Epoch 83/100\n",
      "6332/6332 [==============================] - 472s 75ms/step - d_loss: 0.5665 - g_loss: 1.1562\n",
      "Epoch 84/100\n",
      "6332/6332 [==============================] - 473s 75ms/step - d_loss: 0.5647 - g_loss: 1.1660\n",
      "Epoch 85/100\n",
      "6332/6332 [==============================] - 473s 75ms/step - d_loss: 0.5611 - g_loss: 1.1786\n",
      "Epoch 86/100\n",
      "6332/6332 [==============================] - 473s 75ms/step - d_loss: 0.5615 - g_loss: 1.1774\n",
      "Epoch 87/100\n",
      "6332/6332 [==============================] - 473s 75ms/step - d_loss: 0.5611 - g_loss: 1.1775\n",
      "Epoch 88/100\n",
      "6332/6332 [==============================] - 473s 75ms/step - d_loss: 0.5580 - g_loss: 1.1986\n",
      "Epoch 89/100\n",
      "6332/6332 [==============================] - 473s 75ms/step - d_loss: 0.5564 - g_loss: 1.1921\n",
      "Epoch 90/100\n",
      "6332/6332 [==============================] - 473s 75ms/step - d_loss: 0.5551 - g_loss: 1.1997\n",
      "Epoch 91/100\n",
      "6332/6332 [==============================] - 473s 75ms/step - d_loss: 0.5528 - g_loss: 1.2102\n",
      "Epoch 92/100\n",
      "6332/6332 [==============================] - 473s 75ms/step - d_loss: 0.5522 - g_loss: 1.2157\n",
      "Epoch 93/100\n",
      "6332/6332 [==============================] - 472s 75ms/step - d_loss: 0.5491 - g_loss: 1.2187\n",
      "Epoch 94/100\n",
      "6332/6332 [==============================] - 473s 75ms/step - d_loss: 0.5482 - g_loss: 1.2252\n",
      "Epoch 95/100\n",
      "6332/6332 [==============================] - 473s 75ms/step - d_loss: 0.5489 - g_loss: 1.2210\n",
      "Epoch 96/100\n",
      "6332/6332 [==============================] - 474s 75ms/step - d_loss: 0.5467 - g_loss: 1.2267\n",
      "Epoch 97/100\n",
      "6332/6332 [==============================] - 473s 75ms/step - d_loss: 0.5457 - g_loss: 1.2348\n",
      "Epoch 98/100\n",
      "6332/6332 [==============================] - 473s 75ms/step - d_loss: 0.5439 - g_loss: 1.2446\n",
      "Epoch 99/100\n",
      "6332/6332 [==============================] - 473s 75ms/step - d_loss: 0.5417 - g_loss: 1.2481\n",
      "Epoch 100/100\n",
      "6332/6332 [==============================] - 473s 75ms/step - d_loss: 0.5416 - g_loss: 1.2518\n"
     ]
    },
    {
     "data": {
      "text/plain": [
       "<keras.callbacks.History at 0x7f59b804e340>"
      ]
     },
     "execution_count": 12,
     "metadata": {},
     "output_type": "execute_result"
    }
   ],
   "source": [
    "epochs = 100\n",
    "\n",
    "gan = GAN(discriminator=discriminator, generator=generator, latent_dim=latent_dim)\n",
    "gan.compile(\n",
    "    d_optimizer=keras.optimizers.Adam(learning_rate=0.0001),\n",
    "    g_optimizer=keras.optimizers.Adam(learning_rate=0.0001),\n",
    "    loss_fn=keras.losses.BinaryCrossentropy(),\n",
    ")\n",
    "\n",
    "gan.fit(\n",
    "    dataset, epochs=epochs, callbacks=[GANMonitor(num_img=10, latent_dim=latent_dim)]\n",
    ")"
   ]
  },
  {
   "cell_type": "code",
   "execution_count": 13,
   "metadata": {},
   "outputs": [
    {
     "data": {
      "text/plain": [
       "<keras.callbacks.History at 0x7f59b804e340>"
      ]
     },
     "execution_count": 13,
     "metadata": {},
     "output_type": "execute_result"
    }
   ],
   "source": [
    "gan.history"
   ]
  },
  {
   "cell_type": "code",
   "execution_count": null,
   "metadata": {},
   "outputs": [],
   "source": []
  }
 ],
 "metadata": {
  "kernelspec": {
   "display_name": "tf-py38",
   "language": "python",
   "name": "python3"
  },
  "language_info": {
   "codemirror_mode": {
    "name": "ipython",
    "version": 3
   },
   "file_extension": ".py",
   "mimetype": "text/x-python",
   "name": "python",
   "nbconvert_exporter": "python",
   "pygments_lexer": "ipython3",
   "version": "3.8.16"
  },
  "orig_nbformat": 4
 },
 "nbformat": 4,
 "nbformat_minor": 2
}
